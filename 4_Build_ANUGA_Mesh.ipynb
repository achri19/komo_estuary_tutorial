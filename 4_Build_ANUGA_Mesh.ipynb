{
  "cells": [
    {
      "cell_type": "markdown",
      "metadata": {
        "id": "466e2a39"
      },
      "source": [
        "<font size=\"5\">Build Your Own ANUGA Model (BYOAM) </font>\n",
        "\n",
        "<font size=\"3\">In this notebook, we will:\n",
        "\n",
        "- generate an unstructure mesh\n",
        "\n",
        "- set initial conditions and boundary tags\n",
        "\n",
        "    \n",
        "- prepare configuration files for running the model\n",
        "\n",
        "\n",
        "\n",
        "\n",
        "</font>\n",
        "\n",
        "<font size=\"3\">Before you can run this notebook, you should have run the 3_Set_Boundaries</font>\n"
      ],
      "id": "466e2a39"
    },
    {
      "cell_type": "markdown",
      "metadata": {
        "id": "91e3e402"
      },
      "source": [
        "<font size=3> Give the name of your study area, must be the same in all notebooks </font>\n"
      ],
      "id": "91e3e402"
    },
    {
      "cell_type": "code",
      "source": [
        "from typing_extensions import Concatenate\n",
        "import os\n",
        "import sys\n",
        "path = os.getcwd() + '/'\n",
        "where_to_mount = '/content/drive/'\n",
        "\n",
        "path_nb =  where_to_mount + 'MyDrive/processing/notebooks/'\n",
        "#sys.path.insert(1,path_nb)\n",
        "\n"
      ],
      "metadata": {
        "id": "nM6MY2QoEwq5"
      },
      "execution_count": 1,
      "outputs": [],
      "id": "nM6MY2QoEwq5"
    },
    {
      "cell_type": "markdown",
      "metadata": {
        "id": "c326e1c9"
      },
      "source": [
        "<font size=5> Install packages. <font> <br>\n",
        "<font size=3> If the cell runs successfully, this only needs to be done 1 time. <font>"
      ],
      "id": "c326e1c9"
    },
    {
      "cell_type": "code",
      "source": [
        "# ! pip install --target={where_to_mount + 'MyDrive/processing/notebooks/'} rtree\n",
        "# ! pip install --target={where_to_mount+'MyDrive/processing/notebooks/'} geopandas\n",
        "# ! pip install --target={where_to_mount+'MyDrive/processing/notebooks/'} rasterio\n",
        "# ! pip install --target={where_to_mount+'MyDrive/processing/notebooks/'} rasterstats\n",
        "# ! pip install --target={where_to_mount+'MyDrive/processing/notebooks/'} git+https://github.com/simard-landscape-lab/orinoco.git\n",
        "# ! pip install --target={where_to_mount+'MyDrive/processing/notebooks/'} scikit-fmm\n",
        "# ! pip install --target={where_to_mount+'MyDrive/processing/notebooks/'} pyTMD\n",
        "# ! pip install pygeos\n",
        "# ! pip install fiona\n",
        "# ! pip install rasterstats\n",
        "# ! pip install rasterio\n",
        "# ! pip install geopandas\n",
        "# ! pip install rtree\n",
        "# ! pip install git+https://github.com/simard-landscape-lab/orinoco.git\n",
        "# ! pip install scikit-fmm\n",
        "# ! pip install pyTMD\n",
        "# ! pip install anuga\n",
        "# ! pip install pymetis\n",
        "! pip install triangle\n"
      ],
      "metadata": {
        "id": "KkN5p8-Sx07V",
        "colab": {
          "base_uri": "https://localhost:8080/"
        },
        "outputId": "85c45f12-c843-45cb-d9a2-a7df9bf406a7"
      },
      "execution_count": 19,
      "outputs": [
        {
          "output_type": "stream",
          "name": "stdout",
          "text": [
            "Looking in indexes: https://pypi.org/simple, https://us-python.pkg.dev/colab-wheels/public/simple/\n",
            "Collecting triangle\n",
            "  Downloading triangle-20220202-cp37-cp37m-manylinux_2_17_x86_64.manylinux2014_x86_64.whl (2.0 MB)\n",
            "\u001b[K     |████████████████████████████████| 2.0 MB 4.8 MB/s \n",
            "\u001b[?25hRequirement already satisfied: numpy in /usr/local/lib/python3.7/dist-packages (from triangle) (1.21.6)\n",
            "Installing collected packages: triangle\n",
            "Successfully installed triangle-20220202\n"
          ]
        }
      ],
      "id": "KkN5p8-Sx07V"
    },
    {
      "cell_type": "markdown",
      "source": [
        "<font size=3 color='red'> If there are no errors, the cell was successful. Please go to the cell and add # before each line. This will prevent the cell from running again. <font> <br></br>\n",
        "\n",
        "<font size=3 color='red'> Then go to the menu at the top, click \"RUNTIME\" and click \"RESTART RUNTIME\". This will restart the notebook, which is required for the installed packages to be correctly imported </font>"
      ],
      "metadata": {
        "id": "4s_KSlOSP12F"
      },
      "id": "4s_KSlOSP12F"
    },
    {
      "cell_type": "markdown",
      "source": [
        "<font size=5> Test importing packages. <font> <br>\n",
        "\n",
        "<font size=3> Let's test some standard Python packages <font>"
      ],
      "metadata": {
        "id": "7gj4VyeqQUQy"
      },
      "id": "7gj4VyeqQUQy"
    },
    {
      "cell_type": "markdown",
      "source": [
        "<font size=5> Mount Google Drive and Grant Access <font> <br>\n",
        "\n",
        "\n",
        "<font size=3> When you run the next cell, a pop-up window will appear asking you to grant access to your Google Drive. You must approve or the notebook will not work. <font> <br>\n"
      ],
      "metadata": {
        "id": "YbUd8K7zQBPN"
      },
      "id": "YbUd8K7zQBPN"
    },
    {
      "cell_type": "code",
      "source": [
        "from google.colab import drive\n",
        "drive.mount(where_to_mount, force_remount=True)"
      ],
      "metadata": {
        "colab": {
          "base_uri": "https://localhost:8080/"
        },
        "id": "VC6z1Rt0x3fk",
        "outputId": "6d30af94-fb69-4f81-e3ed-389e8b853d22"
      },
      "execution_count": 2,
      "outputs": [
        {
          "output_type": "stream",
          "name": "stdout",
          "text": [
            "Mounted at /content/drive/\n"
          ]
        }
      ],
      "id": "VC6z1Rt0x3fk"
    },
    {
      "cell_type": "markdown",
      "source": [
        "There is a folder of necessary files located here: \n",
        "https://drive.google.com/drive/folders/1Q0UglZJhOsK2_v7pOuX_FIN60d-gYnM7?usp=sharing\n",
        "\n",
        "Click on this link and add a SHORTCUT TO DRIVE. This will link this folder to your personal Google Drive and make it accessible to this notebook.\n",
        "\n",
        "![shortcut.png](data:image/png;base64,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)"
      ],
      "metadata": {
        "id": "uMLU4y-YQbri"
      },
      "id": "uMLU4y-YQbri"
    },
    {
      "cell_type": "markdown",
      "metadata": {
        "id": "35d3024e"
      },
      "source": [
        "<font size=5> Set the directories and import custom Python scripts\n",
        "\n"
      ],
      "id": "35d3024e"
    },
    {
      "cell_type": "code",
      "execution_count": 24,
      "metadata": {
        "id": "ead682d7"
      },
      "outputs": [],
      "source": [
        "path = where_to_mount + 'MyDrive/'\n",
        "path_code = where_to_mount + 'MyDrive/processing/code/'\n",
        "path_templates = where_to_mount + 'MyDrive/processing/templates/'\n",
        "path_configs = where_to_mount + 'MyDrive/processing/configs/'\n",
        "path_examples = where_to_mount + 'MyDrive/examples/'\n",
        "path_ancillary = where_to_mount + 'MyDrive/processing/ancillary/'\n",
        "try:\n",
        "  os.mkdir(path_examples)\n",
        "except:''\n",
        "sys.path.insert(1,path_code)\n"
      ],
      "id": "ead682d7"
    },
    {
      "cell_type": "markdown",
      "id": "85f96d19",
      "metadata": {
        "id": "85f96d19"
      },
      "source": [
        "<font size= 5 color = 'red'> Import necessary packages"
      ]
    },
    {
      "cell_type": "code",
      "execution_count": 20,
      "id": "974559f1",
      "metadata": {
        "id": "974559f1"
      },
      "outputs": [],
      "source": [
        "# Standard packages\n",
        "import os\n",
        "import time\n",
        "import sys\n",
        "import fnmatch\n",
        "import numpy as np\n",
        "import scipy\n",
        "import scipy.interpolate\n",
        "import pandas as pd\n",
        "from datetime import datetime\n",
        "from string import Template\n",
        "import geopandas as gpd\n",
        "from shapely.geometry import Polygon, Point\n",
        "import rasterio\n",
        "from pathlib import Path\n",
        "from shapely.geometry import LineString\n",
        "\n",
        "## ANUGA packages\n",
        "import anuga\n",
        "from anuga.utilities.plot_utils import Make_Geotif\n",
        "from anuga.coordinate_transforms.geo_reference import Geo_reference\n",
        "from anuga.utilities import animate\n",
        "from anuga import myid, numprocs, finalize, barrier\n",
        "from anuga.parallel.parallel_inlet_operator import Parallel_Inlet_operator\n",
        "\n",
        "## Plotting modules\n",
        "import matplotlib.pyplot as plt\n",
        "import matplotlib as mpl\n",
        "mpl.rcParams['agg.path.chunksize'] = 10000\n",
        "\n",
        "#mpl.rcParams['animation.ffmpeg_path'] = r'/Users/alchrist/Downloads/ffmpeg'\n",
        "## If you get an error with producing animation plots, uncomment the line above and add directory for ffmpeg (r'/PATH/TO/ffmpeg')\n",
        "import matplotlib.animation as animation\n",
        "writer = animation.FFMpegWriter(fps=60)\n",
        "\n"
      ]
    },
    {
      "cell_type": "markdown",
      "id": "5077ace6",
      "metadata": {
        "id": "5077ace6"
      },
      "source": [
        "<font size= 5 color = 'red'> Set directories"
      ]
    },
    {
      "cell_type": "code",
      "execution_count": 25,
      "id": "94fab2e4",
      "metadata": {
        "id": "94fab2e4"
      },
      "outputs": [],
      "source": [
        "\n",
        "sys.path.insert(1, path_code)\n",
        "from fix_polygons import getpolygonpoints, removenearbypoints, delete_holes\n",
        "from BYOM_Utilities_V1 import build_directory, make_channel_networks, get_tidal_boundary, get_inlet, get_tide_data_pytmd\n",
        "from BYOM_extra import make_mesh_polygons, determine_riverscale\n",
        "\n"
      ]
    },
    {
      "cell_type": "markdown",
      "metadata": {
        "id": "c6bd01ec"
      },
      "source": [
        "<font size='5' color = 'red' > Set Boundaries <br> Set the AOI again and make sure the working directory is set. If you ran 2_Setup_DEM notebook then the directory should already be made. </font>\n"
      ],
      "id": "c6bd01ec"
    },
    {
      "cell_type": "markdown",
      "id": "c44a65f7",
      "metadata": {
        "id": "c44a65f7"
      },
      "source": [
        "<font size= 5 color = 'red'> Copy the AOI and elevationpath from the previous notebook into the cell below:"
      ]
    },
    {
      "cell_type": "code",
      "execution_count": 26,
      "metadata": {
        "id": "43f0d63c",
        "outputId": "c8a633bb-c7a3-4918-8eeb-501aa974ae50",
        "colab": {
          "base_uri": "https://localhost:8080/"
        }
      },
      "outputs": [
        {
          "output_type": "stream",
          "name": "stdout",
          "text": [
            "\n",
            "\n",
            "Study area is komo\n",
            "Resolution of this setup is 30m\n",
            "\n",
            "\n",
            "\n",
            "##############################################################################################\n",
            "################################[Step 1][Build Directory]#####################################\n",
            "##############################################################################################\n",
            "\n",
            "##################### The working directory set as: \n",
            "\n",
            "/content/drive/MyDrive/examples/komo/\n",
            " \n",
            "##################### Folders are:\n",
            "##################### 0 User_Defined_Files --> User shapefile of model domain and water mask\n",
            "##################### 1 tmp --> For temporary files\n",
            "##################### 3 Meshes --> Where we will build model meshes\n",
            "##################### 4 DEMs --> Where we will build digital elevation models\n",
            "##################### 5 Boundaries --> Where we will store boundary files\n",
            "##################### 6 Simulations --> Where we will run simulations\n",
            "##################### 7 Setup_Files/Setup_SHP --> Shapefiles for setup \n",
            "##################### 8 Setup_Files/Setup_RST --> Rasters for setup\n",
            "##################### 9 Setup_Files/Setup_FIG --> Figures\n",
            "\n",
            "[Step 1][Build Directory] Finished .......\n",
            "\n"
          ]
        }
      ],
      "source": [
        "AOI = 'komo'\n",
        "elev_name = 'Elevation_ocean-GEBCO_land-GLO30_above1260m-wdpower_below1260m-plane_wetland-uni0m_lakes-uni1m'\n",
        "elevationpath = '/content/drive2/MyDrive/examples/komo/DEMs/Elevation_ocean-GEBCO_land-GLO30_above1260m-wdpower_below1260m-plane_wetland-uni0m_lakes-uni1m'\n",
        "Path((path_examples + AOI)).mkdir(parents=True, exist_ok=True)\n",
        "\n",
        "skip = False\n",
        "res = 30 #meters\n",
        "print('\\n')\n",
        "print('Study area is ' + AOI)\n",
        "print('Resolution of this setup is %sm' %(res))\n",
        "\n",
        "working_path,folders = build_directory(path_examples, AOI)\n"
      ],
      "id": "43f0d63c"
    },
    {
      "cell_type": "markdown",
      "id": "e9b35f55",
      "metadata": {
        "id": "e9b35f55"
      },
      "source": [
        "<font size = 5> We will now build the mesh/domain for the model. This file will be saved and can be reused for multiple simulations."
      ]
    },
    {
      "cell_type": "markdown",
      "id": "bd1565fe",
      "metadata": {
        "id": "bd1565fe"
      },
      "source": [
        "<font size =5 color='red'> Get Parameters </font>"
      ]
    },
    {
      "cell_type": "code",
      "execution_count": 27,
      "id": "64177091",
      "metadata": {
        "id": "64177091"
      },
      "outputs": [],
      "source": [
        "\n",
        "parameters = pd.read_csv('%s/%s_Configuration.csv' %(folders[2],AOI))\n",
        "EPSG            = int(parameters['EPSG'][0])                         # Coordinate system\n",
        "\n"
      ]
    },
    {
      "cell_type": "code",
      "execution_count": 28,
      "id": "bb128304",
      "metadata": {
        "id": "bb128304"
      },
      "outputs": [],
      "source": [
        "try:\n",
        "    ref = rasterio.open('%s%s_GEBCO_%s.tif' %(folders[8],AOI,res))\n",
        "except:\n",
        "    os.system('gdalwarp -overwrite -tr %s %s %s%s_GEBCO_%s.tif %s%s_GEBCO_%s.tif '\\\n",
        "              ' -te %s %s %s %s -srcnodata -9999 -dstnodata -9999 -co COMPRESS=DEFLATE -q'\n",
        "              %(xres,yres,folders[8],AOI,ref_res,folders[8],AOI,xres,ulx,lry,lrx,uly))\n",
        "    ref = rasterio.open('%s%s_GEBCO_%s.tif' %(folders[8],AOI,res))\n",
        "    \n",
        "ref_profile = ref.profile\n"
      ]
    },
    {
      "cell_type": "markdown",
      "id": "ba6b1240",
      "metadata": {
        "id": "ba6b1240"
      },
      "source": [
        "<font size=5 color='red'> Get model domain, determine tidal boundary"
      ]
    },
    {
      "cell_type": "code",
      "execution_count": 29,
      "id": "02ce4562",
      "metadata": {
        "id": "02ce4562",
        "outputId": "95a0562b-c045-4a57-d2b6-0d080ef2271b",
        "colab": {
          "base_uri": "https://localhost:8080/"
        }
      },
      "outputs": [
        {
          "output_type": "stream",
          "name": "stderr",
          "text": [
            "ERROR:fiona._env:/content/drive/MyDrive/examples/komo/User_Defined_Files/komo_tidebnd.shp: No such file or directory\n"
          ]
        },
        {
          "output_type": "stream",
          "name": "stdout",
          "text": [
            "Tidal boundary is not defined yet\n"
          ]
        }
      ],
      "source": [
        "model_domain = gpd.read_file('%s%s_input.shp' %(folders[0],AOI))\n",
        "domain_name = folders[3] + 'TEST/'\n",
        "Path(domain_name).mkdir(parents=True, exist_ok=True)\n",
        "\n",
        "try:\n",
        "    tide_bnd = gpd.read_file('%s%s_tidebnd.shp' %(folders[0],AOI))\n",
        "    tide_bnd.to_file('%s%s_tidebnd.shp' %(domain_name,AOI))\n",
        "except:\n",
        "    print('Tidal boundary is not defined yet')\n",
        "    tide_bnd_EPSG = []\n",
        "    tideLAT_EPSG = -9999\n",
        "    tideLON_EPSG = -9999\n",
        "\n",
        "else:\n",
        "    print('Tidal boundary is defined by User File (%s_tidebnd.shp)' %(AOI))\n",
        "    if tide_bnd.crs != 'EPSG:4326':\n",
        "        tide_bnd = tide_bnd.to_crs('EPSG:4326')    \n",
        "    tide_centroid = tide_bnd.centroid\n",
        "\n",
        "    tide_bnd_EPSG = tide_bnd.to_crs('EPSG:%s' %(EPSG))\n",
        "    tide_EPSG_centroid = tide_bnd_EPSG.centroid\n",
        "\n",
        "    tideLAT_EPSG = round(tide_EPSG_centroid.geometry[0].coords.xy[1][0],2)\n",
        "    tideLON_EPSG = round(tide_EPSG_centroid.geometry[0].coords.xy[0][0],2)\n",
        "\n"
      ]
    },
    {
      "cell_type": "code",
      "execution_count": null,
      "id": "b3c9230a",
      "metadata": {
        "id": "b3c9230a",
        "outputId": "cf50f5f0-9aa1-4667-be8b-302be8aa778d"
      },
      "outputs": [
        {
          "data": {
            "text/plain": [
              "0"
            ]
          },
          "execution_count": 7,
          "metadata": {},
          "output_type": "execute_result"
        }
      ],
      "source": []
    },
    {
      "cell_type": "code",
      "execution_count": null,
      "id": "556f1429",
      "metadata": {
        "id": "556f1429"
      },
      "outputs": [],
      "source": [
        "# boundary_segments,tideLON_EPSG,tideLAT_EPSG = get_tidal_boundary(AOI,folders,res,parameters,tide_bnd_EPSG,tideLAT_EPSG,tideLON_EPSG)\n",
        "\n",
        "# tides = gpd.GeoDataFrame(geometry = gpd.points_from_xy(x=[tideLON_EPSG],y=[tideLAT_EPSG]),crs='EPSG:%s' %(EPSG))\n",
        "\n",
        "# print('Tide centroid is LAT: %s LON: %s ' %(tideLAT_EPSG,tideLON_EPSG))\n",
        "\n",
        "# tideLON_4326 = round(tides.to_crs('EPSG:4326').geometry[0].coords.xy[0][0],4)\n",
        "# tideLAT_4326 = round(tides.to_crs('EPSG:4326').geometry[0].coords.xy[1][0],4)\n",
        "\n",
        "# print('Tide centroid is LAT: %s LON: %s ' %(tideLAT_4326,tideLON_4326))\n",
        "\n",
        "# tide_path = folders[5] + '/Tide_LAT%s_LON%s/' %(tideLAT_4326,tideLON_4326)\n",
        "\n",
        "# Path(tide_path).mkdir(parents=True, exist_ok=True)\n",
        "\n"
      ]
    },
    {
      "cell_type": "code",
      "execution_count": null,
      "id": "8c7a4b93",
      "metadata": {
        "id": "8c7a4b93"
      },
      "outputs": [],
      "source": [
        "\n",
        "# boundary_segments.plot(categorical=True,legend=True,column='boundary')\n",
        "# boundary_segments.to_file('%s%s_Boundary_Segments.shp' %(domain_name,AOI))"
      ]
    },
    {
      "cell_type": "markdown",
      "id": "477e5937",
      "metadata": {
        "id": "477e5937"
      },
      "source": [
        "<font size=5 color='red'> Get median river width to determine scale of mesh in river polygons </font>"
      ]
    },
    {
      "cell_type": "code",
      "execution_count": 30,
      "id": "72910ab5",
      "metadata": {
        "id": "72910ab5",
        "outputId": "5a970948-7b81-4f8d-8119-768033d316d4",
        "colab": {
          "base_uri": "https://localhost:8080/"
        }
      },
      "outputs": [
        {
          "output_type": "stream",
          "name": "stdout",
          "text": [
            "\n",
            "\n",
            "\n",
            "##############################################################################################\n",
            "##############################[Step 5][Make_Channel_Networks]#################################\n",
            "##############################################################################################\n",
            "\n",
            "\n",
            "[Step 5][Make_Channel_Networks][Import river mask (30m)] .......\n",
            "\n",
            "\n",
            "[Step 5][Make_Channel_Networks][Import ocean mask (30m)] .......\n",
            "\n",
            "\n",
            "[Step 5][Make_Channel_Networks][Use Orinoco code (Charlie) to get distance and widths of rivers] .......\n",
            "\n",
            "##################### Pixel step will be 5\n",
            "##################### Therefore, segments will be 30 * 5 = 150m wide\n",
            "\n",
            "[Step 5][Make_Channel_Networks][Orinoco] .......\n",
            "\n",
            "\n",
            "######[Make_Channel_Networks][Orinoco --> get_distance_in_channel] .......\n",
            "\n",
            "\n",
            "######[Make_Channel_Networks][Orinoco --> get_distance_segments] .......\n",
            "\n",
            "\n",
            "######[Make_Channel_Networks][Orinoco --> segment raster to shapefile] .......\n",
            "\n",
            "\n",
            "######[Make_Channel_Networks][Orinoco --> get_undirected_channel_network] .......\n",
            "\n"
          ]
        },
        {
          "output_type": "stream",
          "name": "stderr",
          "text": [
            "rag neighbors: 100%|██████████| 3740/3740 [00:00<00:00, 11044.48it/s]\n",
            "adding edges: 100%|██████████| 3739/3739 [00:00<00:00, 106080.40it/s]\n"
          ]
        },
        {
          "output_type": "stream",
          "name": "stdout",
          "text": [
            "\n",
            "######[Make_Channel_Networks][Orinoco --> direct_channel_network] .......\n",
            "\n",
            "\n",
            "######[Make_Channel_Networks][Orinoco --> add_flow_attributes] .......\n",
            "\n"
          ]
        },
        {
          "output_type": "stream",
          "name": "stderr",
          "text": [
            "flow vector computation using gradient: 100%|██████████| 3139/3139 [00:00<00:00, 51778.48it/s]\n",
            "flow vector computation using network: 100%|██████████| 3139/3139 [00:00<00:00, 4770.25it/s]\n"
          ]
        },
        {
          "output_type": "stream",
          "name": "stdout",
          "text": [
            "\n",
            "######[Make_Channel_Networks][Orinoco --> get_geo_width_df] .......\n",
            "\n",
            "\n",
            "######[Make_Channel_Networks][Orinoco --> update_graph_with_widths] .......\n",
            "\n",
            "\n",
            "######[Make_Channel_Networks][Orinoco --> export_edges_to_geodataframe] .......\n",
            "\n",
            "\n",
            "######[Make_Channel_Networks][Orinoco --> export_nodes_to_geodataframe] .......\n",
            "\n",
            "\n",
            "######[Make_Channel_Networks][Orinoco --> get_width_features_from_segments] .......\n",
            "\n",
            "\n",
            "######[Make_Channel_Networks][Orinoco --> get_array_from_features] .......\n",
            "\n",
            "\n",
            "[Step 5][Make_Channel_Networks][Finished] .......\n",
            "\n",
            "\n",
            "\n",
            "\n",
            "##############################################################################################\n",
            "######################################## [River Scale] #######################################\n",
            "##############################################################################################\n",
            "\n",
            "\n",
            "[Get Riverscale][Get Median Width of Rivers] .......\n",
            "\n",
            "##################### Median river width is 587.7378m\n",
            "\n",
            "[Get Riverscale][How many cells per width] .......\n",
            "\n",
            "##################### Cells per river width is 5\n",
            "\n",
            "[Get Riverscale][Estimate maximum triangle size to maintain 5 per median 587.7378m river width] .......\n",
            "\n",
            "##################### Therefore, max triangle scale is 6908m2\n"
          ]
        }
      ],
      "source": [
        "segment_width = 150\n",
        "pixel_step = int(round(segment_width/res))\n",
        "\n",
        "if os.path.isfile(\"%s%s_widths_%sx%s.tif\" %(folders[8],AOI,res,pixel_step))==False:\n",
        "    distance,widths = make_channel_networks(folders,\n",
        "                                            AOI,\n",
        "                                            ref,\n",
        "                                            parameters,\n",
        "                                            pixel_step,\n",
        "                                            os.path.isfile(\"%s%s_widths_%sx%s.tif\" %(folders[8],AOI,res,pixel_step)))\n",
        "med_width, riverscale, cellsperwidth = determine_riverscale(folders,\n",
        "                                                              AOI,\n",
        "                                                              ref,\n",
        "                                                              parameters,\n",
        "                                                              pixel_step,\n",
        "                                                              False)"
      ]
    },
    {
      "cell_type": "code",
      "execution_count": null,
      "id": "61933cc9",
      "metadata": {
        "id": "61933cc9"
      },
      "outputs": [],
      "source": [
        "\n",
        "##############################################################################\n",
        "## Polygons to use for mesh refinement should be stored in /Mesh folder\n",
        "## Mesh names and scales must be listed in the configuration file (Columns 'Mesh' and 'Scale')\n",
        "## File naming format for polygons should be D_AAAA_mesh.shp where:\n",
        "## D is the name of your study area\n",
        "## AAAA is your naming convention for different areas of refinement (rivers, oceans in the example)\n",
        "## Example is magdalena_rivers_mesh.shp\n",
        "## For successful mesh generation:\n",
        "##      1) Polygons should not intersect\n",
        "##      2) Polygons should contain no holes (we attempt to remove those below)\\\n",
        "##      3) Polygons should not be more complex (fine detail) than the desired resolution (ie you cannot have coarse resolution in very tiny areas)\n",
        "##      4) Polygons must fall within the model domain\n",
        "##      5) Polygons will be buffered to ensure transition between areas of different refinement.\n",
        "##      6) If mesh generation fails, please try simple polygons first, check mesh output, and then add complexity\n",
        "##\n"
      ]
    },
    {
      "cell_type": "markdown",
      "id": "50b7c336",
      "metadata": {
        "id": "50b7c336"
      },
      "source": [
        "<font size= 5 color = 'red'> Get Mesh Parameters"
      ]
    },
    {
      "cell_type": "markdown",
      "id": "03967062",
      "metadata": {
        "id": "03967062"
      },
      "source": [
        "<font size= 5 color = 'red'> Decide if you want to use a uniform mesh or refine by polygons. If you want to refine by polygons, there will be a process to prepare polygons for mesh generation. Or you can provide your own polygons, but beware they must be free of holes and have sufficiently spaced vertices for triangulation."
      ]
    },
    {
      "cell_type": "code",
      "execution_count": 31,
      "id": "a5c1bf15",
      "metadata": {
        "id": "a5c1bf15",
        "outputId": "7561de37-236e-4fa2-d6ac-de4a975ddc56",
        "colab": {
          "base_uri": "https://localhost:8080/"
        }
      },
      "outputs": [
        {
          "output_type": "stream",
          "name": "stdout",
          "text": [
            "\n",
            "Base maximum triangle size is \n",
            "10000m2 \n"
          ]
        }
      ],
      "source": [
        "uniform = True # False if you want to refine certain meshes\n",
        "base_triangle = 10000\n",
        "base_length  = int((base_triangle*2)**0.5)\n",
        "print('\\nBase maximum triangle size is \\n%sm2 ' %(base_triangle))\n"
      ]
    },
    {
      "cell_type": "markdown",
      "id": "c9e0689d",
      "metadata": {
        "id": "c9e0689d"
      },
      "source": [
        "<font size= 5 color = 'red'> Make polygons for the mesh. Each type will be split and cleaned to ensure polygons fit requirements for mesh triangulation </font>"
      ]
    },
    {
      "cell_type": "code",
      "execution_count": null,
      "id": "dd4d7a2c",
      "metadata": {
        "id": "dd4d7a2c"
      },
      "outputs": [],
      "source": [
        "##############################################################################\n",
        "##############################################################################\n",
        "##############################################################################\n",
        "############################# Build Mesh Polygons ############################\n",
        "##############################################################################\n",
        "##############################################################################\n",
        "##############################################################################\n",
        "\n",
        "## If polygon complexity is high and vertex spacing is less than length of maximum triangle edge, the mesh generator will fail ##\n",
        "## There can be NO intersections of polygons\n",
        "## There should be no holes in the polygons. A  polygon can be completely contained with another, but they must be defined separately\n",
        "## All polygons must be WITHIN model extent\n",
        "## The code below will attempt to remove holes and other invalid geometries, but it is not guarenteed\n",
        "##############################################################################\n",
        "## Polygons to use for mesh refinement should be stored in /Mesh folder\n",
        "## Mesh names and scales must be listed in the configuration file (Columns 'Mesh' and 'Scale')\n",
        "## File naming format for polygons should be D_AAAA_mesh.shp where:\n",
        "## D is the name of your study area\n",
        "## AAAA is your naming convention for different areas of refinement (rivers, oceans in the example)\n",
        "## Example is magdalena_rivers_mesh.shp\n",
        "## For successful mesh generation:\n",
        "##      1) Polygons should not intersect\n",
        "##      2) Polygons should contain no holes (we attempt to remove those below)\\\n",
        "##      3) Polygons should not be more complex (fine detail) than the desired resolution (ie you cannot have coarse resolution in very tiny areas)\n",
        "##      4) Polygons must fall within the model domain\n",
        "##      5) Polygons will be buffered to ensure transition between areas of different refinement.\n",
        "##      6) If mesh generation fails, please try simple polygons first, check mesh output, and then add complexity\n",
        "##\n"
      ]
    },
    {
      "cell_type": "code",
      "execution_count": 32,
      "id": "569f4db0",
      "metadata": {
        "id": "569f4db0"
      },
      "outputs": [],
      "source": [
        "\n",
        "if uniform==False:\n",
        "    meshes = make_mesh_polygons(folders,\n",
        "                            AOI,\n",
        "                            res,\n",
        "                            parameters,\n",
        "                            med_width,\n",
        "                            cellsperwidth,\n",
        "                            domain_name,False)\n",
        "#                              os.path.isfile( \"%s%s_land_mesh_%s.shp\" %(folders[3],delta,res)))\n",
        "\n"
      ]
    },
    {
      "cell_type": "markdown",
      "id": "b4cb8f2d",
      "metadata": {
        "id": "b4cb8f2d"
      },
      "source": [
        "<font size= 5 color = 'red'> Get working directory, set resolution, and plot elevation raster made in previous notebook"
      ]
    },
    {
      "cell_type": "code",
      "execution_count": 36,
      "id": "b738a191",
      "metadata": {
        "id": "b738a191",
        "outputId": "48839038-f180-4287-cd35-98eb72021945",
        "colab": {
          "base_uri": "https://localhost:8080/"
        }
      },
      "outputs": [
        {
          "output_type": "stream",
          "name": "stdout",
          "text": [
            "Mesh is uniform, with maximum triangle area of [10000]\n"
          ]
        }
      ],
      "source": [
        "\n",
        "if uniform==False:\n",
        "    mesh_names = ['river','fullocean','land','lake'] # these names should match polygon names in the setup_shp folder\n",
        "    mesh_triangles = [riverscale,10000,10000,10000]# Set these as you please\n",
        "    \n",
        "    print('\\nChosen mesh polygons for refinement are:\\n %s\\n' %(mesh_names))\n",
        "\n",
        "    print('Mesh maximum triangle sizes are: \\n%s' %(mesh_triangles))\n",
        "else:\n",
        "    mesh_names = ['base']\n",
        "    mesh_triangles = [10000]\n",
        "    print('Mesh is uniform, with maximum triangle area of %s' %(mesh_triangles))\n",
        "    \n",
        "mesh_shapefiles =[]\n",
        "for mesh in range(len(mesh_names)):\n",
        "    mesh_shapefiles = np.concatenate((mesh_shapefiles,[os.path.join(dirpath,f)\n",
        "            for dirpath,dirnames, files in os.walk(domain_name)\n",
        "            for f in fnmatch.filter(files,'%s*%s_mesh_%s.shp' %(AOI,mesh_names[mesh],res))]),axis=0)\n",
        "\n",
        "if uniform==False:\n",
        "    print('\\nFound mesh shapefiles for mesh refinement are:')\n",
        "    print(*mesh_shapefiles,sep='\\n')\n"
      ]
    },
    {
      "cell_type": "code",
      "execution_count": 35,
      "id": "1ce03898",
      "metadata": {
        "id": "1ce03898",
        "outputId": "d1da9069-5764-43df-a6f2-6f15afea6997",
        "colab": {
          "base_uri": "https://localhost:8080/"
        }
      },
      "outputs": [
        {
          "output_type": "stream",
          "name": "stdout",
          "text": [
            "Meshes_base_10000m2\n"
          ]
        }
      ],
      "source": [
        "mesh_file = 'Meshes'\n",
        "for mesh in range(len(mesh_names)):\n",
        "    mesh_file = mesh_file +'_' + mesh_names[mesh] + '_' + str(mesh_triangles[mesh]) + 'm2'\n",
        "print(mesh_file)"
      ]
    },
    {
      "cell_type": "code",
      "execution_count": 37,
      "id": "b0ea9cc7",
      "metadata": {
        "id": "b0ea9cc7",
        "outputId": "e6a569df-571b-4dc0-a127-e47893f3aa95",
        "colab": {
          "base_uri": "https://localhost:8080/"
        }
      },
      "outputs": [
        {
          "output_type": "stream",
          "name": "stdout",
          "text": [
            "Folder for mesh files is /content/drive/MyDrive/examples/komo/Meshes/TEST/Meshes_base_10000m2/\n"
          ]
        }
      ],
      "source": [
        "#meshname = '%s%s_%s.tsh' %(folders[3],AOI,mesh_string)\n",
        "mesh_path = domain_name + mesh_file + '/' #folders[4] + elevationpath.split('/')[-1] + '/' + mesh_string + '/'\n",
        "\n",
        "Path('%s' %(mesh_path)).mkdir(parents=True, exist_ok=True)\n",
        "Path('%s' %(folders[1])).mkdir(parents=True, exist_ok=True)\n",
        "\n",
        "print('Folder for mesh files is %s' %(mesh_path))"
      ]
    },
    {
      "cell_type": "code",
      "execution_count": 38,
      "id": "c87c7193",
      "metadata": {
        "id": "c87c7193",
        "outputId": "c1883808-69a6-4e75-a8a0-90ad6ae7909a",
        "colab": {
          "base_uri": "https://localhost:8080/",
          "height": 596
        }
      },
      "outputs": [
        {
          "output_type": "display_data",
          "data": {
            "text/plain": [
              "<Figure size 720x720 with 1 Axes>"
            ],
            "image/png": "[encoded data removed]"
          },
          "metadata": {
            "needs_background": "light"
          }
        }
      ],
      "source": [
        "fix,ax = plt.subplots(figsize=(10,10))\n",
        "\n",
        "colors = ['r','k','b','c','o','g']\n",
        "i=0\n",
        "for mesh_shapefile in mesh_shapefiles:\n",
        "    tmp = gpd.read_file(mesh_shapefile)\n",
        "    tmp.plot(ax=ax,color=colors[i])\n",
        "    i=i+1"
      ]
    },
    {
      "cell_type": "code",
      "execution_count": null,
      "id": "a22a65c4",
      "metadata": {
        "id": "a22a65c4"
      },
      "outputs": [],
      "source": [
        "  "
      ]
    },
    {
      "cell_type": "code",
      "execution_count": 39,
      "id": "1a397e02",
      "metadata": {
        "id": "1a397e02",
        "outputId": "38f4c435-50ec-41d9-de61-e6d9ac2ebed6",
        "colab": {
          "base_uri": "https://localhost:8080/"
        }
      },
      "outputs": [
        {
          "output_type": "stream",
          "name": "stdout",
          "text": [
            "Model domain is rectangular, clear North, South, West, and East Boundaries\n",
            "There are a total of 2486 boundary nodes\n",
            "There are 769 boundary nodes tagged as North boundaries\n",
            "There are 768 boundary nodes tagged as South boundaries\n",
            "There are 475 boundary nodes tagged as West boundaries\n",
            "There are 475 boundary nodes tagged as East boundaries\n",
            "There are 0 boundary nodes tagged as Other boundaries\n"
          ]
        }
      ],
      "source": [
        "rectangular = True\n",
        "      \n",
        "if rectangular:\n",
        "    print('Model domain is rectangular, clear North, South, West, and East Boundaries')\n",
        "    extentpoly     = gpd.read_file(\"%s%s_extent_%s.shp\" %(folders[7],AOI,EPSG))\n",
        "    ulx,lry,lrx,uly = extentpoly.total_bounds   # Coordiates converted to UTM coordinate system\n",
        "    temp, domain   = getpolygonpoints(extentpoly,ulx,uly,lrx,lry,base_length)\n",
        "    perimeter = temp.length\n",
        "    extent = tuple((point.coords[0][0],point.coords[0][1]) for point in (domain.geometry[:]))\n",
        "    extent2 = []\n",
        "    for feat in domain.geometry:\n",
        "        extent2.append([round(feat.x,5), round(feat.y,5)])\n",
        "    extent2 = np.array(extent2)\n",
        "    north = np.where((extent2[:,1]==round(uly,5)))\n",
        "    south = np.where((extent2[:,1]==round(lry,5)))\n",
        "    west  = np.where((extent2[:,0]==round(ulx,5)))\n",
        "    east  = np.where((extent2[:,0]==round(lrx,5)))\n",
        "    other_tag = np.where((extent2[:,1]!=round(uly,5))&(extent2[:,1]!=round(lry,5))&(extent2[:,0]!=round(ulx,5))&(extent2[:,0]!=round(lrx,5)))\n",
        "    print('There are a total of %s boundary nodes' %(len(domain)))\n",
        "    print('There are %s boundary nodes tagged as North boundaries' %(len(north[0])))\n",
        "    print('There are %s boundary nodes tagged as South boundaries' %(len(south[0])))\n",
        "    print('There are %s boundary nodes tagged as West boundaries' %(len(west[0])))\n",
        "    print('There are %s boundary nodes tagged as East boundaries' %(len(east[0])))\n",
        "    print('There are %s boundary nodes tagged as Other boundaries' %(len(other_tag[0])))\n",
        "  \n",
        "else:\n",
        "    tide_bnd = gpd.read_file(\"%s%s_tidebnd.shp\" %(folders[0],AOI))\n",
        "    print('Model domain is irregular, boundary tags are not North, South, East, and West')\n",
        "    print('Tidal boundary is defined by user: \\n%s%s_tidebnd.shp' %(folders[0],AOI))\n",
        "    extentpoly     = gpd.read_file(\"%s%s_modeldomain.shp\" %(folders[7],AOI))\n",
        "    tide_bnd = tide_bnd.to_crs(extentpoly.crs)\n",
        "    ulx,lry,lrx,uly = extentpoly.total_bounds   # Coordiates converted to UTM coordinate system\n",
        "    temp, domain   = getpolygonpoints(extentpoly,ulx,uly,lrx,lry,base_length)\n",
        "    perimeter = temp.length\n",
        "    extent = tuple((round(point.coords[0][0],9),round(point.coords[0][1],9)) for point in (domain.geometry[:]))\n",
        "#     extent2 = []\n",
        "#     for feat in domain.geometry:\n",
        "#         extent2.append([round(feat.x,5), round(feat.y,5)])\n",
        "#     extent2 = np.array(extent2)\n",
        "    domain['index'] = domain.index\n",
        "    tide = gpd.overlay(domain,tide_bnd,how='intersection')\n",
        "    tide_tag = np.array(tide['index'])\n",
        "    \n",
        "    other = gpd.overlay(domain,tide_bnd,how='difference')\n",
        "    other_tag = np.array(other['index'])\n",
        "    print('There are a total of %s boundary nodes' %(len(domain)))\n",
        "    print('There are %s boundary nodes tagged as tidal boundaries' %(len(tide_tag)))\n",
        "    print('There are %s boundary nodes tagged as not tidal boundaries' %(len(other_tag)))\n",
        "\n",
        "np.savetxt('%s%s_domain_points.csv' %(mesh_path,AOI), extent,delimiter=',', fmt= '%1.9f') ## USED BY ANUGA MODEL\n",
        "\n"
      ]
    },
    {
      "cell_type": "code",
      "execution_count": null,
      "id": "81cbd7ed",
      "metadata": {
        "id": "81cbd7ed"
      },
      "outputs": [],
      "source": []
    },
    {
      "cell_type": "code",
      "execution_count": 40,
      "id": "6e3617ad",
      "metadata": {
        "id": "6e3617ad"
      },
      "outputs": [],
      "source": [
        "domain['index'] = domain.index.astype('int')\n",
        "domain['tag'] = ''\n",
        "if rectangular:\n",
        "\n",
        "    domain['tag'][domain['index'].isin(north[0])] = 'north'\n",
        "    domain['tag'][domain['index'].isin(south[0])] = 'south'\n",
        "    domain['tag'][domain['index'].isin(west[0])] = 'west'\n",
        "    domain['tag'][domain['index'].isin(east[0])] = 'east'\n",
        "    domain['tag'][domain['index'].isin(other_tag[0])] = 'other'\n",
        "else:\n",
        "    domain['tag'][domain['index'].isin(other_tag[0])] = 'other'\n",
        "    domain['tag'][domain['index'].isin(tide_tag[0])] = 'tag'\n",
        "\n",
        "domain.to_file('%s%s_domain_points.shp' %(mesh_path,AOI))"
      ]
    },
    {
      "cell_type": "code",
      "execution_count": 41,
      "id": "f6237202",
      "metadata": {
        "id": "f6237202",
        "outputId": "d1587ab4-04ea-45da-980e-44e4747f8444",
        "colab": {
          "base_uri": "https://localhost:8080/",
          "height": 393
        }
      },
      "outputs": [
        {
          "output_type": "display_data",
          "data": {
            "text/plain": [
              "<Figure size 720x720 with 1 Axes>"
            ],
            "image/png": "[encoded data removed]"
          },
          "metadata": {
            "needs_background": "light"
          }
        }
      ],
      "source": [
        "fig, ax = plt.subplots(figsize = (10,10))\n",
        "#boundary_segments.plot(ax=ax,column='boundary',categorical=True,legend=True,color='k')\n",
        "domain.plot(ax=ax,column='tag',categorical=True,legend=True)\n",
        "plt.savefig('%s/boundarytags.png' %(mesh_path))\n"
      ]
    },
    {
      "cell_type": "code",
      "execution_count": null,
      "id": "bb61a532",
      "metadata": {
        "id": "bb61a532"
      },
      "outputs": [],
      "source": []
    },
    {
      "cell_type": "code",
      "execution_count": 42,
      "id": "95ee6ca7",
      "metadata": {
        "id": "95ee6ca7",
        "outputId": "af82f894-cdf2-4692-e428-f793c8d87c3f",
        "colab": {
          "base_uri": "https://localhost:8080/"
        }
      },
      "outputs": [
        {
          "output_type": "stream",
          "name": "stdout",
          "text": [
            "################################# Bounding Polygon defined by :               komo_domain_points.csv\n",
            "################################# Area of bounding polygon:                   7255.78 km^2\n",
            "################################# Base triangle area for unrefined areas:     0.000141 km^2\n"
          ]
        }
      ],
      "source": [
        "bounding_polygon = anuga.read_polygon('%s%s_domain_points.csv' %(mesh_path,AOI))\n",
        "A = anuga.polygon_area(bounding_polygon) / 1000000.0\n",
        "print('################################# Bounding Polygon defined by :               %s_domain_points.csv' %(AOI))\n",
        "print('################################# Area of bounding polygon:                   %.2f km^2' %(A))\n",
        "print('################################# Base triangle area for unrefined areas:     %s km^2' %(base_length/1000000.00))\n",
        "\n"
      ]
    },
    {
      "cell_type": "code",
      "execution_count": null,
      "id": "78f822b4",
      "metadata": {
        "id": "78f822b4"
      },
      "outputs": [],
      "source": []
    },
    {
      "cell_type": "code",
      "execution_count": 43,
      "id": "f019ebcb",
      "metadata": {
        "id": "f019ebcb"
      },
      "outputs": [],
      "source": [
        "minlength = (min(mesh_triangles)*2)**0.5\n",
        "maxlength = (max(mesh_triangles)*2)**0.5\n",
        "\n",
        "interior_regions = []\n",
        "missing = gpd.GeoDataFrame(columns =['geometry'], crs = EPSG)\n"
      ]
    },
    {
      "cell_type": "code",
      "execution_count": null,
      "id": "f2ac1f2a",
      "metadata": {
        "id": "f2ac1f2a",
        "outputId": "f7dfac1d-a821-4c55-9d8d-1ef058faf65d"
      },
      "outputs": [
        {
          "name": "stdout",
          "output_type": "stream",
          "text": [
            "################################# Max triangle area for base:     0.01 km^2\n"
          ]
        }
      ],
      "source": [
        "# mesh=0\n",
        "# mesh_triangle = mesh_triangles[mesh]        #zone_scale = int(parameters['Zone%sScale' %(zone)].astype('float64'))     # Maximum triangle area in Zone A areas\n",
        "# print('################################# Max triangle area for %s:     %s km^2' %(mesh_names[mesh],mesh_triangle/1000000.00))\n"
      ]
    },
    {
      "cell_type": "code",
      "execution_count": null,
      "id": "375c03d7",
      "metadata": {
        "id": "375c03d7",
        "outputId": "91e2da41-cab8-4378-dfb5-a1251157987a"
      },
      "outputs": [
        {
          "data": {
            "text/plain": [
              "array([], dtype=float64)"
            ]
          },
          "execution_count": 25,
          "metadata": {},
          "output_type": "execute_result"
        }
      ],
      "source": [
        "# mesh_shapefiles[:-1]"
      ]
    },
    {
      "cell_type": "code",
      "execution_count": 44,
      "id": "e1033602",
      "metadata": {
        "id": "e1033602"
      },
      "outputs": [],
      "source": [
        "if uniform == False:\n",
        "    for mesh in range(len(mesh_shapefiles[:-1])):\n",
        "        print(mesh)\n",
        "        try:\n",
        "            mesh_triangle = mesh_triangles[mesh]        #zone_scale = int(parameters['Zone%sScale' %(zone)].astype('float64'))     # Maximum triangle area in Zone A areas\n",
        "        except:''\n",
        "        else:\n",
        "            print('################################# Max triangle area for %s:     %s km^2' %(mesh_names[mesh],mesh_triangle/1000000.00))\n",
        "            mesh_length = (mesh_triangle*2)**0.5 # max area = (max length/2)^2\n",
        "            zone_polygons = []\n",
        "\n",
        "            ## ZONE\n",
        "            zone_polygon = gpd.read_file(mesh_shapefiles[mesh])\n",
        "            #zone_polygon.geometry = zone_polygon.buffer(2*int(maxlength))\n",
        "            zone_polygon.geometry = zone_polygon.buffer(-int(minlength))\n",
        "            zone_no_holes,holes = delete_holes(zone_polygon)\n",
        "            zone_no_holes = zone_no_holes.explode(index_parts = True).reset_index(drop=True)\n",
        "\n",
        "            columns = zone_no_holes.columns[:-1]\n",
        "            zone_no_holes.drop(columns,inplace=True,axis=1)\n",
        "            zone_filled = zone_no_holes.copy(deep=True)\n",
        "            points = {'geometry':[Point(zone_no_holes.geometry[0].exterior.coords[0][0], zone_no_holes.geometry[0].exterior.coords[0][1])]}\n",
        "            points = gpd.GeoDataFrame(points,crs=EPSG)\n",
        "            rivercsv = []\n",
        "            for g in range(zone_filled.shape[0]):\n",
        "                try:\n",
        "                    interior_regions.append([anuga.read_polygon(\"%s%s_%s%s_points_%s.csv\" %(mesh_path,AOI,mesh_names[mesh],g,mesh_triangle)),mesh_triangle])\n",
        "\n",
        "                except:\n",
        "                    tempgdf = gpd.GeoDataFrame(geometry = zone_filled.loc[g])\n",
        "                    #tempgdf.columns = ['geometry']\n",
        "                    temp_filled,temp_points = getpolygonpoints(tempgdf,ulx,uly,lrx,lry,int(mesh_length))\n",
        "                    if temp_points.shape[0]>3:\n",
        "                        points_2,newxy = removenearbypoints(temp_points,domain, mesh_path,AOI,'%s%s' %(mesh_names[mesh],g),mesh_triangle,minlength)\n",
        "                        np.savetxt(\"%s%s_%s%s_points_%s.csv\" %(mesh_path,AOI,mesh_names[mesh],g,mesh_triangle),newxy,delimiter=',', fmt= '%1.9f')\n",
        "                        print('%s%s_%s_points_%s.csv' %(mesh_path,AOI,'%s%s' %(mesh_names[mesh],g),mesh_triangle))\n",
        "                       #rivercsv.append(deltapath+folders[6]+delta+'_river%s_points.csv' %(g))\n",
        "                        try:\n",
        "                            interior_regions.append([anuga.read_polygon(mesh_path+AOI+'_%s%s_points_%s.csv' %(mesh_names[mesh],g,mesh_triangle)),mesh_triangle])\n",
        "                        except: print('BAD POLYGON --> BAD MESH. Excluding this polygon for the mesh generator')\n",
        "                        else:\n",
        "                            zone_filled.loc[g].geometry = temp_filled.geometry[0]\n",
        "                            points = pd.concat((points,points_2),axis=0)\n",
        "                            points = points.reset_index(drop=True)\n",
        "                else:\n",
        "                    points_2 = gpd.read_file(\"%s%s_%s%s_points_%s.csv\" %(mesh_path,AOI,mesh_names[mesh],g,mesh_triangle))\n",
        "                    #zone_filled.loc[g].geometry = temp_filled.geometry[0]\n",
        "                    points = pd.concat((points,points_2),axis=0)\n",
        "                    points = points.reset_index(drop=True)\n",
        "                domain = pd.concat((domain,points),axis=0).reset_index(drop=True)\n",
        "                missing = pd.concat((missing,zone_filled),axis=0)\n",
        "            points.to_file(\"%s%s_points_%s_%s.shp\" %(mesh_path,AOI,mesh_names[mesh],mesh_triangle))\n",
        "\n",
        "\n",
        "    domain.to_file(\"%s%s_all_points.shp\" %(mesh_path,AOI))"
      ]
    },
    {
      "cell_type": "code",
      "execution_count": null,
      "id": "c083180e",
      "metadata": {
        "id": "c083180e"
      },
      "outputs": [],
      "source": []
    },
    {
      "cell_type": "code",
      "execution_count": null,
      "id": "5d08f4b2",
      "metadata": {
        "id": "5d08f4b2"
      },
      "outputs": [],
      "source": []
    },
    {
      "cell_type": "code",
      "execution_count": null,
      "id": "c66b8fba",
      "metadata": {
        "id": "c66b8fba"
      },
      "outputs": [],
      "source": []
    },
    {
      "cell_type": "code",
      "execution_count": null,
      "id": "bcbd380b",
      "metadata": {
        "id": "bcbd380b"
      },
      "outputs": [],
      "source": [
        "## This fills in the buffer zone between refinement areas\n",
        "## Right now the mesh size of the buffer zone is set at the smallest mesh size\n",
        "# inner_extent = extentpoly.copy(deep=True)\n",
        "# inner_extent.geometry = extentpoly.buffer(-int(minlength)-10)\n",
        "# gaps = gpd.overlay(inner_extent,missing,how='difference')\n",
        "\n",
        "\n"
      ]
    },
    {
      "cell_type": "code",
      "execution_count": null,
      "id": "c9d38f39",
      "metadata": {
        "id": "c9d38f39"
      },
      "outputs": [],
      "source": [
        "# import glob \n",
        "# TIDE_options = [(x.split('/')[-1].split('_')[1].split('LAT')[-1], x.split('/')[-1].split('_')[2].split('LON')[-1]) for x in glob.glob(f'{folders[5]}/Tide*')]\n",
        "# #TIDE_options = [x.split('/')[-1] for x in glob.glob(f'{folders[5]}/Tide*')]\n",
        "# print('\\nTIDE (LAT,LON) options:')\n",
        "# print(*TIDE_options,sep='\\n')\n",
        "\n",
        "# TIDE_option = TIDE_options[0]\n",
        "# tide_name = [os.path.join(dirpath,f)\n",
        "#             for dirpath,dirnames, files in os.walk(folders[5])\n",
        "#             for f in fnmatch.filter(dirnames,'*%s*%s*' %(TIDE_option))][0]\n",
        "\n",
        "# print('You picked TIDE %s' %(tide_name.split('/')[-1])) #LAT%s LON%s' %(tide_name))\n",
        "\n",
        "\n"
      ]
    },
    {
      "cell_type": "code",
      "execution_count": null,
      "id": "6d4212cc",
      "metadata": {
        "id": "6d4212cc"
      },
      "outputs": [],
      "source": []
    },
    {
      "cell_type": "code",
      "execution_count": 45,
      "id": "8dceaed0",
      "metadata": {
        "id": "8dceaed0",
        "outputId": "f403cb22-7496-45ee-f837-693a55d3aa62",
        "colab": {
          "base_uri": "https://localhost:8080/",
          "height": 631
        }
      },
      "outputs": [
        {
          "output_type": "stream",
          "name": "stderr",
          "text": [
            "WARNING:matplotlib.legend:No handles with labels found to put in legend.\n"
          ]
        },
        {
          "output_type": "execute_result",
          "data": {
            "text/plain": [
              "<matplotlib.legend.Legend at 0x7f912970ec50>"
            ]
          },
          "metadata": {},
          "execution_count": 45
        },
        {
          "output_type": "display_data",
          "data": {
            "text/plain": [
              "<Figure size 720x720 with 1 Axes>"
            ],
            "image/png": "[encoded data removed]"
          },
          "metadata": {
            "needs_background": "light"
          }
        }
      ],
      "source": [
        "fix,ax = plt.subplots(figsize=(10,10))\n",
        "\n",
        "colors = ['r','k','b','c','o','g']\n",
        "for mesh in range(len(mesh_shapefiles[:-1])):\n",
        "    tmp = gpd.read_file('%s%s_points_%s_%s.shp' %(mesh_path,AOI,mesh_names[mesh],mesh_triangles[mesh]))\n",
        "    tmp.plot(ax=ax,color=colors[mesh],label=mesh_names[mesh])\n",
        "    \n",
        "ax.legend()"
      ]
    },
    {
      "cell_type": "markdown",
      "id": "89c12954",
      "metadata": {
        "id": "89c12954"
      },
      "source": [
        "<font size = 5 color='red'> We now use ANUGA utilities to biuld the model mesh (Triangle Software)"
      ]
    },
    {
      "cell_type": "code",
      "execution_count": 46,
      "id": "20d3eb54",
      "metadata": {
        "id": "20d3eb54"
      },
      "outputs": [],
      "source": [
        "geo_reference = Geo_reference(zone=EPSG,\n",
        "                                datum='wgs84',\n",
        "                                projection='UTM',\n",
        "                                false_easting=500000,\n",
        "                                false_northing=0)"
      ]
    },
    {
      "cell_type": "code",
      "execution_count": null,
      "id": "7959fec3",
      "metadata": {
        "id": "7959fec3"
      },
      "outputs": [],
      "source": [
        "   "
      ]
    },
    {
      "cell_type": "code",
      "execution_count": 64,
      "id": "5d3b0cec",
      "metadata": {
        "id": "5d3b0cec"
      },
      "outputs": [],
      "source": [
        "if os.path.isfile(\"%s%s_tidebnd.shp\" %(folders[0],AOI)) == True:\n",
        "    anuga.create_mesh_from_regions(\n",
        "        bounding_polygon,\n",
        "        boundary_tags={'Tide': tide_tag,\n",
        "                       'exterior': other_tag},\n",
        "        maximum_triangle_area = base_triangle,\n",
        "        filename =  mesh_path + mesh_file + '.tsh',\n",
        "        interior_regions = interior_regions,\n",
        "        use_cache = False,\n",
        "        verbose = False,\n",
        "        poly_geo_reference=geo_reference,\n",
        "        mesh_geo_reference=geo_reference,\n",
        "        )\n",
        "else:\n",
        "    anuga.create_mesh_from_regions(\n",
        "        bounding_polygon,\n",
        "        boundary_tags={'North': north[0],\n",
        "                       'East': east[0],\n",
        "                       'South': south[0],\n",
        "                       'West': west[0]},\n",
        "        maximum_triangle_area = base_triangle,\n",
        "        filename =  mesh_path + mesh_file + '.tsh',\n",
        "        #interior_regions = interior_regions,\n",
        "        use_cache = False,\n",
        "        verbose = False,\n",
        "        poly_geo_reference=geo_reference,\n",
        "        mesh_geo_reference=geo_reference,\n",
        "        )\n",
        "    \n"
      ]
    },
    {
      "cell_type": "code",
      "execution_count": 65,
      "id": "529bcdd5",
      "metadata": {
        "id": "529bcdd5",
        "colab": {
          "base_uri": "https://localhost:8080/",
          "height": 381
        },
        "outputId": "fb2642f8-721b-4fd3-f6a6-3308dd9d3b4d"
      },
      "outputs": [
        {
          "output_type": "error",
          "ename": "AttributeError",
          "evalue": "ignored",
          "traceback": [
            "\u001b[0;31m---------------------------------------------------------------------------\u001b[0m",
            "\u001b[0;31mAttributeError\u001b[0m                            Traceback (most recent call last)",
            "\u001b[0;32m<ipython-input-65-0f3b22017634>\u001b[0m in \u001b[0;36m<module>\u001b[0;34m\u001b[0m\n\u001b[1;32m      1\u001b[0m \u001b[0;32mimport\u001b[0m \u001b[0manuga\u001b[0m\u001b[0;34m\u001b[0m\u001b[0;34m\u001b[0m\u001b[0m\n\u001b[0;32m----> 2\u001b[0;31m \u001b[0mmesh_domain\u001b[0m \u001b[0;34m=\u001b[0m \u001b[0manuga\u001b[0m\u001b[0;34m.\u001b[0m\u001b[0mcreate_domain_from_file\u001b[0m\u001b[0;34m(\u001b[0m\u001b[0mmesh_path\u001b[0m \u001b[0;34m+\u001b[0m \u001b[0mmesh_file\u001b[0m\u001b[0;34m+\u001b[0m\u001b[0;34m'.tsh'\u001b[0m\u001b[0;34m)\u001b[0m\u001b[0;34m\u001b[0m\u001b[0;34m\u001b[0m\u001b[0m\n\u001b[0m",
            "\u001b[0;32m/usr/local/lib/python3.7/dist-packages/anuga/extras.py\u001b[0m in \u001b[0;36mcreate_domain_from_file\u001b[0;34m(filename, DomainClass)\u001b[0m\n\u001b[1;32m     44\u001b[0m     \u001b[0mCreate\u001b[0m \u001b[0ma\u001b[0m \u001b[0mdomain\u001b[0m \u001b[0;32mfrom\u001b[0m \u001b[0ma\u001b[0m \u001b[0mfile\u001b[0m\u001b[0;34m\u001b[0m\u001b[0;34m\u001b[0m\u001b[0m\n\u001b[1;32m     45\u001b[0m     \"\"\"\n\u001b[0;32m---> 46\u001b[0;31m     \u001b[0;32mreturn\u001b[0m \u001b[0mpmesh_to_domain_instance\u001b[0m\u001b[0;34m(\u001b[0m\u001b[0mfilename\u001b[0m\u001b[0;34m,\u001b[0m\u001b[0mDomainClass\u001b[0m\u001b[0;34m=\u001b[0m\u001b[0mDomainClass\u001b[0m\u001b[0;34m)\u001b[0m\u001b[0;34m\u001b[0m\u001b[0;34m\u001b[0m\u001b[0m\n\u001b[0m\u001b[1;32m     47\u001b[0m \u001b[0;34m\u001b[0m\u001b[0m\n\u001b[1;32m     48\u001b[0m \u001b[0;31m#---------------------------\u001b[0m\u001b[0;34m\u001b[0m\u001b[0;34m\u001b[0m\u001b[0;34m\u001b[0m\u001b[0m\n",
            "\u001b[0;32m/usr/local/lib/python3.7/dist-packages/anuga/abstract_2d_finite_volumes/pmesh2domain.py\u001b[0m in \u001b[0;36mpmesh_to_domain_instance\u001b[0;34m(source, DomainClass, use_cache, verbose)\u001b[0m\n\u001b[1;32m     35\u001b[0m                        dependencies=[source], verbose=verbose)\n\u001b[1;32m     36\u001b[0m     \u001b[0;32melse\u001b[0m\u001b[0;34m:\u001b[0m\u001b[0;34m\u001b[0m\u001b[0;34m\u001b[0m\u001b[0m\n\u001b[0;32m---> 37\u001b[0;31m         \u001b[0mresult\u001b[0m \u001b[0;34m=\u001b[0m \u001b[0m_pmesh_to_domain_instance\u001b[0m\u001b[0;34m(\u001b[0m\u001b[0;34m*\u001b[0m\u001b[0;34m(\u001b[0m\u001b[0msource\u001b[0m\u001b[0;34m,\u001b[0m \u001b[0mDomainClass\u001b[0m\u001b[0;34m)\u001b[0m\u001b[0;34m)\u001b[0m\u001b[0;34m\u001b[0m\u001b[0;34m\u001b[0m\u001b[0m\n\u001b[0m\u001b[1;32m     38\u001b[0m \u001b[0;34m\u001b[0m\u001b[0m\n\u001b[1;32m     39\u001b[0m     \u001b[0;32mreturn\u001b[0m \u001b[0mresult\u001b[0m\u001b[0;34m\u001b[0m\u001b[0;34m\u001b[0m\u001b[0m\n",
            "\u001b[0;32m/usr/local/lib/python3.7/dist-packages/anuga/abstract_2d_finite_volumes/pmesh2domain.py\u001b[0m in \u001b[0;36m_pmesh_to_domain_instance\u001b[0;34m(source, DomainClass)\u001b[0m\n\u001b[1;32m     66\u001b[0m                          \u001b[0mboundary\u001b[0m \u001b[0;34m=\u001b[0m \u001b[0mtag_dict\u001b[0m\u001b[0;34m,\u001b[0m\u001b[0;34m\u001b[0m\u001b[0;34m\u001b[0m\u001b[0m\n\u001b[1;32m     67\u001b[0m                          \u001b[0mtagged_elements\u001b[0m \u001b[0;34m=\u001b[0m \u001b[0mtagged_elements_dict\u001b[0m\u001b[0;34m,\u001b[0m\u001b[0;34m\u001b[0m\u001b[0;34m\u001b[0m\u001b[0m\n\u001b[0;32m---> 68\u001b[0;31m                          geo_reference = geo_reference )\n\u001b[0m\u001b[1;32m     69\u001b[0m \u001b[0;34m\u001b[0m\u001b[0m\n\u001b[1;32m     70\u001b[0m     \u001b[0;31m# FIXME (Ole): Is this really the right place to apply a default\u001b[0m\u001b[0;34m\u001b[0m\u001b[0;34m\u001b[0m\u001b[0;34m\u001b[0m\u001b[0m\n",
            "\u001b[0;32m/usr/local/lib/python3.7/dist-packages/anuga/shallow_water/shallow_water_domain.py\u001b[0m in \u001b[0;36m__init__\u001b[0;34m(self, coordinates, vertices, boundary, tagged_elements, geo_reference, use_inscribed_circle, mesh_filename, use_cache, verbose, conserved_quantities, evolved_quantities, other_quantities, full_send_dict, ghost_recv_dict, starttime, processor, numproc, number_of_full_nodes, number_of_full_triangles, ghost_layer_width, **kwargs)\u001b[0m\n\u001b[1;32m    308\u001b[0m         \u001b[0;31m# Presently only works with DE algorithms, will fail otherwise\u001b[0m\u001b[0;34m\u001b[0m\u001b[0;34m\u001b[0m\u001b[0;34m\u001b[0m\u001b[0m\n\u001b[1;32m    309\u001b[0m         \u001b[0;32mimport\u001b[0m \u001b[0manuga\u001b[0m\u001b[0;34m.\u001b[0m\u001b[0mstructures\u001b[0m\u001b[0;34m.\u001b[0m\u001b[0mriverwall\u001b[0m\u001b[0;34m\u001b[0m\u001b[0;34m\u001b[0m\u001b[0m\n\u001b[0;32m--> 310\u001b[0;31m         \u001b[0mself\u001b[0m\u001b[0;34m.\u001b[0m\u001b[0mriverwallData\u001b[0m\u001b[0;34m=\u001b[0m\u001b[0manuga\u001b[0m\u001b[0;34m.\u001b[0m\u001b[0mstructures\u001b[0m\u001b[0;34m.\u001b[0m\u001b[0mriverwall\u001b[0m\u001b[0;34m.\u001b[0m\u001b[0mRiverWall\u001b[0m\u001b[0;34m(\u001b[0m\u001b[0mself\u001b[0m\u001b[0;34m)\u001b[0m\u001b[0;34m\u001b[0m\u001b[0;34m\u001b[0m\u001b[0m\n\u001b[0m\u001b[1;32m    311\u001b[0m \u001b[0;34m\u001b[0m\u001b[0m\n\u001b[1;32m    312\u001b[0m         \u001b[0;31m## Keep track of the fluxes through the boundaries\u001b[0m\u001b[0;34m\u001b[0m\u001b[0;34m\u001b[0m\u001b[0;34m\u001b[0m\u001b[0m\n",
            "\u001b[0;31mAttributeError\u001b[0m: module 'anuga' has no attribute 'structures'"
          ]
        }
      ],
      "source": [
        "import anuga\n",
        "mesh_domain = anuga.create_domain_from_file(mesh_path + mesh_file+'.tsh')\n"
      ]
    },
    {
      "cell_type": "code",
      "execution_count": null,
      "id": "c165f74d",
      "metadata": {
        "id": "c165f74d"
      },
      "outputs": [],
      "source": []
    },
    {
      "cell_type": "markdown",
      "id": "063ca79a",
      "metadata": {
        "id": "063ca79a"
      },
      "source": [
        "<font size = 5 color = 'red'> Build run scripts for submitting to Gattaca or running locally </font>"
      ]
    },
    {
      "cell_type": "code",
      "execution_count": 63,
      "id": "b6079ab6",
      "metadata": {
        "id": "b6079ab6",
        "outputId": "e19dfd0a-f82b-4da0-ba11-8f635f444805",
        "colab": {
          "base_uri": "https://localhost:8080/",
          "height": 412
        }
      },
      "outputs": [
        {
          "output_type": "stream",
          "name": "stdout",
          "text": [
            "Figure files for each frame will be stored in /content/drive/MyDrive/examples/komo/Meshes/TEST/Meshes_base_10000m2//plot/\n"
          ]
        },
        {
          "output_type": "error",
          "ename": "AttributeError",
          "evalue": "ignored",
          "traceback": [
            "\u001b[0;31m---------------------------------------------------------------------------\u001b[0m",
            "\u001b[0;31mAttributeError\u001b[0m                            Traceback (most recent call last)",
            "\u001b[0;32m<ipython-input-63-7ce8e226b6e7>\u001b[0m in \u001b[0;36m<module>\u001b[0;34m\u001b[0m\n\u001b[1;32m     31\u001b[0m \u001b[0;34m\u001b[0m\u001b[0m\n\u001b[1;32m     32\u001b[0m \u001b[0mfig\u001b[0m \u001b[0;34m=\u001b[0m \u001b[0mplt\u001b[0m\u001b[0;34m.\u001b[0m\u001b[0mfigure\u001b[0m\u001b[0;34m(\u001b[0m\u001b[0mfigsize\u001b[0m\u001b[0;34m=\u001b[0m\u001b[0;34m(\u001b[0m\u001b[0;36m10\u001b[0m\u001b[0;34m,\u001b[0m\u001b[0;36m10\u001b[0m\u001b[0;34m)\u001b[0m\u001b[0;34m)\u001b[0m\u001b[0;34m\u001b[0m\u001b[0;34m\u001b[0m\u001b[0m\n\u001b[0;32m---> 33\u001b[0;31m \u001b[0mdplotter\u001b[0m \u001b[0;34m=\u001b[0m \u001b[0manimate\u001b[0m\u001b[0;34m.\u001b[0m\u001b[0mDomain_plotter\u001b[0m\u001b[0;34m(\u001b[0m\u001b[0mmesh_domain\u001b[0m\u001b[0;34m,\u001b[0m\u001b[0mplot_dir\u001b[0m \u001b[0;34m=\u001b[0m \u001b[0mmesh_path\u001b[0m \u001b[0;34m+\u001b[0m \u001b[0;34m'/plot/'\u001b[0m\u001b[0;34m)\u001b[0m\u001b[0;34m\u001b[0m\u001b[0;34m\u001b[0m\u001b[0m\n\u001b[0m\u001b[1;32m     34\u001b[0m \u001b[0mplt\u001b[0m\u001b[0;34m.\u001b[0m\u001b[0mtriplot\u001b[0m\u001b[0;34m(\u001b[0m\u001b[0mdplotter\u001b[0m\u001b[0;34m.\u001b[0m\u001b[0mtriang\u001b[0m\u001b[0;34m,\u001b[0m\u001b[0mlinewidth\u001b[0m\u001b[0;34m=\u001b[0m\u001b[0;36m0.1\u001b[0m\u001b[0;34m)\u001b[0m\u001b[0;34m\u001b[0m\u001b[0;34m\u001b[0m\u001b[0m\n\u001b[1;32m     35\u001b[0m \u001b[0mplt\u001b[0m\u001b[0;34m.\u001b[0m\u001b[0maxis\u001b[0m\u001b[0;34m(\u001b[0m\u001b[0;34m'scaled'\u001b[0m\u001b[0;34m)\u001b[0m\u001b[0;34m\u001b[0m\u001b[0;34m\u001b[0m\u001b[0m\n",
            "\u001b[0;32m/usr/local/lib/python3.7/dist-packages/anuga/utilities/animate.py\u001b[0m in \u001b[0;36m__init__\u001b[0;34m(self, domain, plot_dir, min_depth)\u001b[0m\n\u001b[1;32m     21\u001b[0m         \u001b[0mself\u001b[0m\u001b[0;34m.\u001b[0m\u001b[0mmin_depth\u001b[0m \u001b[0;34m=\u001b[0m \u001b[0mmin_depth\u001b[0m\u001b[0;34m\u001b[0m\u001b[0;34m\u001b[0m\u001b[0m\n\u001b[1;32m     22\u001b[0m \u001b[0;34m\u001b[0m\u001b[0m\n\u001b[0;32m---> 23\u001b[0;31m         \u001b[0mself\u001b[0m\u001b[0;34m.\u001b[0m\u001b[0mnodes\u001b[0m \u001b[0;34m=\u001b[0m \u001b[0mdomain\u001b[0m\u001b[0;34m.\u001b[0m\u001b[0mnodes\u001b[0m\u001b[0;34m\u001b[0m\u001b[0;34m\u001b[0m\u001b[0m\n\u001b[0m\u001b[1;32m     24\u001b[0m         \u001b[0mself\u001b[0m\u001b[0;34m.\u001b[0m\u001b[0mtriangles\u001b[0m \u001b[0;34m=\u001b[0m \u001b[0mdomain\u001b[0m\u001b[0;34m.\u001b[0m\u001b[0mtriangles\u001b[0m\u001b[0;34m\u001b[0m\u001b[0;34m\u001b[0m\u001b[0m\n\u001b[1;32m     25\u001b[0m         \u001b[0mself\u001b[0m\u001b[0;34m.\u001b[0m\u001b[0mx\u001b[0m \u001b[0;34m=\u001b[0m \u001b[0mdomain\u001b[0m\u001b[0;34m.\u001b[0m\u001b[0mnodes\u001b[0m\u001b[0;34m[\u001b[0m\u001b[0;34m:\u001b[0m\u001b[0;34m,\u001b[0m \u001b[0;36m0\u001b[0m\u001b[0;34m]\u001b[0m\u001b[0;34m\u001b[0m\u001b[0;34m\u001b[0m\u001b[0m\n",
            "\u001b[0;31mAttributeError\u001b[0m: 'Mesh' object has no attribute 'nodes'"
          ]
        },
        {
          "output_type": "display_data",
          "data": {
            "text/plain": [
              "<Figure size 720x720 with 0 Axes>"
            ]
          },
          "metadata": {}
        }
      ],
      "source": [
        "# filein = open(path_templates+ 'Run_Model_V0.py')\n",
        "# template = Template(filein.read())\n",
        "# replacements = {'config':'config_%s_%s.csv' %(AOI,datetime.now().strftime(\"%Y%m%d\")),\n",
        "#                 'SWOT_HYDROLOGY_TOOLBOX':'$SWOT_HYDROLOGY_TOOLBOX',\n",
        "#                 'modelpath': modelpath}\n",
        "# print('Mesh created is %s' %(meshname))\n",
        "\n",
        "# runanuga = template.substitute(replacements)\n",
        "# file = open('%s/%s_Run_Model_V0.py' %(modelpath,AOI),'w')\n",
        "# file.write(runanuga)\n",
        "# file.close()\n",
        "\n",
        "# parameters.loc[0,'MeshName'] = mesh_string\n",
        "# parameters.to_csv(modelpath + '/config_%s_%s.csv' %(AOI,datetime.now().strftime(\"%Y%m%d\")))\n",
        "\n",
        "# filein = open(path_template + 'submit_anuga.sh')\n",
        "# template = Template(filein.read())\n",
        "# replacements = {\n",
        "#                 'delta':AOI,\n",
        "#                 'localpath':hpc_path,\n",
        "#                 'modelpath': modelpath,\n",
        "#                 'memgb': '50gb',\n",
        "#                 'cores': 48,\n",
        "#                 'run_script':'%s_Run_Model_V0.py' %(delta)}\n",
        "# print('Job submit file created is submit_job.sh')\n",
        "\n",
        "# runanuga = template.substitute(replacements)\n",
        "# file = open('%s/submit_anuga.sh' %(modelpath),'w')\n",
        "# file.write(runanuga)\n",
        "# file.close()\n",
        "\n",
        "fig = plt.figure(figsize=(10,10))\n",
        "dplotter = animate.Domain_plotter(mesh_domain,plot_dir = mesh_path + '/plot/')\n",
        "plt.triplot(dplotter.triang,linewidth=0.1)\n",
        "plt.axis('scaled')\n",
        "plt.tight_layout()\n",
        "plt.savefig('%s/plot/mesh%s.png' %(mesh_path,myid))\n"
      ]
    },
    {
      "cell_type": "markdown",
      "id": "5065e4a8",
      "metadata": {
        "id": "5065e4a8"
      },
      "source": [
        "<font size= 5 color = 'red'> Initiate Timer"
      ]
    },
    {
      "cell_type": "code",
      "execution_count": 54,
      "id": "63f6cb31",
      "metadata": {
        "id": "63f6cb31",
        "outputId": "f3414f88-d316-4c62-e36c-b944eacfe012",
        "colab": {
          "base_uri": "https://localhost:8080/",
          "height": 184
        }
      },
      "outputs": [
        {
          "output_type": "error",
          "ename": "NameError",
          "evalue": "ignored",
          "traceback": [
            "\u001b[0;31m---------------------------------------------------------------------------\u001b[0m",
            "\u001b[0;31mNameError\u001b[0m                                 Traceback (most recent call last)",
            "\u001b[0;32m<ipython-input-54-a9952bf56c78>\u001b[0m in \u001b[0;36m<module>\u001b[0;34m\u001b[0m\n\u001b[0;32m----> 1\u001b[0;31m \u001b[0mparameters\u001b[0m\u001b[0;34m.\u001b[0m\u001b[0mloc\u001b[0m\u001b[0;34m[\u001b[0m\u001b[0;36m0\u001b[0m\u001b[0;34m,\u001b[0m\u001b[0;34m'MeshName'\u001b[0m\u001b[0;34m]\u001b[0m \u001b[0;34m=\u001b[0m \u001b[0mmesh_string\u001b[0m\u001b[0;34m\u001b[0m\u001b[0;34m\u001b[0m\u001b[0m\n\u001b[0m\u001b[1;32m      2\u001b[0m \u001b[0mparameters\u001b[0m\u001b[0;34m.\u001b[0m\u001b[0mto_csv\u001b[0m\u001b[0;34m(\u001b[0m\u001b[0mlocal_path\u001b[0m \u001b[0;34m+\u001b[0m \u001b[0mmodelpath\u001b[0m \u001b[0;34m+\u001b[0m \u001b[0;34m'/config_%s_%s.csv'\u001b[0m \u001b[0;34m%\u001b[0m\u001b[0;34m(\u001b[0m\u001b[0mdelta\u001b[0m\u001b[0;34m,\u001b[0m\u001b[0mdatetime\u001b[0m\u001b[0;34m.\u001b[0m\u001b[0mnow\u001b[0m\u001b[0;34m(\u001b[0m\u001b[0;34m)\u001b[0m\u001b[0;34m.\u001b[0m\u001b[0mstrftime\u001b[0m\u001b[0;34m(\u001b[0m\u001b[0;34m\"%Y%m%d\"\u001b[0m\u001b[0;34m)\u001b[0m\u001b[0;34m)\u001b[0m\u001b[0;34m)\u001b[0m\u001b[0;34m\u001b[0m\u001b[0;34m\u001b[0m\u001b[0m\n",
            "\u001b[0;31mNameError\u001b[0m: name 'mesh_string' is not defined"
          ]
        }
      ],
      "source": [
        "\n",
        "parameters.loc[0,'MeshName'] = mesh_string\n",
        "parameters.to_csv(local_path + modelpath + '/config_%s_%s.csv' %(delta,datetime.now().strftime(\"%Y%m%d\")))\n"
      ]
    },
    {
      "cell_type": "code",
      "execution_count": null,
      "id": "14d11d40",
      "metadata": {
        "id": "14d11d40"
      },
      "outputs": [],
      "source": []
    },
    {
      "cell_type": "code",
      "execution_count": null,
      "id": "76e48265",
      "metadata": {
        "id": "76e48265"
      },
      "outputs": [],
      "source": []
    },
    {
      "cell_type": "code",
      "execution_count": null,
      "id": "caa10c96",
      "metadata": {
        "id": "caa10c96"
      },
      "outputs": [],
      "source": []
    },
    {
      "cell_type": "code",
      "execution_count": null,
      "id": "31ab5d4e",
      "metadata": {
        "id": "31ab5d4e"
      },
      "outputs": [],
      "source": []
    },
    {
      "cell_type": "code",
      "execution_count": null,
      "id": "56605553",
      "metadata": {
        "id": "56605553"
      },
      "outputs": [],
      "source": []
    },
    {
      "cell_type": "code",
      "execution_count": null,
      "id": "56103abf",
      "metadata": {
        "id": "56103abf"
      },
      "outputs": [],
      "source": []
    },
    {
      "cell_type": "code",
      "execution_count": null,
      "id": "80452b59",
      "metadata": {
        "id": "80452b59"
      },
      "outputs": [],
      "source": []
    },
    {
      "cell_type": "code",
      "execution_count": null,
      "id": "66c408ff",
      "metadata": {
        "id": "66c408ff"
      },
      "outputs": [],
      "source": []
    }
  ],
  "metadata": {
    "kernelspec": {
      "display_name": "Python 3 (ipykernel)",
      "language": "python",
      "name": "python3"
    },
    "language_info": {
      "codemirror_mode": {
        "name": "ipython",
        "version": 3
      },
      "file_extension": ".py",
      "mimetype": "text/x-python",
      "name": "python",
      "nbconvert_exporter": "python",
      "pygments_lexer": "ipython3",
      "version": "3.9.13"
    },
    "colab": {
      "provenance": []
    }
  },
  "nbformat": 4,
  "nbformat_minor": 5
}