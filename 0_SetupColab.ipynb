{
  "cells": [
    {
      "cell_type": "markdown",
      "metadata": {
        "id": "view-in-github",
        "colab_type": "text"
      },
      "source": [
        "<a href=\"https://colab.research.google.com/github/achri19/komo_estuary_tutorial/blob/main/0_SetupColab.ipynb\" target=\"_parent\"><img src=\"https://colab.research.google.com/assets/colab-badge.svg\" alt=\"Open In Colab\"/></a>"
      ]
    },
    {
      "cell_type": "markdown",
      "id": "eaeb330a",
      "metadata": {
        "id": "eaeb330a"
      },
      "source": [
        "<font size=\"5\">Build Your Own ANUGA Model (BYOAM) </font>\n",
        "\n",
        "<font size=\"3\">In this notebook, we will:\n",
        "\n",
        "- Setup Google Colab\n",
        "\n",
        "- Install packages\n",
        "\n",
        "\n",
        "- Mount Google Drive </font>\n",
        "\n",
        "\n",
        "<font size=\"3\">This will require a Google account and you will need to grant access to your Google Drive, where we will store files.</font>\n",
        "\n"
      ]
    },
    {
      "cell_type": "markdown",
      "id": "cdcd9100",
      "metadata": {
        "id": "cdcd9100"
      },
      "source": [
        "<font size=5> Step #1: Install packages. <font> <br>\n",
        "<font size=3> If the cell runs successfully, this only needs to be done 1 time. <font>"
      ]
    },
    {
      "cell_type": "code",
      "source": [
        "! pip install geopandas\n",
        "! pip install rasterio\n",
        "! pip install geemap\n",
        "! pip install gdal"
      ],
      "metadata": {
        "id": "NH8uFmKNwPO1"
      },
      "id": "NH8uFmKNwPO1",
      "execution_count": null,
      "outputs": []
    },
    {
      "cell_type": "markdown",
      "source": [
        "<font size=3> If there are no errors, the cell was successful. Please go to the cell and add # before each line. This will prevent the cell from running again. <font> <br>\n",
        "<font size=3> Then go to the menu at the top, click \"RUNTIME\" and click \"RESTART RUNTIME\". This will restart the notebook, which is required for the installed packages to be correctly imported </font>"
      ],
      "metadata": {
        "id": "xgcaa4-U0-k9"
      },
      "id": "xgcaa4-U0-k9"
    },
    {
      "cell_type": "markdown",
      "source": [
        "<font size=5> Step #2: Test importing packages. <font> <br>\n",
        "\n"
      ],
      "metadata": {
        "id": "gexzBn391szq"
      },
      "id": "gexzBn391szq"
    },
    {
      "cell_type": "markdown",
      "source": [
        "<font size=3> Let's test some standard Python packages <font>"
      ],
      "metadata": {
        "id": "sFRoQrfG19ij"
      },
      "id": "sFRoQrfG19ij"
    },
    {
      "cell_type": "code",
      "source": [
        "## Import necessary packages\n",
        "\n",
        "import sys\n",
        "import os\n",
        "\n",
        "import fnmatch\n",
        "import geopandas as gpd\n",
        "import rasterio\n",
        "from pathlib import Path\n",
        "import matplotlib.pyplot as plt\n",
        "\n",
        "## Google Earth Packages\n",
        "import ee\n",
        "from ee import batch\n",
        "import geemap\n"
      ],
      "metadata": {
        "id": "rC6enn8JwH35"
      },
      "id": "rC6enn8JwH35",
      "execution_count": null,
      "outputs": []
    },
    {
      "cell_type": "markdown",
      "source": [
        "<font size=5> Step #3: Mount Google Drive and Grant Access <font> <br>\n",
        "\n",
        "\n"
      ],
      "metadata": {
        "id": "rhp4yA4h2Njc"
      },
      "id": "rhp4yA4h2Njc"
    },
    {
      "cell_type": "markdown",
      "source": [
        "<font size=3> When you run the next cell, a pop-up window will appear asking you to grant access to your Google Drive. You must approve or the notebook will not work. <font> <br>\n"
      ],
      "metadata": {
        "id": "JkG2pXof2YoC"
      },
      "id": "JkG2pXof2YoC"
    },
    {
      "cell_type": "code",
      "source": [
        "from google.colab import drive\n",
        "drive.mount('/content/drive')"
      ],
      "metadata": {
        "colab": {
          "base_uri": "https://localhost:8080/"
        },
        "id": "mjtg7ylptgcx",
        "outputId": "cd50d731-ce06-4527-a0ad-9d1598a31be5"
      },
      "id": "mjtg7ylptgcx",
      "execution_count": null,
      "outputs": [
        {
          "output_type": "stream",
          "name": "stdout",
          "text": [
            "Drive already mounted at /content/drive; to attempt to forcibly remount, call drive.mount(\"/content/drive\", force_remount=True).\n"
          ]
        }
      ]
    },
    {
      "cell_type": "markdown",
      "source": [
        "There is a folder of necessary files located here: \n",
        "https://drive.google.com/drive/folders/1Q0UglZJhOsK2_v7pOuX_FIN60d-gYnM7?usp=sharing\n",
        "\n",
        "Click on this link and add a SHORTCUT TO DRIVE. This will link this folder to your personal Google Drive and make it accessible to this notebook."
      ],
      "metadata": {
        "id": "sUKWupvl2l-o"
      },
      "id": "sUKWupvl2l-o"
    },
    {
      "cell_type": "markdown",
      "source": [
        "<font size=3> Set the directory of that shared folder <font>\n",
        "\n"
      ],
      "metadata": {
        "id": "QgL2wZHj16ze"
      },
      "id": "QgL2wZHj16ze"
    },
    {
      "cell_type": "code",
      "source": [
        "path = os.getcwd() + '/'\n",
        "path_code = '/content/drive/MyDrive/processing/code/'\n",
        "path_templates = '/content/drive/MyDrive/processing/templates/'\n",
        "path_examples = '/content/drive/MyDrive/examples/'\n",
        "try:\n",
        "  os.mkdir(path_examples)\n",
        "except:''\n"
      ],
      "metadata": {
        "id": "a_OcHDH0vMiM"
      },
      "id": "a_OcHDH0vMiM",
      "execution_count": null,
      "outputs": []
    },
    {
      "cell_type": "markdown",
      "source": [
        "<font size=5> Step #4: Now we must install more Python packages, which are required for my Python/ANUGA scripts <font> \n",
        "\n",
        "\n"
      ],
      "metadata": {
        "id": "3mnrUfhr3NWW"
      },
      "id": "3mnrUfhr3NWW"
    },
    {
      "cell_type": "code",
      "source": [
        "! pip install rasterstats\n",
        "! pip install git+https://github.com/simard-landscape-lab/orinoco.git\n",
        "! pip install scikit-fmm\n",
        "! pip install pytmd"
      ],
      "metadata": {
        "id": "tpcSEDB-tZOj"
      },
      "id": "tpcSEDB-tZOj",
      "execution_count": null,
      "outputs": []
    },
    {
      "cell_type": "markdown",
      "source": [
        "<font size=3> If there are no errors, the cell was successful. Please go to the cell and add # before each line. This will prevent the cell from running again. <font> <br>\n",
        "\n",
        "<font size=3> If this was successfull, the next cell should run. There will be some warnings, but only errors are a problem. </font>"
      ],
      "metadata": {
        "id": "R2AK_rFL3Y8w"
      },
      "id": "R2AK_rFL3Y8w"
    },
    {
      "cell_type": "code",
      "execution_count": null,
      "id": "de1d80a4",
      "metadata": {
        "id": "de1d80a4",
        "colab": {
          "base_uri": "https://localhost:8080/"
        },
        "outputId": "c8b0151d-e67e-40e6-e591-1b5a59f058eb"
      },
      "outputs": [
        {
          "output_type": "stream",
          "name": "stderr",
          "text": [
            "/content/drive/MyDrive/processing/code/raster_bridges.py:39: UserWarning: ShapelyDeprecationWarning\n",
            "  warnings.warn('ShapelyDeprecationWarning')\n",
            "/content/drive/MyDrive/processing/code/raster_bridges.py:40: UserWarning: UserWarning\n",
            "  warnings.warn('UserWarning')\n"
          ]
        }
      ],
      "source": [
        "sys.path.insert(1,path_code)\n",
        "\n",
        "from BYOM_Utilities_V1 import (build_directory,\n",
        "                               get_extent_parameters,\n",
        "                               make_polygons,\n",
        "                               make_channel_networks,\n",
        "                               make_watermask,\n",
        "                               more_opening)"
      ]
    },
    {
      "cell_type": "markdown",
      "source": [
        "<font size=5> Step #5: The last step is to check your Google Earth Engine account. <font> <br>\n",
        "\n",
        "\n",
        "<font size=3> You must sign up for a  Google Earth Engine account if you want to use the first notebook. We use GEE to produce water masks of the study area. However, the water masks will be provided, so the GEE notebook is optional. If you'd like to get a Google Earth Engine account (free), follow the instructions here:\n",
        "\n",
        "https://signup.earthengine.google.com/#!/ </font>\n",
        "<br>\n",
        "<font size=3> Then run the next cell and follow the instructions </font>\n",
        "---\n",
        "\n",
        "\n"
      ],
      "metadata": {
        "id": "EEZcV9vv377Z"
      },
      "id": "EEZcV9vv377Z"
    },
    {
      "cell_type": "code",
      "execution_count": 8,
      "id": "64756a38",
      "metadata": {
        "id": "64756a38"
      },
      "outputs": [],
      "source": [
        "# Create a map for defining area of interest\n",
        "Map = geemap.Map()\n",
        "Map"
      ]
    },
    {
      "cell_type": "markdown",
      "source": [
        "<font size=5> The next 5 notebooks will walk you through the process of building, running, and analyzing an ANUGA model for the Komo River Estuary </font>"
      ],
      "metadata": {
        "id": "-DPhvHSj4172"
      },
      "id": "-DPhvHSj4172"
    },
    {
      "cell_type": "code",
      "source": [],
      "metadata": {
        "id": "sYsL6c2s5A5B"
      },
      "id": "sYsL6c2s5A5B",
      "execution_count": null,
      "outputs": []
    }
  ],
  "metadata": {
    "kernelspec": {
      "display_name": "Python 3 (ipykernel)",
      "language": "python",
      "name": "python3"
    },
    "language_info": {
      "codemirror_mode": {
        "name": "ipython",
        "version": 3
      },
      "file_extension": ".py",
      "mimetype": "text/x-python",
      "name": "python",
      "nbconvert_exporter": "python",
      "pygments_lexer": "ipython3",
      "version": "3.9.13"
    },
    "colab": {
      "provenance": [],
      "include_colab_link": true
    }
  },
  "nbformat": 4,
  "nbformat_minor": 5
}