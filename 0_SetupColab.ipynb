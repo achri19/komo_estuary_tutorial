{
  "cells": [
    {
      "cell_type": "markdown",
      "metadata": {
        "id": "view-in-github",
        "colab_type": "text"
      },
      "source": [
        "<a href=\"https://colab.research.google.com/github/achri19/komo_estuary_tutorial/blob/main/0_SetupColab.ipynb\" target=\"_parent\"><img src=\"https://colab.research.google.com/assets/colab-badge.svg\" alt=\"Open In Colab\"/></a>"
      ]
    },
    {
      "cell_type": "markdown",
      "id": "eaeb330a",
      "metadata": {
        "id": "eaeb330a"
      },
      "source": [
        "<font size=\"5\">Build Your Own ANUGA Model (BYOAM) </font>\n",
        "\n",
        "<font size=\"3\">In this notebook, we will:\n",
        "\n",
        "- Setup Google Colab\n",
        "\n",
        "- Install packages\n",
        "\n",
        "\n",
        "- Mount Google Drive </font>\n",
        "\n",
        "\n",
        "<font size=\"3\">This will require a Google account and you will need to grant access to your Google Drive, where we will store files.</font>\n",
        "\n"
      ]
    },
    {
      "cell_type": "markdown",
      "source": [
        "<font size=5> Step #1: Mount Google Drive and Grant Access <font> <br>\n",
        "\n",
        "\n"
      ],
      "metadata": {
        "id": "rhp4yA4h2Njc"
      },
      "id": "rhp4yA4h2Njc"
    },
    {
      "cell_type": "markdown",
      "source": [
        "<font size=3> When you run the next cell, a pop-up window will appear asking you to grant access to your Google Drive. You must approve or the notebook will not work. <font> <br>\n"
      ],
      "metadata": {
        "id": "JkG2pXof2YoC"
      },
      "id": "JkG2pXof2YoC"
    },
    {
      "cell_type": "code",
      "source": [
        "import sys\n",
        "import os\n",
        "path = os.getcwd() + '/'\n",
        "where_to_mount = '/content/drive/'\n",
        "\n",
        "from google.colab import drive\n",
        "drive.mount(where_to_mount, force_remount=True)\n",
        "\n",
        "mounted_drive = where_to_mount + 'MyDrive/'"
      ],
      "metadata": {
        "colab": {
          "base_uri": "https://localhost:8080/"
        },
        "id": "mjtg7ylptgcx",
        "outputId": "f53ab056-76b2-4153-b303-da5b95784ea9"
      },
      "id": "mjtg7ylptgcx",
      "execution_count": 1,
      "outputs": [
        {
          "output_type": "stream",
          "name": "stdout",
          "text": [
            "Mounted at /content/drive/\n"
          ]
        }
      ]
    },
    {
      "cell_type": "markdown",
      "source": [
        "There is a folder of necessary files located here: \n",
        "https://drive.google.com/drive/folders/1Q0UglZJhOsK2_v7pOuX_FIN60d-gYnM7?usp=sharing\n",
        "\n",
        "Click on this link and add a SHORTCUT TO DRIVE. This will link this folder to your personal Google Drive and make it accessible to this notebook.\n",
        "\n",
        "\n",
        "<img src='https://raw.githubusercontent.com/achri19/komo_estuary_tutorial/main/Img/Picture3.png' width=300px>\n",
        "\n",
        "<img src='https://raw.githubusercontent.com/achri19/komo_estuary_tutorial/main/Img/Picture4.png' width=300px>\n",
        "\n",
        "\n",
        "\n"
      ],
      "metadata": {
        "id": "sUKWupvl2l-o"
      },
      "id": "sUKWupvl2l-o"
    },
    {
      "cell_type": "markdown",
      "id": "cdcd9100",
      "metadata": {
        "id": "cdcd9100"
      },
      "source": [
        "<font size=5> Step #2: Install packages. <font> <br>\n",
        "<font size=3> This cell should install all Python packages you need for each tutorial.<font>"
      ]
    },
    {
      "cell_type": "code",
      "source": [
        "import os\n",
        "os.chdir(mounted_drive)\n",
        "if os.path.isdir(mounted_drive + 'komo_estuary_tutorial'):\n",
        "  print('## Updating the local git repository \\n')\n",
        "  os.chdir(mounted_drive + '/komo_estuary_tutorial')\n",
        "  ! git pull \n",
        "else:\n",
        "  print('## Pulling the git repository with files for the tutorial\\n')\n",
        "  ! git clone https://github.com/achri19/komo_estuary_tutorial.git\n",
        "\n",
        "print('\\n## Installing the Python packages needed for these tutorials\\n')\n",
        "!/bin/bash $mounted_drive/komo_estuary_tutorial/install_packages.sh\n"
      ],
      "metadata": {
        "id": "NH8uFmKNwPO1",
        "outputId": "046a31b9-599c-491d-83a0-39e1f53a61c3",
        "colab": {
          "base_uri": "https://localhost:8080/"
        }
      },
      "id": "NH8uFmKNwPO1",
      "execution_count": 2,
      "outputs": [
        {
          "output_type": "stream",
          "name": "stdout",
          "text": [
            "## Pulling the git repository with files for the tutorial\n",
            "\n",
            "Cloning into 'komo_estuary_tutorial'...\n",
            "remote: Enumerating objects: 637, done.\u001b[K\n",
            "remote: Counting objects: 100% (345/345), done.\u001b[K\n",
            "remote: Compressing objects: 100% (214/214), done.\u001b[K\n",
            "remote: Total 637 (delta 194), reused 236 (delta 131), pack-reused 292\u001b[K\n",
            "Receiving objects: 100% (637/637), 122.49 MiB | 17.17 MiB/s, done.\n",
            "Resolving deltas: 100% (335/335), done.\n",
            "\n",
            "## Installing the Python packages needed for these tutorials\n",
            "\n",
            "(1) Install pip packages to /content/drive/MyDrive/installations\n",
            "nose mpi4py triangle Pmw pymetis cmocean geopandas fiona pygeos rasterio rasterstats scikit-fmm rtree pyTMD Orinoco\n",
            "(2) Install gdal\n",
            "(3) Install netcdf4\n",
            "(4) Download anuga_core github repository\n",
            "https://github.com/GeoscienceAustralia/anuga_core\n",
            "(5) Install anuga\n",
            "(7) Completed\n"
          ]
        }
      ]
    },
    {
      "cell_type": "markdown",
      "source": [
        "<font size=5> Step #3: Set up working directories<font> \n"
      ],
      "metadata": {
        "id": "tqD-wrOGvE2I"
      },
      "id": "tqD-wrOGvE2I"
    },
    {
      "cell_type": "markdown",
      "source": [
        "<font size=3> We will access data files stored on a shared Google Drive. You will also need to save files to your own Google Drive.<font>\n",
        "\n"
      ],
      "metadata": {
        "id": "QgL2wZHj16ze"
      },
      "id": "QgL2wZHj16ze"
    },
    {
      "cell_type": "code",
      "source": [
        "path = mounted_drive + 'processing/'\n",
        "path_code = path + 'code/'\n",
        "path_templates = path +  'templates/'\n",
        "path_configs = path + 'configs/'\n",
        "path_ancillary = path + 'ancillary/'\n",
        "sys.path.insert(1,path_code)\n"
      ],
      "metadata": {
        "id": "a_OcHDH0vMiM",
        "outputId": "fe5b2b5c-69d6-4438-9efe-52065919b0b2",
        "colab": {
          "base_uri": "https://localhost:8080/"
        }
      },
      "id": "a_OcHDH0vMiM",
      "execution_count": 12,
      "outputs": [
        {
          "output_type": "stream",
          "name": "stdout",
          "text": [
            "/content/drive/MyDrive/processing/code/\n"
          ]
        }
      ]
    },
    {
      "cell_type": "markdown",
      "source": [
        "<font size=5> Step #4: Now we will import Python packages, which will be used for future tutorials. If there are any errors, try rerunning the first cell <font> \n",
        "\n",
        "\n"
      ],
      "metadata": {
        "id": "3mnrUfhr3NWW"
      },
      "id": "3mnrUfhr3NWW"
    },
    {
      "cell_type": "code",
      "source": [
        "# Standard packages\n",
        "import time\n",
        "import fnmatch\n",
        "import numpy as np\n",
        "import scipy\n",
        "import scipy.interpolate\n",
        "import pandas as pd\n",
        "from datetime import datetime\n",
        "from string import Template\n",
        "import geopandas as gpd\n",
        "from shapely.geometry import Polygon, Point\n",
        "import rasterio\n",
        "from pathlib import Path\n",
        "from shapely.geometry import LineString\n",
        "\n",
        "## ANUGA packages\n",
        "import anuga\n",
        "from anuga.utilities.plot_utils import Make_Geotif\n",
        "from anuga.coordinate_transforms.geo_reference import Geo_reference\n",
        "from anuga.utilities import animate\n",
        "from anuga import myid, numprocs, finalize, barrier\n",
        "from anuga.parallel.parallel_inlet_operator import Parallel_Inlet_operator\n",
        "\n",
        "## Plotting modules\n",
        "import matplotlib.pyplot as plt\n",
        "import matplotlib as mpl\n",
        "mpl.rcParams['agg.path.chunksize'] = 10000\n",
        "\n",
        "#mpl.rcParams['animation.ffmpeg_path'] = r'/Users/alchrist/Downloads/ffmpeg'\n",
        "## If you get an error with producing animation plots, uncomment the line above and add directory for ffmpeg (r'/PATH/TO/ffmpeg')\n",
        "import matplotlib.animation as animation\n",
        "writer = animation.FFMpegWriter(fps=60)\n",
        "\n",
        "## Google Earth Packages\n",
        "import ee\n",
        "from ee import batch\n",
        "import geemap\n"
      ],
      "metadata": {
        "id": "N5DjZnT_sG0g"
      },
      "id": "N5DjZnT_sG0g",
      "execution_count": 4,
      "outputs": []
    },
    {
      "cell_type": "code",
      "execution_count": 5,
      "id": "de1d80a4",
      "metadata": {
        "id": "de1d80a4",
        "colab": {
          "base_uri": "https://localhost:8080/"
        },
        "outputId": "a347fa48-3ec0-4bc0-c426-81a7c14c0f80"
      },
      "outputs": [
        {
          "output_type": "stream",
          "name": "stderr",
          "text": [
            "/content/drive/MyDrive/processing/code/use_orinoco.py:39: UserWarning: ShapelyDeprecationWarning\n",
            "  warnings.warn('ShapelyDeprecationWarning')\n",
            "/content/drive/MyDrive/processing/code/use_orinoco.py:40: UserWarning: UserWarning\n",
            "  warnings.warn('UserWarning')\n"
          ]
        }
      ],
      "source": [
        "from BYOM_Utilities_V1 import (build_directory)"
      ]
    },
    {
      "cell_type": "markdown",
      "source": [
        "<font size=5> Step #5: The last step is to check your Google Earth Engine account. <font> <br>\n",
        "\n",
        "\n",
        "<font size=3> You must sign up for a  Google Earth Engine account if you want to use the first notebook. We use GEE to produce water masks of the study area. However, the water masks will be provided, so the GEE notebook is optional. If you'd like to get a Google Earth Engine account (free), follow the instructions here:\n",
        "\n",
        "https://signup.earthengine.google.com/#!/ </font>\n",
        "<br>\n",
        "<font size=3> Then run the next cell and follow the instructions. You'll need to create a GEE project and allow access to Earth Engine Notebook Client. This will generate a verification code, that you need to copy and paste when askeded below. </font>\n",
        "\n",
        "\n",
        "<img src='https://raw.githubusercontent.com/achri19/komo_estuary_tutorial/main/Img/Picture1.png' width=300px>\n",
        "\n",
        "<img src='https://raw.githubusercontent.com/achri19/komo_estuary_tutorial/main/Img/Picture2.png' width=300px>\n",
        "\n",
        "\n",
        "\n"
      ],
      "metadata": {
        "id": "EEZcV9vv377Z"
      },
      "id": "EEZcV9vv377Z"
    },
    {
      "cell_type": "markdown",
      "source": [
        "A pop-up window or new browser tab will open after you run the next cell. Make sure to allow access.\n",
        "\n",
        "![](https://raw.githubusercontent.com/achri19/komo_estuary_tutorial/main/Picture1.png)\n",
        "\n",
        "![](https://raw.githubusercontent.com/achri19/komo_estuary_tutorial/main/Picture2.png)"
      ],
      "metadata": {
        "id": "SGs7Ijg3tHyX"
      },
      "id": "SGs7Ijg3tHyX"
    },
    {
      "cell_type": "code",
      "source": [
        "# Trigger the authentication flow.\n",
        "ee.Authenticate()\n",
        "\n",
        "# Initialize the library.\n",
        "ee.Initialize()"
      ],
      "metadata": {
        "id": "sYsL6c2s5A5B",
        "outputId": "d898aa77-261a-4e0d-c92e-760239bfc882",
        "colab": {
          "base_uri": "https://localhost:8080/"
        }
      },
      "id": "sYsL6c2s5A5B",
      "execution_count": 6,
      "outputs": [
        {
          "output_type": "stream",
          "name": "stdout",
          "text": [
            "To authorize access needed by Earth Engine, open the following URL in a web browser and follow the instructions. If the web browser does not start automatically, please manually browse the URL below.\n",
            "\n",
            "    https://code.earthengine.google.com/client-auth?scopes=https%3A//www.googleapis.com/auth/earthengine%20https%3A//www.googleapis.com/auth/devstorage.full_control&request_id=Tz0ad2gi_vIDSujp03Oqr9iWA9DS9Iv7JEvg_eaCj1c&tc=X4fAGo_A4w5fV58McOO3GObbfTFz7c2eINFFHol4RaM&cc=aEqDVd87zij_fC7pPP_UF2Cs_LlCrQChKwxHPVP2BsM\n",
            "\n",
            "The authorization workflow will generate a code, which you should paste in the box below.\n",
            "Enter verification code: 4/1AfgeXvuL1e7opXj7k46s5B3srPaI7QIocwPF5y5vBNsADo0eJ3HkdGf7rbo\n",
            "\n",
            "Successfully saved authorization token.\n"
          ]
        }
      ]
    },
    {
      "cell_type": "code",
      "execution_count": 7,
      "id": "64756a38",
      "metadata": {
        "id": "64756a38",
        "outputId": "7c080bb6-f143-4b04-9138-a8ecaa99384d",
        "colab": {
          "base_uri": "https://localhost:8080/",
          "height": 621,
          "referenced_widgets": [
            "cbba455838f5479a88c2994727ff85c9",
            "d3211476a1ef42bb873837aaa609aafa",
            "4637d5a16cd84f0f98340350e3b9323a",
            "fda49ffcd1744a5296ca93106142a8a2",
            "eae68333925b484994efb4c73c89a9df",
            "decb8c7b6e874536b80a37019263886f",
            "bde56f7827534bd78f71bd118664a973",
            "4b2ee34ff3c247b6ad69b480c1a631bc",
            "ed5f372d73954c24a85ba08fd7960421",
            "9692519a26ca4466ba5b9bd139ddeb74",
            "a38e32dabf974916b8bc97ab16d5d081",
            "b28df6878b5d491ca4fa3ef386290120",
            "75029eaff1664c2fafc2f2bf660f1960",
            "f98490317ed149fd8d4a8839532bd470",
            "5639e3b2fd784377aa3a231ef9666b81",
            "0e026968bca3433f84a67ec54b88cb94",
            "efe56dfa4d4c4a37b42590c06e357cbe",
            "4da78ba42d494f64a12f7a7ca151a280",
            "262430e432584978afd06527bdbd11e5",
            "9ffa5b52c0b34a748c93f3881093477f",
            "3feab9f041824eac8f20825d5757bd67",
            "8d354c9c6f88461b9f098fef329cd941",
            "14b3f5f5af4f46ae82cca7710e100d5c",
            "960ca032906e4bae899ac137ef6a7cda",
            "b08a8710fbf844fb9d615c126bd71e4e"
          ]
        }
      },
      "outputs": [
        {
          "output_type": "display_data",
          "data": {
            "text/plain": [
              "Map(center=[20, 0], controls=(WidgetControl(options=['position', 'transparent_bg'], widget=HBox(children=(Togg…"
            ],
            "application/vnd.jupyter.widget-view+json": {
              "version_major": 2,
              "version_minor": 0,
              "model_id": "cbba455838f5479a88c2994727ff85c9"
            }
          },
          "metadata": {
            "application/vnd.jupyter.widget-view+json": {
              "colab": {
                "custom_widget_manager": {
                  "url": "https://ssl.gstatic.com/colaboratory-static/widgets/colab-cdn-widget-manager/d2e234f7cc04bf79/manager.min.js"
                }
              }
            }
          }
        }
      ],
      "source": [
        "# Create a map for defining area of interest\n",
        "Map = geemap.Map()\n",
        "Map"
      ]
    },
    {
      "cell_type": "markdown",
      "source": [
        "<font size=5> The next 6 notebooks will walk you through the process of building, running, and analyzing an ANUGA model for the Komo River Estuary </font>"
      ],
      "metadata": {
        "id": "-DPhvHSj4172"
      },
      "id": "-DPhvHSj4172"
    },
    {
      "cell_type": "markdown",
      "source": [
        "<font size=5 color='red'>You must do the following step to get access to \n",
        "\n",
        "To get access to the Komo Tutorial Files, you will need to unzip the komo.zip file from the Github page."
      ],
      "metadata": {
        "id": "_FJyp3NI4ml9"
      },
      "id": "_FJyp3NI4ml9"
    },
    {
      "cell_type": "code",
      "source": [
        "os.chdir(mounted_drive + '/komo_estuary_tutorial')\n",
        "!unzip -o komo_starter.zip -d $mounted_drive \n"
      ],
      "metadata": {
        "id": "fjuT8SP89yzX",
        "colab": {
          "base_uri": "https://localhost:8080/"
        },
        "outputId": "cefcbc69-61fc-4574-9186-d519efb7ced7"
      },
      "id": "fjuT8SP89yzX",
      "execution_count": 9,
      "outputs": [
        {
          "output_type": "stream",
          "name": "stdout",
          "text": [
            "Archive:  komo_starter.zip\n",
            "   creating: /content/drive/MyDrive/komo/\n",
            "  inflating: /content/drive/MyDrive/komo/.DS_Store  \n",
            "   creating: /content/drive/MyDrive/komo/Boundaries/\n",
            "   creating: /content/drive/MyDrive/komo/User_Defined_Files/\n",
            "  inflating: /content/drive/MyDrive/komo/Boundaries/.DS_Store  \n",
            "   creating: /content/drive/MyDrive/komo/Boundaries/Tide_LAT0.2825_LON9.0253/\n",
            "  inflating: /content/drive/MyDrive/komo/User_Defined_Files/komo_SWOTPLD.prj  \n",
            "  inflating: /content/drive/MyDrive/komo/User_Defined_Files/.DS_Store  \n",
            "  inflating: /content/drive/MyDrive/komo/User_Defined_Files/komo_HydroLAKES.shx  \n",
            "  inflating: /content/drive/MyDrive/komo/User_Defined_Files/komo_input.prj  \n",
            "  inflating: /content/drive/MyDrive/komo/User_Defined_Files/komo_extent.csv  \n",
            "  inflating: /content/drive/MyDrive/komo/User_Defined_Files/komo_input.fix  \n",
            "  inflating: /content/drive/MyDrive/komo/User_Defined_Files/komo_HydroLAKES.shp  \n",
            "  inflating: /content/drive/MyDrive/komo/User_Defined_Files/komo_HydroLAKES.cpg  \n",
            "  inflating: /content/drive/MyDrive/komo/User_Defined_Files/komo_ndvimin_ndwimin_clustered_finalwatermask.tif  \n",
            "  inflating: /content/drive/MyDrive/komo/User_Defined_Files/komo_HydroLAKES.dbf  \n",
            "  inflating: /content/drive/MyDrive/komo/User_Defined_Files/komo_hydropolys.prj  \n",
            "  inflating: /content/drive/MyDrive/komo/User_Defined_Files/komo_SWOTPLD.shx  \n",
            "  inflating: /content/drive/MyDrive/komo/User_Defined_Files/komo_SWOTPLD.cpg  \n",
            "  inflating: /content/drive/MyDrive/komo/User_Defined_Files/komo_SWOTPLD.shp  \n",
            "  inflating: /content/drive/MyDrive/komo/User_Defined_Files/komo_input.shp  \n",
            "  inflating: /content/drive/MyDrive/komo/User_Defined_Files/komo_input.cpg  \n",
            "  inflating: /content/drive/MyDrive/komo/User_Defined_Files/komo_hydropolys.dbf  \n",
            "  inflating: /content/drive/MyDrive/komo/User_Defined_Files/komo_HydroLAKES.prj  \n",
            "  inflating: /content/drive/MyDrive/komo/User_Defined_Files/komo_input.shx  \n",
            "  inflating: /content/drive/MyDrive/komo/User_Defined_Files/komo_hydropolys.shx  \n",
            "  inflating: /content/drive/MyDrive/komo/User_Defined_Files/komo_input.dbf  \n",
            "  inflating: /content/drive/MyDrive/komo/User_Defined_Files/komo_hydropolys.shp  \n",
            "  inflating: /content/drive/MyDrive/komo/User_Defined_Files/komo_hydropolys.cpg  \n",
            "  inflating: /content/drive/MyDrive/komo/User_Defined_Files/komo_SWOTPLD.dbf  \n",
            "  inflating: /content/drive/MyDrive/komo/Boundaries/Tide_LAT0.2825_LON9.0253/.DS_Store  \n",
            "  inflating: /content/drive/MyDrive/komo/Boundaries/Tide_LAT0.2825_LON9.0253/komo_tides_20100101.csv  \n"
          ]
        }
      ]
    },
    {
      "cell_type": "code",
      "source": [],
      "metadata": {
        "id": "1yTmvXOAHCsi"
      },
      "id": "1yTmvXOAHCsi",
      "execution_count": 8,
      "outputs": []
    }
  ],
  "metadata": {
    "kernelspec": {
      "display_name": "Python 3 (ipykernel)",
      "language": "python",
      "name": "python3"
    },
    "language_info": {
      "codemirror_mode": {
        "name": "ipython",
        "version": 3
      },
      "file_extension": ".py",
      "mimetype": "text/x-python",
      "name": "python",
      "nbconvert_exporter": "python",
      "pygments_lexer": "ipython3",
      "version": "3.9.13"
    },
    "colab": {
      "provenance": [],
      "include_colab_link": true
    },
    "widgets": {
      "application/vnd.jupyter.widget-state+json": {
        "cbba455838f5479a88c2994727ff85c9": {
          "model_module": "jupyter-leaflet",
          "model_name": "LeafletMapModel",
          "model_module_version": "^0.17",
          "state": {
            "_dom_classes": [],
            "_model_module": "jupyter-leaflet",
            "_model_module_version": "^0.17",
            "_model_name": "LeafletMapModel",
            "_view_count": null,
            "_view_module": "jupyter-leaflet",
            "_view_module_version": "^0.17",
            "_view_name": "LeafletMapView",
            "bottom": 555,
            "bounce_at_zoom_limits": true,
            "box_zoom": true,
            "center": [
              -84.9901001802348,
              562.5000000000001
            ],
            "close_popup_on_click": true,
            "controls": [
              "IPY_MODEL_d3211476a1ef42bb873837aaa609aafa",
              "IPY_MODEL_4637d5a16cd84f0f98340350e3b9323a",
              "IPY_MODEL_fda49ffcd1744a5296ca93106142a8a2",
              "IPY_MODEL_eae68333925b484994efb4c73c89a9df",
              "IPY_MODEL_decb8c7b6e874536b80a37019263886f",
              "IPY_MODEL_bde56f7827534bd78f71bd118664a973",
              "IPY_MODEL_4b2ee34ff3c247b6ad69b480c1a631bc",
              "IPY_MODEL_ed5f372d73954c24a85ba08fd7960421"
            ],
            "crs": {
              "name": "EPSG3857",
              "custom": false
            },
            "default_style": "IPY_MODEL_9692519a26ca4466ba5b9bd139ddeb74",
            "double_click_zoom": true,
            "dragging": true,
            "dragging_style": "IPY_MODEL_a38e32dabf974916b8bc97ab16d5d081",
            "east": 1347.1875000000002,
            "fullscreen": false,
            "inertia": true,
            "inertia_deceleration": 3000,
            "inertia_max_speed": 1500,
            "interpolation": "bilinear",
            "keyboard": true,
            "keyboard_pan_offset": 80,
            "keyboard_zoom_offset": 1,
            "layers": [
              "IPY_MODEL_b28df6878b5d491ca4fa3ef386290120",
              "IPY_MODEL_75029eaff1664c2fafc2f2bf660f1960"
            ],
            "layout": "IPY_MODEL_f98490317ed149fd8d4a8839532bd470",
            "left": -30,
            "max_zoom": 24,
            "min_zoom": null,
            "modisdate": "2022-11-22",
            "north": 88.35909655492227,
            "options": [
              "bounce_at_zoom_limits",
              "box_zoom",
              "center",
              "close_popup_on_click",
              "double_click_zoom",
              "dragging",
              "fullscreen",
              "inertia",
              "inertia_deceleration",
              "inertia_max_speed",
              "interpolation",
              "keyboard",
              "keyboard_pan_offset",
              "keyboard_zoom_offset",
              "max_zoom",
              "min_zoom",
              "prefer_canvas",
              "scroll_wheel_zoom",
              "tap",
              "tap_tolerance",
              "touch_zoom",
              "world_copy_jump",
              "zoom",
              "zoom_animation_threshold",
              "zoom_delta",
              "zoom_snap"
            ],
            "panes": {},
            "prefer_canvas": false,
            "right": 1086,
            "scroll_wheel_zoom": true,
            "south": -89.99678131567453,
            "style": "IPY_MODEL_9692519a26ca4466ba5b9bd139ddeb74",
            "tap": true,
            "tap_tolerance": 15,
            "top": -45,
            "touch_zoom": true,
            "west": -222.18750000000003,
            "window_url": "https://k853zv242s-496ff2e9c6d22116-0-colab.googleusercontent.com/outputframe.html?vrz=colab-20221121-060047-RC02_490089161",
            "world_copy_jump": false,
            "zoom": 0,
            "zoom_animation_threshold": 4,
            "zoom_delta": 1,
            "zoom_snap": 1
          }
        },
        "d3211476a1ef42bb873837aaa609aafa": {
          "model_module": "jupyter-leaflet",
          "model_name": "LeafletWidgetControlModel",
          "model_module_version": "^0.17",
          "state": {
            "_model_module": "jupyter-leaflet",
            "_model_module_version": "^0.17",
            "_model_name": "LeafletWidgetControlModel",
            "_view_count": null,
            "_view_module": "jupyter-leaflet",
            "_view_module_version": "^0.17",
            "_view_name": "LeafletWidgetControlView",
            "max_height": null,
            "max_width": null,
            "min_height": null,
            "min_width": null,
            "options": [
              "position",
              "transparent_bg"
            ],
            "position": "topleft",
            "transparent_bg": false,
            "widget": "IPY_MODEL_0e026968bca3433f84a67ec54b88cb94"
          }
        },
        "4637d5a16cd84f0f98340350e3b9323a": {
          "model_module": "jupyter-leaflet",
          "model_name": "LeafletZoomControlModel",
          "model_module_version": "^0.17",
          "state": {
            "_model_module": "jupyter-leaflet",
            "_model_module_version": "^0.17",
            "_model_name": "LeafletZoomControlModel",
            "_view_count": null,
            "_view_module": "jupyter-leaflet",
            "_view_module_version": "^0.17",
            "_view_name": "LeafletZoomControlView",
            "options": [
              "position",
              "zoom_in_text",
              "zoom_in_title",
              "zoom_out_text",
              "zoom_out_title"
            ],
            "position": "topleft",
            "zoom_in_text": "+",
            "zoom_in_title": "Zoom in",
            "zoom_out_text": "-",
            "zoom_out_title": "Zoom out"
          }
        },
        "fda49ffcd1744a5296ca93106142a8a2": {
          "model_module": "jupyter-leaflet",
          "model_name": "LeafletScaleControlModel",
          "model_module_version": "^0.17",
          "state": {
            "_model_module": "jupyter-leaflet",
            "_model_module_version": "^0.17",
            "_model_name": "LeafletScaleControlModel",
            "_view_count": null,
            "_view_module": "jupyter-leaflet",
            "_view_module_version": "^0.17",
            "_view_name": "LeafletScaleControlView",
            "imperial": true,
            "max_width": 100,
            "metric": true,
            "options": [
              "imperial",
              "max_width",
              "metric",
              "position",
              "update_when_idle"
            ],
            "position": "bottomleft",
            "update_when_idle": false
          }
        },
        "eae68333925b484994efb4c73c89a9df": {
          "model_module": "jupyter-leaflet",
          "model_name": "LeafletFullScreenControlModel",
          "model_module_version": "^0.17",
          "state": {
            "_model_module": "jupyter-leaflet",
            "_model_module_version": "^0.17",
            "_model_name": "LeafletFullScreenControlModel",
            "_view_count": null,
            "_view_module": "jupyter-leaflet",
            "_view_module_version": "^0.17",
            "_view_name": "LeafletFullScreenControlView",
            "options": [
              "position"
            ],
            "position": "topleft"
          }
        },
        "decb8c7b6e874536b80a37019263886f": {
          "model_module": "jupyter-leaflet",
          "model_name": "LeafletMeasureControlModel",
          "model_module_version": "^0.17",
          "state": {
            "_custom_units": {},
            "_model_module": "jupyter-leaflet",
            "_model_module_version": "^0.17",
            "_model_name": "LeafletMeasureControlModel",
            "_view_count": null,
            "_view_module": "jupyter-leaflet",
            "_view_module_version": "^0.17",
            "_view_name": "LeafletMeasureControlView",
            "active_color": "orange",
            "capture_z_index": 10000,
            "completed_color": "#C8F2BE",
            "options": [
              "active_color",
              "capture_z_index",
              "completed_color",
              "popup_options",
              "position",
              "primary_area_unit",
              "primary_length_unit",
              "secondary_area_unit",
              "secondary_length_unit"
            ],
            "popup_options": {
              "className": "leaflet-measure-resultpopup",
              "autoPanPadding": [
                10,
                10
              ]
            },
            "position": "bottomleft",
            "primary_area_unit": "acres",
            "primary_length_unit": "kilometers",
            "secondary_area_unit": null,
            "secondary_length_unit": null
          }
        },
        "bde56f7827534bd78f71bd118664a973": {
          "model_module": "jupyter-leaflet",
          "model_name": "LeafletAttributionControlModel",
          "model_module_version": "^0.17",
          "state": {
            "_model_module": "jupyter-leaflet",
            "_model_module_version": "^0.17",
            "_model_name": "LeafletAttributionControlModel",
            "_view_count": null,
            "_view_module": "jupyter-leaflet",
            "_view_module_version": "^0.17",
            "_view_name": "LeafletAttributionControlView",
            "options": [
              "position",
              "prefix"
            ],
            "position": "bottomright",
            "prefix": "ipyleaflet"
          }
        },
        "4b2ee34ff3c247b6ad69b480c1a631bc": {
          "model_module": "jupyter-leaflet",
          "model_name": "LeafletDrawControlModel",
          "model_module_version": "^0.17",
          "state": {
            "_model_module": "jupyter-leaflet",
            "_model_module_version": "^0.17",
            "_model_name": "LeafletDrawControlModel",
            "_view_count": null,
            "_view_module": "jupyter-leaflet",
            "_view_module_version": "^0.17",
            "_view_name": "LeafletDrawControlView",
            "circle": {
              "shapeOptions": {
                "color": "#3388ff"
              }
            },
            "circlemarker": {},
            "data": [],
            "edit": true,
            "marker": {
              "shapeOptions": {
                "color": "#3388ff"
              }
            },
            "options": [
              "position"
            ],
            "polygon": {
              "shapeOptions": {}
            },
            "polyline": {
              "shapeOptions": {}
            },
            "position": "topleft",
            "rectangle": {
              "shapeOptions": {
                "color": "#3388ff"
              }
            },
            "remove": true
          }
        },
        "ed5f372d73954c24a85ba08fd7960421": {
          "model_module": "jupyter-leaflet",
          "model_name": "LeafletWidgetControlModel",
          "model_module_version": "^0.17",
          "state": {
            "_model_module": "jupyter-leaflet",
            "_model_module_version": "^0.17",
            "_model_name": "LeafletWidgetControlModel",
            "_view_count": null,
            "_view_module": "jupyter-leaflet",
            "_view_module_version": "^0.17",
            "_view_name": "LeafletWidgetControlView",
            "max_height": null,
            "max_width": null,
            "min_height": null,
            "min_width": null,
            "options": [
              "position",
              "transparent_bg"
            ],
            "position": "topright",
            "transparent_bg": false,
            "widget": "IPY_MODEL_efe56dfa4d4c4a37b42590c06e357cbe"
          }
        },
        "9692519a26ca4466ba5b9bd139ddeb74": {
          "model_module": "jupyter-leaflet",
          "model_name": "LeafletMapStyleModel",
          "model_module_version": "^0.17",
          "state": {
            "_model_module": "jupyter-leaflet",
            "_model_module_version": "^0.17",
            "_model_name": "LeafletMapStyleModel",
            "_view_count": null,
            "_view_module": "@jupyter-widgets/base",
            "_view_module_version": "1.2.0",
            "_view_name": "StyleView",
            "cursor": "grab"
          }
        },
        "a38e32dabf974916b8bc97ab16d5d081": {
          "model_module": "jupyter-leaflet",
          "model_name": "LeafletMapStyleModel",
          "model_module_version": "^0.17",
          "state": {
            "_model_module": "jupyter-leaflet",
            "_model_module_version": "^0.17",
            "_model_name": "LeafletMapStyleModel",
            "_view_count": null,
            "_view_module": "@jupyter-widgets/base",
            "_view_module_version": "1.2.0",
            "_view_name": "StyleView",
            "cursor": "move"
          }
        },
        "b28df6878b5d491ca4fa3ef386290120": {
          "model_module": "jupyter-leaflet",
          "model_name": "LeafletTileLayerModel",
          "model_module_version": "^0.17",
          "state": {
            "_model_module": "jupyter-leaflet",
            "_model_module_version": "^0.17",
            "_model_name": "LeafletTileLayerModel",
            "_view_count": null,
            "_view_module": "jupyter-leaflet",
            "_view_module_version": "^0.17",
            "_view_name": "LeafletTileLayerView",
            "attribution": "&copy; <a href=\"https://www.openstreetmap.org/copyright\">OpenStreetMap</a> contributors",
            "base": true,
            "bottom": true,
            "bounds": null,
            "detect_retina": false,
            "loading": false,
            "max_native_zoom": null,
            "max_zoom": 19,
            "min_native_zoom": null,
            "min_zoom": 1,
            "name": "OpenStreetMap.Mapnik",
            "no_wrap": false,
            "opacity": 1,
            "options": [
              "attribution",
              "bounds",
              "detect_retina",
              "max_native_zoom",
              "max_zoom",
              "min_native_zoom",
              "min_zoom",
              "no_wrap",
              "tile_size",
              "tms",
              "zoom_offset"
            ],
            "pane": "",
            "popup": null,
            "popup_max_height": null,
            "popup_max_width": 300,
            "popup_min_width": 50,
            "show_loading": false,
            "subitems": [],
            "tile_size": 256,
            "tms": false,
            "url": "https://tile.openstreetmap.org/{z}/{x}/{y}.png",
            "visible": true,
            "zoom_offset": 0
          }
        },
        "75029eaff1664c2fafc2f2bf660f1960": {
          "model_module": "jupyter-leaflet",
          "model_name": "LeafletTileLayerModel",
          "model_module_version": "^0.17",
          "state": {
            "_model_module": "jupyter-leaflet",
            "_model_module_version": "^0.17",
            "_model_name": "LeafletTileLayerModel",
            "_view_count": null,
            "_view_module": "jupyter-leaflet",
            "_view_module_version": "^0.17",
            "_view_name": "LeafletTileLayerView",
            "attribution": "Google",
            "base": false,
            "bottom": true,
            "bounds": null,
            "detect_retina": false,
            "loading": false,
            "max_native_zoom": null,
            "max_zoom": 22,
            "min_native_zoom": null,
            "min_zoom": 0,
            "name": "Google Maps",
            "no_wrap": false,
            "opacity": 1,
            "options": [
              "attribution",
              "bounds",
              "detect_retina",
              "max_native_zoom",
              "max_zoom",
              "min_native_zoom",
              "min_zoom",
              "no_wrap",
              "tile_size",
              "tms",
              "zoom_offset"
            ],
            "pane": "",
            "popup": null,
            "popup_max_height": null,
            "popup_max_width": 300,
            "popup_min_width": 50,
            "show_loading": false,
            "subitems": [],
            "tile_size": 256,
            "tms": false,
            "url": "https://mt1.google.com/vt/lyrs=m&x={x}&y={y}&z={z}",
            "visible": true,
            "zoom_offset": 0
          }
        },
        "f98490317ed149fd8d4a8839532bd470": {
          "model_module": "@jupyter-widgets/base",
          "model_name": "LayoutModel",
          "model_module_version": "1.2.0",
          "state": {
            "_model_module": "@jupyter-widgets/base",
            "_model_module_version": "1.2.0",
            "_model_name": "LayoutModel",
            "_view_count": null,
            "_view_module": "@jupyter-widgets/base",
            "_view_module_version": "1.2.0",
            "_view_name": "LayoutView",
            "align_content": null,
            "align_items": null,
            "align_self": null,
            "border": null,
            "bottom": null,
            "display": null,
            "flex": null,
            "flex_flow": null,
            "grid_area": null,
            "grid_auto_columns": null,
            "grid_auto_flow": null,
            "grid_auto_rows": null,
            "grid_column": null,
            "grid_gap": null,
            "grid_row": null,
            "grid_template_areas": null,
            "grid_template_columns": null,
            "grid_template_rows": null,
            "height": "600px",
            "justify_content": null,
            "justify_items": null,
            "left": null,
            "margin": null,
            "max_height": null,
            "max_width": null,
            "min_height": null,
            "min_width": null,
            "object_fit": null,
            "object_position": null,
            "order": null,
            "overflow": null,
            "overflow_x": null,
            "overflow_y": null,
            "padding": null,
            "right": null,
            "top": null,
            "visibility": null,
            "width": null
          }
        },
        "5639e3b2fd784377aa3a231ef9666b81": {
          "model_module": "jupyter-leaflet",
          "model_name": "LeafletMapStyleModel",
          "model_module_version": "^0.17",
          "state": {
            "_model_module": "jupyter-leaflet",
            "_model_module_version": "^0.17",
            "_model_name": "LeafletMapStyleModel",
            "_view_count": null,
            "_view_module": "@jupyter-widgets/base",
            "_view_module_version": "1.2.0",
            "_view_name": "StyleView",
            "cursor": "grab"
          }
        },
        "0e026968bca3433f84a67ec54b88cb94": {
          "model_module": "@jupyter-widgets/controls",
          "model_name": "HBoxModel",
          "model_module_version": "1.5.0",
          "state": {
            "_dom_classes": [],
            "_model_module": "@jupyter-widgets/controls",
            "_model_module_version": "1.5.0",
            "_model_name": "HBoxModel",
            "_view_count": null,
            "_view_module": "@jupyter-widgets/controls",
            "_view_module_version": "1.5.0",
            "_view_name": "HBoxView",
            "box_style": "",
            "children": [
              "IPY_MODEL_4da78ba42d494f64a12f7a7ca151a280"
            ],
            "layout": "IPY_MODEL_262430e432584978afd06527bdbd11e5"
          }
        },
        "efe56dfa4d4c4a37b42590c06e357cbe": {
          "model_module": "@jupyter-widgets/controls",
          "model_name": "VBoxModel",
          "model_module_version": "1.5.0",
          "state": {
            "_dom_classes": [],
            "_model_module": "@jupyter-widgets/controls",
            "_model_module_version": "1.5.0",
            "_model_name": "VBoxModel",
            "_view_count": null,
            "_view_module": "@jupyter-widgets/controls",
            "_view_module_version": "1.5.0",
            "_view_name": "VBoxView",
            "box_style": "",
            "children": [
              "IPY_MODEL_9ffa5b52c0b34a748c93f3881093477f"
            ],
            "layout": "IPY_MODEL_3feab9f041824eac8f20825d5757bd67"
          }
        },
        "4da78ba42d494f64a12f7a7ca151a280": {
          "model_module": "@jupyter-widgets/controls",
          "model_name": "ToggleButtonModel",
          "model_module_version": "1.5.0",
          "state": {
            "_dom_classes": [],
            "_model_module": "@jupyter-widgets/controls",
            "_model_module_version": "1.5.0",
            "_model_name": "ToggleButtonModel",
            "_view_count": null,
            "_view_module": "@jupyter-widgets/controls",
            "_view_module_version": "1.5.0",
            "_view_name": "ToggleButtonView",
            "button_style": "",
            "description": "",
            "description_tooltip": null,
            "disabled": false,
            "icon": "globe",
            "layout": "IPY_MODEL_8d354c9c6f88461b9f098fef329cd941",
            "style": "IPY_MODEL_14b3f5f5af4f46ae82cca7710e100d5c",
            "tooltip": "Search location/data",
            "value": false
          }
        },
        "262430e432584978afd06527bdbd11e5": {
          "model_module": "@jupyter-widgets/base",
          "model_name": "LayoutModel",
          "model_module_version": "1.2.0",
          "state": {
            "_model_module": "@jupyter-widgets/base",
            "_model_module_version": "1.2.0",
            "_model_name": "LayoutModel",
            "_view_count": null,
            "_view_module": "@jupyter-widgets/base",
            "_view_module_version": "1.2.0",
            "_view_name": "LayoutView",
            "align_content": null,
            "align_items": null,
            "align_self": null,
            "border": null,
            "bottom": null,
            "display": null,
            "flex": null,
            "flex_flow": null,
            "grid_area": null,
            "grid_auto_columns": null,
            "grid_auto_flow": null,
            "grid_auto_rows": null,
            "grid_column": null,
            "grid_gap": null,
            "grid_row": null,
            "grid_template_areas": null,
            "grid_template_columns": null,
            "grid_template_rows": null,
            "height": null,
            "justify_content": null,
            "justify_items": null,
            "left": null,
            "margin": null,
            "max_height": null,
            "max_width": null,
            "min_height": null,
            "min_width": null,
            "object_fit": null,
            "object_position": null,
            "order": null,
            "overflow": null,
            "overflow_x": null,
            "overflow_y": null,
            "padding": null,
            "right": null,
            "top": null,
            "visibility": null,
            "width": null
          }
        },
        "9ffa5b52c0b34a748c93f3881093477f": {
          "model_module": "@jupyter-widgets/controls",
          "model_name": "ToggleButtonModel",
          "model_module_version": "1.5.0",
          "state": {
            "_dom_classes": [],
            "_model_module": "@jupyter-widgets/controls",
            "_model_module_version": "1.5.0",
            "_model_name": "ToggleButtonModel",
            "_view_count": null,
            "_view_module": "@jupyter-widgets/controls",
            "_view_module_version": "1.5.0",
            "_view_name": "ToggleButtonView",
            "button_style": "",
            "description": "",
            "description_tooltip": null,
            "disabled": false,
            "icon": "wrench",
            "layout": "IPY_MODEL_960ca032906e4bae899ac137ef6a7cda",
            "style": "IPY_MODEL_b08a8710fbf844fb9d615c126bd71e4e",
            "tooltip": "Toolbar",
            "value": false
          }
        },
        "3feab9f041824eac8f20825d5757bd67": {
          "model_module": "@jupyter-widgets/base",
          "model_name": "LayoutModel",
          "model_module_version": "1.2.0",
          "state": {
            "_model_module": "@jupyter-widgets/base",
            "_model_module_version": "1.2.0",
            "_model_name": "LayoutModel",
            "_view_count": null,
            "_view_module": "@jupyter-widgets/base",
            "_view_module_version": "1.2.0",
            "_view_name": "LayoutView",
            "align_content": null,
            "align_items": null,
            "align_self": null,
            "border": null,
            "bottom": null,
            "display": null,
            "flex": null,
            "flex_flow": null,
            "grid_area": null,
            "grid_auto_columns": null,
            "grid_auto_flow": null,
            "grid_auto_rows": null,
            "grid_column": null,
            "grid_gap": null,
            "grid_row": null,
            "grid_template_areas": null,
            "grid_template_columns": null,
            "grid_template_rows": null,
            "height": null,
            "justify_content": null,
            "justify_items": null,
            "left": null,
            "margin": null,
            "max_height": null,
            "max_width": null,
            "min_height": null,
            "min_width": null,
            "object_fit": null,
            "object_position": null,
            "order": null,
            "overflow": null,
            "overflow_x": null,
            "overflow_y": null,
            "padding": null,
            "right": null,
            "top": null,
            "visibility": null,
            "width": null
          }
        },
        "8d354c9c6f88461b9f098fef329cd941": {
          "model_module": "@jupyter-widgets/base",
          "model_name": "LayoutModel",
          "model_module_version": "1.2.0",
          "state": {
            "_model_module": "@jupyter-widgets/base",
            "_model_module_version": "1.2.0",
            "_model_name": "LayoutModel",
            "_view_count": null,
            "_view_module": "@jupyter-widgets/base",
            "_view_module_version": "1.2.0",
            "_view_name": "LayoutView",
            "align_content": null,
            "align_items": null,
            "align_self": null,
            "border": null,
            "bottom": null,
            "display": null,
            "flex": null,
            "flex_flow": null,
            "grid_area": null,
            "grid_auto_columns": null,
            "grid_auto_flow": null,
            "grid_auto_rows": null,
            "grid_column": null,
            "grid_gap": null,
            "grid_row": null,
            "grid_template_areas": null,
            "grid_template_columns": null,
            "grid_template_rows": null,
            "height": "28px",
            "justify_content": null,
            "justify_items": null,
            "left": null,
            "margin": null,
            "max_height": null,
            "max_width": null,
            "min_height": null,
            "min_width": null,
            "object_fit": null,
            "object_position": null,
            "order": null,
            "overflow": null,
            "overflow_x": null,
            "overflow_y": null,
            "padding": "0px 0px 0px 4px",
            "right": null,
            "top": null,
            "visibility": null,
            "width": "28px"
          }
        },
        "14b3f5f5af4f46ae82cca7710e100d5c": {
          "model_module": "@jupyter-widgets/controls",
          "model_name": "DescriptionStyleModel",
          "model_module_version": "1.5.0",
          "state": {
            "_model_module": "@jupyter-widgets/controls",
            "_model_module_version": "1.5.0",
            "_model_name": "DescriptionStyleModel",
            "_view_count": null,
            "_view_module": "@jupyter-widgets/base",
            "_view_module_version": "1.2.0",
            "_view_name": "StyleView",
            "description_width": ""
          }
        },
        "960ca032906e4bae899ac137ef6a7cda": {
          "model_module": "@jupyter-widgets/base",
          "model_name": "LayoutModel",
          "model_module_version": "1.2.0",
          "state": {
            "_model_module": "@jupyter-widgets/base",
            "_model_module_version": "1.2.0",
            "_model_name": "LayoutModel",
            "_view_count": null,
            "_view_module": "@jupyter-widgets/base",
            "_view_module_version": "1.2.0",
            "_view_name": "LayoutView",
            "align_content": null,
            "align_items": null,
            "align_self": null,
            "border": null,
            "bottom": null,
            "display": null,
            "flex": null,
            "flex_flow": null,
            "grid_area": null,
            "grid_auto_columns": null,
            "grid_auto_flow": null,
            "grid_auto_rows": null,
            "grid_column": null,
            "grid_gap": null,
            "grid_row": null,
            "grid_template_areas": null,
            "grid_template_columns": null,
            "grid_template_rows": null,
            "height": "28px",
            "justify_content": null,
            "justify_items": null,
            "left": null,
            "margin": null,
            "max_height": null,
            "max_width": null,
            "min_height": null,
            "min_width": null,
            "object_fit": null,
            "object_position": null,
            "order": null,
            "overflow": null,
            "overflow_x": null,
            "overflow_y": null,
            "padding": "0px 0px 0px 4px",
            "right": null,
            "top": null,
            "visibility": null,
            "width": "28px"
          }
        },
        "b08a8710fbf844fb9d615c126bd71e4e": {
          "model_module": "@jupyter-widgets/controls",
          "model_name": "DescriptionStyleModel",
          "model_module_version": "1.5.0",
          "state": {
            "_model_module": "@jupyter-widgets/controls",
            "_model_module_version": "1.5.0",
            "_model_name": "DescriptionStyleModel",
            "_view_count": null,
            "_view_module": "@jupyter-widgets/base",
            "_view_module_version": "1.2.0",
            "_view_name": "StyleView",
            "description_width": ""
          }
        }
      }
    }
  },
  "nbformat": 4,
  "nbformat_minor": 5
}