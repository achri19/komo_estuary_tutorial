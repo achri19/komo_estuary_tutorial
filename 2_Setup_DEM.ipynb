{
 "cells": [
  {
   "cell_type": "markdown",
   "id": "466e2a39",
   "metadata": {
    "id": "466e2a39"
   },
   "source": [
    "<font size=\"5\">Build Your Own ANUGA Model (BYOAM) </font>\n",
    "\n",
    "<font size=\"3\">In this notebook, we will:\n",
    "\n",
    "- set model configuration parameters\n",
    "\n",
    "- download and preprocess elevation and landcover datasets\n",
    "\n",
    "    \n",
    "- Determine water body polygons\n",
    "\n",
    "\n",
    "- Build the Digital Elevation Model\n",
    "\n",
    "\n",
    "\n",
    "</font>\n",
    "\n",
    "<font size=\"3\">This could take some time, depending on model domain size and complexity of the water mask</font>\n"
   ]
  },
  {
   "cell_type": "markdown",
   "id": "jNhRqEni40KR",
   "metadata": {
    "id": "jNhRqEni40KR"
   },
   "source": [
    "<font size=5 color='green'> If you are running in Google Colab, set the variable yes_colab = True. If you are running on your own computer, set the variable yes_colab = False </font>\n"
   ]
  },
  {
   "cell_type": "code",
   "execution_count": null,
   "id": "gkLaKjYy4_Lv",
   "metadata": {
    "id": "gkLaKjYy4_Lv"
   },
   "outputs": [],
   "source": [
    "yes_colab = False"
   ]
  },
  {
   "cell_type": "markdown",
   "id": "rhp4yA4h2Njc",
   "metadata": {
    "id": "rhp4yA4h2Njc"
   },
   "source": [
    "<font size=5> Step #1: Mount Google Drive and Grant Access <font> <br>\n",
    "\n",
    "\n"
   ]
  },
  {
   "cell_type": "markdown",
   "id": "JkG2pXof2YoC",
   "metadata": {
    "id": "JkG2pXof2YoC"
   },
   "source": [
    "<font size=3> When you run the next cell, a pop-up window will appear asking you to grant access to your Google Drive. You must approve or the notebook will not work. <font> <br>\n"
   ]
  },
  {
   "cell_type": "code",
   "execution_count": null,
   "id": "s_IgSq3RgKtN",
   "metadata": {
    "colab": {
     "base_uri": "https://localhost:8080/"
    },
    "id": "s_IgSq3RgKtN",
    "outputId": "5585c83c-0c1d-4741-93e7-d0614582e39f"
   },
   "outputs": [],
   "source": [
    "import sys\n",
    "import os\n",
    "your_path = os.getcwd() + '/'\n",
    "if yes_colab:\n",
    "  where_to_mount = '/content/drive/'\n",
    "  from google.colab import drive\n",
    "  drive.mount(where_to_mount, force_remount=True)\n",
    "  mounted_drive = where_to_mount + 'MyDrive/' \n",
    "else:\n",
    "  mounted_drive = your_path\n",
    "\n",
    "print('Your working directory is %s' %(mounted_drive))"
   ]
  },
  {
   "cell_type": "markdown",
   "id": "AXdcQrkUgUlM",
   "metadata": {
    "id": "AXdcQrkUgUlM"
   },
   "source": [
    "<font size=5> Step #2: Install packages. <font> <br>\n",
    "<font size=3> This cell should install all Python packages you need for each tutorial.<font>"
   ]
  },
  {
   "cell_type": "code",
   "execution_count": null,
   "id": "1poqNGJSgKtK",
   "metadata": {
    "colab": {
     "base_uri": "https://localhost:8080/"
    },
    "id": "1poqNGJSgKtK",
    "outputId": "9cd90cef-e3a5-4f54-a5a2-eb003b0389cc"
   },
   "outputs": [],
   "source": [
    "import os\n",
    "os.chdir(mounted_drive)\n",
    "if yes_colab:\n",
    "  if os.path.isdir(mounted_drive + 'komo_estuary_tutorial'):\n",
    "    print('## Updating the local git repository \\n')\n",
    "    os.chdir(mounted_drive + '/komo_estuary_tutorial')\n",
    "    ! git pull \n",
    "  else:\n",
    "    print('## Pulling the git repository with files for the tutorial\\n')\n",
    "    ! git clone https://github.com/achri19/komo_estuary_tutorial.git\n",
    "\n",
    "  print('\\n## Installing the Python packages needed for these tutorials\\n')\n",
    "  !/bin/bash $mounted_drive/komo_estuary_tutorial/install_packages.sh\n",
    "\n",
    "\n"
   ]
  },
  {
   "cell_type": "code",
   "execution_count": null,
   "id": "UnopBCZuT1Es",
   "metadata": {
    "colab": {
     "base_uri": "https://localhost:8080/"
    },
    "id": "UnopBCZuT1Es",
    "outputId": "d8663e1d-debb-442b-bf15-39f803e9543f"
   },
   "outputs": [],
   "source": [
    "!unzip -n komo_starter.zip -d $mounted_drive \n"
   ]
  },
  {
   "cell_type": "markdown",
   "id": "tqD-wrOGvE2I",
   "metadata": {
    "id": "tqD-wrOGvE2I"
   },
   "source": [
    "<font size=5> Step #3: Set up working directories<font> \n"
   ]
  },
  {
   "cell_type": "markdown",
   "id": "QgL2wZHj16ze",
   "metadata": {
    "id": "QgL2wZHj16ze"
   },
   "source": [
    "<font size=3> We will access data files stored on a shared Google Drive. You will also need to save files to your own Google Drive.<font>\n",
    "\n"
   ]
  },
  {
   "cell_type": "code",
   "execution_count": null,
   "id": "cmQy7ZMRgKtQ",
   "metadata": {
    "id": "cmQy7ZMRgKtQ"
   },
   "outputs": [],
   "source": [
    "path_code = mounted_drive + 'processing/code/'\n",
    "path_templates = mounted_drive + 'processing/templates/'\n",
    "path_configs = mounted_drive + 'processing/configs/'\n",
    "path_ancillary = mounted_drive + 'processing/ancillary/'\n",
    "sys.path.insert(1,path_code)\n",
    "\n",
    "print(path_code)"
   ]
  },
  {
   "cell_type": "markdown",
   "id": "3mnrUfhr3NWW",
   "metadata": {
    "id": "3mnrUfhr3NWW"
   },
   "source": [
    "<font size=5> Step #4: Now we will import the Python packages we need. <font> \n",
    "\n",
    "\n"
   ]
  },
  {
   "cell_type": "code",
   "execution_count": null,
   "id": "4a749118",
   "metadata": {
    "id": "4a749118"
   },
   "outputs": [],
   "source": [
    "import sys\n",
    "import os\n",
    "import pandas as pd\n",
    "import shutil\n",
    "from datetime import datetime\n",
    "from string import Template\n",
    "import fnmatch\n",
    "import geopandas as gpd\n",
    "import rasterio\n",
    "from osgeo import gdal \n",
    "from pathlib import Path\n",
    "import matplotlib.pyplot as plt\n",
    "import numpy as np\n",
    "import rtree\n",
    "import pygeos\n",
    "import pyTMD\n"
   ]
  },
  {
   "cell_type": "code",
   "execution_count": null,
   "id": "CPPe7c_zQ1aE",
   "metadata": {
    "id": "CPPe7c_zQ1aE"
   },
   "outputs": [],
   "source": [
    "from BYOM_Utilities_V1 import (build_directory,\n",
    "                               get_extent_parameters,\n",
    "                               setup_AOI_files, \n",
    "                               make_polygons,\n",
    "                               make_channel_networks,\n",
    "                               make_model_foundation, \n",
    "                               set_boundary_conditions, \n",
    "                               make_watermask,\n",
    "                               more_opening)"
   ]
  },
  {
   "cell_type": "markdown",
   "id": "c6bd01ec",
   "metadata": {
    "id": "c6bd01ec"
   },
   "source": [
    "<font size='5' color = 'red' > Building the DEM STEP #1: <br> Set the AOI again and make sure the working directory is set.  </font>\n"
   ]
  },
  {
   "cell_type": "code",
   "execution_count": null,
   "id": "43f0d63c",
   "metadata": {
    "colab": {
     "base_uri": "https://localhost:8080/"
    },
    "id": "43f0d63c",
    "outputId": "87d43c27-a7de-4987-a4a9-99b773ed8232"
   },
   "outputs": [],
   "source": [
    "AOI = 'komo'\n",
    "\n",
    "Path((mounted_drive + AOI)).mkdir(parents=True, exist_ok=True)\n",
    "\n",
    "skip = False\n",
    "res = 30 #meters\n",
    "print('\\n')\n",
    "print('Study area is ' + AOI)\n",
    "print('Resolution of this setup is %sm' %(res))\n",
    "\n",
    "working_path,folders = build_directory(mounted_drive, AOI)\n",
    "print(working_path)"
   ]
  },
  {
   "cell_type": "markdown",
   "id": "819f9ee3",
   "metadata": {
    "id": "819f9ee3"
   },
   "source": [
    "<font size='5' color = 'red' > Building the DEM STEP #2: <br> Here we set the necessary configuration parameters and then get extent coordinates for the model </font>\n"
   ]
  },
  {
   "cell_type": "code",
   "execution_count": null,
   "id": "6effe23c",
   "metadata": {
    "id": "6effe23c",
    "scrolled": true
   },
   "outputs": [],
   "source": [
    "parameters = pd.DataFrame()\n",
    "parameters['AOI'] = [AOI]\n",
    "parameters['RiverOceanBoundary'] = '1260'\n",
    "parameters['Discharge'] = '426'\n",
    "\n",
    "#Method parameters:\n",
    "parameters['LandcoverMethod'] = 'WorldCover'\n",
    "parameters['LandElevMethod'] = 'GLO30'\n",
    "parameters['OceanElevMethod'] = 'GEBCO'\n",
    "parameters['LowerRiverElevMethod'] = 'plane'\n",
    "parameters['UpperRiverElevMethod'] = 'wdpower'\n",
    "parameters['WetlandElevMethod'] = 'constant_0.5'\n",
    "parameters['LakeElevMethod'] = 'constant_1'\n",
    "parameters['ManningLUT'] = 'default'\n",
    "parameters['WetlandClass'] = '90'\n",
    "\n",
    "#Coefficients for determining bathymetry:\n",
    "parameters['WD_POWERA_upper'] = '0.0606'\n",
    "parameters['WD_POWERB_upper'] = '0.7732'\n",
    "\n",
    "#Max thresholds:\n",
    "parameters['MaxOceanDepth'] = '-300'\n",
    "parameters['MaxNearshoreDepth'] = '-300'\n",
    "parameters['MaxRiverDepth'] = '-300'\n",
    "parameters['MaxRiverWidth'] = '756'\n",
    "\n"
   ]
  },
  {
   "cell_type": "code",
   "execution_count": null,
   "id": "77e36fda",
   "metadata": {
    "colab": {
     "base_uri": "https://localhost:8080/"
    },
    "id": "77e36fda",
    "outputId": "48b41e3e-98de-4357-f9fe-510999c04be2"
   },
   "outputs": [],
   "source": [
    "ref_10m,parameters = get_extent_parameters(path_ancillary,AOI,folders,res,parameters)\n"
   ]
  },
  {
   "cell_type": "code",
   "execution_count": null,
   "id": "HHy249g7MZU_",
   "metadata": {
    "colab": {
     "base_uri": "https://localhost:8080/",
     "height": 289
    },
    "id": "HHy249g7MZU_",
    "outputId": "1c25cc1d-90ef-47c8-dda7-346587f14667"
   },
   "outputs": [],
   "source": [
    "plt.imshow(ref_10m.read(1),vmin=-50,vmax=0)\n",
    "plt.title('GEBCO Bathymetry resampled to 10m resolution')"
   ]
  },
  {
   "cell_type": "markdown",
   "id": "16639d91",
   "metadata": {
    "id": "16639d91"
   },
   "source": [
    "<font size='5' color = 'red' > The parameters were saved to a configuration file, we open that here </font>\n"
   ]
  },
  {
   "cell_type": "code",
   "execution_count": null,
   "id": "8d26852d",
   "metadata": {
    "colab": {
     "base_uri": "https://localhost:8080/"
    },
    "id": "8d26852d",
    "outputId": "826b5d45-6a3d-40c1-c3b9-153bfce002ab"
   },
   "outputs": [],
   "source": [
    "parameters = pd.read_csv('%s/%s_Configuration.csv' %(folders[2],AOI))\n",
    "print(parameters.iloc[0] )"
   ]
  },
  {
   "cell_type": "markdown",
   "id": "ce31f780",
   "metadata": {
    "id": "ce31f780"
   },
   "source": [
    "<font size='5' color = 'red' > Building the DEM STEP #2b: <br> Download GEBCO, GLO30, World Cover, and Global Mangrove Maps for the area</font>"
   ]
  },
  {
   "cell_type": "code",
   "execution_count": null,
   "id": "154a55c7",
   "metadata": {
    "colab": {
     "base_uri": "https://localhost:8080/"
    },
    "id": "154a55c7",
    "outputId": "446e7d4e-df2c-41bc-fdb7-feb4d3bc7d79"
   },
   "outputs": [],
   "source": [
    "ref = setup_AOI_files(your_path,\n",
    "                    AOI,\n",
    "                    folders,\n",
    "                    res,\n",
    "                    parameters)\n"
   ]
  },
  {
   "cell_type": "markdown",
   "id": "96269f27",
   "metadata": {
    "id": "96269f27"
   },
   "source": [
    "<font size='5' color = 'red' > The EPSG coordinate reference system must be is in UTM </font>\n"
   ]
  },
  {
   "cell_type": "code",
   "execution_count": null,
   "id": "a74a3cd0",
   "metadata": {
    "id": "a74a3cd0"
   },
   "outputs": [],
   "source": [
    "EPSG = parameters['EPSG'][0]\n",
    "ulx = parameters['ulx'][0]\n",
    "uly = parameters['uly'][0]\n",
    "lrx = parameters['lrx'][0]\n",
    "lry = parameters['lry'][0]\n"
   ]
  },
  {
   "cell_type": "code",
   "execution_count": null,
   "id": "771bc90b",
   "metadata": {
    "colab": {
     "base_uri": "https://localhost:8080/",
     "height": 625
    },
    "id": "771bc90b",
    "outputId": "7291da7d-f652-4fff-bab1-0b38ae9963ab"
   },
   "outputs": [],
   "source": [
    "#ref = rasterio.open('%s/%s_GEBCO_%s.tif' %(folders[8],AOI,res))\n",
    "glo30 = rasterio.open('%s/%s_GLO30_topo_%s.tif' %(folders[8],AOI,res))\n",
    "landcover = rasterio.open('%s/%s_WorldCover_%s.tif' %(folders[8],AOI,res))\n",
    "\n",
    "\n",
    "fig,[ax1,ax2] = plt.subplots(nrows=2,figsize=(10,10))\n",
    "ax1.imshow(glo30.read(1),vmin=0,vmax=50)\n",
    "ax1.set_title('Tandem-X GLO30 Topography at 30m resolution')\n",
    "\n",
    "ax2.imshow(landcover.read(1))\n",
    "ax2.set_title('WorldCover Landcover Map')\n"
   ]
  },
  {
   "cell_type": "code",
   "execution_count": null,
   "id": "QUGJwJOBha8X",
   "metadata": {
    "colab": {
     "base_uri": "https://localhost:8080/",
     "height": 407
    },
    "id": "QUGJwJOBha8X",
    "outputId": "1e7821c7-faae-421c-dffb-46ad38bccfec"
   },
   "outputs": [],
   "source": [
    "model_domain = gpd.read_file('%s%s_modeldomain.shp' %(folders[7],AOI))\n",
    "\n",
    "fig,ax = plt.subplots(figsize=(10,10))\n",
    "model_domain.geometry.boundary.plot(color=None,edgecolor='red',linewidth = 2,ax=ax,label = 'model domain') #Use your second dataframe\n",
    "\n",
    "plt.legend()"
   ]
  },
  {
   "cell_type": "markdown",
   "id": "88c1288f",
   "metadata": {
    "id": "88c1288f"
   },
   "source": [
    "<font size='5' color = 'red' > Building the DEM STEP #3: <br> Clean, filter, smooth the water mask you made in the previous notebook </font>\n",
    "\n"
   ]
  },
  {
   "cell_type": "code",
   "execution_count": null,
   "id": "eec50ca1",
   "metadata": {
    "colab": {
     "base_uri": "https://localhost:8080/"
    },
    "id": "eec50ca1",
    "outputId": "4c96e8b2-864f-4d62-89cf-af93c454580f"
   },
   "outputs": [],
   "source": [
    "#ref_10m = rasterio.open('%s/%s_GEBCO_10.tif' %(folders[8],AOI))\n",
    "watermaskname = make_watermask(path_ancillary, \n",
    "                               AOI,\n",
    "                               folders,\n",
    "                               parameters,\n",
    "                               ref_10m,False, False)\n",
    "how_much_opening = 3\n",
    "more_opening(AOI,folders,watermaskname,how_much_opening,ref_10m,parameters)\n"
   ]
  },
  {
   "cell_type": "code",
   "execution_count": null,
   "id": "ae9e534d",
   "metadata": {
    "colab": {
     "base_uri": "https://localhost:8080/"
    },
    "id": "ae9e534d",
    "outputId": "82612a07-0c6e-4448-9974-d6c90a6ca546"
   },
   "outputs": [],
   "source": [
    "print(watermaskname)\n",
    "if res != 10:\n",
    "    os.system('gdalwarp -overwrite -tr %s %s %s/%s_watermask_10.tif %s/%s_watermask_%s.tif '\\\n",
    "                      ' -te %s %s %s %s -srcnodata -9999 -dstnodata -9999 -co COMPRESS=DEFLATE -q'\n",
    "                      %(res,res,folders[8],AOI,folders[8],AOI,res,ulx,lry,lrx,uly))\n",
    "    os.system('gdalwarp -overwrite -tr %s %s %s/%s_landmask_10.tif %s/%s_landmask_%s.tif '\\\n",
    "                      ' -te %s %s %s %s -srcnodata -9999 -dstnodata -9999 -co COMPRESS=DEFLATE -q'\n",
    "                      %(res,res,folders[8],AOI,folders[8],AOI,res,ulx,lry,lrx,uly))\n"
   ]
  },
  {
   "cell_type": "code",
   "execution_count": null,
   "id": "ebc8cda8",
   "metadata": {
    "colab": {
     "base_uri": "https://localhost:8080/",
     "height": 885
    },
    "id": "ebc8cda8",
    "outputId": "3e0db287-98d7-4112-94f9-93a349022316"
   },
   "outputs": [],
   "source": [
    "watermask = rasterio.open('%s%s_watermask_%s.tif' %(folders[8],AOI,res)).read(1)\n",
    "\n",
    "fig,[ax1,ax2] = plt.subplots(nrows=2,figsize=(15,15))\n",
    "ax1.imshow(watermask,'gray')\n",
    "\n",
    "ax2.imshow(watermask,'gray')\n",
    "ax2.axis([1500,2000, 2000,1500])"
   ]
  },
  {
   "cell_type": "markdown",
   "id": "1d04ee13",
   "metadata": {
    "id": "1d04ee13"
   },
   "source": [
    "<font size='5' color = 'red' > Building the DEM STEP #4: <br> Make polygons of each land cover type: ocean, lake, river, land</font>\n"
   ]
  },
  {
   "cell_type": "code",
   "execution_count": null,
   "id": "33c4bc5e",
   "metadata": {
    "colab": {
     "base_uri": "https://localhost:8080/"
    },
    "id": "33c4bc5e",
    "outputId": "25b5b84b-878e-4a18-f54b-bbb0767d203b"
   },
   "outputs": [],
   "source": [
    "make_polygons(AOI,\n",
    "                folders,\n",
    "                parameters,\n",
    "                ref,\n",
    "                watermaskname,\n",
    "                path_templates,False)\n",
    "\n"
   ]
  },
  {
   "cell_type": "code",
   "execution_count": null,
   "id": "2da0f719",
   "metadata": {
    "colab": {
     "base_uri": "https://localhost:8080/",
     "height": 646
    },
    "id": "2da0f719",
    "outputId": "a91c679b-5d09-471c-844d-0aa4a3e3f3d0"
   },
   "outputs": [],
   "source": [
    "fix,ax = plt.subplots(figsize=(20,20))\n",
    "\n",
    "colors = ['red','blue','orange','cyan','green']\n",
    "polys = ['lands','fullocean','lakes','rivers']\n",
    "i=0\n",
    "for poly in polys:\n",
    "    tmp = gpd.read_file([os.path.join(dirpath,f)\n",
    "            for dirpath,dirnames, files in os.walk(folders[7])\n",
    "            for f in fnmatch.filter(files,'*%s*.shp' %(poly))][0])\n",
    "    tmp.geometry.boundary.plot(color=colors[i], edgecolor=colors[i],linewidth = 1,ax=ax,label = poly) #Use your second dataframe\n",
    "    i=i+1\n",
    "plt.legend()\n"
   ]
  },
  {
   "cell_type": "code",
   "execution_count": null,
   "id": "641111ed",
   "metadata": {
    "id": "641111ed"
   },
   "outputs": [],
   "source": [
    "cleanup = False \n",
    "if cleanup == True:\n",
    "    print('Cleaning up temporary files')\n",
    "    try:shutil.rmtree(folders[1])\n",
    "    except:''\n"
   ]
  },
  {
   "cell_type": "markdown",
   "id": "29bef3ca",
   "metadata": {
    "id": "29bef3ca"
   },
   "source": [
    "<font size='5' color = 'red' > Building the DEM STEP #5: <br> Using Orinoco, get distance and width files of the river networks</font>\n"
   ]
  },
  {
   "cell_type": "code",
   "execution_count": null,
   "id": "73144d89",
   "metadata": {
    "colab": {
     "base_uri": "https://localhost:8080/"
    },
    "id": "73144d89",
    "outputId": "5f109b29-9f31-44de-cf6d-baef77af8d01"
   },
   "outputs": [],
   "source": [
    "segment_width = 150\n",
    "pixel_step = int(round(segment_width/res))\n",
    "distance,widths = make_channel_networks(folders,\n",
    "                                      AOI,\n",
    "                                      ref,\n",
    "                                      parameters,\n",
    "                                      pixel_step,False)\n"
   ]
  },
  {
   "cell_type": "markdown",
   "id": "1c650374",
   "metadata": {
    "id": "1c650374"
   },
   "source": [
    "<font size='5' color = 'red' > Building the DEM STEP #7: <br> Make the Digital Elevation Model </font>\n"
   ]
  },
  {
   "cell_type": "code",
   "execution_count": null,
   "id": "cba2f51e",
   "metadata": {
    "colab": {
     "base_uri": "https://localhost:8080/"
    },
    "id": "cba2f51e",
    "outputId": "536738e7-9a0d-4f06-bfb6-39db3e588c9a"
   },
   "outputs": [],
   "source": [
    "elevation,elev_name = make_model_foundation(mounted_drive,\n",
    "                                                parameters,\n",
    "                                                AOI,\n",
    "                                                folders,\n",
    "                                                ref,\n",
    "                                                distance,\n",
    "                                                widths,\n",
    "                                                watermask,pixel_step,mounted_drive)\n"
   ]
  },
  {
   "cell_type": "markdown",
   "id": "Qx3XgmgVSQka",
   "metadata": {
    "id": "Qx3XgmgVSQka"
   },
   "source": [
    "<font size=5 color='green'> We will use the elevation file in later notebooks. </font>"
   ]
  },
  {
   "cell_type": "code",
   "execution_count": null,
   "id": "daf09db5",
   "metadata": {
    "colab": {
     "base_uri": "https://localhost:8080/"
    },
    "id": "daf09db5",
    "outputId": "234fc956-cc05-4d94-8949-5f7b6b963fca"
   },
   "outputs": [],
   "source": [
    "print(elev_name)\n"
   ]
  },
  {
   "cell_type": "markdown",
   "id": "391dc703",
   "metadata": {
    "id": "391dc703"
   },
   "source": [
    "<font size=5 color='red'> Done building DEM and other ancillary files. Move on to the next notebook 3_GetBoundaries.ipynb </font>\n"
   ]
  },
  {
   "cell_type": "code",
   "execution_count": null,
   "id": "3d42aa06",
   "metadata": {},
   "outputs": [],
   "source": []
  }
 ],
 "metadata": {
  "colab": {
   "provenance": []
  },
  "kernelspec": {
   "display_name": "Python 3 (ipykernel)",
   "language": "python",
   "name": "python3"
  },
  "language_info": {
   "codemirror_mode": {
    "name": "ipython",
    "version": 3
   },
   "file_extension": ".py",
   "mimetype": "text/x-python",
   "name": "python",
   "nbconvert_exporter": "python",
   "pygments_lexer": "ipython3",
   "version": "3.7.12"
  }
 },
 "nbformat": 4,
 "nbformat_minor": 5
}
