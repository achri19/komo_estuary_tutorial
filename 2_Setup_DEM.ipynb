{
  "cells": [
    {
      "cell_type": "markdown",
      "id": "466e2a39",
      "metadata": {
        "id": "466e2a39"
      },
      "source": [
        "<font size=\"5\">Build Your Own ANUGA Model (BYOAM) </font>\n",
        "\n",
        "<font size=\"3\">In this notebook, we will:\n",
        "\n",
        "- set model configuration parameters\n",
        "\n",
        "- download and preprocess elevation and landcover datasets\n",
        "\n",
        "    \n",
        "- Determine water body polygons\n",
        "\n",
        "\n",
        "- Build the Digital Elevation Model\n",
        "\n",
        "\n",
        "\n",
        "</font>\n",
        "\n",
        "<font size=\"3\">This could take some time, depending on model domain size and complexity of the water mask</font>\n",
        "\n",
        "<font size=\"3\">Before you can run this notebook, you should have run 0_InitiateProcess notebook</font>\n"
      ]
    },
    {
      "cell_type": "markdown",
      "source": [
        "<font size=5> Step #1: Mount Google Drive and Grant Access <font> <br>\n",
        "\n",
        "\n"
      ],
      "metadata": {
        "id": "rhp4yA4h2Njc"
      },
      "id": "rhp4yA4h2Njc"
    },
    {
      "cell_type": "markdown",
      "source": [
        "<font size=3> When you run the next cell, a pop-up window will appear asking you to grant access to your Google Drive. You must approve or the notebook will not work. <font> <br>\n"
      ],
      "metadata": {
        "id": "JkG2pXof2YoC"
      },
      "id": "JkG2pXof2YoC"
    },
    {
      "cell_type": "code",
      "source": [
        "import sys\n",
        "import os\n",
        "path = os.getcwd() + '/'\n",
        "where_to_mount = '/content/drive/'\n",
        "\n",
        "from google.colab import drive\n",
        "from google.colab import auth\n",
        "drive.mount(where_to_mount, force_remount=True)\n",
        "\n",
        "mounted_drive = where_to_mount + 'MyDrive/'"
      ],
      "metadata": {
        "colab": {
          "base_uri": "https://localhost:8080/"
        },
        "outputId": "6eb2ffa9-8ea9-465f-fec8-d998979b363d",
        "id": "s_IgSq3RgKtN"
      },
      "execution_count": 1,
      "outputs": [
        {
          "output_type": "stream",
          "name": "stdout",
          "text": [
            "Mounted at /content/drive/\n"
          ]
        }
      ],
      "id": "s_IgSq3RgKtN"
    },
    {
      "cell_type": "markdown",
      "metadata": {
        "id": "AXdcQrkUgUlM"
      },
      "source": [
        "<font size=5> Step #2: Install packages. <font> <br>\n",
        "<font size=3> This cell should install all Python packages you need for each tutorial.<font>"
      ],
      "id": "AXdcQrkUgUlM"
    },
    {
      "cell_type": "code",
      "source": [
        "import os\n",
        "os.chdir(mounted_drive)\n",
        "if os.path.isdir(mounted_drive + 'komo_estuary_tutorial'):\n",
        "  print('## Updating the local git repository \\n')\n",
        "  os.chdir(mounted_drive + '/komo_estuary_tutorial')\n",
        "  ! git pull \n",
        "else:\n",
        "  print('## Pulling the git repository with files for the tutorial\\n')\n",
        "  ! git clone https://github.com/achri19/komo_estuary_tutorial.git\n",
        "\n",
        "print('\\n## Installing the Python packages needed for these tutorials\\n')\n",
        "!/bin/bash $mounted_drive/komo_estuary_tutorial/install_packages.sh\n",
        "\n",
        "!unzip -n komo_starter.zip -d $mounted_drive \n"
      ],
      "metadata": {
        "outputId": "788a734c-3a8c-4c14-dcab-86eb44becef3",
        "colab": {
          "base_uri": "https://localhost:8080/"
        },
        "id": "1poqNGJSgKtK"
      },
      "execution_count": 2,
      "outputs": [
        {
          "output_type": "stream",
          "name": "stdout",
          "text": [
            "## Updating the local git repository \n",
            "\n",
            "remote: Enumerating objects: 10, done.\u001b[K\n",
            "remote: Counting objects: 100% (10/10), done.\u001b[K\n",
            "remote: Compressing objects: 100% (4/4), done.\u001b[K\n",
            "remote: Total 8 (delta 5), reused 6 (delta 4), pack-reused 0\u001b[K\n",
            "Unpacking objects: 100% (8/8), done.\n",
            "From https://github.com/achri19/komo_estuary_tutorial\n",
            "   e535500..bd0d730  main       -> origin/main\n",
            "Updating e535500..bd0d730\n",
            "Fast-forward\n",
            " install_packages.sh |   4 \u001b[32m++\u001b[m\u001b[31m--\u001b[m\n",
            " komo.zip            | Bin \u001b[31m1570417\u001b[m -> \u001b[32m0\u001b[m bytes\n",
            " 2 files changed, 2 insertions(+), 2 deletions(-)\n",
            " delete mode 100644 komo.zip\n",
            "\n",
            "## Installing the Python packages needed for these tutorials\n",
            "\n",
            "(1) Install pip packages to /content/drive/MyDrive/installations\n",
            "nose mpi4py triangle Pmw pymetis cmocean geopandas fiona pygeos rasterio rasterstats scikit-fmm rtree pyTMD Orinoco\n",
            "(2) Install gdal\n",
            "(3) Install netcdf4\n",
            "(4) Download anuga_core github repository\n",
            "https://github.com/GeoscienceAustralia/anuga_core\n",
            "(5) Install anuga\n",
            "(7) Completed\n",
            "Archive:  komo_starter.zip\n",
            "   creating: /content/drive/MyDrive/komo/\n",
            "  inflating: /content/drive/MyDrive/__MACOSX/._komo  \n",
            "  inflating: /content/drive/MyDrive/komo/.DS_Store  \n",
            "  inflating: /content/drive/MyDrive/__MACOSX/komo/._.DS_Store  \n",
            "   creating: /content/drive/MyDrive/komo/User_Defined_Files/\n",
            "  inflating: /content/drive/MyDrive/__MACOSX/komo/._User_Defined_Files  \n",
            "  inflating: /content/drive/MyDrive/komo/User_Defined_Files/.DS_Store  \n",
            "  inflating: /content/drive/MyDrive/__MACOSX/komo/User_Defined_Files/._.DS_Store  \n",
            "  inflating: /content/drive/MyDrive/komo/User_Defined_Files/komo_HydroLAKES.shx  \n",
            "  inflating: /content/drive/MyDrive/__MACOSX/komo/User_Defined_Files/._komo_HydroLAKES.shx  \n",
            "  inflating: /content/drive/MyDrive/komo/User_Defined_Files/komo_input.prj  \n",
            "  inflating: /content/drive/MyDrive/__MACOSX/komo/User_Defined_Files/._komo_input.prj  \n",
            "  inflating: /content/drive/MyDrive/komo/User_Defined_Files/komo_extent.csv  \n",
            "  inflating: /content/drive/MyDrive/__MACOSX/komo/User_Defined_Files/._komo_extent.csv  \n",
            "  inflating: /content/drive/MyDrive/komo/User_Defined_Files/komo_input.fix  \n",
            "  inflating: /content/drive/MyDrive/__MACOSX/komo/User_Defined_Files/._komo_input.fix  \n",
            "  inflating: /content/drive/MyDrive/komo/User_Defined_Files/komo_HydroLAKES.shp  \n",
            "  inflating: /content/drive/MyDrive/__MACOSX/komo/User_Defined_Files/._komo_HydroLAKES.shp  \n",
            "  inflating: /content/drive/MyDrive/komo/User_Defined_Files/komo_HydroLAKES.cpg  \n",
            "  inflating: /content/drive/MyDrive/__MACOSX/komo/User_Defined_Files/._komo_HydroLAKES.cpg  \n",
            "  inflating: /content/drive/MyDrive/komo/User_Defined_Files/komo_ndvimin_ndwimin_clustered_finalwatermask.tif  \n",
            "  inflating: /content/drive/MyDrive/__MACOSX/komo/User_Defined_Files/._komo_ndvimin_ndwimin_clustered_finalwatermask.tif  \n",
            "  inflating: /content/drive/MyDrive/komo/User_Defined_Files/komo_HydroLAKES.dbf  \n",
            "  inflating: /content/drive/MyDrive/__MACOSX/komo/User_Defined_Files/._komo_HydroLAKES.dbf  \n",
            "  inflating: /content/drive/MyDrive/komo/User_Defined_Files/komo_hydropolys.prj  \n",
            "  inflating: /content/drive/MyDrive/__MACOSX/komo/User_Defined_Files/._komo_hydropolys.prj  \n",
            "  inflating: /content/drive/MyDrive/komo/User_Defined_Files/komo_input.shp  \n",
            "  inflating: /content/drive/MyDrive/__MACOSX/komo/User_Defined_Files/._komo_input.shp  \n",
            "  inflating: /content/drive/MyDrive/komo/User_Defined_Files/komo_input.cpg  \n",
            "  inflating: /content/drive/MyDrive/__MACOSX/komo/User_Defined_Files/._komo_input.cpg  \n",
            "  inflating: /content/drive/MyDrive/komo/User_Defined_Files/komo_hydropolys.dbf  \n",
            "  inflating: /content/drive/MyDrive/__MACOSX/komo/User_Defined_Files/._komo_hydropolys.dbf  \n",
            "  inflating: /content/drive/MyDrive/komo/User_Defined_Files/komo_HydroLAKES.prj  \n",
            "  inflating: /content/drive/MyDrive/__MACOSX/komo/User_Defined_Files/._komo_HydroLAKES.prj  \n",
            "  inflating: /content/drive/MyDrive/komo/User_Defined_Files/komo_input.shx  \n",
            "  inflating: /content/drive/MyDrive/__MACOSX/komo/User_Defined_Files/._komo_input.shx  \n",
            "  inflating: /content/drive/MyDrive/komo/User_Defined_Files/komo_hydropolys.shx  \n",
            "  inflating: /content/drive/MyDrive/__MACOSX/komo/User_Defined_Files/._komo_hydropolys.shx  \n",
            "  inflating: /content/drive/MyDrive/komo/User_Defined_Files/komo_input.dbf  \n",
            "  inflating: /content/drive/MyDrive/__MACOSX/komo/User_Defined_Files/._komo_input.dbf  \n",
            "  inflating: /content/drive/MyDrive/komo/User_Defined_Files/komo_hydropolys.shp  \n",
            "  inflating: /content/drive/MyDrive/__MACOSX/komo/User_Defined_Files/._komo_hydropolys.shp  \n",
            "  inflating: /content/drive/MyDrive/komo/User_Defined_Files/komo_hydropolys.cpg  \n",
            "  inflating: /content/drive/MyDrive/__MACOSX/komo/User_Defined_Files/._komo_hydropolys.cpg  \n"
          ]
        }
      ],
      "id": "1poqNGJSgKtK"
    },
    {
      "cell_type": "markdown",
      "source": [
        "<font size=5> Step #3: Set up working directories<font> \n"
      ],
      "metadata": {
        "id": "tqD-wrOGvE2I"
      },
      "id": "tqD-wrOGvE2I"
    },
    {
      "cell_type": "markdown",
      "source": [
        "<font size=3> We will access data files stored on a shared Google Drive. You will also need to save files to your own Google Drive.<font>\n",
        "\n"
      ],
      "metadata": {
        "id": "QgL2wZHj16ze"
      },
      "id": "QgL2wZHj16ze"
    },
    {
      "cell_type": "code",
      "source": [
        "path = where_to_mount + 'MyDrive/processing/'\n",
        "path_code = path + 'code/'\n",
        "path_templates = path +  'templates/'\n",
        "path_configs = path + 'configs/'\n",
        "path_ancillary = path + 'ancillary/'\n",
        "sys.path.insert(1,path_code)\n"
      ],
      "metadata": {
        "id": "cmQy7ZMRgKtQ"
      },
      "execution_count": 3,
      "outputs": [],
      "id": "cmQy7ZMRgKtQ"
    },
    {
      "cell_type": "markdown",
      "source": [
        "<font size=5> Step #4: Now we will import Python packages, which will be used for future tutorials. If there are any errors, try rerunning the first cell <font> \n",
        "\n",
        "\n"
      ],
      "metadata": {
        "id": "3mnrUfhr3NWW"
      },
      "id": "3mnrUfhr3NWW"
    },
    {
      "cell_type": "code",
      "execution_count": 4,
      "id": "4a749118",
      "metadata": {
        "id": "4a749118"
      },
      "outputs": [],
      "source": [
        "import sys\n",
        "import os\n",
        "import pandas as pd\n",
        "import shutil\n",
        "from datetime import datetime\n",
        "from string import Template\n",
        "import fnmatch\n",
        "import geopandas as gpd\n",
        "import rasterio\n",
        "from osgeo import gdal \n",
        "from pathlib import Path\n",
        "import matplotlib.pyplot as plt\n",
        "import numpy as np\n",
        "import rtree\n",
        "import pygeos\n",
        "import pyTMD\n"
      ]
    },
    {
      "cell_type": "code",
      "source": [
        "from BYOM_Utilities_V1 import (build_directory,\n",
        "                               get_extent_parameters,\n",
        "                               setup_AOI_files, \n",
        "                               make_polygons,\n",
        "                               make_channel_networks,\n",
        "                               make_model_foundation, \n",
        "                               set_boundary_conditions, \n",
        "                               make_watermask,\n",
        "                               more_opening)"
      ],
      "metadata": {
        "id": "CPPe7c_zQ1aE"
      },
      "id": "CPPe7c_zQ1aE",
      "execution_count": 5,
      "outputs": []
    },
    {
      "cell_type": "markdown",
      "id": "c6bd01ec",
      "metadata": {
        "id": "c6bd01ec"
      },
      "source": [
        "<font size='5' color = 'red' > Building the DEM STEP #1: <br> Set the AOI again and make sure the working directory is set. If you ran 0_InitiateProcess notebook then the directory should already be made. </font>\n"
      ]
    },
    {
      "cell_type": "code",
      "execution_count": 12,
      "id": "43f0d63c",
      "metadata": {
        "colab": {
          "base_uri": "https://localhost:8080/"
        },
        "id": "43f0d63c",
        "outputId": "8f17ba26-66e0-4f6c-aeba-4beb3e5fb18b"
      },
      "outputs": [
        {
          "output_type": "stream",
          "name": "stdout",
          "text": [
            "\n",
            "\n",
            "Study area is komo\n",
            "Resolution of this setup is 30m\n",
            "\n",
            "\n",
            "\n",
            "##############################################################################################\n",
            "################################[Step 1][Build Directory]#####################################\n",
            "##############################################################################################\n",
            "\n",
            "##################### The working directory set as: \n",
            "\n",
            "/content/drive/MyDrive/komo/\n",
            " \n",
            "##################### Folders are:\n",
            "##################### 0 User_Defined_Files --> User shapefile of model domain and water mask\n",
            "##################### 1 tmp --> For temporary files\n",
            "##################### 3 Meshes --> Where we will build model meshes\n",
            "##################### 4 DEMs --> Where we will build digital elevation models\n",
            "##################### 5 Boundaries --> Where we will store boundary files\n",
            "##################### 6 Simulations --> Where we will run simulations\n",
            "##################### 7 Setup_Files/Setup_SHP --> Shapefiles for setup \n",
            "##################### 8 Setup_Files/Setup_RST --> Rasters for setup\n",
            "##################### 9 Setup_Files/Setup_FIG --> Figures\n",
            "\n",
            "[Step 1][Build Directory] Finished .......\n",
            "\n"
          ]
        },
        {
          "output_type": "execute_result",
          "data": {
            "text/plain": [
              "['/content/drive/MyDrive/komo/User_Defined_Files/',\n",
              " '/content/drive/MyDrive/komo/tmp/',\n",
              " '/content/drive/MyDrive/komo/Setup_Files/',\n",
              " '/content/drive/MyDrive/komo/Meshes/',\n",
              " '/content/drive/MyDrive/komo/DEMs/',\n",
              " '/content/drive/MyDrive/komo/Boundaries',\n",
              " '/content/drive/MyDrive/komo/Simulations/',\n",
              " '/content/drive/MyDrive/komo/Setup_Files/Setup_SHP/',\n",
              " '/content/drive/MyDrive/komo/Setup_Files/Setup_RST/',\n",
              " '/content/drive/MyDrive/komo/Setup_Files/Setup_FIG/']"
            ]
          },
          "metadata": {},
          "execution_count": 12
        }
      ],
      "source": [
        "AOI = 'komo'\n",
        "\n",
        "Path((mounted_drive + AOI)).mkdir(parents=True, exist_ok=True)\n",
        "\n",
        "skip = False\n",
        "res = 30 #meters\n",
        "print('\\n')\n",
        "print('Study area is ' + AOI)\n",
        "print('Resolution of this setup is %sm' %(res))\n",
        "\n",
        "working_path,folders = build_directory(mounted_drive, AOI)"
      ]
    },
    {
      "cell_type": "markdown",
      "id": "819f9ee3",
      "metadata": {
        "id": "819f9ee3"
      },
      "source": [
        "<font size='5' color = 'red' > Building the DEM STEP #2: <br> Here we set the necessary configuration parameters and then get extent coordinates for the model </font>\n"
      ]
    },
    {
      "cell_type": "markdown",
      "id": "9fed49ec",
      "metadata": {
        "id": "9fed49ec"
      },
      "source": [
        "<font size=\"3\">If you want to change any parameters see a list of options for each</font>"
      ]
    },
    {
      "cell_type": "code",
      "execution_count": 7,
      "id": "6effe23c",
      "metadata": {
        "scrolled": true,
        "id": "6effe23c"
      },
      "outputs": [],
      "source": [
        "parameters = pd.DataFrame()\n",
        "parameters['AOI'] = [AOI]\n",
        "parameters['area_m2'] = '2927792509'\n",
        "parameters['perimeter_m'] = '220499.16'\n",
        "parameters['RiverOceanBoundary'] = '1260'\n",
        "parameters['Discharge'] = '426'\n",
        "parameters['ExtentFile'] = 'Ebro_input.shp'\n",
        "\n",
        "#Method parameters:\n",
        "parameters['LandcoverMethod'] = 'WorldCover'\n",
        "parameters['LandElevMethod'] = 'GLO30'\n",
        "parameters['OceanElevMethod'] = 'GEBCO'\n",
        "parameters['LowerRiverElevMethod'] = 'plane'\n",
        "parameters['UpperRiverElevMethod'] = 'wdpower'\n",
        "parameters['WetlandElevMethod'] = 'constant_0'\n",
        "parameters['LakeElevMethod'] = 'constant_1'\n",
        "parameters['ManningLUT'] = 'default'\n",
        "parameters['WetlandClass'] = '90'\n",
        "\n",
        "#Coefficients for determining bathymetry:\n",
        "parameters['BEDINTERCEPT_lower'] = '0.0000403'\n",
        "parameters['BEDSLOPE_lower'] = '0.00000599'\n",
        "parameters['BEDINTERCEPT_upper'] = '0.0000403'\n",
        "parameters['BEDSLOPE_upper'] = '0.00000599'\n",
        "parameters['WD_LINEARSLOPE_lower'] = '0.0123'\n",
        "parameters['WD_LINEARINTERCEPT_lower'] = '0.9628'\n",
        "parameters['WD_LINEARSLOPE_upper'] = '0.0123'\n",
        "parameters['WD_LINEARINTERCEPT_upper'] = '0.9628'\n",
        "parameters['WD_POWERA_lower'] = '0.0606'\n",
        "parameters['WD_POWERB_lower'] = '0.7732'\n",
        "parameters['WD_POWERA_upper'] = '0.0606'\n",
        "parameters['WD_POWERB_upper'] = '0.7732'\n",
        "\n",
        "#Max thresholds:\n",
        "parameters['MaxOceanDepth'] = '-300'\n",
        "parameters['MaxNearshoreDepth'] = '-300'\n",
        "parameters['MaxRiverDepth'] = '-300'\n",
        "parameters['MaxRiverWidth'] = '756'\n",
        "\n"
      ]
    },
    {
      "cell_type": "code",
      "execution_count": 8,
      "id": "77e36fda",
      "metadata": {
        "colab": {
          "base_uri": "https://localhost:8080/"
        },
        "id": "77e36fda",
        "outputId": "4f271278-55f5-446f-8a0a-23c1e791f020"
      },
      "outputs": [
        {
          "output_type": "stream",
          "name": "stdout",
          "text": [
            "\n",
            "\n",
            "\n",
            "##############################################################################################\n",
            "#################################[Step 2][Setup_AOI_Files]####################################\n",
            "##############################################################################################\n",
            "\n",
            "##################### AOI extent is set by: komo_input.shp\n",
            "The input shapefile is not in the correction projection (EPSG 4326), reprojecting to EPSG 4326\n",
            "\n",
            "[Step 2][Setup_AOI_Files][Determine EPSG code and UTM zone] .......\n",
            "\n",
            "##################### ANUGA Models must be in UTM\n",
            "##################### UTM Zone: 32n\n",
            "##################### EPSG: 32232 \n",
            "\n",
            "[Step 2][Setup_AOI_Files][Extending AOI by 1000m] .......\n",
            "\n",
            "\n",
            "[Step 2][Setup_AOI_Files][Setting up AOI extent] .......\n",
            "\n",
            "##################### AOI bounds are : 501790, -2260, 610150, 64700\n",
            "##################### Approximate area of AOI extent is 7256.0 km^2\n",
            "\n",
            "[Step 2][Setup_AOI_Files][Downloading GEBCO Dataset as reference for projection, resolution, etc] .......\n",
            "\n",
            "\n",
            "[Step 2][Setup_AOI_Files][Saving configuration file] .......\n",
            "\n",
            "##################### Saved as /Setup_Files/komo_Configuration.csv\n"
          ]
        }
      ],
      "source": [
        "ref_10m,parameters = get_extent_parameters(path_ancillary,AOI,folders,res,parameters)\n"
      ]
    },
    {
      "cell_type": "code",
      "source": [
        "plt.imshow(ref_10m.read(1),vmin=-50,vmax=0)"
      ],
      "metadata": {
        "colab": {
          "base_uri": "https://localhost:8080/",
          "height": 276
        },
        "id": "HHy249g7MZU_",
        "outputId": "401c2565-a845-4339-c267-ebe188e8c7bc"
      },
      "id": "HHy249g7MZU_",
      "execution_count": 9,
      "outputs": [
        {
          "output_type": "execute_result",
          "data": {
            "text/plain": [
              "<matplotlib.image.AxesImage at 0x7fc61a4a0b90>"
            ]
          },
          "metadata": {},
          "execution_count": 9
        },
        {
          "output_type": "display_data",
          "data": {
            "text/plain": [
              "<Figure size 432x288 with 1 Axes>"
            ],
            "image/png": "[encoded data removed]"
          },
          "metadata": {
            "needs_background": "light"
          }
        }
      ]
    },
    {
      "cell_type": "markdown",
      "id": "16639d91",
      "metadata": {
        "id": "16639d91"
      },
      "source": [
        "<font size='5' color = 'red' > The parameters were saved to a configuration file, we open that here </font>\n"
      ]
    },
    {
      "cell_type": "code",
      "execution_count": 10,
      "id": "8d26852d",
      "metadata": {
        "colab": {
          "base_uri": "https://localhost:8080/"
        },
        "id": "8d26852d",
        "outputId": "11d969f6-7748-4248-e7cd-6088148a5425"
      },
      "outputs": [
        {
          "output_type": "stream",
          "name": "stdout",
          "text": [
            "Unnamed: 0                               0\n",
            "AOI                                   komo\n",
            "area_m2                         2927792509\n",
            "perimeter_m                      220499.16\n",
            "RiverOceanBoundary                    1260\n",
            "Discharge                              426\n",
            "ExtentFile                  Ebro_input.shp\n",
            "LandcoverMethod                 WorldCover\n",
            "LandElevMethod                       GLO30\n",
            "OceanElevMethod                      GEBCO\n",
            "LowerRiverElevMethod                 plane\n",
            "UpperRiverElevMethod               wdpower\n",
            "WetlandElevMethod               constant_0\n",
            "LakeElevMethod                  constant_1\n",
            "ManningLUT                         default\n",
            "WetlandClass                            90\n",
            "BEDINTERCEPT_lower                 0.00004\n",
            "BEDSLOPE_lower                    0.000006\n",
            "BEDINTERCEPT_upper                 0.00004\n",
            "BEDSLOPE_upper                    0.000006\n",
            "WD_LINEARSLOPE_lower                0.0123\n",
            "WD_LINEARINTERCEPT_lower            0.9628\n",
            "WD_LINEARSLOPE_upper                0.0123\n",
            "WD_LINEARINTERCEPT_upper            0.9628\n",
            "WD_POWERA_lower                     0.0606\n",
            "WD_POWERB_lower                     0.7732\n",
            "WD_POWERA_upper                     0.0606\n",
            "WD_POWERB_upper                     0.7732\n",
            "MaxOceanDepth                         -300\n",
            "MaxNearshoreDepth                     -300\n",
            "MaxRiverDepth                         -300\n",
            "MaxRiverWidth                          756\n",
            "ulx                                 501794\n",
            "lry                                  -2259\n",
            "lrx                                 610154\n",
            "uly                                  64701\n",
            "EPSG                                 32232\n",
            "Name: 0, dtype: object\n"
          ]
        }
      ],
      "source": [
        "parameters = pd.read_csv('%s/%s_Configuration.csv' %(folders[2],AOI))\n",
        "print(parameters.iloc[0] )"
      ]
    },
    {
      "cell_type": "markdown",
      "id": "ce31f780",
      "metadata": {
        "id": "ce31f780"
      },
      "source": [
        "<font size='5' color = 'red' > Building the DEM STEP #3a: <br> Download GEBCO, GLO30, World Cover, and Global Mangrove Maps for the area</font>"
      ]
    },
    {
      "cell_type": "code",
      "execution_count": 11,
      "id": "154a55c7",
      "metadata": {
        "colab": {
          "base_uri": "https://localhost:8080/",
          "height": 1000
        },
        "id": "154a55c7",
        "outputId": "8e96f582-a871-43b6-ad54-02c6515ebbc9"
      },
      "outputs": [
        {
          "output_type": "stream",
          "name": "stdout",
          "text": [
            "\n",
            "\n",
            "\n",
            "##############################################################################################\n",
            "#################################[Step 2][Setup_AOI_Files]####################################\n",
            "##############################################################################################\n",
            "\n",
            "The input shapefile is not in the correction projection (EPSG 4326), reprojecting to EPSG 4326\n",
            "##################### Reference raster is komo_GEBCO_30.tif\n",
            "##################### This profile will be used for all future warping\n",
            "##################### Resolution is 30m\n",
            "\n",
            "[Step 2][Setup_AOI_Files][Compiling OCEAN elevation dataset] .......\n",
            "\n",
            "##################### Ocean elevation set with:  GEBCO\n",
            "##################### Saving Ocean Bathymetry file as /Setup_Files/Setup_RST/komo_bathy_30.tif\n",
            "\n",
            "[Step 2][Setup_AOI_Files][Compiling LAND elevation dataset] .......\n",
            "\n",
            "##################### Land elevation set with: GLO30\n",
            "##################### Downloading Tandem-X GLO30\n",
            "X = 8\n",
            "North Y = 0\n",
            "Tried to connect 10 times and failed - moving to the next tile. Probably no tile here (ocean?)\n",
            "North Y = 1\n",
            "Tried to connect 10 times and failed - moving to the next tile. Probably no tile here (ocean?)\n",
            "South Y = 0\n",
            "Tried to connect 10 times and failed - moving to the next tile\n",
            "South Y = 1\n",
            "contents of URL written to GLO30_s01e008.tif\n",
            "South Y = 2\n",
            "contents of URL written to GLO30_s02e008.tif\n",
            "South Y = 3\n",
            "Tried to connect 10 times and failed - moving to the next tile\n",
            "X = 9\n",
            "North Y = 0\n",
            "contents of URL written to GLO30_n00e009.tif\n",
            "North Y = 1\n",
            "contents of URL written to GLO30_n01e009.tif\n",
            "South Y = 0\n",
            "Tried to connect 10 times and failed - moving to the next tile\n",
            "South Y = 1\n",
            "contents of URL written to GLO30_s01e009.tif\n",
            "South Y = 2\n",
            "contents of URL written to GLO30_s02e009.tif\n",
            "South Y = 3\n",
            "contents of URL written to GLO30_s03e009.tif\n",
            "X = 10\n",
            "North Y = 0\n",
            "contents of URL written to GLO30_n00e010.tif\n",
            "North Y = 1\n",
            "contents of URL written to GLO30_n01e010.tif\n",
            "South Y = 0\n"
          ]
        },
        {
          "output_type": "error",
          "ename": "KeyboardInterrupt",
          "evalue": "ignored",
          "traceback": [
            "\u001b[0;31m---------------------------------------------------------------------------\u001b[0m",
            "\u001b[0;31mTypeError\u001b[0m                                 Traceback (most recent call last)",
            "\u001b[0;32m/usr/local/lib/python3.7/dist-packages/urllib3/connectionpool.py\u001b[0m in \u001b[0;36m_make_request\u001b[0;34m(self, conn, method, url, timeout, chunked, **httplib_request_kw)\u001b[0m\n\u001b[1;32m    376\u001b[0m             \u001b[0;32mtry\u001b[0m\u001b[0;34m:\u001b[0m  \u001b[0;31m# Python 2.7, use buffering of HTTP responses\u001b[0m\u001b[0;34m\u001b[0m\u001b[0;34m\u001b[0m\u001b[0m\n\u001b[0;32m--> 377\u001b[0;31m                 \u001b[0mhttplib_response\u001b[0m \u001b[0;34m=\u001b[0m \u001b[0mconn\u001b[0m\u001b[0;34m.\u001b[0m\u001b[0mgetresponse\u001b[0m\u001b[0;34m(\u001b[0m\u001b[0mbuffering\u001b[0m\u001b[0;34m=\u001b[0m\u001b[0;32mTrue\u001b[0m\u001b[0;34m)\u001b[0m\u001b[0;34m\u001b[0m\u001b[0;34m\u001b[0m\u001b[0m\n\u001b[0m\u001b[1;32m    378\u001b[0m             \u001b[0;32mexcept\u001b[0m \u001b[0mTypeError\u001b[0m\u001b[0;34m:\u001b[0m  \u001b[0;31m# Python 3\u001b[0m\u001b[0;34m\u001b[0m\u001b[0;34m\u001b[0m\u001b[0m\n",
            "\u001b[0;31mTypeError\u001b[0m: getresponse() got an unexpected keyword argument 'buffering'",
            "\nDuring handling of the above exception, another exception occurred:\n",
            "\u001b[0;31mKeyboardInterrupt\u001b[0m                         Traceback (most recent call last)",
            "\u001b[0;32m<ipython-input-11-6b95d977e13b>\u001b[0m in \u001b[0;36m<module>\u001b[0;34m\u001b[0m\n\u001b[1;32m      3\u001b[0m                     \u001b[0mfolders\u001b[0m\u001b[0;34m,\u001b[0m\u001b[0;34m\u001b[0m\u001b[0;34m\u001b[0m\u001b[0m\n\u001b[1;32m      4\u001b[0m                     \u001b[0mres\u001b[0m\u001b[0;34m,\u001b[0m\u001b[0;34m\u001b[0m\u001b[0;34m\u001b[0m\u001b[0m\n\u001b[0;32m----> 5\u001b[0;31m                     parameters)\n\u001b[0m",
            "\u001b[0;32m/content/drive/MyDrive/processing/code/BYOM_Utilities_V1.py\u001b[0m in \u001b[0;36msetup_AOI_files\u001b[0;34m(path, delta, folders, xres, parameters)\u001b[0m\n\u001b[1;32m    378\u001b[0m                     \u001b[0mprint\u001b[0m\u001b[0;34m(\u001b[0m\u001b[0;34m'##################### Downloading Tandem-X GLO30'\u001b[0m\u001b[0;34m)\u001b[0m\u001b[0;34m\u001b[0m\u001b[0;34m\u001b[0m\u001b[0m\n\u001b[1;32m    379\u001b[0m                     \u001b[0;31m## Download appropriate TanDEM X Glo 30 files and merge into VRT\u001b[0m\u001b[0;34m\u001b[0m\u001b[0;34m\u001b[0m\u001b[0;34m\u001b[0m\u001b[0m\n\u001b[0;32m--> 380\u001b[0;31m                     \u001b[0mdownload_NASADEM2\u001b[0m\u001b[0;34m(\u001b[0m\u001b[0;34m'GLO30'\u001b[0m\u001b[0;34m,\u001b[0m\u001b[0mdelta\u001b[0m\u001b[0;34m,\u001b[0m\u001b[0;34m''\u001b[0m\u001b[0;34m,\u001b[0m\u001b[0mfolders\u001b[0m\u001b[0;34m[\u001b[0m\u001b[0;36m1\u001b[0m\u001b[0;34m:\u001b[0m\u001b[0;34m]\u001b[0m\u001b[0;34m,\u001b[0m\u001b[0mx1\u001b[0m\u001b[0;34m,\u001b[0m\u001b[0mx2\u001b[0m\u001b[0;34m,\u001b[0m\u001b[0my1\u001b[0m\u001b[0;34m,\u001b[0m\u001b[0my2\u001b[0m\u001b[0;34m,\u001b[0m\u001b[0mzone\u001b[0m\u001b[0;34m,\u001b[0m\u001b[0mulx\u001b[0m\u001b[0;34m,\u001b[0m\u001b[0mlry\u001b[0m\u001b[0;34m,\u001b[0m\u001b[0mlrx\u001b[0m\u001b[0;34m,\u001b[0m\u001b[0muly\u001b[0m\u001b[0;34m,\u001b[0m\u001b[0mref_res\u001b[0m\u001b[0;34m,\u001b[0m\u001b[0mref_res\u001b[0m\u001b[0;34m)\u001b[0m\u001b[0;34m\u001b[0m\u001b[0;34m\u001b[0m\u001b[0m\n\u001b[0m\u001b[1;32m    381\u001b[0m                     \u001b[0mprint\u001b[0m\u001b[0;34m(\u001b[0m\u001b[0;34m'##################### Already in EGM08 (EPSG 3855)'\u001b[0m\u001b[0;34m)\u001b[0m\u001b[0;34m\u001b[0m\u001b[0;34m\u001b[0m\u001b[0m\n\u001b[1;32m    382\u001b[0m                     os.system('gdalwarp -overwrite -srcnodata -9999 -dstnodata -9999 -wt Float64 -ot Float64 '\\\n",
            "\u001b[0;32m/content/drive/MyDrive/processing/code/deltas_download.py\u001b[0m in \u001b[0;36mdownload_NASADEM2\u001b[0;34m(source, delta, nasadem_path, folders, x1, x2, y1, y2, zone, ulx, lry, lrx, uly, xres, yres)\u001b[0m\n\u001b[1;32m    135\u001b[0m                         \u001b[0murl\u001b[0m \u001b[0;34m=\u001b[0m \u001b[0;34m'https://copernicus-dem-30m.s3.amazonaws.com/Copernicus_DSM_COG_10_%s%s_00_%s%s_00_DEM/Copernicus_DSM_COG_10_%s%s_00_%s%s_00_DEM.tif'\u001b[0m \u001b[0;34m%\u001b[0m\u001b[0;34m(\u001b[0m\u001b[0mNS2\u001b[0m\u001b[0;34m.\u001b[0m\u001b[0mupper\u001b[0m\u001b[0;34m(\u001b[0m\u001b[0;34m)\u001b[0m\u001b[0;34m,\u001b[0m\u001b[0mstr\u001b[0m\u001b[0;34m(\u001b[0m\u001b[0mytile2\u001b[0m\u001b[0;34m)\u001b[0m\u001b[0;34m.\u001b[0m\u001b[0mzfill\u001b[0m\u001b[0;34m(\u001b[0m\u001b[0;36m2\u001b[0m\u001b[0;34m)\u001b[0m\u001b[0;34m,\u001b[0m\u001b[0mEW\u001b[0m\u001b[0;34m.\u001b[0m\u001b[0mupper\u001b[0m\u001b[0;34m(\u001b[0m\u001b[0;34m)\u001b[0m\u001b[0;34m,\u001b[0m\u001b[0mstr\u001b[0m\u001b[0;34m(\u001b[0m\u001b[0mxtile\u001b[0m\u001b[0;34m)\u001b[0m\u001b[0;34m.\u001b[0m\u001b[0mzfill\u001b[0m\u001b[0;34m(\u001b[0m\u001b[0;36m3\u001b[0m\u001b[0;34m)\u001b[0m\u001b[0;34m,\u001b[0m\u001b[0mNS2\u001b[0m\u001b[0;34m.\u001b[0m\u001b[0mupper\u001b[0m\u001b[0;34m(\u001b[0m\u001b[0;34m)\u001b[0m\u001b[0;34m,\u001b[0m\u001b[0mstr\u001b[0m\u001b[0;34m(\u001b[0m\u001b[0mytile2\u001b[0m\u001b[0;34m)\u001b[0m\u001b[0;34m.\u001b[0m\u001b[0mzfill\u001b[0m\u001b[0;34m(\u001b[0m\u001b[0;36m2\u001b[0m\u001b[0;34m)\u001b[0m\u001b[0;34m,\u001b[0m\u001b[0mEW\u001b[0m\u001b[0;34m.\u001b[0m\u001b[0mupper\u001b[0m\u001b[0;34m(\u001b[0m\u001b[0;34m)\u001b[0m\u001b[0;34m,\u001b[0m\u001b[0mstr\u001b[0m\u001b[0;34m(\u001b[0m\u001b[0mxtile\u001b[0m\u001b[0;34m)\u001b[0m\u001b[0;34m.\u001b[0m\u001b[0mzfill\u001b[0m\u001b[0;34m(\u001b[0m\u001b[0;36m3\u001b[0m\u001b[0;34m)\u001b[0m\u001b[0;34m)\u001b[0m\u001b[0;34m\u001b[0m\u001b[0;34m\u001b[0m\u001b[0m\n\u001b[1;32m    136\u001b[0m                         \u001b[0mfiletype\u001b[0m \u001b[0;34m=\u001b[0m \u001b[0;34m'tif'\u001b[0m\u001b[0;34m\u001b[0m\u001b[0;34m\u001b[0m\u001b[0m\n\u001b[0;32m--> 137\u001b[0;31m                     \u001b[0mresult\u001b[0m \u001b[0;34m=\u001b[0m \u001b[0mrequests\u001b[0m\u001b[0;34m.\u001b[0m\u001b[0mget\u001b[0m\u001b[0;34m(\u001b[0m\u001b[0murl\u001b[0m\u001b[0;34m)\u001b[0m\u001b[0;34m\u001b[0m\u001b[0;34m\u001b[0m\u001b[0m\n\u001b[0m\u001b[1;32m    138\u001b[0m                     \u001b[0mresult\u001b[0m\u001b[0;34m.\u001b[0m\u001b[0mraise_for_status\u001b[0m\u001b[0;34m(\u001b[0m\u001b[0;34m)\u001b[0m\u001b[0;34m\u001b[0m\u001b[0;34m\u001b[0m\u001b[0m\n\u001b[1;32m    139\u001b[0m                     \u001b[0mf\u001b[0m \u001b[0;34m=\u001b[0m \u001b[0mopen\u001b[0m\u001b[0;34m(\u001b[0m\u001b[0mnasadem_path\u001b[0m \u001b[0;34m+\u001b[0m \u001b[0mfolders\u001b[0m\u001b[0;34m[\u001b[0m\u001b[0;36m0\u001b[0m\u001b[0;34m]\u001b[0m\u001b[0;34m+\u001b[0m\u001b[0msource\u001b[0m\u001b[0;34m+\u001b[0m\u001b[0;34m'_%s%s%s%s.%s'\u001b[0m \u001b[0;34m%\u001b[0m\u001b[0;34m(\u001b[0m\u001b[0mNS2\u001b[0m\u001b[0;34m,\u001b[0m\u001b[0mstr\u001b[0m\u001b[0;34m(\u001b[0m\u001b[0mytile2\u001b[0m\u001b[0;34m)\u001b[0m\u001b[0;34m.\u001b[0m\u001b[0mzfill\u001b[0m\u001b[0;34m(\u001b[0m\u001b[0;36m2\u001b[0m\u001b[0;34m)\u001b[0m\u001b[0;34m,\u001b[0m\u001b[0mEW\u001b[0m\u001b[0;34m,\u001b[0m\u001b[0mstr\u001b[0m\u001b[0;34m(\u001b[0m\u001b[0mxtile\u001b[0m\u001b[0;34m)\u001b[0m\u001b[0;34m.\u001b[0m\u001b[0mzfill\u001b[0m\u001b[0;34m(\u001b[0m\u001b[0;36m3\u001b[0m\u001b[0;34m)\u001b[0m\u001b[0;34m,\u001b[0m\u001b[0mfiletype\u001b[0m\u001b[0;34m)\u001b[0m\u001b[0;34m,\u001b[0m\u001b[0;34m'wb'\u001b[0m\u001b[0;34m)\u001b[0m\u001b[0;34m\u001b[0m\u001b[0;34m\u001b[0m\u001b[0m\n",
            "\u001b[0;32m/usr/local/lib/python3.7/dist-packages/requests/api.py\u001b[0m in \u001b[0;36mget\u001b[0;34m(url, params, **kwargs)\u001b[0m\n\u001b[1;32m     74\u001b[0m \u001b[0;34m\u001b[0m\u001b[0m\n\u001b[1;32m     75\u001b[0m     \u001b[0mkwargs\u001b[0m\u001b[0;34m.\u001b[0m\u001b[0msetdefault\u001b[0m\u001b[0;34m(\u001b[0m\u001b[0;34m'allow_redirects'\u001b[0m\u001b[0;34m,\u001b[0m \u001b[0;32mTrue\u001b[0m\u001b[0;34m)\u001b[0m\u001b[0;34m\u001b[0m\u001b[0;34m\u001b[0m\u001b[0m\n\u001b[0;32m---> 76\u001b[0;31m     \u001b[0;32mreturn\u001b[0m \u001b[0mrequest\u001b[0m\u001b[0;34m(\u001b[0m\u001b[0;34m'get'\u001b[0m\u001b[0;34m,\u001b[0m \u001b[0murl\u001b[0m\u001b[0;34m,\u001b[0m \u001b[0mparams\u001b[0m\u001b[0;34m=\u001b[0m\u001b[0mparams\u001b[0m\u001b[0;34m,\u001b[0m \u001b[0;34m**\u001b[0m\u001b[0mkwargs\u001b[0m\u001b[0;34m)\u001b[0m\u001b[0;34m\u001b[0m\u001b[0;34m\u001b[0m\u001b[0m\n\u001b[0m\u001b[1;32m     77\u001b[0m \u001b[0;34m\u001b[0m\u001b[0m\n\u001b[1;32m     78\u001b[0m \u001b[0;34m\u001b[0m\u001b[0m\n",
            "\u001b[0;32m/usr/local/lib/python3.7/dist-packages/requests/api.py\u001b[0m in \u001b[0;36mrequest\u001b[0;34m(method, url, **kwargs)\u001b[0m\n\u001b[1;32m     59\u001b[0m     \u001b[0;31m# cases, and look like a memory leak in others.\u001b[0m\u001b[0;34m\u001b[0m\u001b[0;34m\u001b[0m\u001b[0;34m\u001b[0m\u001b[0m\n\u001b[1;32m     60\u001b[0m     \u001b[0;32mwith\u001b[0m \u001b[0msessions\u001b[0m\u001b[0;34m.\u001b[0m\u001b[0mSession\u001b[0m\u001b[0;34m(\u001b[0m\u001b[0;34m)\u001b[0m \u001b[0;32mas\u001b[0m \u001b[0msession\u001b[0m\u001b[0;34m:\u001b[0m\u001b[0;34m\u001b[0m\u001b[0;34m\u001b[0m\u001b[0m\n\u001b[0;32m---> 61\u001b[0;31m         \u001b[0;32mreturn\u001b[0m \u001b[0msession\u001b[0m\u001b[0;34m.\u001b[0m\u001b[0mrequest\u001b[0m\u001b[0;34m(\u001b[0m\u001b[0mmethod\u001b[0m\u001b[0;34m=\u001b[0m\u001b[0mmethod\u001b[0m\u001b[0;34m,\u001b[0m \u001b[0murl\u001b[0m\u001b[0;34m=\u001b[0m\u001b[0murl\u001b[0m\u001b[0;34m,\u001b[0m \u001b[0;34m**\u001b[0m\u001b[0mkwargs\u001b[0m\u001b[0;34m)\u001b[0m\u001b[0;34m\u001b[0m\u001b[0;34m\u001b[0m\u001b[0m\n\u001b[0m\u001b[1;32m     62\u001b[0m \u001b[0;34m\u001b[0m\u001b[0m\n\u001b[1;32m     63\u001b[0m \u001b[0;34m\u001b[0m\u001b[0m\n",
            "\u001b[0;32m/usr/local/lib/python3.7/dist-packages/requests/sessions.py\u001b[0m in \u001b[0;36mrequest\u001b[0;34m(self, method, url, params, data, headers, cookies, files, auth, timeout, allow_redirects, proxies, hooks, stream, verify, cert, json)\u001b[0m\n\u001b[1;32m    528\u001b[0m         }\n\u001b[1;32m    529\u001b[0m         \u001b[0msend_kwargs\u001b[0m\u001b[0;34m.\u001b[0m\u001b[0mupdate\u001b[0m\u001b[0;34m(\u001b[0m\u001b[0msettings\u001b[0m\u001b[0;34m)\u001b[0m\u001b[0;34m\u001b[0m\u001b[0;34m\u001b[0m\u001b[0m\n\u001b[0;32m--> 530\u001b[0;31m         \u001b[0mresp\u001b[0m \u001b[0;34m=\u001b[0m \u001b[0mself\u001b[0m\u001b[0;34m.\u001b[0m\u001b[0msend\u001b[0m\u001b[0;34m(\u001b[0m\u001b[0mprep\u001b[0m\u001b[0;34m,\u001b[0m \u001b[0;34m**\u001b[0m\u001b[0msend_kwargs\u001b[0m\u001b[0;34m)\u001b[0m\u001b[0;34m\u001b[0m\u001b[0;34m\u001b[0m\u001b[0m\n\u001b[0m\u001b[1;32m    531\u001b[0m \u001b[0;34m\u001b[0m\u001b[0m\n\u001b[1;32m    532\u001b[0m         \u001b[0;32mreturn\u001b[0m \u001b[0mresp\u001b[0m\u001b[0;34m\u001b[0m\u001b[0;34m\u001b[0m\u001b[0m\n",
            "\u001b[0;32m/usr/local/lib/python3.7/dist-packages/requests/sessions.py\u001b[0m in \u001b[0;36msend\u001b[0;34m(self, request, **kwargs)\u001b[0m\n\u001b[1;32m    641\u001b[0m \u001b[0;34m\u001b[0m\u001b[0m\n\u001b[1;32m    642\u001b[0m         \u001b[0;31m# Send the request\u001b[0m\u001b[0;34m\u001b[0m\u001b[0;34m\u001b[0m\u001b[0;34m\u001b[0m\u001b[0m\n\u001b[0;32m--> 643\u001b[0;31m         \u001b[0mr\u001b[0m \u001b[0;34m=\u001b[0m \u001b[0madapter\u001b[0m\u001b[0;34m.\u001b[0m\u001b[0msend\u001b[0m\u001b[0;34m(\u001b[0m\u001b[0mrequest\u001b[0m\u001b[0;34m,\u001b[0m \u001b[0;34m**\u001b[0m\u001b[0mkwargs\u001b[0m\u001b[0;34m)\u001b[0m\u001b[0;34m\u001b[0m\u001b[0;34m\u001b[0m\u001b[0m\n\u001b[0m\u001b[1;32m    644\u001b[0m \u001b[0;34m\u001b[0m\u001b[0m\n\u001b[1;32m    645\u001b[0m         \u001b[0;31m# Total elapsed time of the request (approximately)\u001b[0m\u001b[0;34m\u001b[0m\u001b[0;34m\u001b[0m\u001b[0;34m\u001b[0m\u001b[0m\n",
            "\u001b[0;32m/usr/local/lib/python3.7/dist-packages/requests/adapters.py\u001b[0m in \u001b[0;36msend\u001b[0;34m(self, request, stream, timeout, verify, cert, proxies)\u001b[0m\n\u001b[1;32m    447\u001b[0m                     \u001b[0mdecode_content\u001b[0m\u001b[0;34m=\u001b[0m\u001b[0;32mFalse\u001b[0m\u001b[0;34m,\u001b[0m\u001b[0;34m\u001b[0m\u001b[0;34m\u001b[0m\u001b[0m\n\u001b[1;32m    448\u001b[0m                     \u001b[0mretries\u001b[0m\u001b[0;34m=\u001b[0m\u001b[0mself\u001b[0m\u001b[0;34m.\u001b[0m\u001b[0mmax_retries\u001b[0m\u001b[0;34m,\u001b[0m\u001b[0;34m\u001b[0m\u001b[0;34m\u001b[0m\u001b[0m\n\u001b[0;32m--> 449\u001b[0;31m                     \u001b[0mtimeout\u001b[0m\u001b[0;34m=\u001b[0m\u001b[0mtimeout\u001b[0m\u001b[0;34m\u001b[0m\u001b[0;34m\u001b[0m\u001b[0m\n\u001b[0m\u001b[1;32m    450\u001b[0m                 )\n\u001b[1;32m    451\u001b[0m \u001b[0;34m\u001b[0m\u001b[0m\n",
            "\u001b[0;32m/usr/local/lib/python3.7/dist-packages/urllib3/connectionpool.py\u001b[0m in \u001b[0;36murlopen\u001b[0;34m(self, method, url, body, headers, retries, redirect, assert_same_host, timeout, pool_timeout, release_conn, chunked, body_pos, **response_kw)\u001b[0m\n\u001b[1;32m    598\u001b[0m                                                   \u001b[0mtimeout\u001b[0m\u001b[0;34m=\u001b[0m\u001b[0mtimeout_obj\u001b[0m\u001b[0;34m,\u001b[0m\u001b[0;34m\u001b[0m\u001b[0;34m\u001b[0m\u001b[0m\n\u001b[1;32m    599\u001b[0m                                                   \u001b[0mbody\u001b[0m\u001b[0;34m=\u001b[0m\u001b[0mbody\u001b[0m\u001b[0;34m,\u001b[0m \u001b[0mheaders\u001b[0m\u001b[0;34m=\u001b[0m\u001b[0mheaders\u001b[0m\u001b[0;34m,\u001b[0m\u001b[0;34m\u001b[0m\u001b[0;34m\u001b[0m\u001b[0m\n\u001b[0;32m--> 600\u001b[0;31m                                                   chunked=chunked)\n\u001b[0m\u001b[1;32m    601\u001b[0m \u001b[0;34m\u001b[0m\u001b[0m\n\u001b[1;32m    602\u001b[0m             \u001b[0;31m# If we're going to release the connection in ``finally:``, then\u001b[0m\u001b[0;34m\u001b[0m\u001b[0;34m\u001b[0m\u001b[0;34m\u001b[0m\u001b[0m\n",
            "\u001b[0;32m/usr/local/lib/python3.7/dist-packages/urllib3/connectionpool.py\u001b[0m in \u001b[0;36m_make_request\u001b[0;34m(self, conn, method, url, timeout, chunked, **httplib_request_kw)\u001b[0m\n\u001b[1;32m    378\u001b[0m             \u001b[0;32mexcept\u001b[0m \u001b[0mTypeError\u001b[0m\u001b[0;34m:\u001b[0m  \u001b[0;31m# Python 3\u001b[0m\u001b[0;34m\u001b[0m\u001b[0;34m\u001b[0m\u001b[0m\n\u001b[1;32m    379\u001b[0m                 \u001b[0;32mtry\u001b[0m\u001b[0;34m:\u001b[0m\u001b[0;34m\u001b[0m\u001b[0;34m\u001b[0m\u001b[0m\n\u001b[0;32m--> 380\u001b[0;31m                     \u001b[0mhttplib_response\u001b[0m \u001b[0;34m=\u001b[0m \u001b[0mconn\u001b[0m\u001b[0;34m.\u001b[0m\u001b[0mgetresponse\u001b[0m\u001b[0;34m(\u001b[0m\u001b[0;34m)\u001b[0m\u001b[0;34m\u001b[0m\u001b[0;34m\u001b[0m\u001b[0m\n\u001b[0m\u001b[1;32m    381\u001b[0m                 \u001b[0;32mexcept\u001b[0m \u001b[0mException\u001b[0m \u001b[0;32mas\u001b[0m \u001b[0me\u001b[0m\u001b[0;34m:\u001b[0m\u001b[0;34m\u001b[0m\u001b[0;34m\u001b[0m\u001b[0m\n\u001b[1;32m    382\u001b[0m                     \u001b[0;31m# Remove the TypeError from the exception chain in Python 3;\u001b[0m\u001b[0;34m\u001b[0m\u001b[0;34m\u001b[0m\u001b[0;34m\u001b[0m\u001b[0m\n",
            "\u001b[0;32m/usr/lib/python3.7/http/client.py\u001b[0m in \u001b[0;36mgetresponse\u001b[0;34m(self)\u001b[0m\n\u001b[1;32m   1371\u001b[0m         \u001b[0;32mtry\u001b[0m\u001b[0;34m:\u001b[0m\u001b[0;34m\u001b[0m\u001b[0;34m\u001b[0m\u001b[0m\n\u001b[1;32m   1372\u001b[0m             \u001b[0;32mtry\u001b[0m\u001b[0;34m:\u001b[0m\u001b[0;34m\u001b[0m\u001b[0;34m\u001b[0m\u001b[0m\n\u001b[0;32m-> 1373\u001b[0;31m                 \u001b[0mresponse\u001b[0m\u001b[0;34m.\u001b[0m\u001b[0mbegin\u001b[0m\u001b[0;34m(\u001b[0m\u001b[0;34m)\u001b[0m\u001b[0;34m\u001b[0m\u001b[0;34m\u001b[0m\u001b[0m\n\u001b[0m\u001b[1;32m   1374\u001b[0m             \u001b[0;32mexcept\u001b[0m \u001b[0mConnectionError\u001b[0m\u001b[0;34m:\u001b[0m\u001b[0;34m\u001b[0m\u001b[0;34m\u001b[0m\u001b[0m\n\u001b[1;32m   1375\u001b[0m                 \u001b[0mself\u001b[0m\u001b[0;34m.\u001b[0m\u001b[0mclose\u001b[0m\u001b[0;34m(\u001b[0m\u001b[0;34m)\u001b[0m\u001b[0;34m\u001b[0m\u001b[0;34m\u001b[0m\u001b[0m\n",
            "\u001b[0;32m/usr/lib/python3.7/http/client.py\u001b[0m in \u001b[0;36mbegin\u001b[0;34m(self)\u001b[0m\n\u001b[1;32m    317\u001b[0m         \u001b[0;31m# read until we get a non-100 response\u001b[0m\u001b[0;34m\u001b[0m\u001b[0;34m\u001b[0m\u001b[0;34m\u001b[0m\u001b[0m\n\u001b[1;32m    318\u001b[0m         \u001b[0;32mwhile\u001b[0m \u001b[0;32mTrue\u001b[0m\u001b[0;34m:\u001b[0m\u001b[0;34m\u001b[0m\u001b[0;34m\u001b[0m\u001b[0m\n\u001b[0;32m--> 319\u001b[0;31m             \u001b[0mversion\u001b[0m\u001b[0;34m,\u001b[0m \u001b[0mstatus\u001b[0m\u001b[0;34m,\u001b[0m \u001b[0mreason\u001b[0m \u001b[0;34m=\u001b[0m \u001b[0mself\u001b[0m\u001b[0;34m.\u001b[0m\u001b[0m_read_status\u001b[0m\u001b[0;34m(\u001b[0m\u001b[0;34m)\u001b[0m\u001b[0;34m\u001b[0m\u001b[0;34m\u001b[0m\u001b[0m\n\u001b[0m\u001b[1;32m    320\u001b[0m             \u001b[0;32mif\u001b[0m \u001b[0mstatus\u001b[0m \u001b[0;34m!=\u001b[0m \u001b[0mCONTINUE\u001b[0m\u001b[0;34m:\u001b[0m\u001b[0;34m\u001b[0m\u001b[0;34m\u001b[0m\u001b[0m\n\u001b[1;32m    321\u001b[0m                 \u001b[0;32mbreak\u001b[0m\u001b[0;34m\u001b[0m\u001b[0;34m\u001b[0m\u001b[0m\n",
            "\u001b[0;32m/usr/lib/python3.7/http/client.py\u001b[0m in \u001b[0;36m_read_status\u001b[0;34m(self)\u001b[0m\n\u001b[1;32m    278\u001b[0m \u001b[0;34m\u001b[0m\u001b[0m\n\u001b[1;32m    279\u001b[0m     \u001b[0;32mdef\u001b[0m \u001b[0m_read_status\u001b[0m\u001b[0;34m(\u001b[0m\u001b[0mself\u001b[0m\u001b[0;34m)\u001b[0m\u001b[0;34m:\u001b[0m\u001b[0;34m\u001b[0m\u001b[0;34m\u001b[0m\u001b[0m\n\u001b[0;32m--> 280\u001b[0;31m         \u001b[0mline\u001b[0m \u001b[0;34m=\u001b[0m \u001b[0mstr\u001b[0m\u001b[0;34m(\u001b[0m\u001b[0mself\u001b[0m\u001b[0;34m.\u001b[0m\u001b[0mfp\u001b[0m\u001b[0;34m.\u001b[0m\u001b[0mreadline\u001b[0m\u001b[0;34m(\u001b[0m\u001b[0m_MAXLINE\u001b[0m \u001b[0;34m+\u001b[0m \u001b[0;36m1\u001b[0m\u001b[0;34m)\u001b[0m\u001b[0;34m,\u001b[0m \u001b[0;34m\"iso-8859-1\"\u001b[0m\u001b[0;34m)\u001b[0m\u001b[0;34m\u001b[0m\u001b[0;34m\u001b[0m\u001b[0m\n\u001b[0m\u001b[1;32m    281\u001b[0m         \u001b[0;32mif\u001b[0m \u001b[0mlen\u001b[0m\u001b[0;34m(\u001b[0m\u001b[0mline\u001b[0m\u001b[0;34m)\u001b[0m \u001b[0;34m>\u001b[0m \u001b[0m_MAXLINE\u001b[0m\u001b[0;34m:\u001b[0m\u001b[0;34m\u001b[0m\u001b[0;34m\u001b[0m\u001b[0m\n\u001b[1;32m    282\u001b[0m             \u001b[0;32mraise\u001b[0m \u001b[0mLineTooLong\u001b[0m\u001b[0;34m(\u001b[0m\u001b[0;34m\"status line\"\u001b[0m\u001b[0;34m)\u001b[0m\u001b[0;34m\u001b[0m\u001b[0;34m\u001b[0m\u001b[0m\n",
            "\u001b[0;32m/usr/lib/python3.7/socket.py\u001b[0m in \u001b[0;36mreadinto\u001b[0;34m(self, b)\u001b[0m\n\u001b[1;32m    587\u001b[0m         \u001b[0;32mwhile\u001b[0m \u001b[0;32mTrue\u001b[0m\u001b[0;34m:\u001b[0m\u001b[0;34m\u001b[0m\u001b[0;34m\u001b[0m\u001b[0m\n\u001b[1;32m    588\u001b[0m             \u001b[0;32mtry\u001b[0m\u001b[0;34m:\u001b[0m\u001b[0;34m\u001b[0m\u001b[0;34m\u001b[0m\u001b[0m\n\u001b[0;32m--> 589\u001b[0;31m                 \u001b[0;32mreturn\u001b[0m \u001b[0mself\u001b[0m\u001b[0;34m.\u001b[0m\u001b[0m_sock\u001b[0m\u001b[0;34m.\u001b[0m\u001b[0mrecv_into\u001b[0m\u001b[0;34m(\u001b[0m\u001b[0mb\u001b[0m\u001b[0;34m)\u001b[0m\u001b[0;34m\u001b[0m\u001b[0;34m\u001b[0m\u001b[0m\n\u001b[0m\u001b[1;32m    590\u001b[0m             \u001b[0;32mexcept\u001b[0m \u001b[0mtimeout\u001b[0m\u001b[0;34m:\u001b[0m\u001b[0;34m\u001b[0m\u001b[0;34m\u001b[0m\u001b[0m\n\u001b[1;32m    591\u001b[0m                 \u001b[0mself\u001b[0m\u001b[0;34m.\u001b[0m\u001b[0m_timeout_occurred\u001b[0m \u001b[0;34m=\u001b[0m \u001b[0;32mTrue\u001b[0m\u001b[0;34m\u001b[0m\u001b[0;34m\u001b[0m\u001b[0m\n",
            "\u001b[0;32m/usr/lib/python3.7/ssl.py\u001b[0m in \u001b[0;36mrecv_into\u001b[0;34m(self, buffer, nbytes, flags)\u001b[0m\n\u001b[1;32m   1069\u001b[0m                   \u001b[0;34m\"non-zero flags not allowed in calls to recv_into() on %s\"\u001b[0m \u001b[0;34m%\u001b[0m\u001b[0;34m\u001b[0m\u001b[0;34m\u001b[0m\u001b[0m\n\u001b[1;32m   1070\u001b[0m                   self.__class__)\n\u001b[0;32m-> 1071\u001b[0;31m             \u001b[0;32mreturn\u001b[0m \u001b[0mself\u001b[0m\u001b[0;34m.\u001b[0m\u001b[0mread\u001b[0m\u001b[0;34m(\u001b[0m\u001b[0mnbytes\u001b[0m\u001b[0;34m,\u001b[0m \u001b[0mbuffer\u001b[0m\u001b[0;34m)\u001b[0m\u001b[0;34m\u001b[0m\u001b[0;34m\u001b[0m\u001b[0m\n\u001b[0m\u001b[1;32m   1072\u001b[0m         \u001b[0;32melse\u001b[0m\u001b[0;34m:\u001b[0m\u001b[0;34m\u001b[0m\u001b[0;34m\u001b[0m\u001b[0m\n\u001b[1;32m   1073\u001b[0m             \u001b[0;32mreturn\u001b[0m \u001b[0msuper\u001b[0m\u001b[0;34m(\u001b[0m\u001b[0;34m)\u001b[0m\u001b[0;34m.\u001b[0m\u001b[0mrecv_into\u001b[0m\u001b[0;34m(\u001b[0m\u001b[0mbuffer\u001b[0m\u001b[0;34m,\u001b[0m \u001b[0mnbytes\u001b[0m\u001b[0;34m,\u001b[0m \u001b[0mflags\u001b[0m\u001b[0;34m)\u001b[0m\u001b[0;34m\u001b[0m\u001b[0;34m\u001b[0m\u001b[0m\n",
            "\u001b[0;32m/usr/lib/python3.7/ssl.py\u001b[0m in \u001b[0;36mread\u001b[0;34m(self, len, buffer)\u001b[0m\n\u001b[1;32m    927\u001b[0m         \u001b[0;32mtry\u001b[0m\u001b[0;34m:\u001b[0m\u001b[0;34m\u001b[0m\u001b[0;34m\u001b[0m\u001b[0m\n\u001b[1;32m    928\u001b[0m             \u001b[0;32mif\u001b[0m \u001b[0mbuffer\u001b[0m \u001b[0;32mis\u001b[0m \u001b[0;32mnot\u001b[0m \u001b[0;32mNone\u001b[0m\u001b[0;34m:\u001b[0m\u001b[0;34m\u001b[0m\u001b[0;34m\u001b[0m\u001b[0m\n\u001b[0;32m--> 929\u001b[0;31m                 \u001b[0;32mreturn\u001b[0m \u001b[0mself\u001b[0m\u001b[0;34m.\u001b[0m\u001b[0m_sslobj\u001b[0m\u001b[0;34m.\u001b[0m\u001b[0mread\u001b[0m\u001b[0;34m(\u001b[0m\u001b[0mlen\u001b[0m\u001b[0;34m,\u001b[0m \u001b[0mbuffer\u001b[0m\u001b[0;34m)\u001b[0m\u001b[0;34m\u001b[0m\u001b[0;34m\u001b[0m\u001b[0m\n\u001b[0m\u001b[1;32m    930\u001b[0m             \u001b[0;32melse\u001b[0m\u001b[0;34m:\u001b[0m\u001b[0;34m\u001b[0m\u001b[0;34m\u001b[0m\u001b[0m\n\u001b[1;32m    931\u001b[0m                 \u001b[0;32mreturn\u001b[0m \u001b[0mself\u001b[0m\u001b[0;34m.\u001b[0m\u001b[0m_sslobj\u001b[0m\u001b[0;34m.\u001b[0m\u001b[0mread\u001b[0m\u001b[0;34m(\u001b[0m\u001b[0mlen\u001b[0m\u001b[0;34m)\u001b[0m\u001b[0;34m\u001b[0m\u001b[0;34m\u001b[0m\u001b[0m\n",
            "\u001b[0;31mKeyboardInterrupt\u001b[0m: "
          ]
        }
      ],
      "source": [
        "ref = setup_AOI_files(path,\n",
        "                    AOI,\n",
        "                    folders,\n",
        "                    res,\n",
        "                    parameters)\n"
      ]
    },
    {
      "cell_type": "markdown",
      "id": "96269f27",
      "metadata": {
        "id": "96269f27"
      },
      "source": [
        "<font size='5' color = 'red' > The EPSG coordinate reference system is in UTM </font>\n"
      ]
    },
    {
      "cell_type": "code",
      "execution_count": null,
      "id": "a74a3cd0",
      "metadata": {
        "id": "a74a3cd0"
      },
      "outputs": [],
      "source": [
        "EPSG = parameters['EPSG'][0]\n",
        "ulx = parameters['ulx'][0]\n",
        "uly = parameters['uly'][0]\n",
        "lrx = parameters['lrx'][0]\n",
        "lry = parameters['lry'][0]\n"
      ]
    },
    {
      "cell_type": "code",
      "execution_count": null,
      "id": "771bc90b",
      "metadata": {
        "id": "771bc90b"
      },
      "outputs": [],
      "source": [
        "model_domain = gpd.read_file('%s%s_modeldomain.shp' %(folders[7],AOI))\n",
        "AOI_extent = gpd.read_file('%s%s_extent_%s.shp' %(folders[7],AOI,EPSG))\n",
        "\n",
        "clean_with_landcover = False\n",
        "ref = rasterio.open('%s/%s_GEBCO_%s.tif' %(folders[8],AOI,res))\n",
        "glo30 = rasterio.open('%s/%s_GLO30_topo_%s.tif' %(folders[8],AOI,res))\n",
        "\n",
        "plt.imshow(glo30.read(1),vmin=0,vmax=50)\n",
        "\n",
        "\n",
        "fig,ax = plt.subplots(figsize=(10,10))\n",
        "AOI_extent.plot(ax=ax,color='grey',legend = True,label='model domain')\n",
        "model_domain.geometry.boundary.plot(color=None,edgecolor='red',linewidth = 2,ax=ax,label = 'model domain') #Use your second dataframe\n",
        "\n",
        "if os.path.isfile('%s%s_tidebnd.shp' %(folders[0],AOI)):\n",
        "    tide_bnd = gpd.read_file('%s%s_tidebnd.shp' %(folders[0],AOI))\n",
        "    tide_bnd = tide_bnd.to_crs('EPSG:%s' %(EPSG))\n",
        "    tide_bnd.geometry.boundary.plot(color=None,edgecolor='blue',linewidth = 2,ax=ax,label = 'tide boundary') #Use your second dataframe\n",
        "\n",
        "plt.legend()"
      ]
    },
    {
      "cell_type": "code",
      "execution_count": null,
      "id": "ace29c07",
      "metadata": {
        "id": "ace29c07"
      },
      "outputs": [],
      "source": []
    },
    {
      "cell_type": "markdown",
      "id": "88c1288f",
      "metadata": {
        "id": "88c1288f"
      },
      "source": [
        "<font size='5' color = 'red' > Clean, filter, smooth the water mask you made in the previous notebook </font>\n",
        "\n",
        "<font size='3' color = 'red' > If you want to further clean the water mask using landcover data (ESA WorldCover), set __clean_with_landcover__ to True. This could create issues with smaller channels are classified as wetlands or mudflats. Is it best to inspect the landcover file (Setup_RST/WorldCover_30.tif) before deciding. </font>"
      ]
    },
    {
      "cell_type": "code",
      "execution_count": null,
      "id": "eec50ca1",
      "metadata": {
        "id": "eec50ca1"
      },
      "outputs": [],
      "source": [
        "clean_with_landcover = False\n",
        "ref_10m = rasterio.open('%s/%s_GEBCO_10.tif' %(folders[8],AOI))\n",
        "watermaskname = make_watermask(path_ancillary, \n",
        "                               AOI,\n",
        "                               folders,\n",
        "                               parameters,\n",
        "                               ref_10m,clean_with_landcover, False)\n",
        " "
      ]
    },
    {
      "cell_type": "code",
      "execution_count": null,
      "id": "ae9e534d",
      "metadata": {
        "id": "ae9e534d"
      },
      "outputs": [],
      "source": [
        "how_much_opening = 3\n",
        "more_opening(AOI,folders,watermaskname,how_much_opening,ref_10m,parameters)\n",
        "\n",
        "print(watermaskname)\n",
        "if res != 10:\n",
        "    os.system('gdalwarp -overwrite -tr %s %s %s/%s_watermask_10.tif %s/%s_watermask_%s.tif '\\\n",
        "                      ' -te %s %s %s %s -srcnodata -9999 -dstnodata -9999 -co COMPRESS=DEFLATE -q'\n",
        "                      %(res,res,folders[8],AOI,folders[8],AOI,res,ulx,lry,lrx,uly))\n",
        "    os.system('gdalwarp -overwrite -tr %s %s %s/%s_landmask_10.tif %s/%s_landmask_%s.tif '\\\n",
        "                      ' -te %s %s %s %s -srcnodata -9999 -dstnodata -9999 -co COMPRESS=DEFLATE -q'\n",
        "                      %(res,res,folders[8],AOI,folders[8],AOI,res,ulx,lry,lrx,uly))\n"
      ]
    },
    {
      "cell_type": "code",
      "execution_count": null,
      "id": "ebc8cda8",
      "metadata": {
        "id": "ebc8cda8"
      },
      "outputs": [],
      "source": [
        "watermask = rasterio.open('%s%s_watermask_%s.tif' %(folders[8],AOI,res)).read(1)\n",
        "\n",
        "fig,[ax1,ax2] = plt.subplots(nrows=2,figsize=(15,15))\n",
        "ax1.imshow(watermask,'gray')\n",
        "\n",
        "ax2.imshow(watermask,'gray')\n",
        "ax2.axis([1500,2000, 2000,1500])"
      ]
    },
    {
      "cell_type": "markdown",
      "id": "1d04ee13",
      "metadata": {
        "id": "1d04ee13"
      },
      "source": [
        "<font size='5' color = 'red' > Building the DEM STEP #4: <br> Make polygons of each land cover type. This can be slow, depending on complexity of your watermask and size of study area </font>\n"
      ]
    },
    {
      "cell_type": "markdown",
      "id": "37cb8323",
      "metadata": {
        "id": "37cb8323"
      },
      "source": [
        "<font size='3' color = 'red' > Water mask --> oceans, rivers, lakes, wetlands </font>\n"
      ]
    },
    {
      "cell_type": "code",
      "execution_count": null,
      "id": "33c4bc5e",
      "metadata": {
        "id": "33c4bc5e"
      },
      "outputs": [],
      "source": [
        "make_polygons(AOI,\n",
        "                folders,\n",
        "                parameters,\n",
        "                ref,\n",
        "                watermaskname,\n",
        "                path_templates,\n",
        "                os.path.isfile(\"%s%s_fulloceans_%s.shp\" %(folders[7],AOI,res)))\n"
      ]
    },
    {
      "cell_type": "code",
      "execution_count": null,
      "id": "2da0f719",
      "metadata": {
        "id": "2da0f719"
      },
      "outputs": [],
      "source": [
        "fix,ax = plt.subplots(figsize=(20,20))\n",
        "\n",
        "colors = ['red','blue','orange','cyan','green']\n",
        "polys = ['lands','fullocean','lakes','rivers']\n",
        "i=0\n",
        "for poly in polys:\n",
        "    print(poly)\n",
        "    tmp = gpd.read_file([os.path.join(dirpath,f)\n",
        "            for dirpath,dirnames, files in os.walk(folders[7])\n",
        "            for f in fnmatch.filter(files,'*%s*.shp' %(poly))][0])\n",
        "    tmp.geometry.boundary.plot(color=colors[i], edgecolor=colors[i],linewidth = 1,ax=ax,label = poly) #Use your second dataframe\n",
        "    #tmp.plot(ax=ax,color=,label=str(poly))\n",
        "    i=i+1\n",
        "plt.legend()\n"
      ]
    },
    {
      "cell_type": "code",
      "execution_count": null,
      "id": "641111ed",
      "metadata": {
        "id": "641111ed"
      },
      "outputs": [],
      "source": [
        "cleanup = True \n",
        "if cleanup == True:\n",
        "    print('Cleaning up temporary files')\n",
        "    try:shutil.rmtree(folders[1])\n",
        "    except:''\n",
        "#!rm -rf $folders[1]\n"
      ]
    },
    {
      "cell_type": "markdown",
      "id": "29bef3ca",
      "metadata": {
        "id": "29bef3ca"
      },
      "source": [
        "<font size='5' color = 'red' > Building the DEM STEP #5: <br> Using Orinoco, get distance and width files of the river networks</font>\n"
      ]
    },
    {
      "cell_type": "markdown",
      "id": "7df5e008",
      "metadata": {
        "id": "7df5e008"
      },
      "source": [
        "<font size='3' color = 'red' > Width of network reaches is currently set to 150m, but this can be changed in the pixel_step variable </font>"
      ]
    },
    {
      "cell_type": "code",
      "execution_count": null,
      "id": "73144d89",
      "metadata": {
        "id": "73144d89"
      },
      "outputs": [],
      "source": [
        "segment_width = res*2\n",
        "pixel_step = int(round(segment_width/res))\n",
        "distance,widths = make_channel_networks(folders,\n",
        "                                      AOI,\n",
        "                                      ref,\n",
        "                                      parameters,\n",
        "                                      pixel_step,\n",
        "                                      os.path.isfile(\"%s%s_widths_%sx%s.tif\" %(folders[8],AOI,res,pixel_step)))\n"
      ]
    },
    {
      "cell_type": "code",
      "execution_count": null,
      "id": "38f11a0f",
      "metadata": {
        "id": "38f11a0f"
      },
      "outputs": [],
      "source": [
        "network_centerline = gpd.read_file('%s%s_river_centerline_%sx%s.shp' %(folders[7],AOI,res,pixel_step))\n",
        "network_segments = gpd.read_file('%s%s_segments_%sx%s.shp' %(folders[7],AOI,res,pixel_step))\n",
        "network_segments = network_segments[network_segments['DN']!=0]\n",
        "\n",
        "\n",
        "fig,[ax1,ax2] = plt.subplots(ncols=2,figsize=(15,15))\n",
        "network_segments.plot(ax = ax1, color=np.random.rand(len(network_segments),3))\n",
        "network_centerline.plot(ax=ax2,color='black',linewidth=1)"
      ]
    },
    {
      "cell_type": "markdown",
      "id": "1c650374",
      "metadata": {
        "id": "1c650374"
      },
      "source": [
        "<font size='5' color = 'red' > Building the DEM STEP #7: <br> Make the Digital Elevation Model </font>\n"
      ]
    },
    {
      "cell_type": "code",
      "execution_count": null,
      "id": "cba2f51e",
      "metadata": {
        "id": "cba2f51e"
      },
      "outputs": [],
      "source": [
        "elevation,elev_name = make_model_foundation(mounted_drive,\n",
        "                                                parameters,\n",
        "                                                AOI,\n",
        "                                                folders,\n",
        "                                                ref,\n",
        "                                                distance,\n",
        "                                                widths,\n",
        "                                                watermask,pixel_step,mounted_drive)\n"
      ]
    },
    {
      "cell_type": "markdown",
      "source": [
        "<font size=5 color='green'> You will need to copy the elev_name and elevationpath strings into the next notebook. </font>"
      ],
      "metadata": {
        "id": "Qx3XgmgVSQka"
      },
      "id": "Qx3XgmgVSQka"
    },
    {
      "cell_type": "code",
      "execution_count": null,
      "id": "daf09db5",
      "metadata": {
        "id": "daf09db5"
      },
      "outputs": [],
      "source": [
        "print(elev_name)\n"
      ]
    },
    {
      "cell_type": "code",
      "source": [],
      "metadata": {
        "id": "X05CM8_HSQG5"
      },
      "id": "X05CM8_HSQG5",
      "execution_count": null,
      "outputs": []
    },
    {
      "cell_type": "markdown",
      "id": "391dc703",
      "metadata": {
        "id": "391dc703"
      },
      "source": [
        "<font size=5 color='red'> Done building DEM and other ancillary files. Move on to the next notebook 3_GetBoundaries.ipynb </font>\n"
      ]
    }
  ],
  "metadata": {
    "kernelspec": {
      "display_name": "Python 3 (ipykernel)",
      "language": "python",
      "name": "python3"
    },
    "language_info": {
      "codemirror_mode": {
        "name": "ipython",
        "version": 3
      },
      "file_extension": ".py",
      "mimetype": "text/x-python",
      "name": "python",
      "nbconvert_exporter": "python",
      "pygments_lexer": "ipython3",
      "version": "3.9.13"
    },
    "colab": {
      "provenance": []
    }
  },
  "nbformat": 4,
  "nbformat_minor": 5
}