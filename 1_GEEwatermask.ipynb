{
  "cells": [
    {
      "cell_type": "markdown",
      "metadata": {
        "id": "view-in-github",
        "colab_type": "text"
      },
      "source": [
        "<a href=\"https://colab.research.google.com/github/achri19/komo_estuary_tutorial/blob/main/1_GEEwatermask.ipynb\" target=\"_parent\"><img src=\"https://colab.research.google.com/assets/colab-badge.svg\" alt=\"Open In Colab\"/></a>"
      ]
    },
    {
      "cell_type": "markdown",
      "id": "eaeb330a",
      "metadata": {
        "id": "eaeb330a"
      },
      "source": [
        "<font size=\"5\">Build Your Own ANUGA Model (BYOAM) </font>\n",
        "\n",
        "<font size=\"3\">In this notebook, we will:\n",
        "\n",
        "- define our study area\n",
        "\n",
        "- build a working directory\n",
        "\n",
        "\n",
        "- initiate the Google Earth Engine process for building water masks</font>\n",
        "\n",
        "<font size=\"3\">This notebook is not required because it will be slow, requires Google Earth Engine account, and is not related to the ANUGA model. Therefore, you don't need to run this tutorial, the output files will be provided in the next tutorial. </font> <br></br>\n",
        "<font size=\"3\">This could take several hours on GEE, depending on the size of the study area. Once the four water masks are made, you must choose which one is best. There are more details below.</font>\n",
        "\n"
      ]
    },
    {
      "cell_type": "markdown",
      "source": [
        "<font size=5> Step #1: Mount Google Drive and Grant Access <font> <br>\n",
        "\n",
        "\n"
      ],
      "metadata": {
        "id": "rhp4yA4h2Njc"
      },
      "id": "rhp4yA4h2Njc"
    },
    {
      "cell_type": "markdown",
      "source": [
        "<font size=3> When you run the next cell, a pop-up window will appear asking you to grant access to your Google Drive. You must approve or the notebook will not work. <font> <br>\n"
      ],
      "metadata": {
        "id": "JkG2pXof2YoC"
      },
      "id": "JkG2pXof2YoC"
    },
    {
      "cell_type": "code",
      "source": [
        "import sys\n",
        "import os\n",
        "path = os.getcwd() + '/'\n",
        "where_to_mount = '/content/drive/'\n",
        "\n",
        "from google.colab import drive\n",
        "drive.mount(where_to_mount, force_remount=True)\n",
        "\n",
        "mounted_drive = where_to_mount + 'MyDrive/'"
      ],
      "metadata": {
        "colab": {
          "base_uri": "https://localhost:8080/"
        },
        "outputId": "da4b8b1e-4f15-4293-890e-58d1b746ec39",
        "id": "s_IgSq3RgKtN"
      },
      "execution_count": 3,
      "outputs": [
        {
          "output_type": "stream",
          "name": "stdout",
          "text": [
            "Mounted at /content/drive/\n"
          ]
        }
      ],
      "id": "s_IgSq3RgKtN"
    },
    {
      "cell_type": "markdown",
      "metadata": {
        "id": "AXdcQrkUgUlM"
      },
      "source": [
        "<font size=5> Step #2: Install packages. <font> <br>\n",
        "<font size=3> This cell should install all Python packages you need for each tutorial.<font>"
      ],
      "id": "AXdcQrkUgUlM"
    },
    {
      "cell_type": "code",
      "source": [
        "import os\n",
        "os.chdir(mounted_drive)\n",
        "if os.path.isdir(mounted_drive + 'komo_estuary_tutorial'):\n",
        "  print('## Updating the local git repository \\n')\n",
        "  os.chdir(mounted_drive + '/komo_estuary_tutorial')\n",
        "  ! git pull \n",
        "else:\n",
        "  print('## Pulling the git repository with files for the tutorial\\n')\n",
        "  ! git clone https://github.com/achri19/komo_estuary_tutorial.git\n",
        "\n",
        "print('\\n## Installing the Python packages needed for these tutorials\\n')\n",
        "!/bin/bash $mounted_drive/komo_estuary_tutorial/install_packages.sh\n",
        "\n",
        "if os.path.isdir(mounted_drive + 'komo') == False:\n",
        "  !unzip komo.zip -d $mounted_drive \n"
      ],
      "metadata": {
        "outputId": "67e2f620-5e2f-42d8-92b2-e1efe2202c6a",
        "colab": {
          "base_uri": "https://localhost:8080/"
        },
        "id": "1poqNGJSgKtK"
      },
      "execution_count": 4,
      "outputs": [
        {
          "output_type": "stream",
          "name": "stdout",
          "text": [
            "## Updating the local git repository \n",
            "\n",
            "remote: Enumerating objects: 5, done.\u001b[K\n",
            "remote: Counting objects: 100% (5/5), done.\u001b[K\n",
            "remote: Compressing objects: 100% (3/3), done.\u001b[K\n",
            "remote: Total 3 (delta 2), reused 0 (delta 0), pack-reused 0\u001b[K\n",
            "Unpacking objects: 100% (3/3), done.\n",
            "From https://github.com/achri19/komo_estuary_tutorial\n",
            "   ee44e58..ef863e4  main       -> origin/main\n",
            "Updating ee44e58..ef863e4\n",
            "Fast-forward\n",
            " 1_GEEwatermask.ipynb | 148 \u001b[32m++++++++++++++++++++++++++++\u001b[m\u001b[31m-----------------------\u001b[m\n",
            " 1 file changed, 81 insertions(+), 67 deletions(-)\n",
            "\n",
            "## Installing the Python packages needed for these tutorials\n",
            "\n",
            "(1) Install pip packages\n",
            "nose mpi4py triangle Pmw pymetis cmocean geopandas fiona pygeos rasterio rasterstats\n",
            "(2) Install gdal\n",
            "(3) Install netcdf4\n",
            "(4) Download anuga_core github repository\n",
            "https://github.com/GeoscienceAustralia/anuga_core\n",
            "(5) Install anuga\n",
            "(7) Completed\n"
          ]
        }
      ],
      "id": "1poqNGJSgKtK"
    },
    {
      "cell_type": "markdown",
      "source": [
        "<font size=5> Step #3: Set up working directories<font> \n"
      ],
      "metadata": {
        "id": "tqD-wrOGvE2I"
      },
      "id": "tqD-wrOGvE2I"
    },
    {
      "cell_type": "markdown",
      "source": [
        "<font size=3> We will access data files stored on a shared Google Drive. You will also need to save files to your own Google Drive.<font>\n",
        "\n"
      ],
      "metadata": {
        "id": "QgL2wZHj16ze"
      },
      "id": "QgL2wZHj16ze"
    },
    {
      "cell_type": "code",
      "source": [
        "path_code = where_to_mount + 'MyDrive/processing/code/'\n",
        "path_templates = where_to_mount + 'MyDrive/processing/templates/'\n",
        "path_configs = where_to_mount + 'MyDrive/processing/configs/'\n",
        "path_ancillary = where_to_mount + 'MyDrive/processing/ancillary/'\n",
        "try:\n",
        "  os.mkdir(path_examples)\n",
        "except:''\n",
        "sys.path.insert(1,path_code)\n"
      ],
      "metadata": {
        "id": "cmQy7ZMRgKtQ"
      },
      "execution_count": 5,
      "outputs": [],
      "id": "cmQy7ZMRgKtQ"
    },
    {
      "cell_type": "markdown",
      "source": [
        "<font size=5> Step #4: Now we will import Python packages, which will be used for future tutorials. If there are any errors, try rerunning the first cell <font> \n",
        "\n",
        "\n"
      ],
      "metadata": {
        "id": "3mnrUfhr3NWW"
      },
      "id": "3mnrUfhr3NWW"
    },
    {
      "cell_type": "code",
      "source": [
        "# Standard packages\n",
        "import fnmatch\n",
        "from pathlib import Path\n",
        "import geopandas as gpd\n",
        "\n",
        "## Plotting modules\n",
        "import matplotlib.pyplot as plt\n",
        "\n",
        "## Google Earth Packages\n",
        "import ee\n",
        "from ee import batch\n",
        "import geemap\n"
      ],
      "metadata": {
        "id": "N5DjZnT_sG0g"
      },
      "execution_count": 6,
      "outputs": [],
      "id": "N5DjZnT_sG0g"
    },
    {
      "cell_type": "code",
      "execution_count": 7,
      "metadata": {
        "colab": {
          "base_uri": "https://localhost:8080/"
        },
        "outputId": "45999194-16b7-4846-c9eb-945c7a311123",
        "id": "hE5BjJJlgKtR"
      },
      "outputs": [
        {
          "output_type": "stream",
          "name": "stderr",
          "text": [
            "/content/drive/MyDrive/processing/code/raster_bridges.py:39: UserWarning: ShapelyDeprecationWarning\n",
            "  warnings.warn('ShapelyDeprecationWarning')\n",
            "/content/drive/MyDrive/processing/code/raster_bridges.py:40: UserWarning: UserWarning\n",
            "  warnings.warn('UserWarning')\n"
          ]
        }
      ],
      "source": [
        "sys.path.insert(1,path_code)\n",
        "from BYOM_Utilities_V1 import (build_directory,)"
      ],
      "id": "hE5BjJJlgKtR"
    },
    {
      "cell_type": "markdown",
      "id": "cdcd9100",
      "metadata": {
        "id": "cdcd9100"
      },
      "source": [
        "<font size=3 color='red' > Give a name to your model area <font>"
      ]
    },
    {
      "cell_type": "code",
      "execution_count": 8,
      "id": "64756a38",
      "metadata": {
        "id": "64756a38"
      },
      "outputs": [],
      "source": [
        "AOI = 'komo'"
      ]
    },
    {
      "cell_type": "markdown",
      "id": "ff6197cb",
      "metadata": {
        "id": "ff6197cb"
      },
      "source": [
        "<font color='red' size=\"5\">Now we can start buiding the model files</font>\n",
        "- <font color='red' size=\"3\"> Choose a name for your study area and build the working directory. All files for the model will be saved within the folder \"EXAMPLES\"</font>\n"
      ]
    },
    {
      "cell_type": "code",
      "execution_count": 11,
      "id": "38919384",
      "metadata": {
        "colab": {
          "base_uri": "https://localhost:8080/"
        },
        "id": "38919384",
        "outputId": "a5ba715a-2555-4c6c-8905-9afa66faadf1"
      },
      "outputs": [
        {
          "output_type": "stream",
          "name": "stdout",
          "text": [
            "\n",
            "\n",
            "\n",
            "##############################################################################################\n",
            "################################[Step 1][Build Directory]#####################################\n",
            "##############################################################################################\n",
            "\n",
            "##################### The working directory set as: \n",
            "\n",
            "/content/drive/MyDrive/komo/\n",
            " \n",
            "##################### Folders are:\n",
            "##################### 0 User_Defined_Files --> User shapefile of model domain and water mask\n",
            "##################### 1 tmp --> For temporary files\n",
            "##################### 3 Meshes --> Where we will build model meshes\n",
            "##################### 4 DEMs --> Where we will build digital elevation models\n",
            "##################### 5 Boundaries --> Where we will store boundary files\n",
            "##################### 6 Simulations --> Where we will run simulations\n",
            "##################### 7 Setup_Files/Setup_SHP --> Shapefiles for setup \n",
            "##################### 8 Setup_Files/Setup_RST --> Rasters for setup\n",
            "##################### 9 Setup_Files/Setup_FIG --> Figures\n",
            "\n",
            "[Step 1][Build Directory] Finished .......\n",
            "\n"
          ]
        }
      ],
      "source": [
        "working_path,folders = build_directory(mounted_drive, AOI)"
      ]
    },
    {
      "cell_type": "markdown",
      "id": "a865627a",
      "metadata": {
        "id": "a865627a"
      },
      "source": [
        "<font size=\"5\" color='red'> The model domain is defined with a shapefile. If you have a shapefile to use, move it to the folder __/User_Defined_Files/__ and rename all of the associated files (.shp, .dbf, .fix, .prj, .shx, .cpg) as **_input where ** is the name of your AOI.</font>\n"
      ]
    },
    {
      "cell_type": "markdown",
      "id": "89b6ea42",
      "metadata": {
        "id": "89b6ea42"
      },
      "source": [
        "<font size=\"5\" color='red' > Now we will initiate Google Earth Engine (python API) to build a water mask. You may need to authenticate Google. </font>"
      ]
    },
    {
      "cell_type": "code",
      "execution_count": 12,
      "id": "b58cce35",
      "metadata": {
        "id": "b58cce35",
        "colab": {
          "base_uri": "https://localhost:8080/"
        },
        "outputId": "81b9dc71-955e-4475-dfe9-a34cce80a88b"
      },
      "outputs": [
        {
          "output_type": "stream",
          "name": "stdout",
          "text": [
            "To authorize access needed by Earth Engine, open the following URL in a web browser and follow the instructions. If the web browser does not start automatically, please manually browse the URL below.\n",
            "\n",
            "    https://code.earthengine.google.com/client-auth?scopes=https%3A//www.googleapis.com/auth/earthengine%20https%3A//www.googleapis.com/auth/devstorage.full_control&request_id=unRhlot3wW2Phz09KSerVi8LWc-ddJ-a4z-30SumODM&tc=GQnTCnDPMQBTkxUunCfmEcuxdIZSvQeo5e-Cj264m1Y&cc=mTY2MASonCnlfox4-yCgLQkS5KHryiOJmwaR3FrCM48\n",
            "\n",
            "The authorization workflow will generate a code, which you should paste in the box below.\n",
            "Enter verification code: 4/1AfgeXvubEGVeY07ZviuEHuZmVt7A_560ac_TkhfFAnf-IfEd614Z4e_KDRE\n",
            "\n",
            "Successfully saved authorization token.\n"
          ]
        }
      ],
      "source": [
        "# Trigger the authentication flow.\n",
        "ee.Authenticate()\n",
        "\n",
        "# Initialize the library.\n",
        "ee.Initialize()"
      ]
    },
    {
      "cell_type": "code",
      "execution_count": 13,
      "id": "07f39007",
      "metadata": {
        "id": "07f39007",
        "colab": {
          "base_uri": "https://localhost:8080/",
          "height": 621,
          "referenced_widgets": [
            "c75858e871df4957a1bacbdfb1987c75",
            "94e8c8c3cca84b9799e67099cf58a39e",
            "70213d5543fa43fd9a7173b07cbbcd95",
            "4a1090ccfb22404f8f0871b86071e21a",
            "462ad0ac519248509606749dc4e8e78c",
            "acfda54bd7d24a7e92a54fe635565b71",
            "9f051b2412924c77b1bd8f21f81ddc4f",
            "9a6dfeefbb284ac3b2575b199babd9b1",
            "ab7ed8d8383041e6bf8e7863169d403a",
            "047b6c14a0884a8ca769b6fd54be25d5",
            "f861f6c7f679449fa692b82c05f3d722",
            "b4004b7e94c0434aaa04290744a802bc",
            "357d51ac8d3d48d59d1efbaec46a63f4",
            "9cae81e457ed4819b732bcff77bd1baf",
            "988f43de8614417881768f8e35b53ec8",
            "0db135e33da849de87664dff4e572fd1",
            "b60f2a64c1f54ca4b7be2906b440b3d9",
            "506d6a0a85db49ea891b7bd7d57d7e9c",
            "22652a8a680c43459cc63d067f3a6de1",
            "5aff3206f37e43f3b58e909816a9463a",
            "423e65af495e431182c293369f568824",
            "5f77fc7865b043d5b06be62560ebf3dc",
            "65acbc63c18c4a03b06d6d33aeb7bbce",
            "cc77a00f0b8540edb6ee66e1faeb57b2",
            "87dac2d371c640a185559c7d1bdc145a",
            "765369ea3d6641fd82aac22b17af1e46",
            "a460fc3be83c4f848888002b5b1042f3"
          ]
        },
        "outputId": "3ba95678-8c55-4ef3-9003-a368423ff4a9"
      },
      "outputs": [
        {
          "output_type": "display_data",
          "data": {
            "text/plain": [
              "Map(center=[20, 0], controls=(WidgetControl(options=['position', 'transparent_bg'], widget=HBox(children=(Togg…"
            ],
            "application/vnd.jupyter.widget-view+json": {
              "version_major": 2,
              "version_minor": 0,
              "model_id": "c75858e871df4957a1bacbdfb1987c75"
            }
          },
          "metadata": {
            "application/vnd.jupyter.widget-view+json": {
              "colab": {
                "custom_widget_manager": {
                  "url": "https://ssl.gstatic.com/colaboratory-static/widgets/colab-cdn-widget-manager/d2e234f7cc04bf79/manager.min.js"
                }
              }
            }
          }
        }
      ],
      "source": [
        "## Create a map for defining area of interest\n",
        "Map = geemap.Map()\n",
        "Map"
      ]
    },
    {
      "cell_type": "markdown",
      "id": "9c54ec50",
      "metadata": {
        "id": "9c54ec50"
      },
      "source": [
        "<font size=\"3\">And define a few Google Earth Engine Functions </font>"
      ]
    },
    {
      "cell_type": "code",
      "execution_count": 14,
      "id": "daccd24a",
      "metadata": {
        "id": "daccd24a"
      },
      "outputs": [],
      "source": [
        "def maskS2clouds(image):\n",
        "    qa = image.select('QA60');\n",
        "    ##Bits 10 and 11 are clouds and cirrus, respectively.\n",
        "    cloudBitMask = 1 << 10\n",
        "    cirrusBitMask = 1 << 11\n",
        "    ##Both flags should be set to zero, indicating clear conditions.\n",
        "    cloudmask = qa.bitwiseAnd(cloudBitMask).eq(0).And(qa.bitwiseAnd(cirrusBitMask).eq(0))\n",
        "    #cloudmask = qa.bitwiseAnd(cloudBitMask).eq(0)*(qa.bitwiseAnd(cirrusBitMask).eq(0))\n",
        "    return image.updateMask(cloudmask)#.divide(10000)\n",
        "    #return image.updateMask(qa.bitwiseAnd(cloudBitMask).eq(0)).updateMask(qa.bitwiseAnd(cirrusBitMask).eq(0)).divide(100000)  \n",
        "def addNDWI(image):\n",
        "  ndwi = image.normalizedDifference(['B8', 'B3']).rename('NDWI').toFloat();\n",
        "  return image.addBands(ndwi)    \n",
        "def addNDVI(image):\n",
        "  #ndvi = image.normalizedDifference(['B8', 'B3']).rename('NDVI').toFloat();\n",
        "  ndvi = (image.select(['B8']).subtract(image.select(['B3']))).divide(image.select(['B8']).add(image.select(['B3']))).rename('NDVI')\n",
        "  return image.addBands(ndvi)\n",
        "def addMNDWI(image):\n",
        "  mndwi = image.normalizedDifference(['B3', 'B11']).rename('MNDWI');\n",
        "  return image.addBands(mndwi)"
      ]
    },
    {
      "cell_type": "markdown",
      "id": "f35727ee",
      "metadata": {
        "id": "f35727ee"
      },
      "source": [
        "<font size=\"5\" color='red'> If you don't have a shapefile, zoom to your study area in the map above and use the rectangle icon to draw a boundary around your study area. This will be the model domain..</font>\n"
      ]
    },
    {
      "cell_type": "code",
      "execution_count": 15,
      "id": "dc67e1a5",
      "metadata": {
        "id": "dc67e1a5",
        "colab": {
          "base_uri": "https://localhost:8080/",
          "height": 34
        },
        "outputId": "f46fc826-518d-43bd-9b03-9e04e47ed904"
      },
      "outputs": [
        {
          "output_type": "stream",
          "name": "stdout",
          "text": [
            "Model domain defined by /content/drive/MyDrive/komo/User_Defined_Files//komo_input.shp\n"
          ]
        }
      ],
      "source": [
        "extent_file  = folders[0] + '/' + AOI + '_input.shp'\n",
        "\n",
        "if os.path.isfile(extent_file)==True:\n",
        "    print('Model domain defined by %s' %(extent_file))\n",
        "    ee_object = geemap.shp_to_ee(extent_file)\n",
        "    Map.addLayer(ee_object, {}, 'Layer name')\n",
        "    Map.centerObject(ee_object,7)\n",
        "else: \n",
        "    print('You must define the model domain using the map above')\n",
        "    Map.draw_last_feature\n",
        "    roi = ee.FeatureCollection(Map.draw_features)\n",
        "    geemap.ee_export_vector(roi, folders[0] + '/' + AOI + '_input.shp')"
      ]
    },
    {
      "cell_type": "markdown",
      "id": "490e01dc",
      "metadata": {
        "id": "490e01dc"
      },
      "source": [
        "<font size=\"5\" color='red' >If you got an error above, go back to the map and draw (rectangle icon) a boundary around your study area and then rerun the previous cell </font>"
      ]
    },
    {
      "cell_type": "markdown",
      "source": [
        "<font size = 5> If you want to try generating water masks in GEE, change the run_gee to True and the remaining cells will submit tasks to Google Earth Engine.  </font>\n"
      ],
      "metadata": {
        "id": "HwwD4qeELSb6"
      },
      "id": "HwwD4qeELSb6"
    },
    {
      "cell_type": "code",
      "execution_count": 16,
      "id": "a24a5c5d",
      "metadata": {
        "id": "a24a5c5d"
      },
      "outputs": [],
      "source": [
        "run_gee = False\n"
      ]
    },
    {
      "cell_type": "markdown",
      "id": "654a435e",
      "metadata": {
        "id": "654a435e"
      },
      "source": [
        "<font size=\"5\" color='red' > The next cell ensures the projections are correct and defines the extent in Google Earth Engine.  </font>\n",
        "    "
      ]
    },
    {
      "cell_type": "code",
      "execution_count": 17,
      "id": "596dbfbd",
      "metadata": {
        "id": "596dbfbd",
        "colab": {
          "base_uri": "https://localhost:8080/",
          "height": 34
        },
        "outputId": "b2b6501e-9b64-40d0-ae7c-e094be6ee149"
      },
      "outputs": [
        {
          "output_type": "stream",
          "name": "stdout",
          "text": [
            "reprojecting to EPSG\n"
          ]
        }
      ],
      "source": [
        "extent_gpd = gpd.read_file(extent_file)\n",
        "resolution  = 10 ## resolution of the water mask\n",
        "\n",
        "if extent_gpd.crs == None:\n",
        "    extent_gpd = extent_gpd.set_crs('EPSG:4326')\n",
        "if extent_gpd.crs != 'EPSG:4326':\n",
        "    print('reprojecting to EPSG')\n",
        "    extent_gpd = extent_gpd.to_crs('EPSG:4326')\n",
        "\n",
        "extent_gpd.geometry = extent_gpd.buffer(0.2,join_style = 2)\n",
        "exterior_points = extent_gpd.geometry[0].exterior.coords[:]\n",
        "exterior_points = list(map(list, exterior_points))\n",
        "ee_poly = ee.Geometry.Polygon(coords=exterior_points)    \n",
        "\n",
        "Map.addLayer(ee_poly)"
      ]
    },
    {
      "cell_type": "markdown",
      "id": "5acbf1da",
      "metadata": {
        "id": "5acbf1da"
      },
      "source": [
        "<font size='5' color = 'red' > Now, we collect Sentinel-1 and Sentinel-2 data. </font>\n",
        "- <font size='3' color='red' > All dates for Sentinel-1 data are used and both polarizations (VV and VH) </font>\n",
        "- <font size='3' color='red' > All dates for Sentinel-2 data are used, but are filtered to only images with  less than 5% cloudy fixels. We add NDVI, NDWI, and a cloud mask </font>\n"
      ]
    },
    {
      "cell_type": "code",
      "execution_count": 18,
      "id": "1e2a05fa",
      "metadata": {
        "id": "1e2a05fa"
      },
      "outputs": [],
      "source": [
        "collectionS2 = ee.ImageCollection(\"COPERNICUS/S2\")\\\n",
        "    .filter(ee.Filter.calendarRange(2019,2022,'year'))\\\n",
        "    .filter(ee.Filter.calendarRange(1,12,'month'))\\\n",
        "    .filterBounds(ee_poly)\\\n",
        "    .filter(ee.Filter.lt('CLOUDY_PIXEL_PERCENTAGE', 5))\\\n",
        "    .map(addNDWI)\\\n",
        "    .map(addMNDWI)\\\n",
        "    .map(addNDVI)\\\n",
        "    .map(maskS2clouds)  ;  \n",
        "collectionVV = ee.ImageCollection('COPERNICUS/S1_GRD')\\\n",
        "    .filter(ee.Filter.eq('instrumentMode', 'IW'))\\\n",
        "    .filter(ee.Filter.calendarRange(2019,2022,'year'))\\\n",
        "    .filter(ee.Filter.calendarRange(1,12,'month'))\\\n",
        "    .filter(ee.Filter.listContains('transmitterReceiverPolarisation', 'VV'))\\\n",
        "    .filterMetadata('resolution_meters', 'equals' , 10)\\\n",
        "    .filterBounds(ee_poly)\\\n",
        "    .select('VV');\n",
        "collectionVH = ee.ImageCollection('COPERNICUS/S1_GRD')\\\n",
        "    .filter(ee.Filter.eq('instrumentMode', 'IW'))\\\n",
        "    .filter(ee.Filter.calendarRange(2019,2022,'year'))\\\n",
        "    .filter(ee.Filter.calendarRange(1,12,'month'))\\\n",
        "    .filter(ee.Filter.listContains('transmitterReceiverPolarisation', 'VH'))\\\n",
        "    .filterMetadata('resolution_meters', 'equals' , 10)\\\n",
        "    .filterBounds(ee_poly)\\\n",
        "    .select('VH');"
      ]
    },
    {
      "cell_type": "markdown",
      "id": "782f8368",
      "metadata": {
        "id": "782f8368"
      },
      "source": [
        "<font size='5' color = 'red' > Now, process those collections, further. </font>\n",
        "- <font size='3' color='red' > For the Sentinel-1 VV and VH collections, for each pixel, we take the maximum value within the stack. Then we find the focal mean within 30m radius to remove speckle/noise </font>\n",
        "- <font size='3' color='red' > For the Sentinel-2 collection, we take the min, max, and mean of the all bands.</font>\n"
      ]
    },
    {
      "cell_type": "code",
      "execution_count": 19,
      "id": "76d0151b",
      "metadata": {
        "id": "76d0151b"
      },
      "outputs": [],
      "source": [
        "## Process Sentinel-1 Data\n",
        "VV_ref = collectionVV.max().focal_mean(30, 'circle', 'meters')\n",
        "VH_ref = collectionVH.max().focal_mean(30, 'circle', 'meters')\n",
        "\n",
        "# Process Sentinel-2 Data\n",
        "S2_max = collectionS2.max()    \n",
        "S2_min = collectionS2.min()\n",
        "S2_mean = collectionS2.mean()    \n",
        "ndwi_min = S2_min.select('NDWI')\n",
        "ndvi_min = S2_min.select('NDVI')   \n",
        "ndwi_max = S2_max.select('NDWI')\n",
        "ndvi_max = S2_max.select('NDVI')   \n",
        "ndwi_mean = S2_mean.select('NDWI')\n",
        "ndvi_mean = S2_mean.select('NDVI')   \n",
        "\n",
        "folder_on_drive = 'gee_' + AOI"
      ]
    },
    {
      "cell_type": "markdown",
      "id": "fb69adfc",
      "metadata": {
        "id": "fb69adfc"
      },
      "source": [
        "<font size='5' color = 'red' > We use four different alogirthms to create waste masks. With each set of inputs, we use the GEE Kmeans algorithm to cluster pixels into 2 classes, which we later classify as water or not water. </font>\n",
        "- <font size='3' color='red' > (1) Max NDWI, max VV ,and max VH </font>\n",
        "- <font size='3' color='red' > (2) Mean NDWI, max VV, and max VH </font>\n",
        "- <font size='3' color='red' > (3) Max NDWI and max NDVI </font>\n",
        "- <font size='3' color='red' > (4) Min NDWI and min NDVI </font>\n",
        "\n",
        "<font size='3' color='red' > Once you run the 4 cells below, the tasks are submitted to GEE. If you run them multiple times, multiple duplicate tasks will be submitted. </font>"
      ]
    },
    {
      "cell_type": "code",
      "execution_count": 20,
      "id": "880d2cce",
      "metadata": {
        "id": "880d2cce",
        "colab": {
          "base_uri": "https://localhost:8080/"
        },
        "outputId": "43876463-29bc-4966-8607-e24de3cf32c5"
      },
      "outputs": [
        {
          "output_type": "stream",
          "name": "stdout",
          "text": [
            "Skipping\n"
          ]
        }
      ],
      "source": [
        "if run_gee:\n",
        "\n",
        "    ## NDWI max, VV, and VH composite\n",
        "    bands = ['NDWI','VV','VH'];\n",
        "    ref_composite = ee.Image.cat(ndwi_max.toFloat(),VV_ref.toFloat(),VH_ref.toFloat()).select(bands).clip(ee_poly);\n",
        "    method = 'ndwimax_vvvhmax'\n",
        "    print('Method is %s' %(method))\n",
        "\n",
        "    ## Save composite\n",
        "    # comp_out1 = batch.Export.image.toDrive(ref_composite, folder = folder_on_drive, description='%s_%s' %(AOI,method), fileFormat = 'GeoTiff',scale = 10,maxPixels=10000000000000 )\n",
        "    # process = batch.Task.start(comp_out1)\n",
        "    # print('Saved composite to Google Drive at GEE_drive_composites/%s_%s.tif' %(AOI,method))\n",
        "\n",
        "    ## Unsupervised Clustering using S2 max, VV, and VH composite\n",
        "    training = ref_composite.sample(region=ee_poly,scale=resolution,numPixels=500,tileScale = 16)\n",
        "    classifier = ee.Clusterer.wekaKMeans(2).train(training,bands)\n",
        "    water = ref_composite.select(bands).cluster(classifier);\n",
        "\n",
        "    ## Save clusters\n",
        "    mask_out1 = batch.Export.image.toDrive(water, region=ee_poly,folder = folder_on_drive, description='%s_%s_clustered' %(AOI,method),fileFormat = 'GeoTiff',scale = 10,maxPixels=10000000000000 )\n",
        "    process = batch.Task.start(mask_out1)\n",
        "    print('Saved clusters to Google Drive at %s/%s_%s' %(folder_on_drive,AOI,method))\n",
        "\n",
        "else:\n",
        "    print('Skipping')"
      ]
    },
    {
      "cell_type": "code",
      "execution_count": 21,
      "id": "71841dd3",
      "metadata": {
        "id": "71841dd3",
        "colab": {
          "base_uri": "https://localhost:8080/"
        },
        "outputId": "e16be727-bce1-4773-8cad-148b3a7959cf"
      },
      "outputs": [
        {
          "output_type": "stream",
          "name": "stdout",
          "text": [
            "Skipping\n"
          ]
        }
      ],
      "source": [
        "if run_gee:\n",
        "    ## Save S2 mean VV and VH max\n",
        "    bands = ['NDWI','VV','VH'];\n",
        "    ref_composite = ee.Image.cat(ndwi_mean.toFloat(),VV_ref.toFloat(),VH_ref.toFloat()).select(bands).clip(ee_poly);\n",
        "    method = 'ndwimean_vvvhmax'\n",
        "    print('Method is %s' %(method))\n",
        "\n",
        "    ## Save composite\n",
        "    # comp_out2 = batch.Export.image.toDrive(ref_composite, folder = folder_on_drive, description='%s_%s' %(AOI,method), fileFormat = 'GeoTiff',scale = 10,maxPixels=10000000000000 )\n",
        "    # process = batch.Task.start(comp_out2)\n",
        "    # print('Saved composite to Google Drive at GEE_drive_composites/%s_%s.tif' %(AOI,method))\n",
        "\n",
        "    ## Unsupervised Clustering using S2 max, VV, and VH composite\n",
        "    training = ref_composite.sample(region=ee_poly,scale=resolution,numPixels=500,tileScale = 16)\n",
        "    classifier = ee.Clusterer.wekaKMeans(2).train(training,bands)\n",
        "    water = ref_composite.select(bands).cluster(classifier);\n",
        "\n",
        "    ## Save clusters\n",
        "    mask_out2 = batch.Export.image.toDrive(water, region=ee_poly,folder = folder_on_drive, description='%s_%s_clustered' %(AOI,method),fileFormat = 'GeoTiff',scale = 10,maxPixels=10000000000000 )\n",
        "    process = batch.Task.start(mask_out2)\n",
        "    print('Saved clusters to Google Drive at GEE_drive_masks/%s_%s' %(AOI,method))\n",
        "\n",
        "else:\n",
        "    print('Skipping')\n"
      ]
    },
    {
      "cell_type": "code",
      "execution_count": 22,
      "id": "d1ff2c23",
      "metadata": {
        "id": "d1ff2c23",
        "colab": {
          "base_uri": "https://localhost:8080/"
        },
        "outputId": "1da4c709-a4d4-4858-d3ce-7b9f5c877f1d"
      },
      "outputs": [
        {
          "output_type": "stream",
          "name": "stdout",
          "text": [
            "Skipping\n"
          ]
        }
      ],
      "source": [
        "if run_gee: \n",
        "    ## Save NDVI and NDWI min\n",
        "    bands = ['NDVI','NDWI'];\n",
        "    ref_composite = ee.Image.cat(ndvi_min.toFloat(),ndwi_min.toFloat()).select(['NDWI','NDVI']).clip(ee_poly);      \n",
        "    method = 'ndvimin_ndwimin'\n",
        "    print('Method is %s' %(method))\n",
        "\n",
        "    ## Save composite\n",
        "    # comp_out3 = batch.Export.image.toDrive(ref_composite, folder = folder_on_drive, description='%s_%s' %(AOI,method), fileFormat = 'GeoTiff',scale = 10,maxPixels=10000000000000 )\n",
        "    # process = batch.Task.start(comp_out3)\n",
        "    # print('Saved composite to Google Drive at GEE_drive_composites/%s_%s.tif' %(AOI,method))\n",
        "\n",
        "    ## Unsupervised Clustering using S2 max, VV, and VH composite\n",
        "    training = ref_composite.sample(region=ee_poly,scale=resolution,numPixels=500,tileScale = 16)\n",
        "    classifier = ee.Clusterer.wekaKMeans(2).train(training,bands)\n",
        "    water = ref_composite.select(bands).cluster(classifier);\n",
        "\n",
        "    ## Save clusters\n",
        "    mask_out3 = batch.Export.image.toDrive(water, region=ee_poly,folder = folder_on_drive, description='%s_%s_clustered' %(AOI,method),fileFormat = 'GeoTiff',scale = 10,maxPixels=10000000000000 )\n",
        "    process = batch.Task.start(mask_out3)\n",
        "    print('Saved clusters to Google Drive at GEE_drive_masks/%s_%s' %(AOI,method))\n",
        "\n",
        "else:\n",
        "    print('Skipping')"
      ]
    },
    {
      "cell_type": "code",
      "execution_count": 23,
      "id": "3e9a6bd3",
      "metadata": {
        "id": "3e9a6bd3",
        "colab": {
          "base_uri": "https://localhost:8080/"
        },
        "outputId": "48911a52-c1c4-49b7-8054-8ff0ff98c546"
      },
      "outputs": [
        {
          "output_type": "stream",
          "name": "stdout",
          "text": [
            "Skipping\n"
          ]
        }
      ],
      "source": [
        "if run_gee:\n",
        "    ## Save NDVI and NDWI max\n",
        "    bands = ['NDVI','NDWI'];\n",
        "    ref_composite = ee.Image.cat(ndvi_max.toFloat(),ndwi_max.toFloat()).select(['NDWI','NDVI']).clip(ee_poly);      \n",
        "    method = 'ndvimax_ndwimax'\n",
        "    print('Method is %s' %(method))\n",
        "\n",
        "    ## Save composite\n",
        "    #comp_out4 = batch.Export.image.toDrive(ref_composite, folder = folder_on_drive, description='%s_%s' %(AOI,method), fileFormat = 'GeoTiff',scale = 10,maxPixels=10000000000000 )\n",
        "    #process = batch.Task.start(comp_out4)\n",
        "    #print('Saved composite to Google Drive at GEE_drive_composites/%s_%s.tif' %(AOI,method))\n",
        "\n",
        "    ## Unsupervised Clustering using S2 max, VV, and VH composite\n",
        "    training = ref_composite.sample(region=ee_poly,scale=resolution,numPixels=500,tileScale = 16)\n",
        "    classifier = ee.Clusterer.wekaKMeans(2).train(training,bands)\n",
        "    water = ref_composite.select(bands).cluster(classifier);\n",
        "\n",
        "    ## Save clusters\n",
        "    mask_out4 = batch.Export.image.toDrive(water, region=ee_poly,folder = folder_on_drive, description='%s_%s_clustered' %(AOI,method),fileFormat = 'GeoTiff',scale = 10,maxPixels=10000000000000 )\n",
        "    process = batch.Task.start(mask_out4)\n",
        "    print('Saved clusters to Google Drive at GEE_drive_masks/%s_%s' %(AOI,method))\n",
        "\n",
        "else:\n",
        "    print('Skipping')\n"
      ]
    },
    {
      "cell_type": "markdown",
      "id": "f2262e9f",
      "metadata": {
        "id": "f2262e9f"
      },
      "source": [
        "<font size='5' color = 'red' > The tasks are now submitted to GEE. These jobs will take a while (less than 1 hour for small areas or many hours for large areas)</font>\n",
        "- <font size='3'  > You can check the status by going to https://code.earthengine.google.com/tasks</font>\n",
        "- <font size='3' > We will also monitor the status below, but it will take time. </font>\n",
        "\n"
      ]
    },
    {
      "cell_type": "markdown",
      "id": "b604eba4",
      "metadata": {
        "id": "b604eba4"
      },
      "source": [
        "<font size='5' color = 'red' > Once the tasks have completed, you must download them. </font>\n",
        "\n",
        "<font size = 3>Go to your [drive.google.com](https://drive.google.com) and download them manually. They should be saved in a folder called __gee_komo__. However, it could take a few hours before they are ready.</font>\n"
      ]
    },
    {
      "cell_type": "markdown",
      "id": "88a45e17",
      "metadata": {
        "id": "88a45e17"
      },
      "source": [
        "<font size='5' color = 'red' >  Finally, you must choose the best one. </font>\n",
        "\n",
        "<font size='3' > Use QGIS to pick the best water mask. Add __finalwatermask__ to the end of the file name. The file ending in __finalwatermask.tif__ will be used in future notebooks. </font>\n"
      ]
    },
    {
      "cell_type": "markdown",
      "source": [
        "<font size='5' color = 'red' > However, the file already included in the files provided for this tutorial, so this step is optional. </font>\n",
        "<font size=3>You will find the water mask file in __\"MyDrive/komo/User_Defined_Files/komo_ndvimax_ndwimax_clustered_finalwatermask.tif__ </font>\n"
      ],
      "metadata": {
        "id": "yWwyQKxRMaXB"
      },
      "id": "yWwyQKxRMaXB"
    },
    {
      "cell_type": "markdown",
      "id": "79ab96ae",
      "metadata": {
        "id": "79ab96ae"
      },
      "source": [
        "<font size='5' color = 'red' > This notebook is complete, continue to notebook #2 to build the model foundations </font>\n"
      ]
    },
    {
      "cell_type": "code",
      "source": [],
      "metadata": {
        "id": "Y9N_SN9PM8UE"
      },
      "id": "Y9N_SN9PM8UE",
      "execution_count": null,
      "outputs": []
    }
  ],
  "metadata": {
    "kernelspec": {
      "display_name": "Python 3 (ipykernel)",
      "language": "python",
      "name": "python3"
    },
    "language_info": {
      "codemirror_mode": {
        "name": "ipython",
        "version": 3
      },
      "file_extension": ".py",
      "mimetype": "text/x-python",
      "name": "python",
      "nbconvert_exporter": "python",
      "pygments_lexer": "ipython3",
      "version": "3.9.13"
    },
    "colab": {
      "provenance": [],
      "include_colab_link": true
    },
    "widgets": {
      "application/vnd.jupyter.widget-state+json": {
        "c75858e871df4957a1bacbdfb1987c75": {
          "model_module": "jupyter-leaflet",
          "model_name": "LeafletMapModel",
          "model_module_version": "^0.17",
          "state": {
            "_dom_classes": [],
            "_model_module": "jupyter-leaflet",
            "_model_module_version": "^0.17",
            "_model_name": "LeafletMapModel",
            "_view_count": null,
            "_view_module": "jupyter-leaflet",
            "_view_module_version": "^0.17",
            "_view_name": "LeafletMapView",
            "bottom": 16655,
            "bounce_at_zoom_limits": true,
            "box_zoom": true,
            "center": [
              0.321256115153384,
              9.464170664707382
            ],
            "close_popup_on_click": true,
            "controls": [
              "IPY_MODEL_94e8c8c3cca84b9799e67099cf58a39e",
              "IPY_MODEL_70213d5543fa43fd9a7173b07cbbcd95",
              "IPY_MODEL_4a1090ccfb22404f8f0871b86071e21a",
              "IPY_MODEL_462ad0ac519248509606749dc4e8e78c",
              "IPY_MODEL_acfda54bd7d24a7e92a54fe635565b71",
              "IPY_MODEL_9f051b2412924c77b1bd8f21f81ddc4f",
              "IPY_MODEL_9a6dfeefbb284ac3b2575b199babd9b1",
              "IPY_MODEL_ab7ed8d8383041e6bf8e7863169d403a"
            ],
            "crs": {
              "name": "EPSG3857",
              "custom": false
            },
            "default_style": "IPY_MODEL_047b6c14a0884a8ca769b6fd54be25d5",
            "double_click_zoom": true,
            "dragging": true,
            "dragging_style": "IPY_MODEL_f861f6c7f679449fa692b82c05f3d722",
            "east": 13.743896484375002,
            "fullscreen": false,
            "inertia": true,
            "inertia_deceleration": 3000,
            "inertia_max_speed": 1500,
            "interpolation": "bilinear",
            "keyboard": true,
            "keyboard_pan_offset": 80,
            "keyboard_zoom_offset": 1,
            "layers": [
              "IPY_MODEL_b4004b7e94c0434aaa04290744a802bc",
              "IPY_MODEL_357d51ac8d3d48d59d1efbaec46a63f4",
              "IPY_MODEL_765369ea3d6641fd82aac22b17af1e46",
              "IPY_MODEL_a460fc3be83c4f848888002b5b1042f3"
            ],
            "layout": "IPY_MODEL_9cae81e457ed4819b732bcff77bd1baf",
            "left": 16856,
            "max_zoom": 24,
            "min_zoom": null,
            "modisdate": "2022-11-18",
            "north": 3.6121068894248256,
            "options": [
              "bounce_at_zoom_limits",
              "box_zoom",
              "center",
              "close_popup_on_click",
              "double_click_zoom",
              "dragging",
              "fullscreen",
              "inertia",
              "inertia_deceleration",
              "inertia_max_speed",
              "interpolation",
              "keyboard",
              "keyboard_pan_offset",
              "keyboard_zoom_offset",
              "max_zoom",
              "min_zoom",
              "prefer_canvas",
              "scroll_wheel_zoom",
              "tap",
              "tap_tolerance",
              "touch_zoom",
              "world_copy_jump",
              "zoom",
              "zoom_animation_threshold",
              "zoom_delta",
              "zoom_snap"
            ],
            "panes": {},
            "prefer_canvas": false,
            "right": 17635,
            "scroll_wheel_zoom": true,
            "south": -2.9759559359447683,
            "style": "IPY_MODEL_047b6c14a0884a8ca769b6fd54be25d5",
            "tap": true,
            "tap_tolerance": 15,
            "top": 16055,
            "touch_zoom": true,
            "west": 5.185546875000001,
            "window_url": "https://9n6b4zx6ao5-496ff2e9c6d22116-0-colab.googleusercontent.com/outputframe.html?vrz=colab-20221117-060045-RC00_489179157",
            "world_copy_jump": false,
            "zoom": 7,
            "zoom_animation_threshold": 4,
            "zoom_delta": 1,
            "zoom_snap": 1
          }
        },
        "94e8c8c3cca84b9799e67099cf58a39e": {
          "model_module": "jupyter-leaflet",
          "model_name": "LeafletWidgetControlModel",
          "model_module_version": "^0.17",
          "state": {
            "_model_module": "jupyter-leaflet",
            "_model_module_version": "^0.17",
            "_model_name": "LeafletWidgetControlModel",
            "_view_count": null,
            "_view_module": "jupyter-leaflet",
            "_view_module_version": "^0.17",
            "_view_name": "LeafletWidgetControlView",
            "max_height": null,
            "max_width": null,
            "min_height": null,
            "min_width": null,
            "options": [
              "position",
              "transparent_bg"
            ],
            "position": "topleft",
            "transparent_bg": false,
            "widget": "IPY_MODEL_0db135e33da849de87664dff4e572fd1"
          }
        },
        "70213d5543fa43fd9a7173b07cbbcd95": {
          "model_module": "jupyter-leaflet",
          "model_name": "LeafletZoomControlModel",
          "model_module_version": "^0.17",
          "state": {
            "_model_module": "jupyter-leaflet",
            "_model_module_version": "^0.17",
            "_model_name": "LeafletZoomControlModel",
            "_view_count": null,
            "_view_module": "jupyter-leaflet",
            "_view_module_version": "^0.17",
            "_view_name": "LeafletZoomControlView",
            "options": [
              "position",
              "zoom_in_text",
              "zoom_in_title",
              "zoom_out_text",
              "zoom_out_title"
            ],
            "position": "topleft",
            "zoom_in_text": "+",
            "zoom_in_title": "Zoom in",
            "zoom_out_text": "-",
            "zoom_out_title": "Zoom out"
          }
        },
        "4a1090ccfb22404f8f0871b86071e21a": {
          "model_module": "jupyter-leaflet",
          "model_name": "LeafletScaleControlModel",
          "model_module_version": "^0.17",
          "state": {
            "_model_module": "jupyter-leaflet",
            "_model_module_version": "^0.17",
            "_model_name": "LeafletScaleControlModel",
            "_view_count": null,
            "_view_module": "jupyter-leaflet",
            "_view_module_version": "^0.17",
            "_view_name": "LeafletScaleControlView",
            "imperial": true,
            "max_width": 100,
            "metric": true,
            "options": [
              "imperial",
              "max_width",
              "metric",
              "position",
              "update_when_idle"
            ],
            "position": "bottomleft",
            "update_when_idle": false
          }
        },
        "462ad0ac519248509606749dc4e8e78c": {
          "model_module": "jupyter-leaflet",
          "model_name": "LeafletFullScreenControlModel",
          "model_module_version": "^0.17",
          "state": {
            "_model_module": "jupyter-leaflet",
            "_model_module_version": "^0.17",
            "_model_name": "LeafletFullScreenControlModel",
            "_view_count": null,
            "_view_module": "jupyter-leaflet",
            "_view_module_version": "^0.17",
            "_view_name": "LeafletFullScreenControlView",
            "options": [
              "position"
            ],
            "position": "topleft"
          }
        },
        "acfda54bd7d24a7e92a54fe635565b71": {
          "model_module": "jupyter-leaflet",
          "model_name": "LeafletMeasureControlModel",
          "model_module_version": "^0.17",
          "state": {
            "_custom_units": {},
            "_model_module": "jupyter-leaflet",
            "_model_module_version": "^0.17",
            "_model_name": "LeafletMeasureControlModel",
            "_view_count": null,
            "_view_module": "jupyter-leaflet",
            "_view_module_version": "^0.17",
            "_view_name": "LeafletMeasureControlView",
            "active_color": "orange",
            "capture_z_index": 10000,
            "completed_color": "#C8F2BE",
            "options": [
              "active_color",
              "capture_z_index",
              "completed_color",
              "popup_options",
              "position",
              "primary_area_unit",
              "primary_length_unit",
              "secondary_area_unit",
              "secondary_length_unit"
            ],
            "popup_options": {
              "className": "leaflet-measure-resultpopup",
              "autoPanPadding": [
                10,
                10
              ]
            },
            "position": "bottomleft",
            "primary_area_unit": "acres",
            "primary_length_unit": "kilometers",
            "secondary_area_unit": null,
            "secondary_length_unit": null
          }
        },
        "9f051b2412924c77b1bd8f21f81ddc4f": {
          "model_module": "jupyter-leaflet",
          "model_name": "LeafletAttributionControlModel",
          "model_module_version": "^0.17",
          "state": {
            "_model_module": "jupyter-leaflet",
            "_model_module_version": "^0.17",
            "_model_name": "LeafletAttributionControlModel",
            "_view_count": null,
            "_view_module": "jupyter-leaflet",
            "_view_module_version": "^0.17",
            "_view_name": "LeafletAttributionControlView",
            "options": [
              "position",
              "prefix"
            ],
            "position": "bottomright",
            "prefix": "ipyleaflet"
          }
        },
        "9a6dfeefbb284ac3b2575b199babd9b1": {
          "model_module": "jupyter-leaflet",
          "model_name": "LeafletDrawControlModel",
          "model_module_version": "^0.17",
          "state": {
            "_model_module": "jupyter-leaflet",
            "_model_module_version": "^0.17",
            "_model_name": "LeafletDrawControlModel",
            "_view_count": null,
            "_view_module": "jupyter-leaflet",
            "_view_module_version": "^0.17",
            "_view_name": "LeafletDrawControlView",
            "circle": {
              "shapeOptions": {
                "color": "#3388ff"
              }
            },
            "circlemarker": {},
            "data": [],
            "edit": true,
            "marker": {
              "shapeOptions": {
                "color": "#3388ff"
              }
            },
            "options": [
              "position"
            ],
            "polygon": {
              "shapeOptions": {}
            },
            "polyline": {
              "shapeOptions": {}
            },
            "position": "topleft",
            "rectangle": {
              "shapeOptions": {
                "color": "#3388ff"
              }
            },
            "remove": true
          }
        },
        "ab7ed8d8383041e6bf8e7863169d403a": {
          "model_module": "jupyter-leaflet",
          "model_name": "LeafletWidgetControlModel",
          "model_module_version": "^0.17",
          "state": {
            "_model_module": "jupyter-leaflet",
            "_model_module_version": "^0.17",
            "_model_name": "LeafletWidgetControlModel",
            "_view_count": null,
            "_view_module": "jupyter-leaflet",
            "_view_module_version": "^0.17",
            "_view_name": "LeafletWidgetControlView",
            "max_height": null,
            "max_width": null,
            "min_height": null,
            "min_width": null,
            "options": [
              "position",
              "transparent_bg"
            ],
            "position": "topright",
            "transparent_bg": false,
            "widget": "IPY_MODEL_b60f2a64c1f54ca4b7be2906b440b3d9"
          }
        },
        "047b6c14a0884a8ca769b6fd54be25d5": {
          "model_module": "jupyter-leaflet",
          "model_name": "LeafletMapStyleModel",
          "model_module_version": "^0.17",
          "state": {
            "_model_module": "jupyter-leaflet",
            "_model_module_version": "^0.17",
            "_model_name": "LeafletMapStyleModel",
            "_view_count": null,
            "_view_module": "@jupyter-widgets/base",
            "_view_module_version": "1.2.0",
            "_view_name": "StyleView",
            "cursor": "grab"
          }
        },
        "f861f6c7f679449fa692b82c05f3d722": {
          "model_module": "jupyter-leaflet",
          "model_name": "LeafletMapStyleModel",
          "model_module_version": "^0.17",
          "state": {
            "_model_module": "jupyter-leaflet",
            "_model_module_version": "^0.17",
            "_model_name": "LeafletMapStyleModel",
            "_view_count": null,
            "_view_module": "@jupyter-widgets/base",
            "_view_module_version": "1.2.0",
            "_view_name": "StyleView",
            "cursor": "move"
          }
        },
        "b4004b7e94c0434aaa04290744a802bc": {
          "model_module": "jupyter-leaflet",
          "model_name": "LeafletTileLayerModel",
          "model_module_version": "^0.17",
          "state": {
            "_model_module": "jupyter-leaflet",
            "_model_module_version": "^0.17",
            "_model_name": "LeafletTileLayerModel",
            "_view_count": null,
            "_view_module": "jupyter-leaflet",
            "_view_module_version": "^0.17",
            "_view_name": "LeafletTileLayerView",
            "attribution": "&copy; <a href=\"https://www.openstreetmap.org/copyright\">OpenStreetMap</a> contributors",
            "base": true,
            "bottom": true,
            "bounds": null,
            "detect_retina": false,
            "loading": false,
            "max_native_zoom": null,
            "max_zoom": 19,
            "min_native_zoom": null,
            "min_zoom": 1,
            "name": "OpenStreetMap.Mapnik",
            "no_wrap": false,
            "opacity": 1,
            "options": [
              "attribution",
              "bounds",
              "detect_retina",
              "max_native_zoom",
              "max_zoom",
              "min_native_zoom",
              "min_zoom",
              "no_wrap",
              "tile_size",
              "tms",
              "zoom_offset"
            ],
            "pane": "",
            "popup": null,
            "popup_max_height": null,
            "popup_max_width": 300,
            "popup_min_width": 50,
            "show_loading": false,
            "subitems": [],
            "tile_size": 256,
            "tms": false,
            "url": "https://tile.openstreetmap.org/{z}/{x}/{y}.png",
            "visible": true,
            "zoom_offset": 0
          }
        },
        "357d51ac8d3d48d59d1efbaec46a63f4": {
          "model_module": "jupyter-leaflet",
          "model_name": "LeafletTileLayerModel",
          "model_module_version": "^0.17",
          "state": {
            "_model_module": "jupyter-leaflet",
            "_model_module_version": "^0.17",
            "_model_name": "LeafletTileLayerModel",
            "_view_count": null,
            "_view_module": "jupyter-leaflet",
            "_view_module_version": "^0.17",
            "_view_name": "LeafletTileLayerView",
            "attribution": "Google",
            "base": false,
            "bottom": true,
            "bounds": null,
            "detect_retina": false,
            "loading": false,
            "max_native_zoom": null,
            "max_zoom": 22,
            "min_native_zoom": null,
            "min_zoom": 0,
            "name": "Google Maps",
            "no_wrap": false,
            "opacity": 1,
            "options": [
              "attribution",
              "bounds",
              "detect_retina",
              "max_native_zoom",
              "max_zoom",
              "min_native_zoom",
              "min_zoom",
              "no_wrap",
              "tile_size",
              "tms",
              "zoom_offset"
            ],
            "pane": "",
            "popup": null,
            "popup_max_height": null,
            "popup_max_width": 300,
            "popup_min_width": 50,
            "show_loading": false,
            "subitems": [],
            "tile_size": 256,
            "tms": false,
            "url": "https://mt1.google.com/vt/lyrs=m&x={x}&y={y}&z={z}",
            "visible": true,
            "zoom_offset": 0
          }
        },
        "9cae81e457ed4819b732bcff77bd1baf": {
          "model_module": "@jupyter-widgets/base",
          "model_name": "LayoutModel",
          "model_module_version": "1.2.0",
          "state": {
            "_model_module": "@jupyter-widgets/base",
            "_model_module_version": "1.2.0",
            "_model_name": "LayoutModel",
            "_view_count": null,
            "_view_module": "@jupyter-widgets/base",
            "_view_module_version": "1.2.0",
            "_view_name": "LayoutView",
            "align_content": null,
            "align_items": null,
            "align_self": null,
            "border": null,
            "bottom": null,
            "display": null,
            "flex": null,
            "flex_flow": null,
            "grid_area": null,
            "grid_auto_columns": null,
            "grid_auto_flow": null,
            "grid_auto_rows": null,
            "grid_column": null,
            "grid_gap": null,
            "grid_row": null,
            "grid_template_areas": null,
            "grid_template_columns": null,
            "grid_template_rows": null,
            "height": "600px",
            "justify_content": null,
            "justify_items": null,
            "left": null,
            "margin": null,
            "max_height": null,
            "max_width": null,
            "min_height": null,
            "min_width": null,
            "object_fit": null,
            "object_position": null,
            "order": null,
            "overflow": null,
            "overflow_x": null,
            "overflow_y": null,
            "padding": null,
            "right": null,
            "top": null,
            "visibility": null,
            "width": null
          }
        },
        "988f43de8614417881768f8e35b53ec8": {
          "model_module": "jupyter-leaflet",
          "model_name": "LeafletMapStyleModel",
          "model_module_version": "^0.17",
          "state": {
            "_model_module": "jupyter-leaflet",
            "_model_module_version": "^0.17",
            "_model_name": "LeafletMapStyleModel",
            "_view_count": null,
            "_view_module": "@jupyter-widgets/base",
            "_view_module_version": "1.2.0",
            "_view_name": "StyleView",
            "cursor": "grab"
          }
        },
        "0db135e33da849de87664dff4e572fd1": {
          "model_module": "@jupyter-widgets/controls",
          "model_name": "HBoxModel",
          "model_module_version": "1.5.0",
          "state": {
            "_dom_classes": [],
            "_model_module": "@jupyter-widgets/controls",
            "_model_module_version": "1.5.0",
            "_model_name": "HBoxModel",
            "_view_count": null,
            "_view_module": "@jupyter-widgets/controls",
            "_view_module_version": "1.5.0",
            "_view_name": "HBoxView",
            "box_style": "",
            "children": [
              "IPY_MODEL_506d6a0a85db49ea891b7bd7d57d7e9c"
            ],
            "layout": "IPY_MODEL_22652a8a680c43459cc63d067f3a6de1"
          }
        },
        "b60f2a64c1f54ca4b7be2906b440b3d9": {
          "model_module": "@jupyter-widgets/controls",
          "model_name": "VBoxModel",
          "model_module_version": "1.5.0",
          "state": {
            "_dom_classes": [],
            "_model_module": "@jupyter-widgets/controls",
            "_model_module_version": "1.5.0",
            "_model_name": "VBoxModel",
            "_view_count": null,
            "_view_module": "@jupyter-widgets/controls",
            "_view_module_version": "1.5.0",
            "_view_name": "VBoxView",
            "box_style": "",
            "children": [
              "IPY_MODEL_5aff3206f37e43f3b58e909816a9463a"
            ],
            "layout": "IPY_MODEL_423e65af495e431182c293369f568824"
          }
        },
        "506d6a0a85db49ea891b7bd7d57d7e9c": {
          "model_module": "@jupyter-widgets/controls",
          "model_name": "ToggleButtonModel",
          "model_module_version": "1.5.0",
          "state": {
            "_dom_classes": [],
            "_model_module": "@jupyter-widgets/controls",
            "_model_module_version": "1.5.0",
            "_model_name": "ToggleButtonModel",
            "_view_count": null,
            "_view_module": "@jupyter-widgets/controls",
            "_view_module_version": "1.5.0",
            "_view_name": "ToggleButtonView",
            "button_style": "",
            "description": "",
            "description_tooltip": null,
            "disabled": false,
            "icon": "globe",
            "layout": "IPY_MODEL_5f77fc7865b043d5b06be62560ebf3dc",
            "style": "IPY_MODEL_65acbc63c18c4a03b06d6d33aeb7bbce",
            "tooltip": "Search location/data",
            "value": false
          }
        },
        "22652a8a680c43459cc63d067f3a6de1": {
          "model_module": "@jupyter-widgets/base",
          "model_name": "LayoutModel",
          "model_module_version": "1.2.0",
          "state": {
            "_model_module": "@jupyter-widgets/base",
            "_model_module_version": "1.2.0",
            "_model_name": "LayoutModel",
            "_view_count": null,
            "_view_module": "@jupyter-widgets/base",
            "_view_module_version": "1.2.0",
            "_view_name": "LayoutView",
            "align_content": null,
            "align_items": null,
            "align_self": null,
            "border": null,
            "bottom": null,
            "display": null,
            "flex": null,
            "flex_flow": null,
            "grid_area": null,
            "grid_auto_columns": null,
            "grid_auto_flow": null,
            "grid_auto_rows": null,
            "grid_column": null,
            "grid_gap": null,
            "grid_row": null,
            "grid_template_areas": null,
            "grid_template_columns": null,
            "grid_template_rows": null,
            "height": null,
            "justify_content": null,
            "justify_items": null,
            "left": null,
            "margin": null,
            "max_height": null,
            "max_width": null,
            "min_height": null,
            "min_width": null,
            "object_fit": null,
            "object_position": null,
            "order": null,
            "overflow": null,
            "overflow_x": null,
            "overflow_y": null,
            "padding": null,
            "right": null,
            "top": null,
            "visibility": null,
            "width": null
          }
        },
        "5aff3206f37e43f3b58e909816a9463a": {
          "model_module": "@jupyter-widgets/controls",
          "model_name": "ToggleButtonModel",
          "model_module_version": "1.5.0",
          "state": {
            "_dom_classes": [],
            "_model_module": "@jupyter-widgets/controls",
            "_model_module_version": "1.5.0",
            "_model_name": "ToggleButtonModel",
            "_view_count": null,
            "_view_module": "@jupyter-widgets/controls",
            "_view_module_version": "1.5.0",
            "_view_name": "ToggleButtonView",
            "button_style": "",
            "description": "",
            "description_tooltip": null,
            "disabled": false,
            "icon": "wrench",
            "layout": "IPY_MODEL_cc77a00f0b8540edb6ee66e1faeb57b2",
            "style": "IPY_MODEL_87dac2d371c640a185559c7d1bdc145a",
            "tooltip": "Toolbar",
            "value": false
          }
        },
        "423e65af495e431182c293369f568824": {
          "model_module": "@jupyter-widgets/base",
          "model_name": "LayoutModel",
          "model_module_version": "1.2.0",
          "state": {
            "_model_module": "@jupyter-widgets/base",
            "_model_module_version": "1.2.0",
            "_model_name": "LayoutModel",
            "_view_count": null,
            "_view_module": "@jupyter-widgets/base",
            "_view_module_version": "1.2.0",
            "_view_name": "LayoutView",
            "align_content": null,
            "align_items": null,
            "align_self": null,
            "border": null,
            "bottom": null,
            "display": null,
            "flex": null,
            "flex_flow": null,
            "grid_area": null,
            "grid_auto_columns": null,
            "grid_auto_flow": null,
            "grid_auto_rows": null,
            "grid_column": null,
            "grid_gap": null,
            "grid_row": null,
            "grid_template_areas": null,
            "grid_template_columns": null,
            "grid_template_rows": null,
            "height": null,
            "justify_content": null,
            "justify_items": null,
            "left": null,
            "margin": null,
            "max_height": null,
            "max_width": null,
            "min_height": null,
            "min_width": null,
            "object_fit": null,
            "object_position": null,
            "order": null,
            "overflow": null,
            "overflow_x": null,
            "overflow_y": null,
            "padding": null,
            "right": null,
            "top": null,
            "visibility": null,
            "width": null
          }
        },
        "5f77fc7865b043d5b06be62560ebf3dc": {
          "model_module": "@jupyter-widgets/base",
          "model_name": "LayoutModel",
          "model_module_version": "1.2.0",
          "state": {
            "_model_module": "@jupyter-widgets/base",
            "_model_module_version": "1.2.0",
            "_model_name": "LayoutModel",
            "_view_count": null,
            "_view_module": "@jupyter-widgets/base",
            "_view_module_version": "1.2.0",
            "_view_name": "LayoutView",
            "align_content": null,
            "align_items": null,
            "align_self": null,
            "border": null,
            "bottom": null,
            "display": null,
            "flex": null,
            "flex_flow": null,
            "grid_area": null,
            "grid_auto_columns": null,
            "grid_auto_flow": null,
            "grid_auto_rows": null,
            "grid_column": null,
            "grid_gap": null,
            "grid_row": null,
            "grid_template_areas": null,
            "grid_template_columns": null,
            "grid_template_rows": null,
            "height": "28px",
            "justify_content": null,
            "justify_items": null,
            "left": null,
            "margin": null,
            "max_height": null,
            "max_width": null,
            "min_height": null,
            "min_width": null,
            "object_fit": null,
            "object_position": null,
            "order": null,
            "overflow": null,
            "overflow_x": null,
            "overflow_y": null,
            "padding": "0px 0px 0px 4px",
            "right": null,
            "top": null,
            "visibility": null,
            "width": "28px"
          }
        },
        "65acbc63c18c4a03b06d6d33aeb7bbce": {
          "model_module": "@jupyter-widgets/controls",
          "model_name": "DescriptionStyleModel",
          "model_module_version": "1.5.0",
          "state": {
            "_model_module": "@jupyter-widgets/controls",
            "_model_module_version": "1.5.0",
            "_model_name": "DescriptionStyleModel",
            "_view_count": null,
            "_view_module": "@jupyter-widgets/base",
            "_view_module_version": "1.2.0",
            "_view_name": "StyleView",
            "description_width": ""
          }
        },
        "cc77a00f0b8540edb6ee66e1faeb57b2": {
          "model_module": "@jupyter-widgets/base",
          "model_name": "LayoutModel",
          "model_module_version": "1.2.0",
          "state": {
            "_model_module": "@jupyter-widgets/base",
            "_model_module_version": "1.2.0",
            "_model_name": "LayoutModel",
            "_view_count": null,
            "_view_module": "@jupyter-widgets/base",
            "_view_module_version": "1.2.0",
            "_view_name": "LayoutView",
            "align_content": null,
            "align_items": null,
            "align_self": null,
            "border": null,
            "bottom": null,
            "display": null,
            "flex": null,
            "flex_flow": null,
            "grid_area": null,
            "grid_auto_columns": null,
            "grid_auto_flow": null,
            "grid_auto_rows": null,
            "grid_column": null,
            "grid_gap": null,
            "grid_row": null,
            "grid_template_areas": null,
            "grid_template_columns": null,
            "grid_template_rows": null,
            "height": "28px",
            "justify_content": null,
            "justify_items": null,
            "left": null,
            "margin": null,
            "max_height": null,
            "max_width": null,
            "min_height": null,
            "min_width": null,
            "object_fit": null,
            "object_position": null,
            "order": null,
            "overflow": null,
            "overflow_x": null,
            "overflow_y": null,
            "padding": "0px 0px 0px 4px",
            "right": null,
            "top": null,
            "visibility": null,
            "width": "28px"
          }
        },
        "87dac2d371c640a185559c7d1bdc145a": {
          "model_module": "@jupyter-widgets/controls",
          "model_name": "DescriptionStyleModel",
          "model_module_version": "1.5.0",
          "state": {
            "_model_module": "@jupyter-widgets/controls",
            "_model_module_version": "1.5.0",
            "_model_name": "DescriptionStyleModel",
            "_view_count": null,
            "_view_module": "@jupyter-widgets/base",
            "_view_module_version": "1.2.0",
            "_view_name": "StyleView",
            "description_width": ""
          }
        },
        "765369ea3d6641fd82aac22b17af1e46": {
          "model_module": "jupyter-leaflet",
          "model_name": "LeafletTileLayerModel",
          "model_module_version": "^0.17",
          "state": {
            "_model_module": "jupyter-leaflet",
            "_model_module_version": "^0.17",
            "_model_name": "LeafletTileLayerModel",
            "_view_count": null,
            "_view_module": "jupyter-leaflet",
            "_view_module_version": "^0.17",
            "_view_name": "LeafletTileLayerView",
            "attribution": "Google Earth Engine",
            "base": false,
            "bottom": true,
            "bounds": null,
            "detect_retina": false,
            "loading": false,
            "max_native_zoom": null,
            "max_zoom": 24,
            "min_native_zoom": null,
            "min_zoom": 0,
            "name": "Layer name",
            "no_wrap": false,
            "opacity": 1,
            "options": [
              "attribution",
              "bounds",
              "detect_retina",
              "max_native_zoom",
              "max_zoom",
              "min_native_zoom",
              "min_zoom",
              "no_wrap",
              "tile_size",
              "tms",
              "zoom_offset"
            ],
            "pane": "",
            "popup": null,
            "popup_max_height": null,
            "popup_max_width": 300,
            "popup_min_width": 50,
            "show_loading": false,
            "subitems": [],
            "tile_size": 256,
            "tms": false,
            "url": "https://earthengine.googleapis.com/v1alpha/projects/earthengine-legacy/maps/702f774e070764bb9bb7562ac58a01f8-c428ec250fd6d90f249073b93bb0c59c/tiles/{z}/{x}/{y}",
            "visible": true,
            "zoom_offset": 0
          }
        },
        "a460fc3be83c4f848888002b5b1042f3": {
          "model_module": "jupyter-leaflet",
          "model_name": "LeafletTileLayerModel",
          "model_module_version": "^0.17",
          "state": {
            "_model_module": "jupyter-leaflet",
            "_model_module_version": "^0.17",
            "_model_name": "LeafletTileLayerModel",
            "_view_count": null,
            "_view_module": "jupyter-leaflet",
            "_view_module_version": "^0.17",
            "_view_name": "LeafletTileLayerView",
            "attribution": "Google Earth Engine",
            "base": false,
            "bottom": true,
            "bounds": null,
            "detect_retina": false,
            "loading": false,
            "max_native_zoom": null,
            "max_zoom": 24,
            "min_native_zoom": null,
            "min_zoom": 0,
            "name": "Layer 4",
            "no_wrap": false,
            "opacity": 1,
            "options": [
              "attribution",
              "bounds",
              "detect_retina",
              "max_native_zoom",
              "max_zoom",
              "min_native_zoom",
              "min_zoom",
              "no_wrap",
              "tile_size",
              "tms",
              "zoom_offset"
            ],
            "pane": "",
            "popup": null,
            "popup_max_height": null,
            "popup_max_width": 300,
            "popup_min_width": 50,
            "show_loading": false,
            "subitems": [],
            "tile_size": 256,
            "tms": false,
            "url": "https://earthengine.googleapis.com/v1alpha/projects/earthengine-legacy/maps/ca37da1a4d5f47641b2bbd3a284ce4c6-8b72d9c3f06c2982775e3531a378c421/tiles/{z}/{x}/{y}",
            "visible": true,
            "zoom_offset": 0
          }
        }
      }
    }
  },
  "nbformat": 4,
  "nbformat_minor": 5
}