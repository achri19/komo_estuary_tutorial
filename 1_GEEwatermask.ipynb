{
  "cells": [
    {
      "cell_type": "markdown",
      "metadata": {
        "id": "view-in-github",
        "colab_type": "text"
      },
      "source": [
        "<a href=\"https://colab.research.google.com/github/achri19/komo_estuary_tutorial/blob/main/1_GEEwatermask.ipynb\" target=\"_parent\"><img src=\"https://colab.research.google.com/assets/colab-badge.svg\" alt=\"Open In Colab\"/></a>"
      ]
    },
    {
      "cell_type": "markdown",
      "id": "eaeb330a",
      "metadata": {
        "id": "eaeb330a"
      },
      "source": [
        "<font size=\"5\">Build Your Own ANUGA Model (BYOAM) </font>\n",
        "\n",
        "<font size=\"3\">In this notebook, we will:\n",
        "\n",
        "- define our study area\n",
        "\n",
        "- build a working directory\n",
        "\n",
        "\n",
        "- initiate the Google Earth Engine process for building water masks</font>\n",
        "\n",
        "<font size=\"3\">This notebook is not required because it will be slow, requires Google Earth Engine account, and is not related to the ANUGA model. Therefore, you don't need to run this tutorial, the output files will be provided in the next tutorial. </font> <br></br>\n",
        "<font size=\"3\">This could take several hours on GEE, depending on the size of the study area. Once the four water masks are made, you must choose which one is best. There are more details below.</font>\n",
        "\n"
      ]
    },
    {
      "cell_type": "markdown",
      "source": [
        "<font size=5> Step #1: Mount Google Drive and Grant Access <font> <br>\n",
        "\n",
        "\n"
      ],
      "metadata": {
        "id": "rhp4yA4h2Njc"
      },
      "id": "rhp4yA4h2Njc"
    },
    {
      "cell_type": "markdown",
      "source": [
        "<font size=3> When you run the next cell, a pop-up window will appear asking you to grant access to your Google Drive. You must approve or the notebook will not work. <font> <br>\n"
      ],
      "metadata": {
        "id": "JkG2pXof2YoC"
      },
      "id": "JkG2pXof2YoC"
    },
    {
      "cell_type": "code",
      "source": [
        "import sys\n",
        "import os\n",
        "path = os.getcwd() + '/'\n",
        "where_to_mount = '/content/drive/'\n",
        "\n",
        "from google.colab import drive\n",
        "drive.mount(where_to_mount, force_remount=True)\n",
        "\n",
        "mounted_drive = where_to_mount + 'MyDrive/'"
      ],
      "metadata": {
        "colab": {
          "base_uri": "https://localhost:8080/"
        },
        "outputId": "94677888-b341-423a-fc8b-87477fdd635e",
        "id": "s_IgSq3RgKtN"
      },
      "execution_count": 1,
      "outputs": [
        {
          "output_type": "stream",
          "name": "stdout",
          "text": [
            "Mounted at /content/drive/\n"
          ]
        }
      ],
      "id": "s_IgSq3RgKtN"
    },
    {
      "cell_type": "markdown",
      "metadata": {
        "id": "AXdcQrkUgUlM"
      },
      "source": [
        "<font size=5> Step #2: Install packages. <font> <br>\n",
        "<font size=3> This cell should install all Python packages you need for each tutorial.<font>"
      ],
      "id": "AXdcQrkUgUlM"
    },
    {
      "cell_type": "code",
      "source": [
        "import os\n",
        "os.chdir(mounted_drive)\n",
        "if os.path.isdir(mounted_drive + 'komo_estuary_tutorial'):\n",
        "  print('## Updating the local git repository \\n')\n",
        "  os.chdir(mounted_drive + '/komo_estuary_tutorial')\n",
        "  ! git pull \n",
        "else:\n",
        "  print('## Pulling the git repository with files for the tutorial\\n')\n",
        "  ! git clone https://github.com/achri19/komo_estuary_tutorial.git\n",
        "\n",
        "print('\\n## Installing the Python packages needed for these tutorials\\n')\n",
        "!/bin/bash $mounted_drive/komo_estuary_tutorial/install_packages.sh\n",
        "\n",
        "if os.path.isdir(mounted_drive + 'komo') == False:\n",
        "  !unzip komo.zip -d $mounted_drive \n"
      ],
      "metadata": {
        "outputId": "1ed5fce0-76cb-401c-c511-8e02defefc0b",
        "colab": {
          "base_uri": "https://localhost:8080/"
        },
        "id": "1poqNGJSgKtK"
      },
      "execution_count": 2,
      "outputs": [
        {
          "output_type": "stream",
          "name": "stdout",
          "text": [
            "## Updating the local git repository \n",
            "\n",
            "remote: Enumerating objects: 5, done.\u001b[K\n",
            "remote: Counting objects: 100% (5/5), done.\u001b[K\n",
            "remote: Compressing objects: 100% (3/3), done.\u001b[K\n",
            "remote: Total 3 (delta 2), reused 0 (delta 0), pack-reused 0\u001b[K\n",
            "Unpacking objects: 100% (3/3), done.\n",
            "From https://github.com/achri19/komo_estuary_tutorial\n",
            "   54efd8a..ee44e58  main       -> origin/main\n",
            "Updating 54efd8a..ee44e58\n",
            "Fast-forward\n",
            " 0_SetupColab.ipynb | 265 \u001b[32m++++++++++++++++++++++++\u001b[m\u001b[31m-----------------------------\u001b[m\n",
            " 1 file changed, 122 insertions(+), 143 deletions(-)\n",
            "\n",
            "## Installing the Python packages needed for these tutorials\n",
            "\n",
            "(1) Install pip packages\n",
            "nose mpi4py triangle Pmw pymetis cmocean geopandas fiona pygeos rasterio rasterstats\n",
            "(2) Install gdal\n",
            "(3) Install netcdf4\n",
            "(4) Download anuga_core github repository\n",
            "https://github.com/GeoscienceAustralia/anuga_core\n",
            "(5) Install anuga\n",
            "(7) Completed\n"
          ]
        }
      ],
      "id": "1poqNGJSgKtK"
    },
    {
      "cell_type": "markdown",
      "source": [
        "<font size=5> Step #3: Set up working directories<font> \n"
      ],
      "metadata": {
        "id": "tqD-wrOGvE2I"
      },
      "id": "tqD-wrOGvE2I"
    },
    {
      "cell_type": "markdown",
      "source": [
        "<font size=3> We will access data files stored on a shared Google Drive. You will also need to save files to your own Google Drive.<font>\n",
        "\n"
      ],
      "metadata": {
        "id": "QgL2wZHj16ze"
      },
      "id": "QgL2wZHj16ze"
    },
    {
      "cell_type": "code",
      "source": [
        "path_code = where_to_mount + 'MyDrive/processing/code/'\n",
        "path_templates = where_to_mount + 'MyDrive/processing/templates/'\n",
        "path_configs = where_to_mount + 'MyDrive/processing/configs/'\n",
        "path_ancillary = where_to_mount + 'MyDrive/processing/ancillary/'\n",
        "try:\n",
        "  os.mkdir(path_examples)\n",
        "except:''\n",
        "sys.path.insert(1,path_code)\n"
      ],
      "metadata": {
        "id": "cmQy7ZMRgKtQ"
      },
      "execution_count": null,
      "outputs": [],
      "id": "cmQy7ZMRgKtQ"
    },
    {
      "cell_type": "markdown",
      "source": [
        "<font size=5> Step #4: Now we will import Python packages, which will be used for future tutorials. If there are any errors, try rerunning the first cell <font> \n",
        "\n",
        "\n"
      ],
      "metadata": {
        "id": "3mnrUfhr3NWW"
      },
      "id": "3mnrUfhr3NWW"
    },
    {
      "cell_type": "code",
      "source": [
        "# Standard packages\n",
        "import fnmatch\n",
        "from pathlib import Path\n",
        "import geopandas as gpd\n",
        "\n",
        "## Plotting modules\n",
        "import matplotlib.pyplot as plt\n",
        "\n",
        "## Google Earth Packages\n",
        "import ee\n",
        "from ee import batch\n",
        "import geemap\n"
      ],
      "metadata": {
        "id": "N5DjZnT_sG0g"
      },
      "execution_count": null,
      "outputs": [],
      "id": "N5DjZnT_sG0g"
    },
    {
      "cell_type": "code",
      "execution_count": null,
      "metadata": {
        "colab": {
          "base_uri": "https://localhost:8080/"
        },
        "outputId": "0e96fccc-4229-4e41-d96d-c8ed7e17017b",
        "id": "hE5BjJJlgKtR"
      },
      "outputs": [
        {
          "output_type": "stream",
          "name": "stderr",
          "text": [
            "/content/drive/MyDrive/processing/code/raster_bridges.py:39: UserWarning: ShapelyDeprecationWarning\n",
            "  warnings.warn('ShapelyDeprecationWarning')\n",
            "/content/drive/MyDrive/processing/code/raster_bridges.py:40: UserWarning: UserWarning\n",
            "  warnings.warn('UserWarning')\n"
          ]
        }
      ],
      "source": [
        "sys.path.insert(1,path_code)\n",
        "from BYOM_Utilities_V1 import (build_directory)"
      ],
      "id": "hE5BjJJlgKtR"
    },
    {
      "cell_type": "markdown",
      "id": "cdcd9100",
      "metadata": {
        "id": "cdcd9100"
      },
      "source": [
        "<font size=3 color='red' > Give a name to your model area <font>"
      ]
    },
    {
      "cell_type": "code",
      "execution_count": null,
      "id": "64756a38",
      "metadata": {
        "id": "64756a38"
      },
      "outputs": [],
      "source": [
        "AOI = 'komo'"
      ]
    },
    {
      "cell_type": "markdown",
      "id": "ff6197cb",
      "metadata": {
        "id": "ff6197cb"
      },
      "source": [
        "<font color='red' size=\"5\">Now we can start buiding the model files</font>\n",
        "- <font color='red' size=\"3\"> Choose a name for your study area and build the working directory. All files for the model will be saved within the folder \"EXAMPLES\"</font>\n"
      ]
    },
    {
      "cell_type": "code",
      "execution_count": null,
      "id": "38919384",
      "metadata": {
        "colab": {
          "base_uri": "https://localhost:8080/"
        },
        "id": "38919384",
        "outputId": "1f06aef8-c9db-4559-e969-b7b991533f73"
      },
      "outputs": [
        {
          "output_type": "stream",
          "name": "stdout",
          "text": [
            "\n",
            "\n",
            "\n",
            "##############################################################################################\n",
            "################################[Step 1][Build Directory]#####################################\n",
            "##############################################################################################\n",
            "\n",
            "##################### The working directory set as: \n",
            "\n",
            "/content/drive/MyDrive/examples/komo/\n",
            " \n",
            "##################### Folders are:\n",
            "##################### 0 User_Defined_Files --> User shapefile of model domain and water mask\n",
            "##################### 1 tmp --> For temporary files\n",
            "##################### 3 Meshes --> Where we will build model meshes\n",
            "##################### 4 DEMs --> Where we will build digital elevation models\n",
            "##################### 5 Boundaries --> Where we will store boundary files\n",
            "##################### 6 Simulations --> Where we will run simulations\n",
            "##################### 7 Setup_Files/Setup_SHP --> Shapefiles for setup \n",
            "##################### 8 Setup_Files/Setup_RST --> Rasters for setup\n",
            "##################### 9 Setup_Files/Setup_FIG --> Figures\n",
            "\n",
            "[Step 1][Build Directory] Finished .......\n",
            "\n"
          ]
        }
      ],
      "source": [
        "Path((path_examples + AOI)).mkdir(parents=True, exist_ok=True)\n",
        "working_path,folders = build_directory(path_examples, AOI)"
      ]
    },
    {
      "cell_type": "markdown",
      "id": "a865627a",
      "metadata": {
        "id": "a865627a"
      },
      "source": [
        "<font size=\"5\" color='red'> The model domain is defined with a shapefile. If you have a shapefile to use, move it to the folder __/User_Defined_Files/__ and rename all of the associated files (.shp, .dbf, .fix, .prj, .shx, .cpg) as **_input where ** is the name of your AOI.</font>\n"
      ]
    },
    {
      "cell_type": "markdown",
      "id": "89b6ea42",
      "metadata": {
        "id": "89b6ea42"
      },
      "source": [
        "<font size=\"5\" color='red' > Now we will initiate Google Earth Engine (python API) to build a water mask. You may need to authenticate Google. </font>"
      ]
    },
    {
      "cell_type": "code",
      "execution_count": null,
      "id": "b58cce35",
      "metadata": {
        "id": "b58cce35",
        "colab": {
          "base_uri": "https://localhost:8080/",
          "height": 488
        },
        "outputId": "9ed50b79-b8d5-4f2d-e1dc-ab5cff5eea82"
      },
      "outputs": [
        {
          "output_type": "stream",
          "name": "stdout",
          "text": [
            "To authorize access needed by Earth Engine, open the following URL in a web browser and follow the instructions. If the web browser does not start automatically, please manually browse the URL below.\n",
            "\n",
            "    https://code.earthengine.google.com/client-auth?scopes=https%3A//www.googleapis.com/auth/earthengine%20https%3A//www.googleapis.com/auth/devstorage.full_control&request_id=QP0mFwYbWPdHtSV2cXiNYbTeFUDEtkfpm2L8HgT5iho&tc=jtHY-eAZL-aOuem-d25DJPI1RN8mYy9_64_Oy-Vbydg&cc=e9WZqdjpYB89OwYqDAeVXk5wAbe2kI_hQ2MCLNmEyBE\n",
            "\n",
            "The authorization workflow will generate a code, which you should paste in the box below.\n"
          ]
        },
        {
          "output_type": "error",
          "ename": "KeyboardInterrupt",
          "evalue": "ignored",
          "traceback": [
            "\u001b[0;31m---------------------------------------------------------------------------\u001b[0m",
            "\u001b[0;31mKeyboardInterrupt\u001b[0m                         Traceback (most recent call last)",
            "\u001b[0;32m<ipython-input-9-4684fad80de3>\u001b[0m in \u001b[0;36m<module>\u001b[0;34m\u001b[0m\n\u001b[1;32m      1\u001b[0m \u001b[0;31m# Trigger the authentication flow.\u001b[0m\u001b[0;34m\u001b[0m\u001b[0;34m\u001b[0m\u001b[0;34m\u001b[0m\u001b[0m\n\u001b[0;32m----> 2\u001b[0;31m \u001b[0mee\u001b[0m\u001b[0;34m.\u001b[0m\u001b[0mAuthenticate\u001b[0m\u001b[0;34m(\u001b[0m\u001b[0;34m)\u001b[0m\u001b[0;34m\u001b[0m\u001b[0;34m\u001b[0m\u001b[0m\n\u001b[0m\u001b[1;32m      3\u001b[0m \u001b[0;34m\u001b[0m\u001b[0m\n\u001b[1;32m      4\u001b[0m \u001b[0;31m# Initialize the library.\u001b[0m\u001b[0;34m\u001b[0m\u001b[0;34m\u001b[0m\u001b[0;34m\u001b[0m\u001b[0m\n\u001b[1;32m      5\u001b[0m \u001b[0mee\u001b[0m\u001b[0;34m.\u001b[0m\u001b[0mInitialize\u001b[0m\u001b[0;34m(\u001b[0m\u001b[0;34m)\u001b[0m\u001b[0;34m\u001b[0m\u001b[0;34m\u001b[0m\u001b[0m\n",
            "\u001b[0;32m/usr/local/lib/python3.7/dist-packages/ee/__init__.py\u001b[0m in \u001b[0;36mAuthenticate\u001b[0;34m(authorization_code, quiet, code_verifier, auth_mode, scopes)\u001b[0m\n\u001b[1;32m    103\u001b[0m   \"\"\"\n\u001b[1;32m    104\u001b[0m   return oauth.authenticate(authorization_code, quiet, code_verifier, auth_mode,\n\u001b[0;32m--> 105\u001b[0;31m                             scopes)\n\u001b[0m\u001b[1;32m    106\u001b[0m \u001b[0;34m\u001b[0m\u001b[0m\n\u001b[1;32m    107\u001b[0m \u001b[0;34m\u001b[0m\u001b[0m\n",
            "\u001b[0;32m/usr/local/lib/python3.7/dist-packages/ee/oauth.py\u001b[0m in \u001b[0;36mauthenticate\u001b[0;34m(cli_authorization_code, quiet, cli_code_verifier, auth_mode, scopes)\u001b[0m\n\u001b[1;32m    398\u001b[0m     \u001b[0m_open_new_browser\u001b[0m\u001b[0;34m(\u001b[0m\u001b[0mflow\u001b[0m\u001b[0;34m.\u001b[0m\u001b[0mauth_url\u001b[0m\u001b[0;34m)\u001b[0m\u001b[0;34m\u001b[0m\u001b[0;34m\u001b[0m\u001b[0m\n\u001b[1;32m    399\u001b[0m \u001b[0;34m\u001b[0m\u001b[0m\n\u001b[0;32m--> 400\u001b[0;31m   \u001b[0mflow\u001b[0m\u001b[0;34m.\u001b[0m\u001b[0msave_code\u001b[0m\u001b[0;34m(\u001b[0m\u001b[0;34m)\u001b[0m\u001b[0;34m\u001b[0m\u001b[0;34m\u001b[0m\u001b[0m\n\u001b[0m\u001b[1;32m    401\u001b[0m \u001b[0;34m\u001b[0m\u001b[0m\n\u001b[1;32m    402\u001b[0m \u001b[0;34m\u001b[0m\u001b[0m\n",
            "\u001b[0;32m/usr/local/lib/python3.7/dist-packages/ee/oauth.py\u001b[0m in \u001b[0;36msave_code\u001b[0;34m(self, code)\u001b[0m\n\u001b[1;32m    441\u001b[0m       \u001b[0mredirect_uri\u001b[0m \u001b[0;34m=\u001b[0m \u001b[0mself\u001b[0m\u001b[0;34m.\u001b[0m\u001b[0mserver\u001b[0m\u001b[0;34m.\u001b[0m\u001b[0murl\u001b[0m\u001b[0;34m\u001b[0m\u001b[0;34m\u001b[0m\u001b[0m\n\u001b[1;32m    442\u001b[0m       \u001b[0mcode\u001b[0m \u001b[0;34m=\u001b[0m \u001b[0mself\u001b[0m\u001b[0;34m.\u001b[0m\u001b[0mserver\u001b[0m\u001b[0;34m.\u001b[0m\u001b[0mfetch_code\u001b[0m\u001b[0;34m(\u001b[0m\u001b[0;34m)\u001b[0m  \u001b[0;31m# Waits for oauth callback\u001b[0m\u001b[0;34m\u001b[0m\u001b[0;34m\u001b[0m\u001b[0m\n\u001b[0;32m--> 443\u001b[0;31m     \u001b[0m_obtain_and_write_token\u001b[0m\u001b[0;34m(\u001b[0m\u001b[0mcode\u001b[0m\u001b[0;34m,\u001b[0m \u001b[0mself\u001b[0m\u001b[0;34m.\u001b[0m\u001b[0mcode_verifier\u001b[0m\u001b[0;34m,\u001b[0m \u001b[0mself\u001b[0m\u001b[0;34m.\u001b[0m\u001b[0mscopes\u001b[0m\u001b[0;34m,\u001b[0m \u001b[0mredirect_uri\u001b[0m\u001b[0;34m)\u001b[0m\u001b[0;34m\u001b[0m\u001b[0;34m\u001b[0m\u001b[0m\n\u001b[0m\u001b[1;32m    444\u001b[0m \u001b[0;34m\u001b[0m\u001b[0m\n\u001b[1;32m    445\u001b[0m   \u001b[0;32mdef\u001b[0m \u001b[0mdisplay_instructions\u001b[0m\u001b[0;34m(\u001b[0m\u001b[0mself\u001b[0m\u001b[0;34m,\u001b[0m \u001b[0mquiet\u001b[0m\u001b[0;34m=\u001b[0m\u001b[0;32mNone\u001b[0m\u001b[0;34m)\u001b[0m\u001b[0;34m:\u001b[0m\u001b[0;34m\u001b[0m\u001b[0;34m\u001b[0m\u001b[0m\n",
            "\u001b[0;32m/usr/local/lib/python3.7/dist-packages/ee/oauth.py\u001b[0m in \u001b[0;36m_obtain_and_write_token\u001b[0;34m(auth_code, code_verifier, scopes, redirect_uri)\u001b[0m\n\u001b[1;32m    179\u001b[0m     \u001b[0mclient_info\u001b[0m\u001b[0;34m[\u001b[0m\u001b[0;34m'redirect_uri'\u001b[0m\u001b[0;34m]\u001b[0m \u001b[0;34m=\u001b[0m \u001b[0mredirect_uri\u001b[0m\u001b[0;34m\u001b[0m\u001b[0;34m\u001b[0m\u001b[0m\n\u001b[1;32m    180\u001b[0m   \u001b[0;32mif\u001b[0m \u001b[0;32mnot\u001b[0m \u001b[0mauth_code\u001b[0m\u001b[0;34m:\u001b[0m\u001b[0;34m\u001b[0m\u001b[0;34m\u001b[0m\u001b[0m\n\u001b[0;32m--> 181\u001b[0;31m     \u001b[0mauth_code\u001b[0m \u001b[0;34m=\u001b[0m \u001b[0minput\u001b[0m\u001b[0;34m(\u001b[0m\u001b[0;34m'Enter verification code: '\u001b[0m\u001b[0;34m)\u001b[0m\u001b[0;34m\u001b[0m\u001b[0;34m\u001b[0m\u001b[0m\n\u001b[0m\u001b[1;32m    182\u001b[0m   \u001b[0;32massert\u001b[0m \u001b[0misinstance\u001b[0m\u001b[0;34m(\u001b[0m\u001b[0mauth_code\u001b[0m\u001b[0;34m,\u001b[0m \u001b[0msix\u001b[0m\u001b[0;34m.\u001b[0m\u001b[0mstring_types\u001b[0m\u001b[0;34m)\u001b[0m\u001b[0;34m\u001b[0m\u001b[0;34m\u001b[0m\u001b[0m\n\u001b[1;32m    183\u001b[0m   \u001b[0mscopes\u001b[0m \u001b[0;34m=\u001b[0m \u001b[0mscopes\u001b[0m \u001b[0;32mor\u001b[0m \u001b[0mSCOPES\u001b[0m\u001b[0;34m\u001b[0m\u001b[0;34m\u001b[0m\u001b[0m\n",
            "\u001b[0;32m/usr/local/lib/python3.7/dist-packages/ipykernel/kernelbase.py\u001b[0m in \u001b[0;36mraw_input\u001b[0;34m(self, prompt)\u001b[0m\n\u001b[1;32m    861\u001b[0m             \u001b[0mself\u001b[0m\u001b[0;34m.\u001b[0m\u001b[0m_parent_ident\u001b[0m\u001b[0;34m,\u001b[0m\u001b[0;34m\u001b[0m\u001b[0;34m\u001b[0m\u001b[0m\n\u001b[1;32m    862\u001b[0m             \u001b[0mself\u001b[0m\u001b[0;34m.\u001b[0m\u001b[0m_parent_header\u001b[0m\u001b[0;34m,\u001b[0m\u001b[0;34m\u001b[0m\u001b[0;34m\u001b[0m\u001b[0m\n\u001b[0;32m--> 863\u001b[0;31m             \u001b[0mpassword\u001b[0m\u001b[0;34m=\u001b[0m\u001b[0;32mFalse\u001b[0m\u001b[0;34m,\u001b[0m\u001b[0;34m\u001b[0m\u001b[0;34m\u001b[0m\u001b[0m\n\u001b[0m\u001b[1;32m    864\u001b[0m         )\n\u001b[1;32m    865\u001b[0m \u001b[0;34m\u001b[0m\u001b[0m\n",
            "\u001b[0;32m/usr/local/lib/python3.7/dist-packages/ipykernel/kernelbase.py\u001b[0m in \u001b[0;36m_input_request\u001b[0;34m(self, prompt, ident, parent, password)\u001b[0m\n\u001b[1;32m    902\u001b[0m             \u001b[0;32mexcept\u001b[0m \u001b[0mKeyboardInterrupt\u001b[0m\u001b[0;34m:\u001b[0m\u001b[0;34m\u001b[0m\u001b[0;34m\u001b[0m\u001b[0m\n\u001b[1;32m    903\u001b[0m                 \u001b[0;31m# re-raise KeyboardInterrupt, to truncate traceback\u001b[0m\u001b[0;34m\u001b[0m\u001b[0;34m\u001b[0m\u001b[0;34m\u001b[0m\u001b[0m\n\u001b[0;32m--> 904\u001b[0;31m                 \u001b[0;32mraise\u001b[0m \u001b[0mKeyboardInterrupt\u001b[0m\u001b[0;34m(\u001b[0m\u001b[0;34m\"Interrupted by user\"\u001b[0m\u001b[0;34m)\u001b[0m \u001b[0;32mfrom\u001b[0m \u001b[0;32mNone\u001b[0m\u001b[0;34m\u001b[0m\u001b[0;34m\u001b[0m\u001b[0m\n\u001b[0m\u001b[1;32m    905\u001b[0m             \u001b[0;32mexcept\u001b[0m \u001b[0mException\u001b[0m \u001b[0;32mas\u001b[0m \u001b[0me\u001b[0m\u001b[0;34m:\u001b[0m\u001b[0;34m\u001b[0m\u001b[0;34m\u001b[0m\u001b[0m\n\u001b[1;32m    906\u001b[0m                 \u001b[0mself\u001b[0m\u001b[0;34m.\u001b[0m\u001b[0mlog\u001b[0m\u001b[0;34m.\u001b[0m\u001b[0mwarning\u001b[0m\u001b[0;34m(\u001b[0m\u001b[0;34m\"Invalid Message:\"\u001b[0m\u001b[0;34m,\u001b[0m \u001b[0mexc_info\u001b[0m\u001b[0;34m=\u001b[0m\u001b[0;32mTrue\u001b[0m\u001b[0;34m)\u001b[0m\u001b[0;34m\u001b[0m\u001b[0;34m\u001b[0m\u001b[0m\n",
            "\u001b[0;31mKeyboardInterrupt\u001b[0m: Interrupted by user"
          ]
        }
      ],
      "source": [
        "# Trigger the authentication flow.\n",
        "ee.Authenticate()\n",
        "\n",
        "# Initialize the library.\n",
        "ee.Initialize()"
      ]
    },
    {
      "cell_type": "code",
      "execution_count": null,
      "id": "07f39007",
      "metadata": {
        "id": "07f39007"
      },
      "outputs": [],
      "source": [
        "## Create a map for defining area of interest\n",
        "Map = geemap.Map()\n",
        "Map"
      ]
    },
    {
      "cell_type": "markdown",
      "id": "9c54ec50",
      "metadata": {
        "id": "9c54ec50"
      },
      "source": [
        "<font size=\"3\">And define a few Google Earth Engine Functions </font>"
      ]
    },
    {
      "cell_type": "code",
      "execution_count": null,
      "id": "daccd24a",
      "metadata": {
        "id": "daccd24a"
      },
      "outputs": [],
      "source": [
        "def maskS2clouds(image):\n",
        "    qa = image.select('QA60');\n",
        "    ##Bits 10 and 11 are clouds and cirrus, respectively.\n",
        "    cloudBitMask = 1 << 10\n",
        "    cirrusBitMask = 1 << 11\n",
        "    ##Both flags should be set to zero, indicating clear conditions.\n",
        "    cloudmask = qa.bitwiseAnd(cloudBitMask).eq(0).And(qa.bitwiseAnd(cirrusBitMask).eq(0))\n",
        "    #cloudmask = qa.bitwiseAnd(cloudBitMask).eq(0)*(qa.bitwiseAnd(cirrusBitMask).eq(0))\n",
        "    return image.updateMask(cloudmask)#.divide(10000)\n",
        "    #return image.updateMask(qa.bitwiseAnd(cloudBitMask).eq(0)).updateMask(qa.bitwiseAnd(cirrusBitMask).eq(0)).divide(100000)  \n",
        "def addNDWI(image):\n",
        "  ndwi = image.normalizedDifference(['B8', 'B3']).rename('NDWI').toFloat();\n",
        "  return image.addBands(ndwi)    \n",
        "def addNDVI(image):\n",
        "  #ndvi = image.normalizedDifference(['B8', 'B3']).rename('NDVI').toFloat();\n",
        "  ndvi = (image.select(['B8']).subtract(image.select(['B3']))).divide(image.select(['B8']).add(image.select(['B3']))).rename('NDVI')\n",
        "  return image.addBands(ndvi)\n",
        "def addMNDWI(image):\n",
        "  mndwi = image.normalizedDifference(['B3', 'B11']).rename('MNDWI');\n",
        "  return image.addBands(mndwi)"
      ]
    },
    {
      "cell_type": "markdown",
      "id": "f35727ee",
      "metadata": {
        "id": "f35727ee"
      },
      "source": [
        "<font size=\"5\" color='red'> If you don't have a shapefile, zoom to your study area in the map above and use the rectangle icon to draw a boundary around your study area. This will be the model domain..</font>\n"
      ]
    },
    {
      "cell_type": "code",
      "execution_count": null,
      "id": "dc67e1a5",
      "metadata": {
        "id": "dc67e1a5"
      },
      "outputs": [],
      "source": [
        "extent_file  = folders[0] + '/' + AOI + '_input.shp'\n",
        "\n",
        "if os.path.isfile(extent_file)==True:\n",
        "    print('Model domain defined by %s' %(extent_file))\n",
        "    ee_object = geemap.shp_to_ee(extent_file)\n",
        "    Map.addLayer(ee_object, {}, 'Layer name')\n",
        "    Map.centerObject(ee_object,7)\n",
        "else: \n",
        "    print('You must define the model domain using the map above')\n",
        "    Map.draw_last_feature\n",
        "    roi = ee.FeatureCollection(Map.draw_features)\n",
        "    geemap.ee_export_vector(roi, folders[0] + '/' + AOI + '_input.shp')"
      ]
    },
    {
      "cell_type": "markdown",
      "id": "490e01dc",
      "metadata": {
        "id": "490e01dc"
      },
      "source": [
        "<font size=\"5\" color='red' >If you got an error above, go back to the map and draw (rectangle icon) a boundary around your study area and then rerun the previous cell </font>"
      ]
    },
    {
      "cell_type": "markdown",
      "source": [
        "<font size = 5> If you want to try generating water masks in GEE, change the run_gee to True and the remaining cells will submit tasks to Google Earth Engine.  </font>\n"
      ],
      "metadata": {
        "id": "HwwD4qeELSb6"
      },
      "id": "HwwD4qeELSb6"
    },
    {
      "cell_type": "code",
      "execution_count": null,
      "id": "a24a5c5d",
      "metadata": {
        "id": "a24a5c5d"
      },
      "outputs": [],
      "source": [
        "run_gee = False\n"
      ]
    },
    {
      "cell_type": "markdown",
      "id": "654a435e",
      "metadata": {
        "id": "654a435e"
      },
      "source": [
        "<font size=\"5\" color='red' > The next cell ensures the projections are correct and defines the extent in Google Earth Engine.  </font>\n",
        "    "
      ]
    },
    {
      "cell_type": "code",
      "execution_count": null,
      "id": "596dbfbd",
      "metadata": {
        "id": "596dbfbd"
      },
      "outputs": [],
      "source": [
        "extent_gpd = gpd.read_file(extent_file)\n",
        "resolution  = 10 ## resolution of the water mask\n",
        "\n",
        "if extent_gpd.crs == None:\n",
        "    extent_gpd = extent_gpd.set_crs('EPSG:4326')\n",
        "if extent_gpd.crs != 'EPSG:4326':\n",
        "    print('reprojecting to EPSG')\n",
        "    extent_gpd = extent_gpd.to_crs('EPSG:4326')\n",
        "\n",
        "extent_gpd.geometry = extent_gpd.buffer(0.2,join_style = 2)\n",
        "exterior_points = extent_gpd.geometry[0].exterior.coords[:]\n",
        "exterior_points = list(map(list, exterior_points))\n",
        "ee_poly = ee.Geometry.Polygon(coords=exterior_points)    \n",
        "\n",
        "Map.addLayer(ee_poly)"
      ]
    },
    {
      "cell_type": "markdown",
      "id": "5acbf1da",
      "metadata": {
        "id": "5acbf1da"
      },
      "source": [
        "<font size='5' color = 'red' > Now, we collect Sentinel-1 and Sentinel-2 data. </font>\n",
        "- <font size='3' color='red' > All dates for Sentinel-1 data are used and both polarizations (VV and VH) </font>\n",
        "- <font size='3' color='red' > All dates for Sentinel-2 data are used, but are filtered to only images with  less than 5% cloudy fixels. We add NDVI, NDWI, and a cloud mask </font>\n"
      ]
    },
    {
      "cell_type": "code",
      "execution_count": null,
      "id": "1e2a05fa",
      "metadata": {
        "id": "1e2a05fa"
      },
      "outputs": [],
      "source": [
        "collectionS2 = ee.ImageCollection(\"COPERNICUS/S2\")\\\n",
        "    .filter(ee.Filter.calendarRange(2019,2022,'year'))\\\n",
        "    .filter(ee.Filter.calendarRange(1,12,'month'))\\\n",
        "    .filterBounds(ee_poly)\\\n",
        "    .filter(ee.Filter.lt('CLOUDY_PIXEL_PERCENTAGE', 5))\\\n",
        "    .map(addNDWI)\\\n",
        "    .map(addMNDWI)\\\n",
        "    .map(addNDVI)\\\n",
        "    .map(maskS2clouds)  ;  \n",
        "collectionVV = ee.ImageCollection('COPERNICUS/S1_GRD')\\\n",
        "    .filter(ee.Filter.eq('instrumentMode', 'IW'))\\\n",
        "    .filter(ee.Filter.calendarRange(2019,2022,'year'))\\\n",
        "    .filter(ee.Filter.calendarRange(1,12,'month'))\\\n",
        "    .filter(ee.Filter.listContains('transmitterReceiverPolarisation', 'VV'))\\\n",
        "    .filterMetadata('resolution_meters', 'equals' , 10)\\\n",
        "    .filterBounds(ee_poly)\\\n",
        "    .select('VV');\n",
        "collectionVH = ee.ImageCollection('COPERNICUS/S1_GRD')\\\n",
        "    .filter(ee.Filter.eq('instrumentMode', 'IW'))\\\n",
        "    .filter(ee.Filter.calendarRange(2019,2022,'year'))\\\n",
        "    .filter(ee.Filter.calendarRange(1,12,'month'))\\\n",
        "    .filter(ee.Filter.listContains('transmitterReceiverPolarisation', 'VH'))\\\n",
        "    .filterMetadata('resolution_meters', 'equals' , 10)\\\n",
        "    .filterBounds(ee_poly)\\\n",
        "    .select('VH');"
      ]
    },
    {
      "cell_type": "markdown",
      "id": "782f8368",
      "metadata": {
        "id": "782f8368"
      },
      "source": [
        "<font size='5' color = 'red' > Now, process those collections, further. </font>\n",
        "- <font size='3' color='red' > For the Sentinel-1 VV and VH collections, for each pixel, we take the maximum value within the stack. Then we find the focal mean within 30m radius to remove speckle/noise </font>\n",
        "- <font size='3' color='red' > For the Sentinel-2 collection, we take the min, max, and mean of the all bands.</font>\n"
      ]
    },
    {
      "cell_type": "code",
      "execution_count": null,
      "id": "76d0151b",
      "metadata": {
        "id": "76d0151b"
      },
      "outputs": [],
      "source": [
        "## Process Sentinel-1 Data\n",
        "VV_ref = collectionVV.max().focal_mean(30, 'circle', 'meters')\n",
        "VH_ref = collectionVH.max().focal_mean(30, 'circle', 'meters')\n",
        "\n",
        "# Process Sentinel-2 Data\n",
        "S2_max = collectionS2.max()    \n",
        "S2_min = collectionS2.min()\n",
        "S2_mean = collectionS2.mean()    \n",
        "ndwi_min = S2_min.select('NDWI')\n",
        "ndvi_min = S2_min.select('NDVI')   \n",
        "ndwi_max = S2_max.select('NDWI')\n",
        "ndvi_max = S2_max.select('NDVI')   \n",
        "ndwi_mean = S2_mean.select('NDWI')\n",
        "ndvi_mean = S2_mean.select('NDVI')   \n",
        "\n",
        "folder_on_drive = 'gee_' + AOI"
      ]
    },
    {
      "cell_type": "markdown",
      "id": "fb69adfc",
      "metadata": {
        "id": "fb69adfc"
      },
      "source": [
        "<font size='5' color = 'red' > We use four different alogirthms to create waste masks. With each set of inputs, we use the GEE Kmeans algorithm to cluster pixels into 2 classes, which we later classify as water or not water. </font>\n",
        "- <font size='3' color='red' > (1) Max NDWI, max VV ,and max VH </font>\n",
        "- <font size='3' color='red' > (2) Mean NDWI, max VV, and max VH </font>\n",
        "- <font size='3' color='red' > (3) Max NDWI and max NDVI </font>\n",
        "- <font size='3' color='red' > (4) Min NDWI and min NDVI </font>\n",
        "\n",
        "<font size='3' color='red' > Once you run the 4 cells below, the tasks are submitted to GEE. If you run them multiple times, multiple duplicate tasks will be submitted. </font>"
      ]
    },
    {
      "cell_type": "code",
      "execution_count": null,
      "id": "880d2cce",
      "metadata": {
        "id": "880d2cce"
      },
      "outputs": [],
      "source": [
        "if run_gee:\n",
        "\n",
        "    ## NDWI max, VV, and VH composite\n",
        "    bands = ['NDWI','VV','VH'];\n",
        "    ref_composite = ee.Image.cat(ndwi_max.toFloat(),VV_ref.toFloat(),VH_ref.toFloat()).select(bands).clip(ee_poly);\n",
        "    method = 'ndwimax_vvvhmax'\n",
        "    print('Method is %s' %(method))\n",
        "\n",
        "    ## Save composite\n",
        "    # comp_out1 = batch.Export.image.toDrive(ref_composite, folder = folder_on_drive, description='%s_%s' %(AOI,method), fileFormat = 'GeoTiff',scale = 10,maxPixels=10000000000000 )\n",
        "    # process = batch.Task.start(comp_out1)\n",
        "    # print('Saved composite to Google Drive at GEE_drive_composites/%s_%s.tif' %(AOI,method))\n",
        "\n",
        "    ## Unsupervised Clustering using S2 max, VV, and VH composite\n",
        "    training = ref_composite.sample(region=ee_poly,scale=resolution,numPixels=500,tileScale = 16)\n",
        "    classifier = ee.Clusterer.wekaKMeans(2).train(training,bands)\n",
        "    water = ref_composite.select(bands).cluster(classifier);\n",
        "\n",
        "    ## Save clusters\n",
        "    mask_out1 = batch.Export.image.toDrive(water, region=ee_poly,folder = folder_on_drive, description='%s_%s_clustered' %(AOI,method),fileFormat = 'GeoTiff',scale = 10,maxPixels=10000000000000 )\n",
        "    process = batch.Task.start(mask_out1)\n",
        "    print('Saved clusters to Google Drive at %s/%s_%s' %(folder_on_drive,AOI,method))\n",
        "\n",
        "else:\n",
        "    print('Skipping')"
      ]
    },
    {
      "cell_type": "code",
      "execution_count": null,
      "id": "71841dd3",
      "metadata": {
        "id": "71841dd3"
      },
      "outputs": [],
      "source": [
        "if run_gee:\n",
        "    ## Save S2 mean VV and VH max\n",
        "    bands = ['NDWI','VV','VH'];\n",
        "    ref_composite = ee.Image.cat(ndwi_mean.toFloat(),VV_ref.toFloat(),VH_ref.toFloat()).select(bands).clip(ee_poly);\n",
        "    method = 'ndwimean_vvvhmax'\n",
        "    print('Method is %s' %(method))\n",
        "\n",
        "    ## Save composite\n",
        "    # comp_out2 = batch.Export.image.toDrive(ref_composite, folder = folder_on_drive, description='%s_%s' %(AOI,method), fileFormat = 'GeoTiff',scale = 10,maxPixels=10000000000000 )\n",
        "    # process = batch.Task.start(comp_out2)\n",
        "    # print('Saved composite to Google Drive at GEE_drive_composites/%s_%s.tif' %(AOI,method))\n",
        "\n",
        "    ## Unsupervised Clustering using S2 max, VV, and VH composite\n",
        "    training = ref_composite.sample(region=ee_poly,scale=resolution,numPixels=500,tileScale = 16)\n",
        "    classifier = ee.Clusterer.wekaKMeans(2).train(training,bands)\n",
        "    water = ref_composite.select(bands).cluster(classifier);\n",
        "\n",
        "    ## Save clusters\n",
        "    mask_out2 = batch.Export.image.toDrive(water, region=ee_poly,folder = folder_on_drive, description='%s_%s_clustered' %(AOI,method),fileFormat = 'GeoTiff',scale = 10,maxPixels=10000000000000 )\n",
        "    process = batch.Task.start(mask_out2)\n",
        "    print('Saved clusters to Google Drive at GEE_drive_masks/%s_%s' %(AOI,method))\n",
        "\n",
        "else:\n",
        "    print('Skipping')\n"
      ]
    },
    {
      "cell_type": "code",
      "execution_count": null,
      "id": "d1ff2c23",
      "metadata": {
        "id": "d1ff2c23"
      },
      "outputs": [],
      "source": [
        "if run_gee: \n",
        "    ## Save NDVI and NDWI min\n",
        "    bands = ['NDVI','NDWI'];\n",
        "    ref_composite = ee.Image.cat(ndvi_min.toFloat(),ndwi_min.toFloat()).select(['NDWI','NDVI']).clip(ee_poly);      \n",
        "    method = 'ndvimin_ndwimin'\n",
        "    print('Method is %s' %(method))\n",
        "\n",
        "    ## Save composite\n",
        "    # comp_out3 = batch.Export.image.toDrive(ref_composite, folder = folder_on_drive, description='%s_%s' %(AOI,method), fileFormat = 'GeoTiff',scale = 10,maxPixels=10000000000000 )\n",
        "    # process = batch.Task.start(comp_out3)\n",
        "    # print('Saved composite to Google Drive at GEE_drive_composites/%s_%s.tif' %(AOI,method))\n",
        "\n",
        "    ## Unsupervised Clustering using S2 max, VV, and VH composite\n",
        "    training = ref_composite.sample(region=ee_poly,scale=resolution,numPixels=500,tileScale = 16)\n",
        "    classifier = ee.Clusterer.wekaKMeans(2).train(training,bands)\n",
        "    water = ref_composite.select(bands).cluster(classifier);\n",
        "\n",
        "    ## Save clusters\n",
        "    mask_out3 = batch.Export.image.toDrive(water, region=ee_poly,folder = folder_on_drive, description='%s_%s_clustered' %(AOI,method),fileFormat = 'GeoTiff',scale = 10,maxPixels=10000000000000 )\n",
        "    process = batch.Task.start(mask_out3)\n",
        "    print('Saved clusters to Google Drive at GEE_drive_masks/%s_%s' %(AOI,method))\n",
        "\n",
        "else:\n",
        "    print('Skipping')"
      ]
    },
    {
      "cell_type": "code",
      "execution_count": null,
      "id": "3e9a6bd3",
      "metadata": {
        "id": "3e9a6bd3"
      },
      "outputs": [],
      "source": [
        "if run_gee:\n",
        "    ## Save NDVI and NDWI max\n",
        "    bands = ['NDVI','NDWI'];\n",
        "    ref_composite = ee.Image.cat(ndvi_max.toFloat(),ndwi_max.toFloat()).select(['NDWI','NDVI']).clip(ee_poly);      \n",
        "    method = 'ndvimax_ndwimax'\n",
        "    print('Method is %s' %(method))\n",
        "\n",
        "    ## Save composite\n",
        "    #comp_out4 = batch.Export.image.toDrive(ref_composite, folder = folder_on_drive, description='%s_%s' %(AOI,method), fileFormat = 'GeoTiff',scale = 10,maxPixels=10000000000000 )\n",
        "    #process = batch.Task.start(comp_out4)\n",
        "    #print('Saved composite to Google Drive at GEE_drive_composites/%s_%s.tif' %(AOI,method))\n",
        "\n",
        "    ## Unsupervised Clustering using S2 max, VV, and VH composite\n",
        "    training = ref_composite.sample(region=ee_poly,scale=resolution,numPixels=500,tileScale = 16)\n",
        "    classifier = ee.Clusterer.wekaKMeans(2).train(training,bands)\n",
        "    water = ref_composite.select(bands).cluster(classifier);\n",
        "\n",
        "    ## Save clusters\n",
        "    mask_out4 = batch.Export.image.toDrive(water, region=ee_poly,folder = folder_on_drive, description='%s_%s_clustered' %(AOI,method),fileFormat = 'GeoTiff',scale = 10,maxPixels=10000000000000 )\n",
        "    process = batch.Task.start(mask_out4)\n",
        "    print('Saved clusters to Google Drive at GEE_drive_masks/%s_%s' %(AOI,method))\n",
        "\n",
        "else:\n",
        "    print('Skipping')\n"
      ]
    },
    {
      "cell_type": "markdown",
      "id": "f2262e9f",
      "metadata": {
        "id": "f2262e9f"
      },
      "source": [
        "<font size='5' color = 'red' > The tasks are now submitted to GEE. These jobs will take a while (less than 1 hour for small areas or many hours for large areas)</font>\n",
        "- <font size='3' color='red' > You can check the status by going to https://code.earthengine.google.com/tasks</font>\n",
        "- <font size='3' color='red' > We will also monitor the status below, but it will take time. </font>\n",
        "\n"
      ]
    },
    {
      "cell_type": "markdown",
      "id": "b604eba4",
      "metadata": {
        "id": "b604eba4"
      },
      "source": [
        "<font size='5' color = 'red' > Once the tasks have completed, you must download them. Go to your [drive.google.com](https://drive.google.com) and download them manually. They should be saved in a folder called __gee_komo__. However, it could take a few hours before they are ready.</font>\n"
      ]
    },
    {
      "cell_type": "markdown",
      "id": "88a45e17",
      "metadata": {
        "id": "88a45e17"
      },
      "source": [
        "<font size='5' color = 'red' >  Finally, you must choose the best one. </font>\n",
        "\n",
        "<font size='3' color = 'red' > Use QGIS to pick the best water mask. Add __finalwatermask__ to the end of the file name. The file ending in __finalwatermask.tif__ will be used in future notebooks. </font>\n"
      ]
    },
    {
      "cell_type": "markdown",
      "id": "79ab96ae",
      "metadata": {
        "id": "79ab96ae"
      },
      "source": [
        "<font size='5' color = 'red' > This notebook is complete, continue to notebook #2 to build the model foundations </font>\n"
      ]
    }
  ],
  "metadata": {
    "kernelspec": {
      "display_name": "Python 3 (ipykernel)",
      "language": "python",
      "name": "python3"
    },
    "language_info": {
      "codemirror_mode": {
        "name": "ipython",
        "version": 3
      },
      "file_extension": ".py",
      "mimetype": "text/x-python",
      "name": "python",
      "nbconvert_exporter": "python",
      "pygments_lexer": "ipython3",
      "version": "3.9.13"
    },
    "colab": {
      "provenance": [],
      "include_colab_link": true
    }
  },
  "nbformat": 4,
  "nbformat_minor": 5
}