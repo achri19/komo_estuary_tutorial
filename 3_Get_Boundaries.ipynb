{
  "cells": [
    {
      "cell_type": "markdown",
      "metadata": {
        "id": "466e2a39"
      },
      "source": [
        "<font size=\"5\">Build Your Own ANUGA Model (BYOAM) </font>\n",
        "\n",
        "<font size=\"3\">In this notebook, we will:\n",
        "\n",
        "- determine the model domain boundaries\n",
        "\n",
        "- assign a total upstream discharge (m3/s)\n",
        "\n",
        "    \n",
        "- download time series of downstream water level\n",
        "\n",
        "\n",
        "\n",
        "\n",
        "</font>\n",
        "\n",
        "<font size=\"3\">Before you can run this notebook, you should have run the 2_SetupDEM notebook</font>\n"
      ],
      "id": "466e2a39"
    },
    {
      "cell_type": "markdown",
      "source": [
        "<font size=5> Step #1: Mount Google Drive and Grant Access <font> <br>\n",
        "\n",
        "\n"
      ],
      "metadata": {
        "id": "rhp4yA4h2Njc"
      },
      "id": "rhp4yA4h2Njc"
    },
    {
      "cell_type": "markdown",
      "source": [
        "<font size=3> When you run the next cell, a pop-up window will appear asking you to grant access to your Google Drive. You must approve or the notebook will not work. <font> <br>\n"
      ],
      "metadata": {
        "id": "JkG2pXof2YoC"
      },
      "id": "JkG2pXof2YoC"
    },
    {
      "cell_type": "code",
      "source": [
        "import sys\n",
        "import os\n",
        "path = os.getcwd() + '/'\n",
        "where_to_mount = '/content/drive/'\n",
        "\n",
        "from google.colab import drive\n",
        "drive.mount(where_to_mount, force_remount=True)\n",
        "\n",
        "mounted_drive = where_to_mount + 'MyDrive/'"
      ],
      "metadata": {
        "colab": {
          "base_uri": "https://localhost:8080/"
        },
        "outputId": "017638ea-dd9a-4fdd-c3f3-086e1fae73fe",
        "id": "s_IgSq3RgKtN"
      },
      "execution_count": 1,
      "outputs": [
        {
          "output_type": "stream",
          "name": "stdout",
          "text": [
            "Mounted at /content/drive/\n"
          ]
        }
      ],
      "id": "s_IgSq3RgKtN"
    },
    {
      "cell_type": "markdown",
      "metadata": {
        "id": "AXdcQrkUgUlM"
      },
      "source": [
        "<font size=5> Step #2: Install packages. <font> <br>\n",
        "<font size=3> This cell should install all Python packages you need for each tutorial.<font>"
      ],
      "id": "AXdcQrkUgUlM"
    },
    {
      "cell_type": "code",
      "source": [
        "!rm -rf mounted_drive + 'komo_estuary_tutorial'"
      ],
      "metadata": {
        "id": "MgHgtvLXXb8K"
      },
      "id": "MgHgtvLXXb8K",
      "execution_count": 5,
      "outputs": []
    },
    {
      "cell_type": "code",
      "source": [
        "import os\n",
        "os.chdir(mounted_drive)\n",
        "if os.path.isdir(mounted_drive + 'komo_estuary_tutorial'):\n",
        "  print('## Updating the local git repository \\n')\n",
        "  os.chdir(mounted_drive + '/komo_estuary_tutorial')\n",
        "  ! git pull \n",
        "else:\n",
        "  print('## Pulling the git repository with files for the tutorial\\n')\n",
        "  ! git clone https://github.com/achri19/komo_estuary_tutorial.git\n",
        "\n",
        "print('\\n## Installing the Python packages needed for these tutorials\\n')\n",
        "!/bin/bash $mounted_drive/komo_estuary_tutorial/install_packages.sh\n",
        "\n",
        "#if os.path.isdir(mounted_drive + 'komo') == True:\n",
        "!unzip -n komo.zip -d $mounted_drive \n"
      ],
      "metadata": {
        "outputId": "281ce7f0-3cb9-43d4-ee7a-5cc91de3e027",
        "colab": {
          "base_uri": "https://localhost:8080/"
        },
        "id": "1poqNGJSgKtK"
      },
      "execution_count": 3,
      "outputs": [
        {
          "output_type": "stream",
          "name": "stdout",
          "text": [
            "## Updating the local git repository \n",
            "\n",
            "Updating 5505663..01c28dd\n",
            "error: Your local changes to the following files would be overwritten by merge:\n",
            "\tkomo.zip\n",
            "Please commit your changes or stash them before you merge.\n",
            "Aborting\n",
            "\n",
            "## Installing the Python packages needed for these tutorials\n",
            "\n",
            "(1) Install pip packages\n",
            "nose mpi4py triangle Pmw pymetis cmocean geopandas fiona pygeos rasterio rasterstats\n",
            "(2) Install gdal\n",
            "(3) Install netcdf4\n",
            "^C\n",
            "Archive:  komo.zip\n"
          ]
        }
      ],
      "id": "1poqNGJSgKtK"
    },
    {
      "cell_type": "code",
      "source": [],
      "metadata": {
        "id": "cgl4wryO73mI"
      },
      "execution_count": null,
      "outputs": [],
      "id": "cgl4wryO73mI"
    },
    {
      "cell_type": "markdown",
      "source": [
        "<font size=5> Step #3: Set up working directories<font> \n"
      ],
      "metadata": {
        "id": "tqD-wrOGvE2I"
      },
      "id": "tqD-wrOGvE2I"
    },
    {
      "cell_type": "markdown",
      "source": [
        "<font size=3> We will access data files stored on a shared Google Drive. You will also need to save files to your own Google Drive.<font>\n",
        "\n"
      ],
      "metadata": {
        "id": "QgL2wZHj16ze"
      },
      "id": "QgL2wZHj16ze"
    },
    {
      "cell_type": "code",
      "source": [
        "path = where_to_mount + 'MyDrive/processing/'\n",
        "path_code = path + 'code/'\n",
        "path_templates = path +  'templates/'\n",
        "path_configs = path + 'configs/'\n",
        "path_ancillary = path + 'ancillary/'\n",
        "try:\n",
        "  os.mkdir(path_examples)\n",
        "except:''\n",
        "sys.path.insert(1,path_code)\n"
      ],
      "metadata": {
        "id": "cmQy7ZMRgKtQ"
      },
      "execution_count": null,
      "outputs": [],
      "id": "cmQy7ZMRgKtQ"
    },
    {
      "cell_type": "markdown",
      "source": [
        "<font size=5> Step #4: Now we will import Python packages, which will be used for future tutorials. If there are any errors, try rerunning the first cell <font> \n",
        "\n",
        "\n"
      ],
      "metadata": {
        "id": "3mnrUfhr3NWW"
      },
      "id": "3mnrUfhr3NWW"
    },
    {
      "cell_type": "code",
      "execution_count": null,
      "metadata": {
        "id": "uiRaFHLTPtGQ"
      },
      "outputs": [],
      "source": [
        "import sys\n",
        "import os\n",
        "import pandas as pd\n",
        "import shutil\n",
        "from datetime import datetime\n",
        "from string import Template\n",
        "import fnmatch\n",
        "import geopandas as gpd\n",
        "import rasterio\n",
        "from osgeo import gdal \n",
        "from pathlib import Path\n",
        "import matplotlib.pyplot as plt\n",
        "import numpy as np\n",
        "import rtree\n",
        "import pygeos\n",
        "import pyTMD\n"
      ],
      "id": "uiRaFHLTPtGQ"
    },
    {
      "cell_type": "code",
      "source": [
        "sys.path.insert(1,path_code)\n",
        "\n",
        "from BYOM_Utilities_V1 import (build_directory,\n",
        "                               get_extent_parameters,\n",
        "                               setup_AOI_files, \n",
        "                               make_polygons,\n",
        "                               make_channel_networks,\n",
        "                               make_model_foundation, get_inlet,\n",
        "                               set_boundary_conditions, get_tidal_boundary,get_tide_data_pytmd,\n",
        "                               make_watermask,\n",
        "                               more_opening)"
      ],
      "metadata": {
        "id": "RazCUtDkPtGQ"
      },
      "execution_count": null,
      "outputs": [],
      "id": "RazCUtDkPtGQ"
    },
    {
      "cell_type": "markdown",
      "metadata": {
        "id": "yZ36Nb77PtGR"
      },
      "source": [
        "<font size='5' color = 'red' > Building the DEM STEP #1: <br> Set the AOI again and make sure the working directory is set. If you ran 0_InitiateProcess notebook then the directory should already be made. </font>\n"
      ],
      "id": "yZ36Nb77PtGR"
    },
    {
      "cell_type": "code",
      "execution_count": null,
      "metadata": {
        "id": "ySf-iTMRPtGS"
      },
      "outputs": [],
      "source": [
        "\n"
      ],
      "id": "ySf-iTMRPtGS"
    },
    {
      "cell_type": "markdown",
      "metadata": {
        "id": "c6bd01ec"
      },
      "source": [
        "<font size='5' color = 'red' > Set Boundaries <br> Set the AOI again and make sure the working directory is set. If you ran 2_Setup_DEM notebook then the directory should already be made. </font>\n"
      ],
      "id": "c6bd01ec"
    },
    {
      "cell_type": "code",
      "execution_count": null,
      "metadata": {
        "id": "43f0d63c"
      },
      "outputs": [],
      "source": [
        "AOI = 'komo'\n",
        "\n",
        "Path((mounted_drive + AOI)).mkdir(parents=True, exist_ok=True)\n",
        "\n",
        "skip = False\n",
        "res = 30 #meters\n",
        "print('\\n')\n",
        "print('Study area is ' + AOI)\n",
        "print('Resolution of this setup is %sm' %(res))\n",
        "\n",
        "working_path,folders = build_directory(mounted_drive, AOI)\n",
        "\n",
        "elev_name = 'Elevation_ocean-GEBCO_land-GLO30_above1260m-wdpower_below1260m-plane_wetland-uni0m_lakes-uni1m'\n",
        "elevationpath = '/content/drive2/MyDrive/examples/komo/DEMs/Elevation_ocean-GEBCO_land-GLO30_above1260m-wdpower_below1260m-plane_wetland-uni0m_lakes-uni1m'\n",
        "\n"
      ],
      "id": "43f0d63c"
    },
    {
      "cell_type": "code",
      "execution_count": null,
      "id": "d44912c9",
      "metadata": {
        "id": "d44912c9"
      },
      "outputs": [],
      "source": [
        "parameters = pd.read_csv('%s/%s_Configuration.csv' %(folders[2],AOI))\n",
        "EPSG = int(parameters['EPSG'])"
      ]
    },
    {
      "cell_type": "markdown",
      "id": "1400e1c8",
      "metadata": {
        "id": "1400e1c8"
      },
      "source": [
        "<font size='5' color = 'red' > Set Boundaries STEP #8a: <br> Get the downstream boundary conditions for the model </font>\n"
      ]
    },
    {
      "cell_type": "code",
      "execution_count": null,
      "id": "57414c18",
      "metadata": {
        "scrolled": true,
        "id": "57414c18"
      },
      "outputs": [],
      "source": [
        "try:\n",
        "    tide_bnd = gpd.read_file('%s%s_tidebnd.shp' %(folders[0],AOI))\n",
        "    \n",
        "except:\n",
        "    print('Tidal boundary is not defined yet')\n",
        "    tide_bnd_EPSG = []\n",
        "    tideLAT_EPSG = -9999\n",
        "    tideLON_EPSG = -9999\n",
        "\n",
        "else:\n",
        "    print('Tidal boundary is defined by User File (%s_tidebnd.shp)' %(AOI))\n",
        "    if tide_bnd.crs != 'EPSG:4326':\n",
        "        tide_bnd = tide_bnd.to_crs('EPSG:4326')    \n",
        "    tide_centroid = tide_bnd.centroid\n",
        "\n",
        "    tide_bnd_EPSG = tide_bnd.to_crs('EPSG:%s' %(EPSG))\n",
        "    tide_EPSG_centroid = tide_bnd_EPSG.centroid\n",
        "\n",
        "    tideLAT_EPSG = round(tide_EPSG_centroid.geometry[0].coords.xy[1][0],2)\n",
        "    tideLON_EPSG = round(tide_EPSG_centroid.geometry[0].coords.xy[0][0],2)\n",
        "\n"
      ]
    },
    {
      "cell_type": "code",
      "execution_count": null,
      "id": "ddeec810",
      "metadata": {
        "id": "ddeec810"
      },
      "outputs": [],
      "source": [
        "boundary_segments,tideLON_EPSG,tideLAT_EPSG = get_tidal_boundary(AOI,folders,res,parameters,tide_bnd_EPSG,tideLAT_EPSG,tideLON_EPSG,elev_name)\n"
      ]
    },
    {
      "cell_type": "code",
      "execution_count": null,
      "id": "19b09d9d",
      "metadata": {
        "id": "19b09d9d"
      },
      "outputs": [],
      "source": [
        "tides = gpd.GeoDataFrame(geometry = gpd.points_from_xy(x=[tideLON_EPSG],y=[tideLAT_EPSG]),crs='EPSG:%s' %(EPSG))\n",
        "\n",
        "print('Tide centroid is LAT: %s LON: %s ' %(tideLAT_EPSG,tideLON_EPSG))\n",
        "\n",
        "tideLON_4326 = round(tides.to_crs('EPSG:4326').geometry[0].coords.xy[0][0],4)\n",
        "tideLAT_4326 = round(tides.to_crs('EPSG:4326').geometry[0].coords.xy[1][0],4)\n",
        "\n",
        "print('Tide centroid is LAT: %s LON: %s ' %(tideLAT_4326,tideLON_4326))\n"
      ]
    },
    {
      "cell_type": "code",
      "execution_count": null,
      "id": "0d0501af",
      "metadata": {
        "id": "0d0501af"
      },
      "outputs": [],
      "source": [
        "tide_path = folders[5] + '/Tide_LAT%s_LON%s/' %(tideLAT_4326,tideLON_4326)\n",
        "\n",
        "Path(tide_path).mkdir(parents=True, exist_ok=True)\n",
        "\n",
        "boundary_segments.to_file('%s%s_Boundary_Segments.shp' %(tide_path,AOI))"
      ]
    },
    {
      "cell_type": "markdown",
      "source": [
        "Due to file size and copyright, we cannot share the model files for the TPXO Global Tide model. We have provided the time series needed to run a simulation, but if you'd like to produce tide data yourself, you should look here for more information: [https://www.tpxo.net/global](https://)"
      ],
      "metadata": {
        "id": "QowfnVrR0QfI"
      },
      "id": "QowfnVrR0QfI"
    },
    {
      "cell_type": "markdown",
      "metadata": {
        "id": "tRYxyN3X63fq"
      },
      "source": [
        "<font size='5' color = 'red' > Set Boundaries STEP #8b: <br> Get the upstream boundary conditions for the model </font>\n"
      ],
      "id": "tRYxyN3X63fq"
    },
    {
      "cell_type": "code",
      "execution_count": null,
      "id": "6a341c72",
      "metadata": {
        "id": "6a341c72"
      },
      "outputs": [],
      "source": [
        "##tide_data = get_tide_data_pytmd(AOI,tide_path,tideLON_4326,tideLAT_4326)\n",
        "tide_data = np.genfromtxt(\"%s/%s_tides_lat%s_lon%s_20100101.csv\" %(tide_path,AOI,np.round(tideLAT_4326,2),np.round(tideLON_4326,2)),delimiter=',')\n"
      ]
    },
    {
      "cell_type": "code",
      "execution_count": null,
      "id": "6d845571",
      "metadata": {
        "id": "6d845571"
      },
      "outputs": [],
      "source": [
        "try:\n",
        "    inlet_bnd = gpd.read_file('%s%s_inletbnd.shp' %(folders[0],AOI))\n",
        "except:\n",
        "    print('No inlet polygon defined')\n",
        "    inletLAT_EPSG = -9999\n",
        "    inletLON_EPSG = -9999\n",
        "else:\n",
        "    print('Inlet polygon defined with %s_inletbnd.shp' %(AOI))\n",
        "    if inlet_bnd.crs != 'EPSG:4326':\n",
        "        inlet_bnd = inlet_bnd.to_crs('EPSG:4326')    \n",
        "    inlet_centroid = inlet_bnd.centroid\n",
        "\n",
        "    inlet_bnd_EPSG = inlet_bnd.to_crs('EPSG:%s' %(EPSG))\n",
        "    inlet_EPSG_centroid = inlet_bnd_EPSG.centroid\n",
        "\n",
        "    inletLAT_EPSG = round(inlet_EPSG_centroid.geometry[0].coords.xy[1][0],0)\n",
        "    inletLON_EPSG = round(inlet_EPSG_centroid.geometry[0].coords.xy[0][0],0)\n"
      ]
    },
    {
      "cell_type": "code",
      "execution_count": null,
      "id": "77108fb3",
      "metadata": {
        "id": "77108fb3"
      },
      "outputs": [],
      "source": [
        "intersections, inletLON_EPSG,inletLAT_EPSG = get_inlet(AOI,folders,res,parameters,inletLON_EPSG,inletLAT_EPSG,elev_name)"
      ]
    },
    {
      "cell_type": "code",
      "execution_count": null,
      "id": "8ce74d61",
      "metadata": {
        "id": "8ce74d61"
      },
      "outputs": [],
      "source": [
        "inlet_bnd = gpd.GeoDataFrame(geometry = gpd.points_from_xy(x=[inletLON_EPSG],y=[inletLAT_EPSG]),crs='EPSG:%s' %(EPSG))\n",
        "\n",
        "print('Inlet centroid is LAT: %s LON: %s ' %(inletLAT_EPSG,inletLON_EPSG))\n",
        "\n",
        "inletLAT_4326 = round(inlet_bnd.to_crs('EPSG:4326').geometry[0].coords.xy[1][0],4)\n",
        "inletLON_4326 = round(inlet_bnd.to_crs('EPSG:4326').geometry[0].coords.xy[0][0],4)\n",
        "\n",
        "print('Inlet centroid is LAT: %s LON: %s ' %(inletLAT_4326,inletLON_4326))\n"
      ]
    },
    {
      "cell_type": "code",
      "execution_count": null,
      "id": "c4a6178e",
      "metadata": {
        "id": "c4a6178e"
      },
      "outputs": [],
      "source": [
        "inlet_path = folders[5] + '/Inlet_LAT%s_LON%s/' %(inletLAT_4326,inletLON_4326)\n",
        "\n",
        "Path(inlet_path).mkdir(parents=True, exist_ok=True)\n",
        "\n",
        "inlet_bnd.to_file('%sinlet_bnd_LAT%s_LON%s.shp' %(inlet_path,inletLAT_4326,inletLON_4326))\n",
        "\n"
      ]
    },
    {
      "cell_type": "markdown",
      "source": [
        "<font size='5' color = 'red' > Make some plots! </font>\n"
      ],
      "metadata": {
        "id": "Yu7uFoU_8oMi"
      },
      "id": "Yu7uFoU_8oMi"
    },
    {
      "cell_type": "code",
      "source": [
        "AOI_extent = gpd.read_file('%s%s_extent_%s.shp' %(folders[7],AOI,EPSG))\n",
        "watermask = rasterio.open('%s%s_watermask_%s.tif' %(folders[8],AOI,res))\n",
        "masked, mask_transform = mask(dataset=watermask,shapes=model_domain.geometry,crop=False)\n",
        "masked = np.where(masked==-9999,np.nan,masked)\n",
        "\n",
        "origin_x = watermask.profile['transform'][2]\n",
        "origin_y = watermask.profile['transform'][5]\n",
        "tides = gpd.GeoDataFrame(geometry = gpd.points_from_xy([tideLON_EPSG],[tideLAT_EPSG]),crs='EPSG:%s' %(EPSG))\n"
      ],
      "metadata": {
        "id": "OaEUkSrL87A1"
      },
      "id": "OaEUkSrL87A1",
      "execution_count": null,
      "outputs": []
    },
    {
      "cell_type": "code",
      "execution_count": null,
      "id": "32a5f9f5",
      "metadata": {
        "scrolled": false,
        "id": "32a5f9f5"
      },
      "outputs": [],
      "source": [
        "\n",
        "\n",
        "fig,[ax1,ax2,ax3] = plt.subplots(nrows=3,figsize=(10,20))\n",
        "\n",
        "AOI_extent.plot(ax=ax1,color='grey',legend = True,label='model domain')\n",
        "boundary_segments.plot(ax=ax1,categorical=True,legend=True,column='boundary')\n",
        "ax1.scatter(inletLON_EPSG,inletLAT_EPSG,color='red',marker='^',s=500,label='Inlet')\n",
        "\n",
        "ax2.plot(tide_data[:,0],tide_data[:,1],'black')\n",
        "\n",
        "ax3.imshow(masked[0],'gray')\n",
        "ax3.scatter((inletLON_EPSG-origin_x)/res,(origin_y - inletLAT_EPSG)/res, s=100, c='red', marker='o',label='Discharge Inlet')\n",
        "ax3.scatter((tides.geometry[0].coords[0][0]-origin_x)/res,(origin_y - tides.geometry[0].coords[0][1])/res, s=100, c='cyan', marker='s',label='Tide Boundary')\n",
        "ax3.legend()\n",
        "\n",
        "plt.savefig('%s/%s_model_boundaries_TideLAT%s_TideLON%s_InletLAT%s_InletLON%s.png' %(folders[5],AOI,tideLAT_4326,tideLON_4326,inletLAT_4326,inletLON_4326),bbox_inches='tight')"
      ]
    },
    {
      "cell_type": "markdown",
      "source": [
        "This should produce a file that can also be run on gattaca.\n"
      ],
      "metadata": {
        "id": "io2ZUjDS8kP1"
      },
      "id": "io2ZUjDS8kP1"
    },
    {
      "cell_type": "code",
      "execution_count": null,
      "id": "dbeb9ce9",
      "metadata": {
        "id": "dbeb9ce9"
      },
      "outputs": [],
      "source": []
    },
    {
      "cell_type": "code",
      "execution_count": null,
      "id": "94d14d5f",
      "metadata": {
        "id": "94d14d5f"
      },
      "outputs": [],
      "source": []
    },
    {
      "cell_type": "code",
      "execution_count": null,
      "id": "b5b1db46",
      "metadata": {
        "id": "b5b1db46"
      },
      "outputs": [],
      "source": []
    }
  ],
  "metadata": {
    "kernelspec": {
      "display_name": "Python 3 (ipykernel)",
      "language": "python",
      "name": "python3"
    },
    "language_info": {
      "codemirror_mode": {
        "name": "ipython",
        "version": 3
      },
      "file_extension": ".py",
      "mimetype": "text/x-python",
      "name": "python",
      "nbconvert_exporter": "python",
      "pygments_lexer": "ipython3",
      "version": "3.9.13"
    },
    "colab": {
      "provenance": []
    }
  },
  "nbformat": 4,
  "nbformat_minor": 5
}