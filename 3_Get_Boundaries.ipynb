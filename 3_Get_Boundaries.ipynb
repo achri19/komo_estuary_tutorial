{
  "cells": [
    {
      "cell_type": "markdown",
      "metadata": {
        "id": "466e2a39"
      },
      "source": [
        "<font size=\"5\">Build Your Own ANUGA Model (BYOAM) </font>\n",
        "\n",
        "<font size=\"3\">In this notebook, we will:\n",
        "\n",
        "- determine the model domain boundaries\n",
        "\n",
        "- assign a total upstream discharge (m3/s)\n",
        "\n",
        "    \n",
        "- download time series of downstream water level\n",
        "\n",
        "\n",
        "\n",
        "\n",
        "</font>\n",
        "\n",
        "<font size=\"3\">Before you can run this notebook, you should have run the 2_SetupDEM notebook</font>\n"
      ],
      "id": "466e2a39"
    },
    {
      "cell_type": "markdown",
      "source": [
        "<font size=5> Step #1: Mount Google Drive and Grant Access <font> <br>\n",
        "\n",
        "\n"
      ],
      "metadata": {
        "id": "rhp4yA4h2Njc"
      },
      "id": "rhp4yA4h2Njc"
    },
    {
      "cell_type": "markdown",
      "source": [
        "<font size=3> When you run the next cell, a pop-up window will appear asking you to grant access to your Google Drive. You must approve or the notebook will not work. <font> <br>\n"
      ],
      "metadata": {
        "id": "JkG2pXof2YoC"
      },
      "id": "JkG2pXof2YoC"
    },
    {
      "cell_type": "code",
      "source": [
        "import sys\n",
        "import os\n",
        "path = os.getcwd() + '/'\n",
        "where_to_mount = '/content/drive/'\n",
        "\n",
        "from google.colab import drive\n",
        "drive.mount(where_to_mount, force_remount=True)\n",
        "\n",
        "mounted_drive = where_to_mount + 'MyDrive/'"
      ],
      "metadata": {
        "colab": {
          "base_uri": "https://localhost:8080/"
        },
        "outputId": "88941dca-d6e5-405a-9bdc-99d8d2ea445b",
        "id": "s_IgSq3RgKtN"
      },
      "execution_count": 1,
      "outputs": [
        {
          "output_type": "stream",
          "name": "stdout",
          "text": [
            "Mounted at /content/drive/\n"
          ]
        }
      ],
      "id": "s_IgSq3RgKtN"
    },
    {
      "cell_type": "markdown",
      "metadata": {
        "id": "AXdcQrkUgUlM"
      },
      "source": [
        "<font size=5> Step #2: Install packages. <font> <br>\n",
        "<font size=3> This cell should install all Python packages you need for each tutorial.<font>"
      ],
      "id": "AXdcQrkUgUlM"
    },
    {
      "cell_type": "code",
      "source": [
        "import os\n",
        "os.chdir(mounted_drive)\n",
        "if os.path.isdir(mounted_drive + 'komo_estuary_tutorial'):\n",
        "  print('## Updating the local git repository \\n')\n",
        "  os.chdir(mounted_drive + '/komo_estuary_tutorial')\n",
        "  ! git pull \n",
        "else:\n",
        "  print('## Pulling the git repository with files for the tutorial\\n')\n",
        "  ! git clone https://github.com/achri19/komo_estuary_tutorial.git\n",
        "\n",
        "print('\\n## Installing the Python packages needed for these tutorials\\n')\n",
        "!/bin/bash $mounted_drive/komo_estuary_tutorial/install_packages.sh\n",
        "\n",
        "!unzip -f komo_starter.zip -d $mounted_drive \n"
      ],
      "metadata": {
        "outputId": "69a7333d-5364-4807-d56d-11545b0ec3b3",
        "colab": {
          "base_uri": "https://localhost:8080/"
        },
        "id": "1poqNGJSgKtK"
      },
      "execution_count": 2,
      "outputs": [
        {
          "output_type": "stream",
          "name": "stdout",
          "text": [
            "## Updating the local git repository \n",
            "\n",
            "Already up to date.\n",
            "\n",
            "## Installing the Python packages needed for these tutorials\n",
            "\n",
            "(1) Install pip packages to /content/drive/MyDrive/installations\n",
            "nose mpi4py triangle Pmw pymetis cmocean geopandas fiona pygeos rasterio rasterstats scikit-fmm rtree pyTMD Orinoco\n",
            "(2) Install gdal\n",
            "(3) Install netcdf4\n",
            "(4) Download anuga_core github repository\n",
            "https://github.com/GeoscienceAustralia/anuga_core\n",
            "(5) Install anuga\n",
            "(7) Completed\n",
            "Archive:  komo_starter.zip\n"
          ]
        }
      ],
      "id": "1poqNGJSgKtK"
    },
    {
      "cell_type": "markdown",
      "source": [
        "<font size=5> Step #3: Set up working directories<font> \n"
      ],
      "metadata": {
        "id": "tqD-wrOGvE2I"
      },
      "id": "tqD-wrOGvE2I"
    },
    {
      "cell_type": "markdown",
      "source": [
        "<font size=3> We will access data files stored on a shared Google Drive. You will also need to save files to your own Google Drive.<font>\n",
        "\n"
      ],
      "metadata": {
        "id": "QgL2wZHj16ze"
      },
      "id": "QgL2wZHj16ze"
    },
    {
      "cell_type": "code",
      "source": [
        "path = where_to_mount + 'MyDrive/processing/'\n",
        "path_code = path + 'code/'\n",
        "path_templates = path +  'templates/'\n",
        "path_configs = path + 'configs/'\n",
        "path_ancillary = path + 'ancillary/'\n",
        "sys.path.insert(1,path_code)\n"
      ],
      "metadata": {
        "id": "cmQy7ZMRgKtQ"
      },
      "execution_count": 3,
      "outputs": [],
      "id": "cmQy7ZMRgKtQ"
    },
    {
      "cell_type": "markdown",
      "source": [
        "<font size=5> Step #4: Now we will import Python packages, which will be used for future tutorials. If there are any errors, try rerunning the first cell <font> \n",
        "\n",
        "\n"
      ],
      "metadata": {
        "id": "3mnrUfhr3NWW"
      },
      "id": "3mnrUfhr3NWW"
    },
    {
      "cell_type": "code",
      "execution_count": 4,
      "metadata": {
        "id": "uiRaFHLTPtGQ"
      },
      "outputs": [],
      "source": [
        "import sys\n",
        "import os\n",
        "import pandas as pd\n",
        "import shutil\n",
        "from datetime import datetime\n",
        "from string import Template\n",
        "import fnmatch\n",
        "import geopandas as gpd\n",
        "import rasterio\n",
        "from osgeo import gdal \n",
        "from pathlib import Path\n",
        "import matplotlib.pyplot as plt\n",
        "import numpy as np\n",
        "import rtree\n",
        "import pygeos\n",
        "import pyTMD\n"
      ],
      "id": "uiRaFHLTPtGQ"
    },
    {
      "cell_type": "code",
      "source": [
        "sys.path.insert(1,path_code)\n",
        "\n",
        "from BYOM_Utilities_V1 import (build_directory,\n",
        "                               get_extent_parameters,\n",
        "                               setup_AOI_files, \n",
        "                               make_polygons,\n",
        "                               make_channel_networks,\n",
        "                               make_model_foundation, get_inlet,\n",
        "                               set_boundary_conditions, get_tidal_boundary,get_tide_data_pytmd,\n",
        "                               make_watermask,\n",
        "                               more_opening)"
      ],
      "metadata": {
        "id": "RazCUtDkPtGQ"
      },
      "execution_count": 5,
      "outputs": [],
      "id": "RazCUtDkPtGQ"
    },
    {
      "cell_type": "markdown",
      "metadata": {
        "id": "c6bd01ec"
      },
      "source": [
        "<font size='5' color = 'red' > Set Boundaries <br> Set the AOI again and make sure the working directory is set. If you ran 2_Setup_DEM notebook then the directory should already be made. </font>\n"
      ],
      "id": "c6bd01ec"
    },
    {
      "cell_type": "code",
      "execution_count": 6,
      "metadata": {
        "id": "43f0d63c",
        "colab": {
          "base_uri": "https://localhost:8080/"
        },
        "outputId": "4d0a03f7-21b9-4c33-9eb9-b696cf83447a"
      },
      "outputs": [
        {
          "output_type": "stream",
          "name": "stdout",
          "text": [
            "\n",
            "\n",
            "Study area is komo\n",
            "Resolution of this setup is 30m\n",
            "\n",
            "\n",
            "\n",
            "##############################################################################################\n",
            "################################[Step 1][Build Directory]#####################################\n",
            "##############################################################################################\n",
            "\n",
            "##################### The working directory set as: \n",
            "\n",
            "/content/drive/MyDrive/komo/\n",
            " \n",
            "##################### Folders are:\n",
            "##################### 0 User_Defined_Files --> User shapefile of model domain and water mask\n",
            "##################### 1 tmp --> For temporary files\n",
            "##################### 3 Meshes --> Where we will build model meshes\n",
            "##################### 4 DEMs --> Where we will build digital elevation models\n",
            "##################### 5 Boundaries --> Where we will store boundary files\n",
            "##################### 6 Simulations --> Where we will run simulations\n",
            "##################### 7 Setup_Files/Setup_SHP --> Shapefiles for setup \n",
            "##################### 8 Setup_Files/Setup_RST --> Rasters for setup\n",
            "##################### 9 Setup_Files/Setup_FIG --> Figures\n",
            "\n",
            "[Step 1][Build Directory] Finished .......\n",
            "\n"
          ]
        }
      ],
      "source": [
        "AOI = 'komo'\n",
        "\n",
        "Path((mounted_drive + AOI)).mkdir(parents=True, exist_ok=True)\n",
        "\n",
        "skip = False\n",
        "res = 30 #meters\n",
        "print('\\n')\n",
        "print('Study area is ' + AOI)\n",
        "print('Resolution of this setup is %sm' %(res))\n",
        "\n",
        "working_path,folders = build_directory(mounted_drive, AOI)\n",
        "\n",
        "elev_name = 'Elevation_ocean-GEBCO_land-GLO30_above1260m-wdpower_below1260m-plane_wetland-uni0m_lakes-uni1m_30'\n",
        "elevationpath = folders[4] + 'elev_name'\n",
        "\n"
      ],
      "id": "43f0d63c"
    },
    {
      "cell_type": "code",
      "execution_count": 7,
      "id": "d44912c9",
      "metadata": {
        "id": "d44912c9"
      },
      "outputs": [],
      "source": [
        "parameters = pd.read_csv('%s/%s_Configuration.csv' %(folders[2],AOI))\n",
        "EPSG = int(parameters['EPSG'])"
      ]
    },
    {
      "cell_type": "markdown",
      "id": "1400e1c8",
      "metadata": {
        "id": "1400e1c8"
      },
      "source": [
        "<font size='5' color = 'red' > Set Boundaries STEP #8a: <br> Get the downstream boundary conditions for the model </font>\n"
      ]
    },
    {
      "cell_type": "code",
      "execution_count": 8,
      "id": "57414c18",
      "metadata": {
        "scrolled": true,
        "id": "57414c18"
      },
      "outputs": [],
      "source": [
        "tide_bnd_EPSG =[]\n",
        "tideLAT_EPSG = 31223.17\n",
        "tideLON_EPSG = 502794.61 \n",
        "tideLAT_4326 = 0.2825\n",
        "tideLON_4326 = 9.0253\n"
      ]
    },
    {
      "cell_type": "markdown",
      "source": [
        "Due to file size and copyright, we cannot share the model files for the TPXO Global Tide model. We have provided the time series needed to run a simulation, but if you'd like to produce tide data yourself, you should look here for more information: [https://www.tpxo.net/global](https://)"
      ],
      "metadata": {
        "id": "QowfnVrR0QfI"
      },
      "id": "QowfnVrR0QfI"
    },
    {
      "cell_type": "markdown",
      "metadata": {
        "id": "tRYxyN3X63fq"
      },
      "source": [
        "<font size='5' color = 'red' > Set Boundaries STEP #8b: <br> Get the upstream boundary conditions for the model </font>\n"
      ],
      "id": "tRYxyN3X63fq"
    },
    {
      "cell_type": "code",
      "execution_count": 9,
      "id": "6a341c72",
      "metadata": {
        "id": "6a341c72"
      },
      "outputs": [],
      "source": [
        "tide_data = np.genfromtxt(\"%s/Tide_LAT%s_LON%s/%s_tides_20100101.csv\" %(folders[5],tideLAT_4326,tideLON_4326,AOI),delimiter=',')\n"
      ]
    },
    {
      "cell_type": "code",
      "execution_count": 10,
      "id": "6d845571",
      "metadata": {
        "id": "6d845571"
      },
      "outputs": [],
      "source": [
        "inletLAT_EPSG = 19092\n",
        "inletLON_EPSG = 608911\n",
        "inletLAT_4326 = 0.1727\n",
        "inletLON_4326 = 9.9789 "
      ]
    },
    {
      "cell_type": "markdown",
      "source": [
        "<font size='5' color = 'red' > Make some plots! </font>\n"
      ],
      "metadata": {
        "id": "Yu7uFoU_8oMi"
      },
      "id": "Yu7uFoU_8oMi"
    },
    {
      "cell_type": "code",
      "source": [
        "from rasterio.mask import mask\n",
        "AOI_extent = gpd.read_file('%s%s_extent_%s.shp' %(folders[7],AOI,EPSG))\n",
        "watermask = rasterio.open('%s%s_watermask_%s.tif' %(folders[8],AOI,res))\n",
        "masked, mask_transform = mask(dataset=watermask,shapes=AOI_extent.geometry,crop=False)\n",
        "masked = np.where(masked==-9999,np.nan,masked)\n",
        "\n",
        "origin_x = watermask.profile['transform'][2]\n",
        "origin_y = watermask.profile['transform'][5]\n"
      ],
      "metadata": {
        "id": "OaEUkSrL87A1"
      },
      "id": "OaEUkSrL87A1",
      "execution_count": 11,
      "outputs": []
    },
    {
      "cell_type": "code",
      "execution_count": 12,
      "id": "32a5f9f5",
      "metadata": {
        "scrolled": false,
        "id": "32a5f9f5",
        "colab": {
          "base_uri": "https://localhost:8080/",
          "height": 423
        },
        "outputId": "1f5fa704-2011-4d93-ceff-0eefac3af61f"
      },
      "outputs": [
        {
          "output_type": "display_data",
          "data": {
            "text/plain": [
              "<Figure size 1440x720 with 2 Axes>"
            ],
            "image/png": "[encoded data removed]"
          },
          "metadata": {
            "needs_background": "light"
          }
        }
      ],
      "source": [
        "fig,[ax2,ax3] = plt.subplots(nrows=2,figsize=(20,10))\n",
        "\n",
        "ax2.plot(tide_data[:,0],tide_data[:,1],'black')\n",
        "\n",
        "ax3.imshow(masked[0],'gray')\n",
        "ax3.scatter((inletLON_EPSG-origin_x)/res,(origin_y - inletLAT_EPSG)/res, s=100, c='red', marker='o',label='Discharge Inlet')\n",
        "ax3.scatter((tideLON_EPSG-origin_x)/res,(origin_y - tideLAT_EPSG)/res, s=100, c='cyan', marker='s',label='Tide Boundary')\n",
        "ax3.legend()\n",
        "\n",
        "plt.savefig('%s/%s_model_boundaries_TideLAT%s_TideLON%s_InletLAT%s_InletLON%s.png' %(folders[5],AOI,tideLAT_4326,tideLON_4326,inletLAT_4326,inletLON_4326),bbox_inches='tight')"
      ]
    },
    {
      "cell_type": "markdown",
      "source": [
        "This should produce a file that can also be run on gattaca.\n"
      ],
      "metadata": {
        "id": "io2ZUjDS8kP1"
      },
      "id": "io2ZUjDS8kP1"
    },
    {
      "cell_type": "markdown",
      "source": [
        "<font size=5 color='red'> Done getting boundary files. Move on to the next notebook 4_Build_ANUGA_Mesh.ipynb </font>\n"
      ],
      "metadata": {
        "id": "lPN7PzjF7hTn"
      },
      "id": "lPN7PzjF7hTn"
    },
    {
      "cell_type": "code",
      "source": [],
      "metadata": {
        "id": "rbFCjogM7oFq"
      },
      "id": "rbFCjogM7oFq",
      "execution_count": 12,
      "outputs": []
    }
  ],
  "metadata": {
    "kernelspec": {
      "display_name": "Python 3 (ipykernel)",
      "language": "python",
      "name": "python3"
    },
    "language_info": {
      "codemirror_mode": {
        "name": "ipython",
        "version": 3
      },
      "file_extension": ".py",
      "mimetype": "text/x-python",
      "name": "python",
      "nbconvert_exporter": "python",
      "pygments_lexer": "ipython3",
      "version": "3.9.13"
    },
    "colab": {
      "provenance": []
    }
  },
  "nbformat": 4,
  "nbformat_minor": 5
}