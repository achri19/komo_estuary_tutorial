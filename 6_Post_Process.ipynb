{
  "cells": [
    {
      "cell_type": "markdown",
      "metadata": {
        "id": "466e2a39"
      },
      "source": [
        "<font size=\"5\">Run the ANUGA Model (BYOAM) </font>\n",
        "\n",
        "<font size=\"3\">In this notebook, we will:\n",
        "\n",
        "- initiate the model with elevation, friction, stage\n",
        "- set the boundary conditions\n",
        "- run the model!\n",
        "\n",
        "\n",
        "\n",
        "</font>\n",
        "\n",
        "<font size=\"3\">Before you can run this notebook, you should have run the 4_Build_ANUGA_Mesh</font>\n"
      ],
      "id": "466e2a39"
    },
    {
      "cell_type": "markdown",
      "source": [
        "<font size=5 color='green'> If you are running in Google Colab, set the variable yes_colab = True. If you are running on your own computer, set the variable yes_colab = False </font>\n"
      ],
      "metadata": {
        "id": "jNhRqEni40KR"
      },
      "id": "jNhRqEni40KR"
    },
    {
      "cell_type": "code",
      "source": [
        "yes_colab = True"
      ],
      "metadata": {
        "id": "gkLaKjYy4_Lv"
      },
      "execution_count": null,
      "outputs": [],
      "id": "gkLaKjYy4_Lv"
    },
    {
      "cell_type": "markdown",
      "source": [
        "<font size=5> Step #1: Mount Google Drive and Grant Access <font> <br>\n",
        "\n",
        "\n"
      ],
      "metadata": {
        "id": "rhp4yA4h2Njc"
      },
      "id": "rhp4yA4h2Njc"
    },
    {
      "cell_type": "markdown",
      "source": [
        "<font size=3> When you run the next cell, a pop-up window will appear asking you to grant access to your Google Drive. You must approve or the notebook will not work. <font> <br>\n"
      ],
      "metadata": {
        "id": "JkG2pXof2YoC"
      },
      "id": "JkG2pXof2YoC"
    },
    {
      "cell_type": "code",
      "source": [
        "import sys\n",
        "import os\n",
        "your_path = os.getcwd() + '/'\n",
        "if yes_colab:\n",
        "  where_to_mount = '/content/drive/'\n",
        "  from google.colab import drive\n",
        "  drive.mount(where_to_mount, force_remount=True)\n",
        "  mounted_drive = where_to_mount + 'MyDrive/' \n",
        "else:\n",
        "  mounted_drive = your_path\n",
        "\n"
      ],
      "metadata": {
        "colab": {
          "base_uri": "https://localhost:8080/"
        },
        "outputId": "5585c83c-0c1d-4741-93e7-d0614582e39f",
        "id": "s_IgSq3RgKtN"
      },
      "execution_count": null,
      "outputs": [
        {
          "output_type": "stream",
          "name": "stdout",
          "text": [
            "Mounted at /content/drive/\n"
          ]
        }
      ],
      "id": "s_IgSq3RgKtN"
    },
    {
      "cell_type": "markdown",
      "metadata": {
        "id": "AXdcQrkUgUlM"
      },
      "source": [
        "<font size=5> Step #2: Install packages. <font> <br>\n",
        "<font size=3> This cell should install all Python packages you need for each tutorial.<font>"
      ],
      "id": "AXdcQrkUgUlM"
    },
    {
      "cell_type": "code",
      "source": [
        "import os\n",
        "os.chdir(mounted_drive)\n",
        "if yes_colab:\n",
        "  if os.path.isdir(mounted_drive + 'komo_estuary_tutorial'):\n",
        "    print('## Updating the local git repository \\n')\n",
        "    os.chdir(mounted_drive + '/komo_estuary_tutorial')\n",
        "    ! git pull \n",
        "  else:\n",
        "    print('## Pulling the git repository with files for the tutorial\\n')\n",
        "    ! git clone https://github.com/achri19/komo_estuary_tutorial.git\n",
        "\n",
        "  print('\\n## Installing the Python packages needed for these tutorials\\n')\n",
        "  !/bin/bash $mounted_drive/komo_estuary_tutorial/install_packages.sh\n",
        "\n",
        "\n"
      ],
      "metadata": {
        "outputId": "9cd90cef-e3a5-4f54-a5a2-eb003b0389cc",
        "colab": {
          "base_uri": "https://localhost:8080/"
        },
        "id": "1poqNGJSgKtK"
      },
      "execution_count": null,
      "outputs": [
        {
          "output_type": "stream",
          "name": "stdout",
          "text": [
            "## Updating the local git repository \n",
            "\n",
            "remote: Enumerating objects: 6, done.\u001b[K\n",
            "remote: Counting objects: 100% (6/6), done.\u001b[K\n",
            "remote: Compressing objects: 100% (4/4), done.\u001b[K\n",
            "remote: Total 4 (delta 3), reused 0 (delta 0), pack-reused 0\u001b[K\n",
            "Unpacking objects: 100% (4/4), done.\n",
            "From https://github.com/achri19/komo_estuary_tutorial\n",
            "   b46e595..540ceee  main       -> origin/main\n",
            "Updating b46e595..540ceee\n",
            "Fast-forward\n",
            " 2_Setup_DEM.ipynb | 816 \u001b[32m+++++++++\u001b[m\u001b[31m---------------------------------------------\u001b[m\n",
            " 1 file changed, 126 insertions(+), 690 deletions(-)\n",
            "\n",
            "## Installing the Python packages needed for these tutorials\n",
            "\n",
            "(1) Install pip packages to /content/drive/MyDrive/installations\n",
            "nose mpi4py triangle Pmw pymetis cmocean geopandas fiona pygeos rasterio rasterstats scikit-fmm rtree pyTMD Orinoco\n",
            "(2) Install gdal\n",
            "(3) Install netcdf4\n",
            "(4) Download anuga_core github repository\n",
            "https://github.com/GeoscienceAustralia/anuga_core\n",
            "(5) Install anuga\n",
            "(7) Completed\n"
          ]
        }
      ],
      "id": "1poqNGJSgKtK"
    },
    {
      "cell_type": "code",
      "source": [
        "!unzip -n komo_estuary_tutorial/komo_starter.zip -d $mounted_drive \n"
      ],
      "metadata": {
        "id": "UnopBCZuT1Es",
        "outputId": "d8663e1d-debb-442b-bf15-39f803e9543f",
        "colab": {
          "base_uri": "https://localhost:8080/"
        }
      },
      "execution_count": null,
      "outputs": [
        {
          "output_type": "stream",
          "name": "stdout",
          "text": [
            "Archive:  komo_starter.zip\n"
          ]
        }
      ],
      "id": "UnopBCZuT1Es"
    },
    {
      "cell_type": "markdown",
      "source": [
        "<font size=5> Step #3: Set up working directories<font> \n"
      ],
      "metadata": {
        "id": "tqD-wrOGvE2I"
      },
      "id": "tqD-wrOGvE2I"
    },
    {
      "cell_type": "markdown",
      "source": [
        "<font size=3> We will access data files stored on a shared Google Drive. You will also need to save files to your own Google Drive.<font>\n",
        "\n"
      ],
      "metadata": {
        "id": "QgL2wZHj16ze"
      },
      "id": "QgL2wZHj16ze"
    },
    {
      "cell_type": "code",
      "source": [
        "path_code = mounted_drive + 'processing/code/'\n",
        "path_templates = mounted_drive + 'processing/templates/'\n",
        "path_configs = mounted_drive + 'processing/configs/'\n",
        "path_ancillary = mounted_drive + 'processing/ancillary/'\n",
        "sys.path.insert(1,path_code)\n"
      ],
      "metadata": {
        "id": "cmQy7ZMRgKtQ"
      },
      "execution_count": null,
      "outputs": [],
      "id": "cmQy7ZMRgKtQ"
    },
    {
      "cell_type": "markdown",
      "source": [
        "<font size=5> Step #4: Now we will import Python packages, which will be used for future tutorials. If there are any errors, try rerunning the first cell <font> \n",
        "\n",
        "\n"
      ],
      "metadata": {
        "id": "3mnrUfhr3NWW"
      },
      "id": "3mnrUfhr3NWW"
    },
    {
      "cell_type": "code",
      "execution_count": null,
      "metadata": {
        "id": "974559f1"
      },
      "outputs": [],
      "source": [
        "import sys\n",
        "import os\n",
        "import pandas as pd\n",
        "import shutil\n",
        "from datetime import datetime\n",
        "from string import Template\n",
        "import fnmatch\n",
        "import geopandas as gpd\n",
        "import rasterio\n",
        "from osgeo import gdal \n",
        "\n",
        "import matplotlib.pyplot as plt\n",
        "\n",
        "import anuga\n",
        "import ee \n",
        "import geemap\n",
        "from pathlib import Path\n",
        "\n",
        "from anuga.utilities.plot_utils import Make_Geotif\n"
      ],
      "id": "974559f1"
    },
    {
      "cell_type": "code",
      "execution_count": null,
      "metadata": {
        "id": "94fab2e4",
        "outputId": "b95ca9b6-5cd9-4052-b8b5-533a1218a7c6",
        "colab": {
          "base_uri": "https://localhost:8080/"
        }
      },
      "outputs": [
        {
          "output_type": "stream",
          "name": "stderr",
          "text": [
            "/content/drive/MyDrive/processing/code/BYOM_extra.py:15: UserWarning: ShapelyDeprecationWarning\n",
            "  warnings.warn('ShapelyDeprecationWarning')\n",
            "/content/drive/MyDrive/processing/code/BYOM_extra.py:16: UserWarning: UserWarning\n",
            "  warnings.warn('UserWarning')\n",
            "/content/drive/MyDrive/processing/code/raster_bridges.py:39: UserWarning: ShapelyDeprecationWarning\n",
            "  warnings.warn('ShapelyDeprecationWarning')\n",
            "/content/drive/MyDrive/processing/code/raster_bridges.py:40: UserWarning: UserWarning\n",
            "  warnings.warn('UserWarning')\n",
            "/content/drive/MyDrive/processing/code/use_orinoco.py:39: UserWarning: ShapelyDeprecationWarning\n",
            "  warnings.warn('ShapelyDeprecationWarning')\n",
            "/content/drive/MyDrive/processing/code/use_orinoco.py:40: UserWarning: UserWarning\n",
            "  warnings.warn('UserWarning')\n"
          ]
        }
      ],
      "source": [
        "from BYOM_extra import (make_segments_for_swot)\n",
        "from BYOM_Utilities_V1 import (make_watermask, build_directory)\n"
      ],
      "id": "94fab2e4"
    },
    {
      "cell_type": "code",
      "execution_count": null,
      "id": "e20ccefb",
      "metadata": {
        "id": "e20ccefb",
        "outputId": "f6675470-1858-42cb-bb78-106d412eace5",
        "colab": {
          "base_uri": "https://localhost:8080/"
        }
      },
      "outputs": [
        {
          "output_type": "stream",
          "name": "stdout",
          "text": [
            "\n",
            "\n",
            "Study area is komo\n",
            "Resolution of this setup is 30m\n",
            "\n",
            "\n",
            "\n",
            "##############################################################################################\n",
            "################################[Step 1][Build Directory]#####################################\n",
            "##############################################################################################\n",
            "\n",
            "##################### The working directory set as: \n",
            "\n",
            "/content/drive/MyDrive/komo/\n",
            " \n",
            "##################### Folders are:\n",
            "##################### 0 User_Defined_Files --> User shapefile of model domain and water mask\n",
            "##################### 1 tmp --> For temporary files\n",
            "##################### 3 Meshes --> Where we will build model meshes\n",
            "##################### 4 DEMs --> Where we will build digital elevation models\n",
            "##################### 5 Boundaries --> Where we will store boundary files\n",
            "##################### 6 Simulations --> Where we will run simulations\n",
            "##################### 7 Setup_Files/Setup_SHP --> Shapefiles for setup \n",
            "##################### 8 Setup_Files/Setup_RST --> Rasters for setup\n",
            "##################### 9 Setup_Files/Setup_FIG --> Figures\n",
            "\n",
            "[Step 1][Build Directory] Finished .......\n",
            "\n",
            "komo_300cms_20210101_Elevation_ocean-GEBCO_land-GLO30_above1260m-wdpower_below1260m-plane_wetland-uni05m_lakes-uni1_Meshes_base_100000m2_BrBout\n",
            "/content/drive/MyDrive/komo/Meshes/Meshes_base_100000m2\n"
          ]
        }
      ],
      "source": [
        "AOI = 'komo'\n",
        "\n",
        "res = 30 #meters\n",
        "print('\\n')\n",
        "print('Study area is ' + AOI)\n",
        "print('Resolution of this setup is %sm' %(res))\n",
        "\n",
        "working_path,folders = build_directory(mounted_drive, AOI)\n",
        "\n",
        "modelpath = '/content/drive/MyDrive/komo/Simulations/komo_300cms_20210101_Elevation_ocean-GEBCO_land-GLO30_above1260m-wdpower_below1260m-plane_wetland-uni05m_lakes-uni1_Meshes_base_100000m2_BrBout'\n",
        "scenario = modelpath.split('/')[-1]\n",
        "print(scenario)\n",
        "mesh_path = folders[3] + '_'.join(scenario.split('_')[-4:-1])\n",
        "print(mesh_path)\n"
      ]
    },
    {
      "cell_type": "code",
      "execution_count": null,
      "id": "7a2eca15",
      "metadata": {
        "id": "7a2eca15"
      },
      "outputs": [],
      "source": [
        "parameters = pd.read_csv(folders[6] + '/config_%s.csv' %(AOI))\n"
      ]
    },
    {
      "cell_type": "code",
      "execution_count": null,
      "id": "05dfeaf0",
      "metadata": {
        "id": "05dfeaf0"
      },
      "outputs": [],
      "source": [
        "## STEP 5\n",
        "## Make river and ocean segments for SWOT simulator\n",
        "## Approximately 900m for river segments and 10000m2 for oceans\n",
        "ulx  = parameters['ulx'][0]                                                 # ULX coordinate\n",
        "lry  = parameters['lry'][0]                                                 # LRY coordinate\n",
        "lrx  = parameters['lrx'][0]                                                 # LRX coordinate\n",
        "uly  = parameters['uly'][0]                                                 # ULY coordinate\n",
        "EPSG = int(parameters['EPSG'][0])\n",
        "\n",
        "dem = rasterio.open(folders[4] + '/' + 'Elevation_ocean-GEBCO_land-GLO30_above1260m-wdpower_below1260m-plane_wetland-uni05m_lakes-uni1m_30.tif')\n"
      ]
    },
    {
      "cell_type": "code",
      "execution_count": null,
      "id": "c2d5cfd4",
      "metadata": {
        "id": "c2d5cfd4",
        "outputId": "7e8e9f88-e577-4168-8d06-d8a314e4c3df",
        "colab": {
          "base_uri": "https://localhost:8080/"
        }
      },
      "outputs": [
        {
          "output_type": "stream",
          "name": "stdout",
          "text": [
            "Extract bed elevation from SWW file\n",
            "Resampled to 30 m resolution\n",
            "Reading sww File ...\n",
            "Extracting required data ...\n",
            "Computing grid of output locations...\n",
            "Making interpolation functions...\n",
            "Reduction =  0\n",
            "elevation\n",
            "Making raster ...\n",
            "\n",
            "Extract time series of stage from SWW file\n",
            "Reading sww File ...\n",
            "Extracting required data ...\n",
            "Computing grid of output locations...\n",
            "Making interpolation functions...\n",
            "Reduction =  0\n",
            "stage\n",
            "Making raster ...\n",
            "Reduction =  1\n",
            "stage\n",
            "Making raster ...\n"
          ]
        }
      ],
      "source": [
        "extentfile = gpd.read_file('%s%s_input.shp' %(folders[0],AOI))\n",
        "extentfile.crs = 'EPSG:4326'\n",
        "\n",
        "Path('%s/outputRST/stage'%(modelpath)).mkdir(parents=True, exist_ok=True)\n",
        "\n",
        "\n",
        "print('Extract bed elevation from SWW file')\n",
        "print('Resampled to %s m resolution' %(res))\n",
        "Make_Geotif(swwFile=modelpath +'/'+ scenario + '.sww',\n",
        "          output_quantities=['elevation'],\n",
        "          myTimeStep=0,\n",
        "          CellSize=res,\n",
        "          lower_left=None, upper_right=None,\n",
        "          EPSG_CODE=EPSG,\n",
        "          proj4string=None,\n",
        "          velocity_extrapolation=True,\n",
        "          min_allowed_height=1.0e-05,\n",
        "          output_dir=modelpath + '/outputRST/',\n",
        "          k_nearest_neighbours=1,\n",
        "          bounding_polygon=anuga.read_polygon('%s/%s_domain_points.csv' %(mesh_path,AOI)),\n",
        "          verbose=True,creation_options=['COMPRESS=DEFLATE'])\n",
        "\n",
        "print('\\nExtract time series of stage from SWW file')\n",
        "Make_Geotif(swwFile='%s/%s.sww' %(modelpath,scenario),\n",
        "          output_quantities=['stage'],\n",
        "          myTimeStep=range(1,3,1),\n",
        "          CellSize=res,\n",
        "          lower_left=None, upper_right=None,\n",
        "          EPSG_CODE=EPSG,\n",
        "          proj4string=None,\n",
        "          velocity_extrapolation=True,\n",
        "          min_allowed_height=1.0e-05,\n",
        "          output_dir=modelpath + '/outputRST/stage/',\n",
        "          k_nearest_neighbours=1,\n",
        "          bounding_polygon=anuga.read_polygon('%s/%s_domain_points.csv' %(mesh_path,AOI)),\n",
        "          verbose=True,creation_options=['COMPRESS=DEFLATE'])"
      ]
    },
    {
      "cell_type": "code",
      "source": [
        "stage1 = rasterio.open(modelpath + '/outputRST/stage/komo_300cms_20210101_Elevation_ocean-GEBCO_land-GLO30_above1260m-wdpower_below1260m-plane_wetland-uni05m_lakes-uni1_Meshes_base_100000m2_BrBout_stage_1_Time_1800.tif')\n",
        "\n",
        "plt.imshow(stage1.read(1),vmin=-0.5,vmax=1)"
      ],
      "metadata": {
        "id": "Ql1dgAYQXnYg",
        "outputId": "fa83dba2-59a0-44c9-d88c-2f4c21c58ae8",
        "colab": {
          "base_uri": "https://localhost:8080/",
          "height": 277
        }
      },
      "id": "Ql1dgAYQXnYg",
      "execution_count": null,
      "outputs": [
        {
          "output_type": "execute_result",
          "data": {
            "text/plain": [
              "<matplotlib.image.AxesImage at 0x7f05b40e1c70>"
            ]
          },
          "metadata": {},
          "execution_count": 44
        },
        {
          "output_type": "display_data",
          "data": {
            "text/plain": [
              "<Figure size 432x288 with 1 Axes>"
            ],
            "image/png": "[encoded data removed]"
          },
          "metadata": {
            "needs_background": "light"
          }
        }
      ]
    },
    {
      "cell_type": "markdown",
      "source": [
        "You can download the full tutorial output here:\n",
        "https://drive.google.com/file/d/1tRd_VjRimW9UyHSlV1Y-xBhiXX4lavQz/view?usp=share_link\n"
      ],
      "metadata": {
        "id": "mrOWseOKTNRP"
      },
      "id": "mrOWseOKTNRP"
    },
    {
      "cell_type": "code",
      "source": [
        "# os.chdir(mounted_drive + '/processing')\n",
        "# !unzip -o komo_complete.zip -d $mounted_drive \n"
      ],
      "metadata": {
        "id": "Pa_InDM0TQjZ"
      },
      "id": "Pa_InDM0TQjZ",
      "execution_count": null,
      "outputs": []
    }
  ],
  "metadata": {
    "kernelspec": {
      "display_name": "Python 3 (ipykernel)",
      "language": "python",
      "name": "python3"
    },
    "language_info": {
      "codemirror_mode": {
        "name": "ipython",
        "version": 3
      },
      "file_extension": ".py",
      "mimetype": "text/x-python",
      "name": "python",
      "nbconvert_exporter": "python",
      "pygments_lexer": "ipython3",
      "version": "3.9.13"
    },
    "colab": {
      "provenance": []
    }
  },
  "nbformat": 4,
  "nbformat_minor": 5
}