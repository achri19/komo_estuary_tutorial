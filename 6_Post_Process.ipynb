{
  "cells": [
    {
      "cell_type": "markdown",
      "id": "954d0fa9",
      "metadata": {
        "id": "954d0fa9"
      },
      "source": [
        "Post Processing of Model output"
      ]
    },
    {
      "cell_type": "markdown",
      "metadata": {
        "id": "466e2a39"
      },
      "source": [
        "<font size=\"5\">Run the ANUGA Model (BYOAM) </font>\n",
        "\n",
        "<font size=\"3\">In this notebook, we will:\n",
        "\n",
        "- initiate the model with elevation, friction, stage\n",
        "- set the boundary conditions\n",
        "- run the model!\n",
        "\n",
        "\n",
        "\n",
        "</font>\n",
        "\n",
        "<font size=\"3\">Before you can run this notebook, you should have run the 4_Build_ANUGA_Mesh</font>\n"
      ],
      "id": "466e2a39"
    },
    {
      "cell_type": "markdown",
      "source": [
        "<font size=5> Step #1: Mount Google Drive and Grant Access <font> <br>\n",
        "\n",
        "\n"
      ],
      "metadata": {
        "id": "rhp4yA4h2Njc"
      },
      "id": "rhp4yA4h2Njc"
    },
    {
      "cell_type": "markdown",
      "source": [
        "<font size=3> When you run the next cell, a pop-up window will appear asking you to grant access to your Google Drive. You must approve or the notebook will not work. <font> <br>\n"
      ],
      "metadata": {
        "id": "JkG2pXof2YoC"
      },
      "id": "JkG2pXof2YoC"
    },
    {
      "cell_type": "code",
      "source": [
        "import sys\n",
        "import os\n",
        "path = os.getcwd() + '/'\n",
        "where_to_mount = '/content/drive/'\n",
        "\n",
        "from google.colab import drive\n",
        "drive.mount(where_to_mount, force_remount=True)\n",
        "\n",
        "mounted_drive = where_to_mount + 'MyDrive/'"
      ],
      "metadata": {
        "id": "s_IgSq3RgKtN"
      },
      "execution_count": null,
      "outputs": [],
      "id": "s_IgSq3RgKtN"
    },
    {
      "cell_type": "markdown",
      "metadata": {
        "id": "AXdcQrkUgUlM"
      },
      "source": [
        "<font size=5> Step #2: Install packages. <font> <br>\n",
        "<font size=3> This cell should install all Python packages you need for each tutorial.<font>"
      ],
      "id": "AXdcQrkUgUlM"
    },
    {
      "cell_type": "code",
      "source": [
        "import os\n",
        "os.chdir(mounted_drive)\n",
        "if os.path.isdir(mounted_drive + 'komo_estuary_tutorial'):\n",
        "  print('## Updating the local git repository \\n')\n",
        "  os.chdir(mounted_drive + '/komo_estuary_tutorial')\n",
        "  ! git pull \n",
        "else:\n",
        "  print('## Pulling the git repository with files for the tutorial\\n')\n",
        "  ! git clone https://github.com/achri19/komo_estuary_tutorial.git\n",
        "\n",
        "print('\\n## Installing the Python packages needed for these tutorials\\n')\n",
        "!/bin/bash $mounted_drive/komo_estuary_tutorial/install_packages.sh\n"
      ],
      "metadata": {
        "outputId": "e05a1bd3-e63e-40dd-c60c-df0b70144323",
        "colab": {
          "base_uri": "https://localhost:8080/"
        },
        "id": "1poqNGJSgKtK"
      },
      "execution_count": null,
      "outputs": [
        {
          "output_type": "stream",
          "name": "stdout",
          "text": [
            "## Updating the local git repository \n",
            "\n",
            "Updating 8b44f61..9654887\n",
            "error: Your local changes to the following files would be overwritten by merge:\n",
            "\t4_Build_ANUGA_Mesh.ipynb\n",
            "Please commit your changes or stash them before you merge.\n",
            "Aborting\n",
            "\n",
            "## Installing the Python packages needed for these tutorials\n",
            "\n",
            "/content/drive/MyDrive//komo_estuary_tutorial/install_packages.sh: line 4: cd: /content/drive/MyDrive/installations: No such file or directory\n",
            "(1) Install pip packages\n",
            "nose mpi4py triangle Pmw pymetis cmocean geopandas fiona pygeos rasterio rasterstats\n",
            "(2) Install gdal\n",
            "(3) Install netcdf4\n",
            "(4) Download anuga_core github repository\n",
            "https://github.com/GeoscienceAustralia/anuga_core\n",
            "(5) Install anuga\n",
            "(7) Completed\n"
          ]
        }
      ],
      "id": "1poqNGJSgKtK"
    },
    {
      "cell_type": "markdown",
      "source": [
        "<font size=5> Step #3: Set up working directories<font> \n"
      ],
      "metadata": {
        "id": "tqD-wrOGvE2I"
      },
      "id": "tqD-wrOGvE2I"
    },
    {
      "cell_type": "markdown",
      "source": [
        "<font size=3> We will access data files stored on a shared Google Drive. You will also need to save files to your own Google Drive.<font>\n",
        "\n"
      ],
      "metadata": {
        "id": "QgL2wZHj16ze"
      },
      "id": "QgL2wZHj16ze"
    },
    {
      "cell_type": "code",
      "source": [
        "path = where_to_mount + 'MyDrive/processing/'\n",
        "path_code = path + 'code/'\n",
        "path_templates = path +  'templates/'\n",
        "path_configs = path + 'configs/'\n",
        "path_ancillary = path + 'ancillary/'\n",
        "sys.path.insert(1,path_code)\n"
      ],
      "metadata": {
        "id": "cmQy7ZMRgKtQ"
      },
      "execution_count": null,
      "outputs": [],
      "id": "cmQy7ZMRgKtQ"
    },
    {
      "cell_type": "markdown",
      "source": [
        "<font size=5> Step #4: Now we will import Python packages, which will be used for future tutorials. If there are any errors, try rerunning the first cell <font> \n",
        "\n",
        "\n"
      ],
      "metadata": {
        "id": "3mnrUfhr3NWW"
      },
      "id": "3mnrUfhr3NWW"
    },
    {
      "cell_type": "code",
      "execution_count": null,
      "metadata": {
        "id": "974559f1"
      },
      "outputs": [],
      "source": [
        "import sys\n",
        "import os\n",
        "import pandas as pd\n",
        "import shutil\n",
        "from datetime import datetime\n",
        "from string import Template\n",
        "import fnmatch\n",
        "import geopandas as gpd\n",
        "import rasterio\n",
        "from osgeo import gdal \n",
        "\n",
        "import matplotlib.pyplot as plt\n",
        "\n",
        "import anuga\n",
        "import ee \n",
        "import geemap\n",
        "from pathlib import Path"
      ],
      "id": "974559f1"
    },
    {
      "cell_type": "code",
      "execution_count": null,
      "metadata": {
        "id": "94fab2e4",
        "outputId": "19f465ae-cac3-4b22-c23e-2ba43816f95e",
        "colab": {
          "base_uri": "https://localhost:8080/"
        }
      },
      "outputs": [
        {
          "output_type": "stream",
          "name": "stderr",
          "text": [
            "/content/drive/MyDrive/processing/code/use_orinoco.py:39: UserWarning: ShapelyDeprecationWarning\n",
            "  warnings.warn('ShapelyDeprecationWarning')\n",
            "/content/drive/MyDrive/processing/code/use_orinoco.py:40: UserWarning: UserWarning\n",
            "  warnings.warn('UserWarning')\n"
          ]
        }
      ],
      "source": [
        "from BYOM_extra import (make_segments_for_swot)\n",
        "from BYOM_Utilities_V1 import (make_watermask, build_directory)\n"
      ],
      "id": "94fab2e4"
    },
    {
      "cell_type": "code",
      "execution_count": null,
      "id": "e20ccefb",
      "metadata": {
        "id": "e20ccefb",
        "outputId": "51c6dee7-abd8-41a1-b459-ff93c213e80b"
      },
      "outputs": [
        {
          "name": "stdout",
          "output_type": "stream",
          "text": [
            "Elevation_ocean-GEBCO_land-GLO30_above21383m-wdpower_below21383m-plane_wetland-uni0m_lakes-uni1m\n"
          ]
        }
      ],
      "source": [
        "AOI = 'komo'\n",
        "modelpath = '/content/drive/MyDrive/komo/Simulations/komo_300cms_20210101_Elevation_ocean-GEBCO_land-GLO30_above1260m-wdpower_below1260m-plane_wetland-uni0m_lakes-uni1_Meshes_base_100000m2_BrBout'\n",
        "scenario = modelpath.split('/')[-1]\n",
        "mesh_path = folders[3] + scenario.split('_')[-4:-2]\n",
        "\n",
        "res = 30 #meters\n",
        "print('\\n')\n",
        "print('Study area is ' + AOI)\n",
        "print('Resolution of this setup is %sm' %(res))\n",
        "\n",
        "working_path,folders = build_directory(mounted_drive, AOI)\n"
      ]
    },
    {
      "cell_type": "code",
      "execution_count": null,
      "id": "7a2eca15",
      "metadata": {
        "id": "7a2eca15"
      },
      "outputs": [],
      "source": [
        "parameters = pd.read_csv(folders[6] + '/config_%s.csv' %(AOI))\n"
      ]
    },
    {
      "cell_type": "code",
      "execution_count": null,
      "id": "05dfeaf0",
      "metadata": {
        "id": "05dfeaf0"
      },
      "outputs": [],
      "source": [
        "## STEP 5\n",
        "## Make river and ocean segments for SWOT simulator\n",
        "## Approximately 900m for river segments and 10000m2 for oceans\n",
        "ulx  = parameters['ulx'][0]                                                 # ULX coordinate\n",
        "lry  = parameters['lry'][0]                                                 # LRY coordinate\n",
        "lrx  = parameters['lrx'][0]                                                 # LRX coordinate\n",
        "uly  = parameters['uly'][0]                                                 # ULY coordinate\n",
        "EPSG = int(parameters['EPSG'][0])\n",
        "startdate      = (parameters['StartDate'][0])                    # Date to start simulation\n",
        "    enddate        = '20210105'#(parameters['EndDate'][0])                      # Date to start simulation\n",
        "    base_scale     = int(parameters['BaseScale'][0])\n",
        "        end    = (datetime.datetime.strptime(enddate,'%Y%m%d')-datetime.datetime.strptime(startdate,'%Y%m%d')).days*24\n",
        "\n",
        "\n",
        "try:\n",
        "    dem = rasterio.open(elevationpath + '/' + elev_name + '_' + str(swot_res) + '.tif')\n",
        "except:\n",
        "    os.system('gdalwarp -overwrite -tr %s %s %s/%s_%s.tif %s/%s_%s_%s.tif '\\\n",
        "                  ' -te %s %s %s %s -srcnodata -9999 -dstnodata -9999 -co COMPRESS=DEFLATE -q'\n",
        "                  %(swot_res,swot_res,elevationpath,AOI,elev_name,elevationpath,AOI,elev_name,swot_res,ulx,lry,lrx,uly))\n",
        "    dem = rasterio.open(elevationpath + '/' + AOI + '_' + elev_name + '_' + str(swot_res) + '.tif')\n",
        "\n"
      ]
    },
    {
      "cell_type": "code",
      "execution_count": null,
      "id": "c2d5cfd4",
      "metadata": {
        "id": "c2d5cfd4",
        "outputId": "2abb19b5-3745-473e-bdbf-cb156db23fa1"
      },
      "outputs": [
        {
          "name": "stdout",
          "output_type": "stream",
          "text": [
            "CNES SWOT simulator files will be here: /Volumes/FortressL3/ANUGA/GlobalDeltas/examples/gabon/Scenarios/Elevation_ocean-GEBCO_land-GLO30_above21383m-wdpower_below21383m-plane_wetland-uni0m_lakes-uni1m/Meshes_base_50000m2/gabon_237cms_20210101_BoutBrBrBr_20220915//SWOT_simulator\n"
          ]
        }
      ],
      "source": [
        "extentfile = gpd.read_file('%s%s_input.shp' %(folders[0],AOI))\n",
        "extentfile.crs = 'EPSG:4326'\n",
        "\n",
        "Path('%s/outputRST/abselev'%(modelpath)).mkdir(parents=True, exist_ok=True)\n",
        "Path('%s/outputRST/depth'%(modelpath)).mkdir(parents=True, exist_ok=True)\n",
        "Path('%s/outputRST/stage'%(modelpath)).mkdir(parents=True, exist_ok=True)\n",
        "Path('%s/outputRST/waterelev'%(modelpath)).mkdir(parents=True, exist_ok=True)\n",
        "Path('%s/outputRST/flooded'%(modelpath)).mkdir(parents=True, exist_ok=True)\n",
        "\n",
        "print('Extract bed elevation from SWW file')\n",
        "print('Resampled to %s m resolution' %(xres))\n",
        "Make_Geotif(swwFile=modelpath +'/'+ scenario + '.sww',\n",
        "          output_quantities=['elevation'],\n",
        "          myTimeStep=0,\n",
        "          CellSize=res,\n",
        "          lower_left=None, upper_right=None,\n",
        "          EPSG_CODE=EPSG,\n",
        "          proj4string=None,\n",
        "          velocity_extrapolation=True,\n",
        "          min_allowed_height=1.0e-05,\n",
        "          output_dir=modelpath + 'outputRST/',\n",
        "          k_nearest_neighbours=1,\n",
        "          bounding_polygon=anuga.read_polygon('%s%s_domain_points.csv' %(mesh_path,AOI)),\n",
        "          verbose=True,creation_options=['COMPRESS=DEFLATE'])\n",
        "\n",
        "print('\\nExtract time series of stage from SWW file')\n",
        "Make_Geotif(swwFile='%s/%s.sww' %(modelpath,scenario),\n",
        "          output_quantities=['stage'],\n",
        "          myTimeStep=range(1,3,1),\n",
        "          CellSize=res,\n",
        "          lower_left=None, upper_right=None,\n",
        "          EPSG_CODE=EPSG,\n",
        "          proj4string=None,\n",
        "          velocity_extrapolation=True,\n",
        "          min_allowed_height=1.0e-05,\n",
        "          output_dir=modelpath + 'outputRST/stage/',\n",
        "          k_nearest_neighbours=1,\n",
        "          bounding_polygon=anuga.read_polygon('%s%s_domain_points.csv' %(mesh_path,AOI)),\n",
        "          verbose=True,creation_options=['COMPRESS=DEFLATE'])"
      ]
    }
  ],
  "metadata": {
    "kernelspec": {
      "display_name": "Python 3 (ipykernel)",
      "language": "python",
      "name": "python3"
    },
    "language_info": {
      "codemirror_mode": {
        "name": "ipython",
        "version": 3
      },
      "file_extension": ".py",
      "mimetype": "text/x-python",
      "name": "python",
      "nbconvert_exporter": "python",
      "pygments_lexer": "ipython3",
      "version": "3.9.13"
    },
    "colab": {
      "provenance": []
    }
  },
  "nbformat": 4,
  "nbformat_minor": 5
}