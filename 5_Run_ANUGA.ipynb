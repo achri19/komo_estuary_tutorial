{
  "cells": [
    {
      "cell_type": "markdown",
      "metadata": {
        "id": "466e2a39"
      },
      "source": [
        "<font size=\"5\">Run the ANUGA Model (BYOAM) </font>\n",
        "\n",
        "<font size=\"3\">In this notebook, we will:\n",
        "\n",
        "- initiate the model with elevation, friction, stage\n",
        "- set the boundary conditions\n",
        "- run the model!\n",
        "\n",
        "\n",
        "\n",
        "</font>\n",
        "\n",
        "<font size=\"3\">Before you can run this notebook, you should have run the 4_Build_ANUGA_Mesh</font>\n"
      ],
      "id": "466e2a39"
    },
    {
      "cell_type": "markdown",
      "source": [
        "<font size=5> Step #1: Mount Google Drive and Grant Access <font> <br>\n",
        "\n",
        "\n"
      ],
      "metadata": {
        "id": "rhp4yA4h2Njc"
      },
      "id": "rhp4yA4h2Njc"
    },
    {
      "cell_type": "markdown",
      "source": [
        "<font size=3> When you run the next cell, a pop-up window will appear asking you to grant access to your Google Drive. You must approve or the notebook will not work. <font> <br>\n"
      ],
      "metadata": {
        "id": "JkG2pXof2YoC"
      },
      "id": "JkG2pXof2YoC"
    },
    {
      "cell_type": "code",
      "source": [
        "import sys\n",
        "import os\n",
        "path = os.getcwd() + '/'\n",
        "where_to_mount = '/content/drive/'\n",
        "\n",
        "from google.colab import drive\n",
        "drive.mount(where_to_mount, force_remount=True)\n",
        "\n",
        "mounted_drive = where_to_mount + 'MyDrive/'"
      ],
      "metadata": {
        "colab": {
          "base_uri": "https://localhost:8080/"
        },
        "outputId": "0172eea9-088e-4ef5-f75d-205da2e50789",
        "id": "s_IgSq3RgKtN"
      },
      "execution_count": 14,
      "outputs": [
        {
          "output_type": "stream",
          "name": "stdout",
          "text": [
            "Mounted at /content/drive/\n"
          ]
        }
      ],
      "id": "s_IgSq3RgKtN"
    },
    {
      "cell_type": "markdown",
      "metadata": {
        "id": "AXdcQrkUgUlM"
      },
      "source": [
        "<font size=5> Step #2: Install packages. <font> <br>\n",
        "<font size=3> This cell should install all Python packages you need for each tutorial.<font>"
      ],
      "id": "AXdcQrkUgUlM"
    },
    {
      "cell_type": "code",
      "source": [
        "import os\n",
        "os.chdir(mounted_drive)\n",
        "if os.path.isdir(mounted_drive + 'komo_estuary_tutorial'):\n",
        "  print('## Updating the local git repository \\n')\n",
        "  os.chdir(mounted_drive + '/komo_estuary_tutorial')\n",
        "  ! git pull \n",
        "else:\n",
        "  print('## Pulling the git repository with files for the tutorial\\n')\n",
        "  ! git clone https://github.com/achri19/komo_estuary_tutorial.git\n",
        "\n",
        "print('\\n## Installing the Python packages needed for these tutorials\\n')\n",
        "!/bin/bash $mounted_drive/komo_estuary_tutorial/install_packages.sh\n"
      ],
      "metadata": {
        "outputId": "03daa1bc-1b25-47f1-a854-773d5e10af14",
        "colab": {
          "base_uri": "https://localhost:8080/"
        },
        "id": "1poqNGJSgKtK"
      },
      "execution_count": 15,
      "outputs": [
        {
          "output_type": "stream",
          "name": "stdout",
          "text": [
            "## Updating the local git repository \n",
            "\n",
            "Already up to date.\n",
            "\n",
            "## Installing the Python packages needed for these tutorials\n",
            "\n",
            "(1) Install pip packages to /content/drive/MyDrive/installations\n",
            "nose mpi4py triangle Pmw pymetis cmocean geopandas fiona pygeos rasterio rasterstats scikit-fmm rtree pyTMD Orinoco\n",
            "(2) Install gdal\n",
            "(3) Install netcdf4\n",
            "(4) Download anuga_core github repository\n",
            "https://github.com/GeoscienceAustralia/anuga_core\n",
            "(5) Install anuga\n",
            "(7) Completed\n"
          ]
        }
      ],
      "id": "1poqNGJSgKtK"
    },
    {
      "cell_type": "markdown",
      "source": [
        "<font size=5> Step #3: Set up working directories<font> \n"
      ],
      "metadata": {
        "id": "tqD-wrOGvE2I"
      },
      "id": "tqD-wrOGvE2I"
    },
    {
      "cell_type": "markdown",
      "source": [
        "<font size=3> We will access data files stored on a shared Google Drive. You will also need to save files to your own Google Drive.<font>\n",
        "\n"
      ],
      "metadata": {
        "id": "QgL2wZHj16ze"
      },
      "id": "QgL2wZHj16ze"
    },
    {
      "cell_type": "code",
      "source": [
        "path = mounted_drive + '/processing/'\n",
        "path_code = path + 'code/'\n",
        "path_templates = path +  'templates/'\n",
        "path_configs = path + 'configs/'\n",
        "path_ancillary = path + 'ancillary/'\n",
        "sys.path.insert(1,path_code)\n"
      ],
      "metadata": {
        "id": "cmQy7ZMRgKtQ"
      },
      "execution_count": 16,
      "outputs": [],
      "id": "cmQy7ZMRgKtQ"
    },
    {
      "cell_type": "markdown",
      "source": [
        "<font size=5> Step #4: Now we will import Python packages, which will be used for future tutorials. If there are any errors, try rerunning the first cell <font> \n",
        "\n",
        "\n"
      ],
      "metadata": {
        "id": "3mnrUfhr3NWW"
      },
      "id": "3mnrUfhr3NWW"
    },
    {
      "cell_type": "code",
      "execution_count": 17,
      "metadata": {
        "id": "974559f1"
      },
      "outputs": [],
      "source": [
        "# Standard packages\n",
        "import os\n",
        "import time\n",
        "import sys\n",
        "import fnmatch\n",
        "import numpy as np\n",
        "import scipy\n",
        "import scipy.interpolate\n",
        "import pandas as pd\n",
        "from datetime import datetime\n",
        "from string import Template\n",
        "import geopandas as gpd\n",
        "from shapely.geometry import Polygon, Point\n",
        "import rasterio\n",
        "from pathlib import Path\n",
        "from shapely.geometry import LineString\n",
        "import gdal\n",
        "\n",
        "## ANUGA packages\n",
        "import anuga\n",
        "from anuga.utilities.plot_utils import Make_Geotif\n",
        "from anuga.coordinate_transforms.geo_reference import Geo_reference\n",
        "from anuga.utilities import animate\n",
        "from anuga import myid, numprocs, finalize, barrier, Inlet_operator\n",
        "from anuga.parallel.parallel_inlet_operator import Parallel_Inlet_operator\n",
        "\n",
        "## Plotting modules\n",
        "import matplotlib.pyplot as plt\n",
        "import matplotlib as mpl\n",
        "mpl.rcParams['agg.path.chunksize'] = 10000\n",
        "\n",
        "#mpl.rcParams['animation.ffmpeg_path'] = r'/Users/alchrist/Downloads/ffmpeg'\n",
        "## If you get an error with producing animation plots, uncomment the line above and add directory for ffmpeg (r'/PATH/TO/ffmpeg')\n",
        "import matplotlib.animation as animation\n",
        "writer = animation.FFMpegWriter(fps=60)\n",
        "\n",
        "from BYOM_Utilities_V1 import build_directory\n"
      ],
      "id": "974559f1"
    },
    {
      "cell_type": "markdown",
      "metadata": {
        "id": "dVsVBIhJH7Pi"
      },
      "source": [
        "<font size= 5 color = 'red'> Copy the AOI and elevationpath from the previous notebook into the cell below:"
      ],
      "id": "dVsVBIhJH7Pi"
    },
    {
      "cell_type": "code",
      "execution_count": 18,
      "metadata": {
        "outputId": "8f9b83ca-ee2f-49b4-8281-53a2c2468382",
        "colab": {
          "base_uri": "https://localhost:8080/"
        },
        "id": "oI7kNab1H7Pj"
      },
      "outputs": [
        {
          "output_type": "stream",
          "name": "stdout",
          "text": [
            "\n",
            "\n",
            "Study area is komo\n",
            "Resolution of this setup is 30m\n",
            "\n",
            "\n",
            "\n",
            "##############################################################################################\n",
            "################################[Step 1][Build Directory]#####################################\n",
            "##############################################################################################\n",
            "\n",
            "##################### The working directory set as: \n",
            "\n",
            "/content/drive/MyDrive/komo/\n",
            " \n",
            "##################### Folders are:\n",
            "##################### 0 User_Defined_Files --> User shapefile of model domain and water mask\n",
            "##################### 1 tmp --> For temporary files\n",
            "##################### 3 Meshes --> Where we will build model meshes\n",
            "##################### 4 DEMs --> Where we will build digital elevation models\n",
            "##################### 5 Boundaries --> Where we will store boundary files\n",
            "##################### 6 Simulations --> Where we will run simulations\n",
            "##################### 7 Setup_Files/Setup_SHP --> Shapefiles for setup \n",
            "##################### 8 Setup_Files/Setup_RST --> Rasters for setup\n",
            "##################### 9 Setup_Files/Setup_FIG --> Figures\n",
            "\n",
            "[Step 1][Build Directory] Finished .......\n",
            "\n"
          ]
        }
      ],
      "source": [
        "AOI = 'komo'\n",
        "\n",
        "Path((mounted_drive + AOI)).mkdir(parents=True, exist_ok=True)\n",
        "\n",
        "skip = False\n",
        "res = 30 #meters\n",
        "print('\\n')\n",
        "print('Study area is ' + AOI)\n",
        "print('Resolution of this setup is %sm' %(res))\n",
        "\n",
        "working_path,folders = build_directory(mounted_drive, AOI)\n",
        "\n"
      ],
      "id": "oI7kNab1H7Pj"
    },
    {
      "cell_type": "markdown",
      "metadata": {
        "id": "c44a65f7"
      },
      "source": [
        "<font size= 5 color = 'red'> Copy the AOI and elevationpath from the previous notebook into the cell below:"
      ],
      "id": "c44a65f7"
    },
    {
      "cell_type": "markdown",
      "metadata": {
        "id": "91e3e402"
      },
      "source": [
        "<font size=3> Give the name of your study area, must be the same in all notebooks </font>\n"
      ],
      "id": "91e3e402"
    },
    {
      "cell_type": "code",
      "execution_count": 27,
      "id": "74da1ae4",
      "metadata": {
        "id": "74da1ae4",
        "outputId": "fc509dca-e04a-4ef2-88bf-21ca510d9497",
        "colab": {
          "base_uri": "https://localhost:8080/"
        }
      },
      "outputs": [
        {
          "output_type": "stream",
          "name": "stdout",
          "text": [
            "DEM = Elevation_ocean-GEBCO_land-GLO30_above1260m-wdpower_below1260m-plane_wetland-uni05m_lakes-uni1m_30\n",
            "MESH = /content/drive/MyDrive/komo/Meshes/Meshes_base_100000m2/Meshes_base_100000m2.tsh\n"
          ]
        }
      ],
      "source": [
        "elev_name = 'Elevation_ocean-GEBCO_land-GLO30_above1260m-wdpower_below1260m-plane_wetland-uni05m_lakes-uni1m_30'\n",
        "print('DEM = %s' %(elev_name))\n",
        "\n",
        "mesh_name = mounted_drive + 'komo/Meshes/Meshes_base_100000m2/Meshes_base_100000m2.tsh'\n",
        "print('MESH = %s' %(mesh_name))\n",
        "\n",
        "inletLAT = 19092.\n",
        "inletLON = 608911.\n",
        "tideLAT = 31223.17\n",
        "tideLON = 502794.61 \n",
        "tideLAT_4326 = 0.2825\n",
        "tideLON_4326 = 9.0253\n",
        "\n",
        "boundary_types = ('Br','Bout')"
      ]
    },
    {
      "cell_type": "code",
      "execution_count": 20,
      "metadata": {
        "id": "6a341c72"
      },
      "outputs": [],
      "source": [
        "tide_data = np.genfromtxt(\"%s/Tide_LAT%s_LON%s/%s_tides_20100101.csv\" %(folders[5],tideLAT_4326,tideLON_4326,AOI),delimiter=',')\n"
      ],
      "id": "6a341c72"
    },
    {
      "cell_type": "markdown",
      "source": [
        "<font size='5' color = 'red' > Make some plots! </font>\n"
      ],
      "metadata": {
        "id": "Yu7uFoU_8oMi"
      },
      "id": "Yu7uFoU_8oMi"
    },
    {
      "cell_type": "code",
      "execution_count": 21,
      "id": "2ca70462",
      "metadata": {
        "id": "2ca70462",
        "outputId": "3345ee65-50fa-426a-ad7b-42a84dabc1b8",
        "colab": {
          "base_uri": "https://localhost:8080/"
        }
      },
      "outputs": [
        {
          "output_type": "stream",
          "name": "stdout",
          "text": [
            "Unnamed: 0                                 0\n",
            "Unnamed: 0.1                               0\n",
            "AOI                                     komo\n",
            "RiverOceanBoundary                      1260\n",
            "Discharge                                426\n",
            "LandcoverMethod                   WorldCover\n",
            "LandElevMethod                         GLO30\n",
            "OceanElevMethod                        GEBCO\n",
            "LowerRiverElevMethod                   plane\n",
            "UpperRiverElevMethod                 wdpower\n",
            "WetlandElevMethod               constant_0.5\n",
            "LakeElevMethod                    constant_1\n",
            "ManningLUT                           default\n",
            "WetlandClass                              90\n",
            "WD_POWERA_upper                       0.0606\n",
            "WD_POWERB_upper                       0.7732\n",
            "MaxOceanDepth                           -300\n",
            "MaxNearshoreDepth                       -300\n",
            "MaxRiverDepth                           -300\n",
            "MaxRiverWidth                            756\n",
            "ulx                                   501794\n",
            "lry                                    -2259\n",
            "lrx                                   610154\n",
            "uly                                    64701\n",
            "EPSG                                   32232\n",
            "MeshName                Meshes_base_100000m2\n",
            "Name: 0, dtype: object\n"
          ]
        }
      ],
      "source": [
        "parameters = pd.read_csv(folders[6] + '/config_%s.csv' %(AOI))\n",
        "\n",
        "EPSG = int(parameters['EPSG'])\n",
        "landcovermethod = parameters['LandcoverMethod'][0]\n",
        "discharge = 300\n",
        "\n",
        "print(parameters.iloc[0] )"
      ]
    },
    {
      "cell_type": "code",
      "execution_count": 22,
      "id": "22793b55",
      "metadata": {
        "id": "22793b55"
      },
      "outputs": [],
      "source": [
        "now = datetime.now()\n",
        "startdate = '20210101'\n",
        "enddate = '20210103'\n",
        "simu_length    = (datetime.strptime(enddate,'%Y%m%d')-datetime.strptime(startdate,'%Y%m%d')).days\n"
      ]
    },
    {
      "cell_type": "code",
      "execution_count": 23,
      "id": "27479d9c",
      "metadata": {
        "id": "27479d9c",
        "outputId": "f6c4779b-1efb-4d7b-c70b-7be80d39a0a6",
        "colab": {
          "base_uri": "https://localhost:8080/"
        }
      },
      "outputs": [
        {
          "output_type": "stream",
          "name": "stdout",
          "text": [
            "komo_300cms_20210101_Elevation_ocean-GEBCO_land-GLO30_above1260m-wdpower_below1260m-plane_wetland-uni05m_lakes-uni1_Meshes_base_100000m2_BrBout\n",
            "/content/drive/MyDrive/komo/Simulations/komo_300cms_20210101_Elevation_ocean-GEBCO_land-GLO30_above1260m-wdpower_below1260m-plane_wetland-uni05m_lakes-uni1_Meshes_base_100000m2_BrBout\n"
          ]
        }
      ],
      "source": [
        "scenario = '%s_%scms_%s_%s_%s_%s%s' %(AOI,discharge,startdate,elev_name.split('/')[-1][:-4],mesh_name.split('/')[-1][:-4],boundary_types[0],boundary_types[1])\n",
        "print(scenario)\n",
        "modelpath = folders[6] + scenario\n",
        "print(modelpath)\n",
        "\n",
        "Path((folders[6] + scenario)).mkdir(parents=True, exist_ok=True)\n",
        "\n"
      ]
    },
    {
      "cell_type": "code",
      "source": [
        "from rasterio.mask import mask\n",
        "AOI_extent = gpd.read_file('%s%s_extent_%s.shp' %(folders[7],AOI,EPSG))\n",
        "watermask = rasterio.open('%s%s_watermask_%s.tif' %(folders[8],AOI,res))\n",
        "masked, mask_transform = mask(dataset=watermask,shapes=AOI_extent.geometry,crop=False)\n",
        "masked = np.where(masked==-9999,np.nan,masked)\n",
        "\n",
        "origin_x = watermask.profile['transform'][2]\n",
        "origin_y = watermask.profile['transform'][5]\n"
      ],
      "metadata": {
        "id": "OaEUkSrL87A1"
      },
      "execution_count": 24,
      "outputs": [],
      "id": "OaEUkSrL87A1"
    },
    {
      "cell_type": "code",
      "execution_count": 25,
      "metadata": {
        "scrolled": false,
        "id": "32a5f9f5",
        "colab": {
          "base_uri": "https://localhost:8080/",
          "height": 592
        },
        "outputId": "03b0f707-74b8-4789-8f8e-ea8bdcf7e998"
      },
      "outputs": [
        {
          "output_type": "display_data",
          "data": {
            "text/plain": [
              "<Figure size 1440x720 with 2 Axes>"
            ],
            "image/png": "[encoded data removed]"
          },
          "metadata": {
            "needs_background": "light"
          }
        }
      ],
      "source": [
        "fig,[ax2,ax3] = plt.subplots(nrows=2,figsize=(20,10))\n",
        "\n",
        "ax2.plot(tide_data[:,0],tide_data[:,1],'black')\n",
        "\n",
        "ax3.imshow(masked[0],'gray')\n",
        "ax3.scatter((inletLON-origin_x)/res,(origin_y - inletLAT)/res, s=100, c='red', marker='o',label='Discharge Inlet')\n",
        "ax3.scatter((tideLON-origin_x)/res,(origin_y - tideLAT)/res, s=100, c='cyan', marker='s',label='Tide Boundary')\n",
        "ax3.legend()\n",
        "\n",
        "plt.savefig('%s/%s_model_boundaries_TideLAT%s_TideLON%s_InletLAT%s_InletLON%s.png' %(folders[5],AOI,tideLAT,tideLON,inletLAT,inletLON),bbox_inches='tight')"
      ],
      "id": "32a5f9f5"
    },
    {
      "cell_type": "code",
      "execution_count": 26,
      "id": "6e2f455d",
      "metadata": {
        "id": "6e2f455d",
        "outputId": "831c56f8-ddee-4d68-8f89-30857da5a91e",
        "colab": {
          "base_uri": "https://localhost:8080/",
          "height": 385
        }
      },
      "outputs": [
        {
          "output_type": "error",
          "ename": "FileNotFoundError",
          "evalue": "ignored",
          "traceback": [
            "\u001b[0;31m---------------------------------------------------------------------------\u001b[0m",
            "\u001b[0;31mFileNotFoundError\u001b[0m                         Traceback (most recent call last)",
            "\u001b[0;32m<ipython-input-26-06410918139f>\u001b[0m in \u001b[0;36m<module>\u001b[0;34m\u001b[0m\n\u001b[1;32m      5\u001b[0m                                 false_northing=0)\n\u001b[1;32m      6\u001b[0m \u001b[0;34m\u001b[0m\u001b[0m\n\u001b[0;32m----> 7\u001b[0;31m \u001b[0mdomain\u001b[0m \u001b[0;34m=\u001b[0m \u001b[0manuga\u001b[0m\u001b[0;34m.\u001b[0m\u001b[0mcreate_domain_from_file\u001b[0m\u001b[0;34m(\u001b[0m\u001b[0mmesh_name\u001b[0m\u001b[0;34m)\u001b[0m\u001b[0;34m\u001b[0m\u001b[0;34m\u001b[0m\u001b[0m\n\u001b[0m\u001b[1;32m      8\u001b[0m \u001b[0mdomain\u001b[0m\u001b[0;34m.\u001b[0m\u001b[0mset_name\u001b[0m\u001b[0;34m(\u001b[0m\u001b[0mscenario\u001b[0m\u001b[0;34m)\u001b[0m \u001b[0;31m# Name of sww file\u001b[0m\u001b[0;34m\u001b[0m\u001b[0;34m\u001b[0m\u001b[0m\n\u001b[1;32m      9\u001b[0m \u001b[0mdomain\u001b[0m\u001b[0;34m.\u001b[0m\u001b[0mset_datadir\u001b[0m\u001b[0;34m(\u001b[0m\u001b[0mmodelpath\u001b[0m\u001b[0;34m)\u001b[0m\u001b[0;34m\u001b[0m\u001b[0;34m\u001b[0m\u001b[0m\n",
            "\u001b[0;32m/usr/local/lib/python3.8/dist-packages/anuga/extras.py\u001b[0m in \u001b[0;36mcreate_domain_from_file\u001b[0;34m(filename, DomainClass)\u001b[0m\n\u001b[1;32m     44\u001b[0m     \u001b[0mCreate\u001b[0m \u001b[0ma\u001b[0m \u001b[0mdomain\u001b[0m \u001b[0;32mfrom\u001b[0m \u001b[0ma\u001b[0m \u001b[0mfile\u001b[0m\u001b[0;34m\u001b[0m\u001b[0;34m\u001b[0m\u001b[0m\n\u001b[1;32m     45\u001b[0m     \"\"\"\n\u001b[0;32m---> 46\u001b[0;31m     \u001b[0;32mreturn\u001b[0m \u001b[0mpmesh_to_domain_instance\u001b[0m\u001b[0;34m(\u001b[0m\u001b[0mfilename\u001b[0m\u001b[0;34m,\u001b[0m\u001b[0mDomainClass\u001b[0m\u001b[0;34m=\u001b[0m\u001b[0mDomainClass\u001b[0m\u001b[0;34m)\u001b[0m\u001b[0;34m\u001b[0m\u001b[0;34m\u001b[0m\u001b[0m\n\u001b[0m\u001b[1;32m     47\u001b[0m \u001b[0;34m\u001b[0m\u001b[0m\n\u001b[1;32m     48\u001b[0m \u001b[0;31m#---------------------------\u001b[0m\u001b[0;34m\u001b[0m\u001b[0;34m\u001b[0m\u001b[0;34m\u001b[0m\u001b[0m\n",
            "\u001b[0;32m/usr/local/lib/python3.8/dist-packages/anuga/abstract_2d_finite_volumes/pmesh2domain.py\u001b[0m in \u001b[0;36mpmesh_to_domain_instance\u001b[0;34m(source, DomainClass, use_cache, verbose)\u001b[0m\n\u001b[1;32m     34\u001b[0m                        dependencies=[source], verbose=verbose)\n\u001b[1;32m     35\u001b[0m     \u001b[0;32melse\u001b[0m\u001b[0;34m:\u001b[0m\u001b[0;34m\u001b[0m\u001b[0;34m\u001b[0m\u001b[0m\n\u001b[0;32m---> 36\u001b[0;31m         \u001b[0mresult\u001b[0m \u001b[0;34m=\u001b[0m \u001b[0m_pmesh_to_domain_instance\u001b[0m\u001b[0;34m(\u001b[0m\u001b[0;34m*\u001b[0m\u001b[0;34m(\u001b[0m\u001b[0msource\u001b[0m\u001b[0;34m,\u001b[0m \u001b[0mDomainClass\u001b[0m\u001b[0;34m)\u001b[0m\u001b[0;34m)\u001b[0m\u001b[0;34m\u001b[0m\u001b[0;34m\u001b[0m\u001b[0m\n\u001b[0m\u001b[1;32m     37\u001b[0m \u001b[0;34m\u001b[0m\u001b[0m\n\u001b[1;32m     38\u001b[0m     \u001b[0;32mreturn\u001b[0m \u001b[0mresult\u001b[0m\u001b[0;34m\u001b[0m\u001b[0;34m\u001b[0m\u001b[0m\n",
            "\u001b[0;32m/usr/local/lib/python3.8/dist-packages/anuga/abstract_2d_finite_volumes/pmesh2domain.py\u001b[0m in \u001b[0;36m_pmesh_to_domain_instance\u001b[0;34m(source, DomainClass)\u001b[0m\n\u001b[1;32m     58\u001b[0m \u001b[0;34m\u001b[0m\u001b[0m\n\u001b[1;32m     59\u001b[0m     (vertex_coordinates, vertices, tag_dict, vertex_quantity_dict,\n\u001b[0;32m---> 60\u001b[0;31m      tagged_elements_dict, geo_reference) = pmesh_to_domain(**parm)\n\u001b[0m\u001b[1;32m     61\u001b[0m \u001b[0;34m\u001b[0m\u001b[0m\n\u001b[1;32m     62\u001b[0m \u001b[0;34m\u001b[0m\u001b[0m\n",
            "\u001b[0;32m/usr/local/lib/python3.8/dist-packages/anuga/abstract_2d_finite_volumes/pmesh2domain.py\u001b[0m in \u001b[0;36mpmesh_to_domain\u001b[0;34m(file_name, mesh_instance, use_cache, verbose)\u001b[0m\n\u001b[1;32m    104\u001b[0m \u001b[0;34m\u001b[0m\u001b[0m\n\u001b[1;32m    105\u001b[0m     \u001b[0;32melse\u001b[0m\u001b[0;34m:\u001b[0m\u001b[0;34m\u001b[0m\u001b[0;34m\u001b[0m\u001b[0m\n\u001b[0;32m--> 106\u001b[0;31m         \u001b[0mresult\u001b[0m \u001b[0;34m=\u001b[0m \u001b[0m_pmesh_to_domain\u001b[0m\u001b[0;34m(\u001b[0m\u001b[0;34m*\u001b[0m\u001b[0;34m(\u001b[0m\u001b[0mfile_name\u001b[0m\u001b[0;34m,\u001b[0m \u001b[0mmesh_instance\u001b[0m\u001b[0;34m)\u001b[0m\u001b[0;34m)\u001b[0m\u001b[0;34m\u001b[0m\u001b[0;34m\u001b[0m\u001b[0m\n\u001b[0m\u001b[1;32m    107\u001b[0m \u001b[0;34m\u001b[0m\u001b[0m\n\u001b[1;32m    108\u001b[0m     \u001b[0;32mif\u001b[0m \u001b[0mverbose\u001b[0m\u001b[0;34m:\u001b[0m \u001b[0mlog\u001b[0m\u001b[0;34m.\u001b[0m\u001b[0mcritical\u001b[0m\u001b[0;34m(\u001b[0m\u001b[0;34m'Pmesh_to_Domain: Done'\u001b[0m\u001b[0;34m)\u001b[0m\u001b[0;34m\u001b[0m\u001b[0;34m\u001b[0m\u001b[0m\n",
            "\u001b[0;32m/usr/local/lib/python3.8/dist-packages/anuga/abstract_2d_finite_volumes/pmesh2domain.py\u001b[0m in \u001b[0;36m_pmesh_to_domain\u001b[0;34m(file_name, mesh_instance, use_cache, verbose)\u001b[0m\n\u001b[1;32m    123\u001b[0m         \u001b[0mmesh_dict\u001b[0m \u001b[0;34m=\u001b[0m \u001b[0mmesh_instance\u001b[0m\u001b[0;34m.\u001b[0m\u001b[0mMesh2IODict\u001b[0m\u001b[0;34m(\u001b[0m\u001b[0;34m)\u001b[0m\u001b[0;34m\u001b[0m\u001b[0;34m\u001b[0m\u001b[0m\n\u001b[1;32m    124\u001b[0m     \u001b[0;32melse\u001b[0m\u001b[0;34m:\u001b[0m\u001b[0;34m\u001b[0m\u001b[0;34m\u001b[0m\u001b[0m\n\u001b[0;32m--> 125\u001b[0;31m         \u001b[0mmesh_dict\u001b[0m \u001b[0;34m=\u001b[0m \u001b[0mimport_mesh_file\u001b[0m\u001b[0;34m(\u001b[0m\u001b[0mfile_name\u001b[0m\u001b[0;34m)\u001b[0m\u001b[0;34m\u001b[0m\u001b[0;34m\u001b[0m\u001b[0m\n\u001b[0m\u001b[1;32m    126\u001b[0m \u001b[0;34m\u001b[0m\u001b[0m\n\u001b[1;32m    127\u001b[0m     \u001b[0;31m# extract required data from the mesh dictionary\u001b[0m\u001b[0;34m\u001b[0m\u001b[0;34m\u001b[0m\u001b[0;34m\u001b[0m\u001b[0m\n",
            "\u001b[0;32m/usr/local/lib/python3.8/dist-packages/anuga/load_mesh/loadASCII.py\u001b[0m in \u001b[0;36mimport_mesh_file\u001b[0;34m(ofile)\u001b[0m\n\u001b[1;32m     91\u001b[0m     \u001b[0;32mtry\u001b[0m\u001b[0;34m:\u001b[0m\u001b[0;34m\u001b[0m\u001b[0;34m\u001b[0m\u001b[0m\n\u001b[1;32m     92\u001b[0m         \u001b[0;32mif\u001b[0m \u001b[0mofile\u001b[0m\u001b[0;34m[\u001b[0m\u001b[0;34m-\u001b[0m\u001b[0;36m4\u001b[0m\u001b[0;34m:\u001b[0m\u001b[0;34m]\u001b[0m \u001b[0;34m==\u001b[0m \u001b[0;34m\".tsh\"\u001b[0m\u001b[0;34m:\u001b[0m\u001b[0;34m\u001b[0m\u001b[0;34m\u001b[0m\u001b[0m\n\u001b[0;32m---> 93\u001b[0;31m             \u001b[0mdict\u001b[0m \u001b[0;34m=\u001b[0m \u001b[0m_read_tsh_file\u001b[0m\u001b[0;34m(\u001b[0m\u001b[0mofile\u001b[0m\u001b[0;34m)\u001b[0m\u001b[0;34m\u001b[0m\u001b[0;34m\u001b[0m\u001b[0m\n\u001b[0m\u001b[1;32m     94\u001b[0m         \u001b[0;32melif\u001b[0m \u001b[0mofile\u001b[0m\u001b[0;34m[\u001b[0m\u001b[0;34m-\u001b[0m\u001b[0;36m4\u001b[0m\u001b[0;34m:\u001b[0m\u001b[0;34m]\u001b[0m \u001b[0;34m==\u001b[0m \u001b[0;34m\".msh\"\u001b[0m\u001b[0;34m:\u001b[0m\u001b[0;34m\u001b[0m\u001b[0;34m\u001b[0m\u001b[0m\n\u001b[1;32m     95\u001b[0m             \u001b[0mdict\u001b[0m \u001b[0;34m=\u001b[0m \u001b[0m_read_msh_file\u001b[0m\u001b[0;34m(\u001b[0m\u001b[0mofile\u001b[0m\u001b[0;34m)\u001b[0m\u001b[0;34m\u001b[0m\u001b[0;34m\u001b[0m\u001b[0m\n",
            "\u001b[0;32m/usr/local/lib/python3.8/dist-packages/anuga/load_mesh/loadASCII.py\u001b[0m in \u001b[0;36m_read_tsh_file\u001b[0;34m(ofile)\u001b[0m\n\u001b[1;32m    144\u001b[0m     \u001b[0;34m\"\"\"Read the text file format for meshes\"\"\"\u001b[0m\u001b[0;34m\u001b[0m\u001b[0;34m\u001b[0m\u001b[0m\n\u001b[1;32m    145\u001b[0m \u001b[0;34m\u001b[0m\u001b[0m\n\u001b[0;32m--> 146\u001b[0;31m     \u001b[0mfd\u001b[0m \u001b[0;34m=\u001b[0m \u001b[0mopen\u001b[0m\u001b[0;34m(\u001b[0m\u001b[0mofile\u001b[0m\u001b[0;34m,\u001b[0m \u001b[0;34m'r'\u001b[0m\u001b[0;34m)\u001b[0m\u001b[0;34m\u001b[0m\u001b[0;34m\u001b[0m\u001b[0m\n\u001b[0m\u001b[1;32m    147\u001b[0m     \u001b[0mdict\u001b[0m \u001b[0;34m=\u001b[0m \u001b[0m_read_triangulation\u001b[0m\u001b[0;34m(\u001b[0m\u001b[0mfd\u001b[0m\u001b[0;34m)\u001b[0m\u001b[0;34m\u001b[0m\u001b[0;34m\u001b[0m\u001b[0m\n\u001b[1;32m    148\u001b[0m     \u001b[0mdict_mesh\u001b[0m \u001b[0;34m=\u001b[0m \u001b[0m_read_outline\u001b[0m\u001b[0;34m(\u001b[0m\u001b[0mfd\u001b[0m\u001b[0;34m)\u001b[0m\u001b[0;34m\u001b[0m\u001b[0;34m\u001b[0m\u001b[0m\n",
            "\u001b[0;31mFileNotFoundError\u001b[0m: [Errno 2] No such file or directory: '/content/drive/MyDrive/komo/Meshes/Meshes_base_50000m2/Meshes_base_100000m2.tsh'"
          ]
        }
      ],
      "source": [
        "geo_reference = Geo_reference(zone=EPSG,\n",
        "                                datum='wgs84',\n",
        "                                projection='UTM',\n",
        "                                false_easting=500000,\n",
        "                                false_northing=0)\n",
        "\n",
        "domain = anuga.create_domain_from_file(mesh_name)\n",
        "domain.set_name(scenario) # Name of sww file\n",
        "domain.set_datadir(modelpath)\n",
        "domain.set_low_froude(1)\n",
        "domain.set_flow_algorithm('DE1')\n",
        "domain.set_minimum_allowed_height(0.02)\n",
        "domain.report_water_volume_statistics\n",
        "#print(domain.statistics())\n",
        "domain.store_centroids = True\n",
        "##############################################################################\n",
        "##############################################################################"
      ]
    },
    {
      "cell_type": "code",
      "execution_count": null,
      "id": "835b2ed7",
      "metadata": {
        "id": "835b2ed7"
      },
      "outputs": [],
      "source": [
        "## Bed elevation\n",
        "try:\n",
        "    domain.set_quantity('elevation', filename= ('%s/%s.asc' %(folders[1],elev_name)), location = 'centroids')\n",
        "except:\n",
        "    gdal.Translate('%s/%s.asc' %(folders[1],elev_name), '%s/%s.tif' %(folders[4],elev_name), format='AAIGrid',noData =-9999)\n",
        "    domain.set_quantity('elevation', filename= ('%s/%s.asc' %(folders[1],elev_name)), location = 'centroids')\n",
        "    print('################################# Elevation made with:     %s_%s.asc' %(AOI,elev_name))\n",
        "else:\n",
        "    print('################################# Elevation set with:     %s_%s.asc' %(AOI,elev_name))\n"
      ]
    },
    {
      "cell_type": "code",
      "execution_count": null,
      "id": "ddcb791b",
      "metadata": {
        "id": "ddcb791b"
      },
      "outputs": [],
      "source": [
        "## Manning roughness\n",
        "try:\n",
        "    domain.set_quantity('friction', filename= ('%s/%s_manning.asc' %(folders[1],AOI)), location='centroids')        # Constant friction\n",
        "except:\n",
        "    gdal.Translate('%s/%s_manning.asc' %(folders[1],AOI),'%s%s_manning_%s.tif' %(folders[8],AOI,landcovermethod),format='AAIGrid',noData=-9999)\n",
        "    domain.set_quantity('friction', filename= ('%s/%s_manning.asc' %(folders[1],AOI)), location='centroids')        # Constant friction\n",
        "print('################################# Friction set with:      %s_manning.asc' %(AOI))\n",
        "print('')\n",
        "print('')\n"
      ]
    },
    {
      "cell_type": "code",
      "execution_count": null,
      "id": "bb60a5e9",
      "metadata": {
        "id": "bb60a5e9"
      },
      "outputs": [],
      "source": [
        "## Stage\n",
        "domain.set_quantity('stage', -0.1,location='centroids')\n",
        "print('################################# Initial stage set with at -0.1m')"
      ]
    },
    {
      "cell_type": "code",
      "execution_count": null,
      "id": "3ced8a2e",
      "metadata": {
        "id": "3ced8a2e"
      },
      "outputs": [],
      "source": [
        "fig = plt.figure(figsize=(10,10))\n",
        "dplotter = animate.Domain_plotter(domain,plot_dir = modelpath + '/plot/')\n",
        "plt.triplot(dplotter.triang,linewidth=0.1)\n",
        "plt.axis('scaled')\n",
        "plt.tight_layout()\n",
        "plt.savefig('%s/plot/mesh%s.png' %(modelpath,myid))"
      ]
    },
    {
      "cell_type": "code",
      "execution_count": null,
      "id": "ad83f1a7",
      "metadata": {
        "id": "ad83f1a7"
      },
      "outputs": [],
      "source": [
        "domain.print_algorithm_parameters()"
      ]
    },
    {
      "cell_type": "code",
      "execution_count": null,
      "id": "347075dd",
      "metadata": {
        "id": "347075dd"
      },
      "outputs": [],
      "source": [
        "start_tides = (datetime.strptime(startdate,'%Y%m%d') - datetime.strptime('20100101','%Y%m%d')).days * 24 +1\n",
        "end_tides = start_tides + (simu_length) * 24 +1\n",
        "stage_time_fun = scipy.interpolate.interp1d(\n",
        "    tide_data[:simu_length*24+1, 0],\n",
        "    tide_data[start_tides:end_tides, 1])\n",
        "\n"
      ]
    },
    {
      "cell_type": "code",
      "execution_count": null,
      "id": "37968c12",
      "metadata": {
        "id": "37968c12"
      },
      "outputs": [],
      "source": [
        "domain.set_boundary({'North': anuga.Reflective_boundary(domain), 'East': anuga.Reflective_boundary(domain), 'South': anuga.Reflective_boundary(domain), 'West': anuga.Time_boundary(domain,function=lambda t: [stage_time_fun(t),0.0,0.0])})"
      ]
    },
    {
      "cell_type": "code",
      "execution_count": null,
      "id": "121a4600",
      "metadata": {
        "id": "121a4600"
      },
      "outputs": [],
      "source": [
        "fig = plt.figure(figsize = (10,10), facecolor = 'w', edgecolor = 'k')\n",
        "plt.plot(tide_data[:simu_length*24, 0], stage_time_fun(tide_data[:simu_length*24, 0]), color = 'black')\n",
        "plt.xlabel(\"Simulation Time (seconds)\")\n",
        "plt.ylabel(\"Water Level (m)\")\n",
        "plt.title(\"Tide Estimations for %s-%s\" %(startdate,enddate))\n",
        "plt.savefig(\"%s/%s_tides.png\" %(modelpath + '/plot',AOI))\n",
        "\n",
        "print('################################# Boundaries set as: \\nNorth: %s\\nEast: %s\\nSouth: %s\\nWest: %s' %('Br','Br','Br','Bout'))\n"
      ]
    },
    {
      "cell_type": "code",
      "execution_count": null,
      "id": "f0880bf6",
      "metadata": {
        "id": "f0880bf6"
      },
      "outputs": [],
      "source": [
        "## Set upstream discharge boundary\n",
        "center = (inletLON,inletLAT)\n",
        "radius = 5000\n",
        "fixed_inflow = None\n"
      ]
    },
    {
      "cell_type": "code",
      "execution_count": null,
      "id": "32f66bfa",
      "metadata": {
        "id": "32f66bfa"
      },
      "outputs": [],
      "source": [
        "line0 = [[center[0],center[1]],[center[0]-5,center[1]]]\n",
        "fixed_inflow = Inlet_operator(domain,line0,Q=discharge,logging=True, description='upstream river', verbose = True)\n",
        "if fixed_inflow is not None:\n",
        "    print('################################# Discharge of %s m^3/s is input at (%s,%s)' %(discharge,center[0],center[1]))\n",
        "    fixed_inflow.print_statistics()\n"
      ]
    },
    {
      "cell_type": "code",
      "execution_count": null,
      "id": "6fce65c1",
      "metadata": {
        "id": "6fce65c1"
      },
      "outputs": [],
      "source": [
        "startnow = datetime.now()\n",
        "print('################################# Starting Simulation at %s' %(startnow.strftime(\"%d/%m/%Y %H:%M:%S\")))\n",
        "print('################################# Simulation will run from %s to %s' %(startdate, enddate))\n",
        "print('################################# Simulation length will be %s days, %s seconds' %(simu_length,simu_length*24*60*60))\n",
        "print('################################# SWW file will be: ' + scenario )# Evolve system through time\n",
        "\n",
        "sys.stdout.flush()\n",
        "\n",
        "#------------------------------------------------------------------------------\n",
        "for t in domain.evolve(yieldstep=900, duration=(simu_length*24*60*60)):\n",
        "  domain.print_timestepping_statistics()\n",
        "  #domain.report_water_volume_statistics()\n",
        "  sys.stdout.flush()\n",
        "\n",
        "endnow = datetime.now()\n",
        "print('################################# Completed Simulation at %s' %(endnow.strftime(\"%d/%m/%Y %H:%M:%S\")))\n",
        "\n",
        "anuga.finalize()"
      ]
    },
    {
      "cell_type": "markdown",
      "source": [
        "<font size=5 color='red'> Done running the model. Move on to the next notebook 6_Post_Process.ipynb </font>\n",
        "\n",
        "\n",
        "<font size=3 > The model takes about 5 minutes for 1 hour run time and a 48 hour simulation could take 4 hours. Therefore, to save time, we provided an output file for the next notebook </font>"
      ],
      "metadata": {
        "id": "Ku4gSI6j5yyt"
      },
      "id": "Ku4gSI6j5yyt"
    },
    {
      "cell_type": "code",
      "execution_count": null,
      "id": "b2f702c1",
      "metadata": {
        "id": "b2f702c1"
      },
      "outputs": [],
      "source": [
        "print(scenario)\n",
        "print(modelpath)"
      ]
    },
    {
      "cell_type": "markdown",
      "source": [],
      "metadata": {
        "id": "IsLAjangMYXo"
      },
      "id": "IsLAjangMYXo"
    }
  ],
  "metadata": {
    "kernelspec": {
      "display_name": "Python 3 (ipykernel)",
      "language": "python",
      "name": "python3"
    },
    "language_info": {
      "codemirror_mode": {
        "name": "ipython",
        "version": 3
      },
      "file_extension": ".py",
      "mimetype": "text/x-python",
      "name": "python",
      "nbconvert_exporter": "python",
      "pygments_lexer": "ipython3",
      "version": "3.9.13"
    },
    "colab": {
      "provenance": []
    }
  },
  "nbformat": 4,
  "nbformat_minor": 5
}